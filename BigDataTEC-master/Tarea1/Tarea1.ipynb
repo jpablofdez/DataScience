{
 "cells": [
  {
   "cell_type": "markdown",
   "metadata": {},
   "source": [
    "## Tarea#1\n",
    "\n",
    "## BigData\n",
    "\n",
    "### Juan Pablo Fernández Deltado"
   ]
  },
  {
   "cell_type": "markdown",
   "metadata": {},
   "source": [
    "### Pre-requisitos"
   ]
  },
  {
   "cell_type": "markdown",
   "metadata": {},
   "source": [
    "- findspark\n",
    "- pyspark\n",
    "- spark"
   ]
  },
  {
   "cell_type": "markdown",
   "metadata": {},
   "source": [
    "El set de datos a cargar va ser el del titanic, usando las mayoría de sus columnas.\n",
    "\n",
    "El primer paso es cargar las librerías y el contenido de las funcionalidades de pyspark"
   ]
  },
  {
   "cell_type": "code",
   "execution_count": 1,
   "metadata": {},
   "outputs": [],
   "source": [
    "from pyspark.sql import SparkSession\n",
    "import pyspark.sql.functions as F\n",
    "from pyspark.sql.types import *\n",
    "from datetime import datetime\n",
    "from pyspark.sql.functions import col, date_format, udf \n",
    "from pyspark.sql.types import DateType\n",
    "\n",
    "import findspark\n",
    "findspark.init('C:\\Spark')\n",
    "\n",
    "spark=SparkSession.builder.appName('data_processing').getOrCreate()\n"
   ]
  },
  {
   "cell_type": "markdown",
   "metadata": {},
   "source": [
    "Se carga el set de datos de titanic y sus columnas respectivas."
   ]
  },
  {
   "cell_type": "code",
   "execution_count": 2,
   "metadata": {},
   "outputs": [],
   "source": [
    "names_df = spark \\\n",
    "    .read \\\n",
    "    .format(\"csv\") \\\n",
    "    .option(\"path\", \"titanic.csv\") \\\n",
    "    .option(\"header\", True) \\\n",
    "    .schema(StructType([\n",
    "                StructField(\"PassengerId\", IntegerType()),\n",
    "                StructField(\"Survived\", IntegerType()),\n",
    "                StructField(\"Pclass\", IntegerType()),\n",
    "                StructField(\"Name\", StringType()),\n",
    "                StructField(\"Sex\", StringType()),\n",
    "    StructField(\"Age\", IntegerType()),\n",
    "    StructField(\"SibSp\", IntegerType()),\n",
    "    StructField(\"Parch\", IntegerType()),\n",
    "    StructField(\"Ticket\", StringType()),\n",
    "    StructField(\"Fare\", IntegerType()),\n",
    "    StructField(\"Cabin\", StringType()),\n",
    "                StructField(\"Embarked\", StringType())])) \\\n",
    "    .load()"
   ]
  },
  {
   "cell_type": "code",
   "execution_count": 3,
   "metadata": {},
   "outputs": [
    {
     "name": "stdout",
     "output_type": "stream",
     "text": [
      "root\n",
      " |-- PassengerId: integer (nullable = true)\n",
      " |-- Survived: integer (nullable = true)\n",
      " |-- Pclass: integer (nullable = true)\n",
      " |-- Name: string (nullable = true)\n",
      " |-- Sex: string (nullable = true)\n",
      " |-- Age: integer (nullable = true)\n",
      " |-- SibSp: integer (nullable = true)\n",
      " |-- Parch: integer (nullable = true)\n",
      " |-- Ticket: string (nullable = true)\n",
      " |-- Fare: integer (nullable = true)\n",
      " |-- Cabin: string (nullable = true)\n",
      " |-- Embarked: string (nullable = true)\n",
      "\n",
      "+-----------+--------+------+--------------------+------+----+-----+-----+----------------+----+-----+--------+\n",
      "|PassengerId|Survived|Pclass|                Name|   Sex| Age|SibSp|Parch|          Ticket|Fare|Cabin|Embarked|\n",
      "+-----------+--------+------+--------------------+------+----+-----+-----+----------------+----+-----+--------+\n",
      "|          1|       0|     3|Braund, Mr. Owen ...|  male|  22|    1|    0|       A/5 21171|null| null|       S|\n",
      "|          2|       1|     1|Cumings, Mrs. Joh...|female|  38|    1|    0|        PC 17599|null|  C85|       C|\n",
      "|          3|       1|     3|Heikkinen, Miss. ...|female|  26|    0|    0|STON/O2. 3101282|null| null|       S|\n",
      "|          4|       1|     1|Futrelle, Mrs. Ja...|female|  35|    1|    0|          113803|null| C123|       S|\n",
      "|          5|       0|     3|Allen, Mr. Willia...|  male|  35|    0|    0|          373450|null| null|       S|\n",
      "|          6|       0|     3|    Moran, Mr. James|  male|null|    0|    0|          330877|null| null|       Q|\n",
      "|          7|       0|     1|McCarthy, Mr. Tim...|  male|  54|    0|    0|           17463|null|  E46|       S|\n",
      "|          8|       0|     3|Palsson, Master. ...|  male|   2|    3|    1|          349909|null| null|       S|\n",
      "|          9|       1|     3|Johnson, Mrs. Osc...|female|  27|    0|    2|          347742|null| null|       S|\n",
      "|         10|       1|     2|Nasser, Mrs. Nich...|female|  14|    1|    0|          237736|null| null|       C|\n",
      "|         11|       1|     3|Sandstrom, Miss. ...|female|   4|    1|    1|         PP 9549|null|   G6|       S|\n",
      "|         12|       1|     1|Bonnell, Miss. El...|female|  58|    0|    0|          113783|null| C103|       S|\n",
      "|         13|       0|     3|Saundercock, Mr. ...|  male|  20|    0|    0|       A/5. 2151|null| null|       S|\n",
      "|         14|       0|     3|Andersson, Mr. An...|  male|  39|    1|    5|          347082|null| null|       S|\n",
      "|         15|       0|     3|Vestrom, Miss. Hu...|female|  14|    0|    0|          350406|null| null|       S|\n",
      "|         16|       1|     2|Hewlett, Mrs. (Ma...|female|  55|    0|    0|          248706|  16| null|       S|\n",
      "|         17|       0|     3|Rice, Master. Eugene|  male|   2|    4|    1|          382652|null| null|       Q|\n",
      "|         18|       1|     2|Williams, Mr. Cha...|  male|null|    0|    0|          244373|  13| null|       S|\n",
      "|         19|       0|     3|Vander Planke, Mr...|female|  31|    1|    0|          345763|  18| null|       S|\n",
      "|         20|       1|     3|Masselmani, Mrs. ...|female|null|    0|    0|            2649|null| null|       C|\n",
      "+-----------+--------+------+--------------------+------+----+-----+-----+----------------+----+-----+--------+\n",
      "only showing top 20 rows\n",
      "\n"
     ]
    }
   ],
   "source": [
    "names_df.printSchema()\n",
    "names_df.show()\n"
   ]
  },
  {
   "cell_type": "markdown",
   "metadata": {},
   "source": [
    "1) Se visualiza el esquema del DataFrame:"
   ]
  },
  {
   "cell_type": "code",
   "execution_count": 4,
   "metadata": {},
   "outputs": [
    {
     "name": "stdout",
     "output_type": "stream",
     "text": [
      "root\n",
      " |-- PassengerId: integer (nullable = true)\n",
      " |-- Survived: integer (nullable = true)\n",
      " |-- Pclass: integer (nullable = true)\n",
      " |-- Name: string (nullable = true)\n",
      " |-- Sex: string (nullable = true)\n",
      " |-- Age: integer (nullable = true)\n",
      " |-- SibSp: integer (nullable = true)\n",
      " |-- Parch: integer (nullable = true)\n",
      " |-- Ticket: string (nullable = true)\n",
      " |-- Fare: integer (nullable = true)\n",
      " |-- Cabin: string (nullable = true)\n",
      " |-- Embarked: string (nullable = true)\n",
      "\n"
     ]
    }
   ],
   "source": [
    "names_df.printSchema()"
   ]
  },
  {
   "cell_type": "markdown",
   "metadata": {},
   "source": [
    "2) Se visualiza el DataFrame:"
   ]
  },
  {
   "cell_type": "code",
   "execution_count": 5,
   "metadata": {},
   "outputs": [
    {
     "name": "stdout",
     "output_type": "stream",
     "text": [
      "+-----------+--------+------+--------------------+------+----+-----+-----+----------------+----+-----+--------+\n",
      "|PassengerId|Survived|Pclass|                Name|   Sex| Age|SibSp|Parch|          Ticket|Fare|Cabin|Embarked|\n",
      "+-----------+--------+------+--------------------+------+----+-----+-----+----------------+----+-----+--------+\n",
      "|          1|       0|     3|Braund, Mr. Owen ...|  male|  22|    1|    0|       A/5 21171|null| null|       S|\n",
      "|          2|       1|     1|Cumings, Mrs. Joh...|female|  38|    1|    0|        PC 17599|null|  C85|       C|\n",
      "|          3|       1|     3|Heikkinen, Miss. ...|female|  26|    0|    0|STON/O2. 3101282|null| null|       S|\n",
      "|          4|       1|     1|Futrelle, Mrs. Ja...|female|  35|    1|    0|          113803|null| C123|       S|\n",
      "|          5|       0|     3|Allen, Mr. Willia...|  male|  35|    0|    0|          373450|null| null|       S|\n",
      "|          6|       0|     3|    Moran, Mr. James|  male|null|    0|    0|          330877|null| null|       Q|\n",
      "|          7|       0|     1|McCarthy, Mr. Tim...|  male|  54|    0|    0|           17463|null|  E46|       S|\n",
      "|          8|       0|     3|Palsson, Master. ...|  male|   2|    3|    1|          349909|null| null|       S|\n",
      "|          9|       1|     3|Johnson, Mrs. Osc...|female|  27|    0|    2|          347742|null| null|       S|\n",
      "|         10|       1|     2|Nasser, Mrs. Nich...|female|  14|    1|    0|          237736|null| null|       C|\n",
      "|         11|       1|     3|Sandstrom, Miss. ...|female|   4|    1|    1|         PP 9549|null|   G6|       S|\n",
      "|         12|       1|     1|Bonnell, Miss. El...|female|  58|    0|    0|          113783|null| C103|       S|\n",
      "|         13|       0|     3|Saundercock, Mr. ...|  male|  20|    0|    0|       A/5. 2151|null| null|       S|\n",
      "|         14|       0|     3|Andersson, Mr. An...|  male|  39|    1|    5|          347082|null| null|       S|\n",
      "|         15|       0|     3|Vestrom, Miss. Hu...|female|  14|    0|    0|          350406|null| null|       S|\n",
      "|         16|       1|     2|Hewlett, Mrs. (Ma...|female|  55|    0|    0|          248706|  16| null|       S|\n",
      "|         17|       0|     3|Rice, Master. Eugene|  male|   2|    4|    1|          382652|null| null|       Q|\n",
      "|         18|       1|     2|Williams, Mr. Cha...|  male|null|    0|    0|          244373|  13| null|       S|\n",
      "|         19|       0|     3|Vander Planke, Mr...|female|  31|    1|    0|          345763|  18| null|       S|\n",
      "|         20|       1|     3|Masselmani, Mrs. ...|female|null|    0|    0|            2649|null| null|       C|\n",
      "+-----------+--------+------+--------------------+------+----+-----+-----+----------------+----+-----+--------+\n",
      "only showing top 20 rows\n",
      "\n"
     ]
    }
   ],
   "source": [
    "names_df.show()"
   ]
  },
  {
   "cell_type": "raw",
   "metadata": {},
   "source": [
    "3) Se muestra el DataFrame anterior pero esta vez con ceros en vez de null."
   ]
  },
  {
   "cell_type": "code",
   "execution_count": 10,
   "metadata": {
    "scrolled": true
   },
   "outputs": [
    {
     "name": "stdout",
     "output_type": "stream",
     "text": [
      "+-----------+--------+------+--------------------+------+----+-----+-----+----------------+----+-----+--------+\n",
      "|PassengerId|Survived|Pclass|                Name|   Sex| Age|SibSp|Parch|          Ticket|Fare|Cabin|Embarked|\n",
      "+-----------+--------+------+--------------------+------+----+-----+-----+----------------+----+-----+--------+\n",
      "|          1|       0|     3|Braund, Mr. Owen ...|  male|  22|    1|    0|       A/5 21171|null|    0|       S|\n",
      "|          2|       1|     1|Cumings, Mrs. Joh...|female|  38|    1|    0|        PC 17599|null|  C85|       C|\n",
      "|          3|       1|     3|Heikkinen, Miss. ...|female|  26|    0|    0|STON/O2. 3101282|null|    0|       S|\n",
      "|          4|       1|     1|Futrelle, Mrs. Ja...|female|  35|    1|    0|          113803|null| C123|       S|\n",
      "|          5|       0|     3|Allen, Mr. Willia...|  male|  35|    0|    0|          373450|null|    0|       S|\n",
      "|          6|       0|     3|    Moran, Mr. James|  male|null|    0|    0|          330877|null|    0|       Q|\n",
      "|          7|       0|     1|McCarthy, Mr. Tim...|  male|  54|    0|    0|           17463|null|  E46|       S|\n",
      "|          8|       0|     3|Palsson, Master. ...|  male|   2|    3|    1|          349909|null|    0|       S|\n",
      "|          9|       1|     3|Johnson, Mrs. Osc...|female|  27|    0|    2|          347742|null|    0|       S|\n",
      "|         10|       1|     2|Nasser, Mrs. Nich...|female|  14|    1|    0|          237736|null|    0|       C|\n",
      "|         11|       1|     3|Sandstrom, Miss. ...|female|   4|    1|    1|         PP 9549|null|   G6|       S|\n",
      "|         12|       1|     1|Bonnell, Miss. El...|female|  58|    0|    0|          113783|null| C103|       S|\n",
      "|         13|       0|     3|Saundercock, Mr. ...|  male|  20|    0|    0|       A/5. 2151|null|    0|       S|\n",
      "|         14|       0|     3|Andersson, Mr. An...|  male|  39|    1|    5|          347082|null|    0|       S|\n",
      "|         15|       0|     3|Vestrom, Miss. Hu...|female|  14|    0|    0|          350406|null|    0|       S|\n",
      "|         16|       1|     2|Hewlett, Mrs. (Ma...|female|  55|    0|    0|          248706|  16|    0|       S|\n",
      "|         17|       0|     3|Rice, Master. Eugene|  male|   2|    4|    1|          382652|null|    0|       Q|\n",
      "|         18|       1|     2|Williams, Mr. Cha...|  male|null|    0|    0|          244373|  13|    0|       S|\n",
      "|         19|       0|     3|Vander Planke, Mr...|female|  31|    1|    0|          345763|  18|    0|       S|\n",
      "|         20|       1|     3|Masselmani, Mrs. ...|female|null|    0|    0|            2649|null|    0|       C|\n",
      "+-----------+--------+------+--------------------+------+----+-----+-----+----------------+----+-----+--------+\n",
      "only showing top 20 rows\n",
      "\n"
     ]
    }
   ],
   "source": [
    "names_df.fillna('0').show()"
   ]
  },
  {
   "cell_type": "markdown",
   "metadata": {},
   "source": [
    "Se rellenan los null con parámetros específicos por columna, de nuevo se muestran no se modifican:"
   ]
  },
  {
   "cell_type": "markdown",
   "metadata": {},
   "source": [
    "4) Se descartan los que tengan algun valor null:"
   ]
  },
  {
   "cell_type": "code",
   "execution_count": 11,
   "metadata": {},
   "outputs": [
    {
     "name": "stdout",
     "output_type": "stream",
     "text": [
      "+-----------+--------+------+--------------------+------+---+-----+-----+------+----+-----------+--------+\n",
      "|PassengerId|Survived|Pclass|                Name|   Sex|Age|SibSp|Parch|Ticket|Fare|      Cabin|Embarked|\n",
      "+-----------+--------+------+--------------------+------+---+-----+-----+------+----+-----------+--------+\n",
      "|         22|       1|     2|Beesley, Mr. Lawr...|  male| 34|    0|    0|248698|  13|        D56|       S|\n",
      "|         28|       0|     1|Fortune, Mr. Char...|  male| 19|    3|    2| 19950| 263|C23 C25 C27|       S|\n",
      "|         89|       1|     1|Fortune, Miss. Ma...|female| 23|    3|    2| 19950| 263|C23 C25 C27|       S|\n",
      "|        111|       0|     1|Porter, Mr. Walte...|  male| 47|    0|    0|110465|  52|       C110|       S|\n",
      "|        184|       1|     2|Becker, Master. R...|  male|  1|    2|    1|230136|  39|         F4|       S|\n",
      "|        194|       1|     2|Navratil, Master....|  male|  3|    1|    1|230080|  26|         F2|       S|\n",
      "|        210|       1|     1|    Blank, Mr. Henry|  male| 40|    0|    0|112277|  31|        A31|       C|\n",
      "|        225|       1|     1|Hoyt, Mr. Frederi...|  male| 38|    1|    0| 19943|  90|        C93|       S|\n",
      "|        246|       0|     1|Minahan, Dr. Will...|  male| 44|    2|    0| 19928|  90|        C78|       Q|\n",
      "|        264|       0|     1|Harrison, Mr. Wil...|  male| 40|    0|    0|112059|   0|        B94|       S|\n",
      "|        328|       1|     2|Ball, Mrs. (Ada E...|female| 36|    0|    0| 28551|  13|          D|       S|\n",
      "|        341|       1|     2|Navratil, Master....|  male|  2|    1|    1|230080|  26|         F2|       S|\n",
      "|        342|       1|     1|Fortune, Miss. Al...|female| 24|    3|    2| 19950| 263|C23 C25 C27|       S|\n",
      "|        346|       1|     2|\"Brown, Miss. Ame...|female| 24|    0|    0|248733|  13|        F33|       S|\n",
      "|        357|       1|     1|Bowerman, Miss. E...|female| 22|    0|    1|113505|  55|        E33|       S|\n",
      "|        391|       1|     1|Carter, Mr. Willi...|  male| 36|    1|    2|113760| 120|    B96 B98|       S|\n",
      "|        413|       1|     1|Minahan, Miss. Da...|female| 33|    1|    0| 19928|  90|        C78|       Q|\n",
      "|        436|       1|     1|Carter, Miss. Luc...|female| 14|    1|    2|113760| 120|    B96 B98|       S|\n",
      "|        439|       0|     1|   Fortune, Mr. Mark|  male| 64|    1|    4| 19950| 263|C23 C25 C27|       S|\n",
      "|        487|       1|     1|Hoyt, Mrs. Freder...|female| 35|    1|    0| 19943|  90|        C93|       S|\n",
      "+-----------+--------+------+--------------------+------+---+-----+-----+------+----+-----------+--------+\n",
      "only showing top 20 rows\n",
      "\n"
     ]
    }
   ],
   "source": [
    "names_df.na.drop().show()"
   ]
  },
  {
   "cell_type": "markdown",
   "metadata": {},
   "source": [
    "5) Se descartan los que tengan algun valor null en names_df:"
   ]
  },
  {
   "cell_type": "code",
   "execution_count": 6,
   "metadata": {},
   "outputs": [
    {
     "name": "stdout",
     "output_type": "stream",
     "text": [
      "+-----------+--------+------+--------------------+------+---+-----+-----+----------------+----+-----+--------+\n",
      "|PassengerId|Survived|Pclass|                Name|   Sex|Age|SibSp|Parch|          Ticket|Fare|Cabin|Embarked|\n",
      "+-----------+--------+------+--------------------+------+---+-----+-----+----------------+----+-----+--------+\n",
      "|          1|       0|     3|Braund, Mr. Owen ...|  male| 22|    1|    0|       A/5 21171|null| null|       S|\n",
      "|          2|       1|     1|Cumings, Mrs. Joh...|female| 38|    1|    0|        PC 17599|null|  C85|       C|\n",
      "|          3|       1|     3|Heikkinen, Miss. ...|female| 26|    0|    0|STON/O2. 3101282|null| null|       S|\n",
      "|          4|       1|     1|Futrelle, Mrs. Ja...|female| 35|    1|    0|          113803|null| C123|       S|\n",
      "|          5|       0|     3|Allen, Mr. Willia...|  male| 35|    0|    0|          373450|null| null|       S|\n",
      "|          7|       0|     1|McCarthy, Mr. Tim...|  male| 54|    0|    0|           17463|null|  E46|       S|\n",
      "|          8|       0|     3|Palsson, Master. ...|  male|  2|    3|    1|          349909|null| null|       S|\n",
      "|          9|       1|     3|Johnson, Mrs. Osc...|female| 27|    0|    2|          347742|null| null|       S|\n",
      "|         10|       1|     2|Nasser, Mrs. Nich...|female| 14|    1|    0|          237736|null| null|       C|\n",
      "|         11|       1|     3|Sandstrom, Miss. ...|female|  4|    1|    1|         PP 9549|null|   G6|       S|\n",
      "|         12|       1|     1|Bonnell, Miss. El...|female| 58|    0|    0|          113783|null| C103|       S|\n",
      "|         13|       0|     3|Saundercock, Mr. ...|  male| 20|    0|    0|       A/5. 2151|null| null|       S|\n",
      "|         14|       0|     3|Andersson, Mr. An...|  male| 39|    1|    5|          347082|null| null|       S|\n",
      "|         15|       0|     3|Vestrom, Miss. Hu...|female| 14|    0|    0|          350406|null| null|       S|\n",
      "|         16|       1|     2|Hewlett, Mrs. (Ma...|female| 55|    0|    0|          248706|  16| null|       S|\n",
      "|         17|       0|     3|Rice, Master. Eugene|  male|  2|    4|    1|          382652|null| null|       Q|\n",
      "|         19|       0|     3|Vander Planke, Mr...|female| 31|    1|    0|          345763|  18| null|       S|\n",
      "|         21|       0|     2|Fynney, Mr. Joseph J|  male| 35|    0|    0|          239865|  26| null|       S|\n",
      "|         22|       1|     2|Beesley, Mr. Lawr...|  male| 34|    0|    0|          248698|  13|  D56|       S|\n",
      "|         23|       1|     3|\"McGowan, Miss. A...|female| 15|    0|    0|          330923|null| null|       Q|\n",
      "+-----------+--------+------+--------------------+------+---+-----+-----+----------------+----+-----+--------+\n",
      "only showing top 20 rows\n",
      "\n"
     ]
    }
   ],
   "source": [
    "names_df.na.drop(subset='Age').show()"
   ]
  },
  {
   "cell_type": "markdown",
   "metadata": {},
   "source": [
    "Se pueden reemplazar valores por otros..."
   ]
  },
  {
   "cell_type": "code",
   "execution_count": 20,
   "metadata": {},
   "outputs": [
    {
     "name": "stdout",
     "output_type": "stream",
     "text": [
      "+-----------+--------+------+--------------------+------+----+-----+-----+----------------+----+-----+--------+\n",
      "|PassengerId|Survived|Pclass|                Name|   Sex| Age|SibSp|Parch|          Ticket|Fare|Cabin|Embarked|\n",
      "+-----------+--------+------+--------------------+------+----+-----+-----+----------------+----+-----+--------+\n",
      "|          1|       0|     3|Braund, Mr. Owen ...|  male|  22|    1|    0|       A/5 21171|null| null|       S|\n",
      "|          2|       1|     1|Cumings, Mrs. Joh...|female|  38|    1|    0|        PC 17599|null|  C85|       C|\n",
      "|          3|       1|     3|Heikkinen, Miss. ...|female|  26|    0|    0|STON/O2. 3101282|null| null|       S|\n",
      "|          4|       1|     1|Futrelle, Mrs. Ja...|female|  35|    1|    0|          113803|null| C123|       S|\n",
      "|          5|       0|     3|Allen, Mr. Willia...|  male|  35|    0|    0|          373450|null| null|       S|\n",
      "|          6|       0|     3|    Moran, Mr. James|  male|null|    0|    0|          330877|null| null|       Q|\n",
      "|          7|       0|     1|McCarthy, Mr. Tim...|  male|  54|    0|    0|           17463|null|  E46|       S|\n",
      "|          8|       0|     3|Palsson, Master. ...|  male|   2|    3|    1|          349909|null| null|       S|\n",
      "|          9|       1|     3|Johnson, Mrs. Osc...|female|  27|    0|    2|          347742|null| null|       S|\n",
      "|         10|       1|     2|Nasser, Mrs. Nich...|female|  14|    1|    0|          237736|null| null|       C|\n",
      "|         11|       1|     3|Sandstrom, Miss. ...|female|   4|    1|    1|         PP 9549|null|   G6|       S|\n",
      "|         12|       1|     1|Bonnell, Miss. El...|female|  58|    0|    0|          113783|null| C103|       S|\n",
      "|         13|       0|     3|Saundercock, Mr. ...|  male|  20|    0|    0|       A/5. 2151|null| null|       S|\n",
      "|         14|       0|     3|Andersson, Mr. An...|  male|  39|    1|    5|          347082|null| null|       S|\n",
      "|         15|       0|     3|Vestrom, Miss. Hu...|female|  14|    0|    0|          350406|null| null|       S|\n",
      "|         16|       1|     2|Hewlett, Mrs. (Ma...|female|  55|    0|    0|          248706|  16| null|       S|\n",
      "|         17|       0|     3|Rice, Master. Eugene|  male|   2|    4|    1|          382652|null| null|       Q|\n",
      "|         18|       1|     2|Williams, Mr. Cha...|  male|null|    0|    0|          244373|  13| null|       S|\n",
      "|         19|       0|     3|Vander Planke, Mr...|female|  31|    1|    0|          345763|  18| null|       S|\n",
      "|         20|       1|     3|Masselmani, Mrs. ...|female|null|    0|    0|            2649|null| null|       C|\n",
      "+-----------+--------+------+--------------------+------+----+-----+-----+----------------+----+-----+--------+\n",
      "only showing top 20 rows\n",
      "\n"
     ]
    }
   ],
   "source": [
    "names_df.replace(\"Mr.\",\"MR.\").show()"
   ]
  },
  {
   "cell_type": "markdown",
   "metadata": {},
   "source": [
    "Se pueden descartar columnas completas:"
   ]
  },
  {
   "cell_type": "code",
   "execution_count": 11,
   "metadata": {},
   "outputs": [
    {
     "name": "stdout",
     "output_type": "stream",
     "text": [
      "+-----------+--------+------+--------------------+------+----+-----+-----+----------------+----+--------+\n",
      "|PassengerId|Survived|Pclass|                Name|   Sex| Age|SibSp|Parch|          Ticket|Fare|Embarked|\n",
      "+-----------+--------+------+--------------------+------+----+-----+-----+----------------+----+--------+\n",
      "|          1|       0|     3|Braund, Mr. Owen ...|  male|  22|    1|    0|       A/5 21171|null|       S|\n",
      "|          2|       1|     1|Cumings, Mrs. Joh...|female|  38|    1|    0|        PC 17599|null|       C|\n",
      "|          3|       1|     3|Heikkinen, Miss. ...|female|  26|    0|    0|STON/O2. 3101282|null|       S|\n",
      "|          4|       1|     1|Futrelle, Mrs. Ja...|female|  35|    1|    0|          113803|null|       S|\n",
      "|          5|       0|     3|Allen, Mr. Willia...|  male|  35|    0|    0|          373450|null|       S|\n",
      "|          6|       0|     3|    Moran, Mr. James|  male|null|    0|    0|          330877|null|       Q|\n",
      "|          7|       0|     1|McCarthy, Mr. Tim...|  male|  54|    0|    0|           17463|null|       S|\n",
      "|          8|       0|     3|Palsson, Master. ...|  male|   2|    3|    1|          349909|null|       S|\n",
      "|          9|       1|     3|Johnson, Mrs. Osc...|female|  27|    0|    2|          347742|null|       S|\n",
      "|         10|       1|     2|Nasser, Mrs. Nich...|female|  14|    1|    0|          237736|null|       C|\n",
      "|         11|       1|     3|Sandstrom, Miss. ...|female|   4|    1|    1|         PP 9549|null|       S|\n",
      "|         12|       1|     1|Bonnell, Miss. El...|female|  58|    0|    0|          113783|null|       S|\n",
      "|         13|       0|     3|Saundercock, Mr. ...|  male|  20|    0|    0|       A/5. 2151|null|       S|\n",
      "|         14|       0|     3|Andersson, Mr. An...|  male|  39|    1|    5|          347082|null|       S|\n",
      "|         15|       0|     3|Vestrom, Miss. Hu...|female|  14|    0|    0|          350406|null|       S|\n",
      "|         16|       1|     2|Hewlett, Mrs. (Ma...|female|  55|    0|    0|          248706|  16|       S|\n",
      "|         17|       0|     3|Rice, Master. Eugene|  male|   2|    4|    1|          382652|null|       Q|\n",
      "|         18|       1|     2|Williams, Mr. Cha...|  male|null|    0|    0|          244373|  13|       S|\n",
      "|         19|       0|     3|Vander Planke, Mr...|female|  31|    1|    0|          345763|  18|       S|\n",
      "|         20|       1|     3|Masselmani, Mrs. ...|female|null|    0|    0|            2649|null|       C|\n",
      "+-----------+--------+------+--------------------+------+----+-----+-----+----------------+----+--------+\n",
      "only showing top 20 rows\n",
      "\n"
     ]
    }
   ],
   "source": [
    "names_df.drop('Cabin').show()"
   ]
  },
  {
   "cell_type": "markdown",
   "metadata": {},
   "source": [
    "Se analizan los datos:"
   ]
  },
  {
   "cell_type": "code",
   "execution_count": 12,
   "metadata": {},
   "outputs": [
    {
     "data": {
      "text/plain": [
       "891"
      ]
     },
     "execution_count": 12,
     "metadata": {},
     "output_type": "execute_result"
    }
   ],
   "source": [
    "names_df.count()"
   ]
  },
  {
   "cell_type": "code",
   "execution_count": 13,
   "metadata": {},
   "outputs": [
    {
     "data": {
      "text/plain": [
       "12"
      ]
     },
     "execution_count": 13,
     "metadata": {},
     "output_type": "execute_result"
    }
   ],
   "source": [
    "len(names_df.columns)"
   ]
  },
  {
   "cell_type": "code",
   "execution_count": 14,
   "metadata": {},
   "outputs": [
    {
     "name": "stdout",
     "output_type": "stream",
     "text": [
      "+-----------+--------+------+--------------------+------+---+-----+-----+----------------+----+-----+--------+\n",
      "|PassengerId|Survived|Pclass|                Name|   Sex|Age|SibSp|Parch|          Ticket|Fare|Cabin|Embarked|\n",
      "+-----------+--------+------+--------------------+------+---+-----+-----+----------------+----+-----+--------+\n",
      "|          1|       0|     3|Braund, Mr. Owen ...|  male| 22|    1|    0|       A/5 21171|null| null|       S|\n",
      "|          2|       1|     1|Cumings, Mrs. Joh...|female| 38|    1|    0|        PC 17599|null|  C85|       C|\n",
      "|          3|       1|     3|Heikkinen, Miss. ...|female| 26|    0|    0|STON/O2. 3101282|null| null|       S|\n",
      "+-----------+--------+------+--------------------+------+---+-----+-----+----------------+----+-----+--------+\n",
      "only showing top 3 rows\n",
      "\n"
     ]
    }
   ],
   "source": [
    "names_df.show(3)"
   ]
  },
  {
   "cell_type": "code",
   "execution_count": 15,
   "metadata": {},
   "outputs": [
    {
     "name": "stdout",
     "output_type": "stream",
     "text": [
      "+-------+-----------------+-------------------+------------------+--------------------+------+------------------+------------------+-------------------+------------------+-----------------+-----+--------+\n",
      "|summary|      PassengerId|           Survived|            Pclass|                Name|   Sex|               Age|             SibSp|              Parch|            Ticket|             Fare|Cabin|Embarked|\n",
      "+-------+-----------------+-------------------+------------------+--------------------+------+------------------+------------------+-------------------+------------------+-----------------+-----+--------+\n",
      "|  count|              891|                891|               891|                 891|   891|               689|               891|                891|               891|              161|  204|     889|\n",
      "|   mean|            446.0| 0.3838383838383838| 2.308641975308642|                null|  null|29.847605224963715|0.5230078563411896|0.38159371492704824|260318.54916792738|33.47204968944099| null|    null|\n",
      "| stddev|257.3538420152301|0.48659245426485753|0.8360712409770491|                null|  null|14.317668714749662|1.1027434322934315| 0.8060572211299488|471609.26868834975|43.98509152425986| null|    null|\n",
      "|    min|                1|                  0|                 1|\"Andersson, Mr. A...|female|                 1|                 0|                  0|            110152|                0|  A10|       C|\n",
      "|    25%|              223|                  0|                 2|                null|  null|                21|                 0|                  0|           19996.0|               13| null|    null|\n",
      "|    50%|              446|                  0|                 3|                null|  null|                28|                 0|                  0|          236171.0|               26| null|    null|\n",
      "|    75%|              669|                  1|                 3|                null|  null|                38|                 1|                  0|          347743.0|               31| null|    null|\n",
      "|    max|              891|                  1|                 3|van Melkebeke, Mr...|  male|                80|                 8|                  6|         WE/P 5735|              263|    T|       S|\n",
      "+-------+-----------------+-------------------+------------------+--------------------+------+------------------+------------------+-------------------+------------------+-----------------+-----+--------+\n",
      "\n"
     ]
    }
   ],
   "source": [
    "names_df.summary().show()"
   ]
  },
  {
   "cell_type": "markdown",
   "metadata": {},
   "source": [
    "Mostrar solo unas columnas y filas:"
   ]
  },
  {
   "cell_type": "code",
   "execution_count": 16,
   "metadata": {},
   "outputs": [
    {
     "name": "stdout",
     "output_type": "stream",
     "text": [
      "+--------+--------------------+----+\n",
      "|Survived|                Name| Age|\n",
      "+--------+--------------------+----+\n",
      "|       0|Braund, Mr. Owen ...|  22|\n",
      "|       1|Cumings, Mrs. Joh...|  38|\n",
      "|       1|Heikkinen, Miss. ...|  26|\n",
      "|       1|Futrelle, Mrs. Ja...|  35|\n",
      "|       0|Allen, Mr. Willia...|  35|\n",
      "|       0|    Moran, Mr. James|null|\n",
      "|       0|McCarthy, Mr. Tim...|  54|\n",
      "|       0|Palsson, Master. ...|   2|\n",
      "|       1|Johnson, Mrs. Osc...|  27|\n",
      "|       1|Nasser, Mrs. Nich...|  14|\n",
      "|       1|Sandstrom, Miss. ...|   4|\n",
      "|       1|Bonnell, Miss. El...|  58|\n",
      "|       0|Saundercock, Mr. ...|  20|\n",
      "|       0|Andersson, Mr. An...|  39|\n",
      "|       0|Vestrom, Miss. Hu...|  14|\n",
      "|       1|Hewlett, Mrs. (Ma...|  55|\n",
      "|       0|Rice, Master. Eugene|   2|\n",
      "|       1|Williams, Mr. Cha...|null|\n",
      "|       0|Vander Planke, Mr...|  31|\n",
      "|       1|Masselmani, Mrs. ...|null|\n",
      "+--------+--------------------+----+\n",
      "only showing top 20 rows\n",
      "\n"
     ]
    }
   ],
   "source": [
    "names_df.select(['Survived','Name','Age']).show()"
   ]
  },
  {
   "cell_type": "markdown",
   "metadata": {},
   "source": [
    "Mostrar solo ciertos datos a partir de un criterio:"
   ]
  },
  {
   "cell_type": "code",
   "execution_count": 17,
   "metadata": {},
   "outputs": [
    {
     "data": {
      "text/plain": [
       "62"
      ]
     },
     "execution_count": 17,
     "metadata": {},
     "output_type": "execute_result"
    }
   ],
   "source": [
    "names_df.filter(names_df['Age'] > 50).count()"
   ]
  },
  {
   "cell_type": "code",
   "execution_count": 18,
   "metadata": {},
   "outputs": [
    {
     "name": "stdout",
     "output_type": "stream",
     "text": [
      "+-----------+--------+------+--------------------+------+---+-----+-----+-----------+----+-----+--------+\n",
      "|PassengerId|Survived|Pclass|                Name|   Sex|Age|SibSp|Parch|     Ticket|Fare|Cabin|Embarked|\n",
      "+-----------+--------+------+--------------------+------+---+-----+-----+-----------+----+-----+--------+\n",
      "|          7|       0|     1|McCarthy, Mr. Tim...|  male| 54|    0|    0|      17463|null|  E46|       S|\n",
      "|         12|       1|     1|Bonnell, Miss. El...|female| 58|    0|    0|     113783|null| C103|       S|\n",
      "|         16|       1|     2|Hewlett, Mrs. (Ma...|female| 55|    0|    0|     248706|  16| null|       S|\n",
      "|         34|       0|     2|Wheadon, Mr. Edwa...|  male| 66|    0|    0| C.A. 24579|null| null|       S|\n",
      "|         55|       0|     1|Ostby, Mr. Engelh...|  male| 65|    0|    1|     113509|null|  B30|       C|\n",
      "|         95|       0|     3|   Coxon, Mr. Daniel|  male| 59|    0|    0|     364500|null| null|       S|\n",
      "|         97|       0|     1|Goldschmidt, Mr. ...|  male| 71|    0|    0|   PC 17754|null|   A5|       C|\n",
      "|        125|       0|     1|White, Mr. Perciv...|  male| 54|    0|    1|      35281|null|  D26|       S|\n",
      "|        151|       0|     2|Bateman, Rev. Rob...|  male| 51|    0|    0|S.O.P. 1166|null| null|       S|\n",
      "|        156|       0|     1|Williams, Mr. Cha...|  male| 51|    0|    1|   PC 17597|null| null|       C|\n",
      "|        171|       0|     1|Van der hoef, Mr....|  male| 61|    0|    0|     111240|null|  B19|       S|\n",
      "|        175|       0|     1|Smith, Mr. James ...|  male| 56|    0|    0|      17764|null|   A7|       C|\n",
      "|        196|       1|     1|Lurette, Miss. Elise|female| 58|    0|    0|   PC 17569|null|  B80|       C|\n",
      "|        223|       0|     3|Green, Mr. George...|  male| 51|    0|    0|      21440|null| null|       S|\n",
      "|        233|       0|     2|Sjostedt, Mr. Ern...|  male| 59|    0|    0|     237442|null| null|       S|\n",
      "|        250|       0|     2|Carter, Rev. Erne...|  male| 54|    1|    0|     244252|  26| null|       S|\n",
      "|        253|       0|     1|Stead, Mr. Willia...|  male| 62|    0|    0|     113514|null|  C87|       S|\n",
      "|        263|       0|     1|   Taussig, Mr. Emil|  male| 52|    1|    1|     110413|null|  E67|       S|\n",
      "|        269|       1|     1|Graham, Mrs. Will...|female| 58|    0|    1|   PC 17582|null| C125|       S|\n",
      "|        276|       1|     1|Andrews, Miss. Ko...|female| 63|    1|    0|      13502|null|   D7|       S|\n",
      "+-----------+--------+------+--------------------+------+---+-----+-----+-----------+----+-----+--------+\n",
      "only showing top 20 rows\n",
      "\n"
     ]
    }
   ],
   "source": [
    "names_df.filter(names_df['Age'] > 50).show()"
   ]
  },
  {
   "cell_type": "markdown",
   "metadata": {},
   "source": [
    "Se puede saber cuantos datos hay de una caterogira especifica:"
   ]
  },
  {
   "cell_type": "code",
   "execution_count": 24,
   "metadata": {},
   "outputs": [
    {
     "name": "stdout",
     "output_type": "stream",
     "text": [
      "+---+-----+\n",
      "|Age|count|\n",
      "+---+-----+\n",
      "| 22|   27|\n",
      "| 38|   11|\n",
      "| 26|   18|\n",
      "| 35|   18|\n",
      "| 54|    8|\n",
      "|  2|   10|\n",
      "| 27|   18|\n",
      "| 14|    6|\n",
      "|  4|   10|\n",
      "| 58|    5|\n",
      "| 20|   15|\n",
      "| 39|   14|\n",
      "| 55|    2|\n",
      "| 31|   17|\n",
      "| 34|   15|\n",
      "| 15|    5|\n",
      "| 28|   25|\n",
      "|  8|    4|\n",
      "| 19|   25|\n",
      "| 40|   13|\n",
      "+---+-----+\n",
      "only showing top 20 rows\n",
      "\n"
     ]
    }
   ],
   "source": [
    "names_df.groupBy('Age').count().show()"
   ]
  },
  {
   "cell_type": "markdown",
   "metadata": {},
   "source": [
    "También puedo mostrar los datos un orden ascendente o decendente"
   ]
  },
  {
   "cell_type": "code",
   "execution_count": 19,
   "metadata": {},
   "outputs": [
    {
     "name": "stdout",
     "output_type": "stream",
     "text": [
      "+-----------+--------+------+--------------------+------+----+-----+-----+---------------+----+-----+--------+\n",
      "|PassengerId|Survived|Pclass|                Name|   Sex| Age|SibSp|Parch|         Ticket|Fare|Cabin|Embarked|\n",
      "+-----------+--------+------+--------------------+------+----+-----+-----+---------------+----+-----+--------+\n",
      "|         37|       1|     3|    Mamee, Mr. Hanna|  male|null|    0|    0|           2677|null| null|       C|\n",
      "|         79|       1|     2|Caldwell, Master....|  male|null|    0|    2|         248738|  29| null|       S|\n",
      "|          6|       0|     3|    Moran, Mr. James|  male|null|    0|    0|         330877|null| null|       Q|\n",
      "|         46|       0|     3|Rogers, Mr. Willi...|  male|null|    0|    0|S.C./A.4. 23567|null| null|       S|\n",
      "|         20|       1|     3|Masselmani, Mrs. ...|female|null|    0|    0|           2649|null| null|       C|\n",
      "|         43|       0|     3| Kraeff, Mr. Theodor|  male|null|    0|    0|         349253|null| null|       C|\n",
      "|         27|       0|     3|Emir, Mr. Farred ...|  male|null|    0|    0|           2631|null| null|       C|\n",
      "|         29|       1|     3|\"O'Dwyer, Miss. E...|female|null|    0|    0|         330959|null| null|       Q|\n",
      "|         30|       0|     3| Todoroff, Mr. Lalio|  male|null|    0|    0|         349216|null| null|       S|\n",
      "|         32|       1|     1|Spencer, Mrs. Wil...|female|null|    1|    0|       PC 17569|null|  B78|       C|\n",
      "|         33|       1|     3|Glynn, Miss. Mary...|female|null|    0|    0|         335677|null| null|       Q|\n",
      "|         78|       0|     3|Moutal, Mr. Raham...|  male|null|    0|    0|         374746|null| null|       S|\n",
      "|         18|       1|     2|Williams, Mr. Cha...|  male|null|    0|    0|         244373|  13| null|       S|\n",
      "|         47|       0|     3|   Lennon, Mr. Denis|  male|null|    1|    0|         370371|null| null|       Q|\n",
      "|         48|       1|     3|O'Driscoll, Miss....|female|null|    0|    0|          14311|null| null|       Q|\n",
      "|         49|       0|     3| Samaan, Mr. Youssef|  male|null|    2|    0|           2662|null| null|       C|\n",
      "|         56|       1|     1|   Woolner, Mr. Hugh|  male|null|    0|    0|          19947|null|  C52|       S|\n",
      "|         58|       0|     3| Novel, Mr. Mansouer|  male|null|    0|    0|           2697|null| null|       C|\n",
      "|         65|       0|     1|Stewart, Mr. Albe...|  male|null|    0|    0|       PC 17605|null| null|       C|\n",
      "|         66|       1|     3|Moubarek, Master....|  male|null|    1|    1|           2661|null| null|       C|\n",
      "+-----------+--------+------+--------------------+------+----+-----+-----+---------------+----+-----+--------+\n",
      "only showing top 20 rows\n",
      "\n"
     ]
    }
   ],
   "source": [
    "names_df.sort(\"Age\").show()"
   ]
  },
  {
   "cell_type": "code",
   "execution_count": null,
   "metadata": {},
   "outputs": [],
   "source": []
  }
 ],
 "metadata": {
  "kernelspec": {
   "display_name": "Python 3",
   "language": "python",
   "name": "python3"
  },
  "language_info": {
   "codemirror_mode": {
    "name": "ipython",
    "version": 3
   },
   "file_extension": ".py",
   "mimetype": "text/x-python",
   "name": "python",
   "nbconvert_exporter": "python",
   "pygments_lexer": "ipython3",
   "version": "3.7.1"
  }
 },
 "nbformat": 4,
 "nbformat_minor": 2
}
