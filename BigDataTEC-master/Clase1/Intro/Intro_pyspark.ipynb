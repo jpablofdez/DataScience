{
 "cells": [
  {
   "cell_type": "markdown",
   "metadata": {},
   "source": [
    "<img src=\"pyspark.jpeg\" width=\"300\" height=\"150\"> "
   ]
  },
  {
   "cell_type": "markdown",
   "metadata": {},
   "source": [
    "# Introducción al uso de pyspark\n",
    "\n",
    "## Felipe Meza"
   ]
  },
  {
   "cell_type": "markdown",
   "metadata": {},
   "source": [
    "### Pre-requisitos"
   ]
  },
  {
   "cell_type": "markdown",
   "metadata": {},
   "source": [
    "- findspark\n",
    "- pyspark\n",
    "- spark"
   ]
  },
  {
   "cell_type": "markdown",
   "metadata": {},
   "source": [
    "Comenzamos con la importación de librerías y demás parámetros necesarios..."
   ]
  },
  {
   "cell_type": "code",
   "execution_count": 6,
   "metadata": {},
   "outputs": [
    {
     "name": "stdout",
     "output_type": "stream",
     "text": [
      "hola\n"
     ]
    }
   ],
   "source": [
    "print(\"hola\")"
   ]
  },
  {
   "cell_type": "code",
   "execution_count": 1,
   "metadata": {},
   "outputs": [],
   "source": [
    "from pyspark.sql import SparkSession\n",
    "\n",
    "spark=SparkSession.builder.appName('data_processing').getOrCreate()\n",
    "#spark = SparkSession.builder.master(\"local\").appName(\"Search\").config(conf=SparkConf()).getOrCreate()\n",
    "\n",
    "import pyspark.sql.functions as F\n",
    "from pyspark.sql.types import *"
   ]
  },
  {
   "cell_type": "code",
   "execution_count": 3,
   "metadata": {},
   "outputs": [],
   "source": [
    "import findspark\n",
    "findspark.init(\"C:\\Spark\")\n",
    "\n",
    "\n",
    "from datetime import datetime\n",
    "from pyspark.sql import SparkSession\n",
    "from pyspark.sql.functions import col, date_format, udf \n",
    "from pyspark.sql.types import DateType\n",
    "\n"
   ]
  },
  {
   "cell_type": "markdown",
   "metadata": {},
   "source": [
    "Creamos el esquema (estructura de columnas que usaremos para crear el DataFrame:"
   ]
  },
  {
   "cell_type": "code",
   "execution_count": 4,
   "metadata": {},
   "outputs": [],
   "source": [
    "schema=StructType().add(\"user_id\",\"string\").add(\"country\",\"string\").add(\"browser\", \"string\").add(\"OS\",'string').add(\"age\", \"integer\")"
   ]
  },
  {
   "cell_type": "markdown",
   "metadata": {},
   "source": [
    "y se crea el DataFrame:"
   ]
  },
  {
   "cell_type": "code",
   "execution_count": 5,
   "metadata": {},
   "outputs": [],
   "source": [
    "df=spark.createDataFrame([(\"A203\",'India',\"Chrome\",\"WIN\", 33),\n",
    "                          (\"A201\",'China',\"Safari\",\"MacOS\",35),\n",
    "                          (\"A205\",'UK',\"Mozilla\", \"Linux\",25)],schema=schema)"
   ]
  },
  {
   "cell_type": "markdown",
   "metadata": {},
   "source": [
    "Se visualiza el esquema del DataFrame:"
   ]
  },
  {
   "cell_type": "code",
   "execution_count": 7,
   "metadata": {},
   "outputs": [
    {
     "name": "stdout",
     "output_type": "stream",
     "text": [
      "root\n",
      " |-- user_id: string (nullable = true)\n",
      " |-- country: string (nullable = true)\n",
      " |-- browser: string (nullable = true)\n",
      " |-- OS: string (nullable = true)\n",
      " |-- age: integer (nullable = true)\n",
      "\n"
     ]
    }
   ],
   "source": [
    "df.printSchema()"
   ]
  },
  {
   "cell_type": "markdown",
   "metadata": {},
   "source": [
    "Se visualiza el DataFrame:"
   ]
  },
  {
   "cell_type": "code",
   "execution_count": 8,
   "metadata": {},
   "outputs": [
    {
     "name": "stdout",
     "output_type": "stream",
     "text": [
      "+-------+-------+-------+-----+---+\n",
      "|user_id|country|browser|   OS|age|\n",
      "+-------+-------+-------+-----+---+\n",
      "|   A203|  India| Chrome|  WIN| 33|\n",
      "|   A201|  China| Safari|MacOS| 35|\n",
      "|   A205|     UK|Mozilla|Linux| 25|\n",
      "+-------+-------+-------+-----+---+\n",
      "\n"
     ]
    }
   ],
   "source": [
    "df.show()"
   ]
  },
  {
   "cell_type": "markdown",
   "metadata": {},
   "source": [
    "Creamos un nuevo DataFrame pero esta vez con algunos valores nulos:"
   ]
  },
  {
   "cell_type": "code",
   "execution_count": 9,
   "metadata": {},
   "outputs": [],
   "source": [
    "df_na=spark.createDataFrame([(\"A203\",None,\"Chrome\",\"WIN\",33),(\"A201\",'China',None,\"MacOS\",35),(\"A205\",'UK',\"Mozilla\",\"Linux\",25)],schema=schema)"
   ]
  },
  {
   "cell_type": "code",
   "execution_count": 11,
   "metadata": {},
   "outputs": [
    {
     "name": "stdout",
     "output_type": "stream",
     "text": [
      "+-------+-------+-------+-----+---+\n",
      "|user_id|country|browser|   OS|age|\n",
      "+-------+-------+-------+-----+---+\n",
      "|   A203|   null| Chrome|  WIN| 33|\n",
      "|   A201|  China|   null|MacOS| 35|\n",
      "|   A205|     UK|Mozilla|Linux| 25|\n",
      "+-------+-------+-------+-----+---+\n",
      "\n"
     ]
    }
   ],
   "source": [
    "df_na.show()"
   ]
  },
  {
   "cell_type": "markdown",
   "metadata": {},
   "source": [
    "Se muestra el DataFrame anterior pero esta vez con ceros en vez de null, notese que solo se muestran NO SE MODIFICA EL DATAFRAME:"
   ]
  },
  {
   "cell_type": "code",
   "execution_count": 10,
   "metadata": {
    "scrolled": true
   },
   "outputs": [
    {
     "name": "stdout",
     "output_type": "stream",
     "text": [
      "+-------+-------+-------+-----+---+\n",
      "|user_id|country|browser|   OS|age|\n",
      "+-------+-------+-------+-----+---+\n",
      "|   A203|      0| Chrome|  WIN| 33|\n",
      "|   A201|  China|      0|MacOS| 35|\n",
      "|   A205|     UK|Mozilla|Linux| 25|\n",
      "+-------+-------+-------+-----+---+\n",
      "\n"
     ]
    }
   ],
   "source": [
    "df_na.fillna('0').show()"
   ]
  },
  {
   "cell_type": "markdown",
   "metadata": {},
   "source": [
    "Notese que no se ha modificado:"
   ]
  },
  {
   "cell_type": "code",
   "execution_count": 11,
   "metadata": {},
   "outputs": [
    {
     "name": "stdout",
     "output_type": "stream",
     "text": [
      "+-------+-------+-------+-----+---+\n",
      "|user_id|country|browser|   OS|age|\n",
      "+-------+-------+-------+-----+---+\n",
      "|   A203|   null| Chrome|  WIN| 33|\n",
      "|   A201|  China|   null|MacOS| 35|\n",
      "|   A205|     UK|Mozilla|Linux| 25|\n",
      "+-------+-------+-------+-----+---+\n",
      "\n"
     ]
    }
   ],
   "source": [
    "df_na.show()"
   ]
  },
  {
   "cell_type": "markdown",
   "metadata": {},
   "source": [
    "Se rellenan los null con parámetros específicos por columna, de nuevo se muestran no se modifican:"
   ]
  },
  {
   "cell_type": "code",
   "execution_count": 12,
   "metadata": {},
   "outputs": [
    {
     "name": "stdout",
     "output_type": "stream",
     "text": [
      "+-------+-------+-------+-----+---+\n",
      "|user_id|country|browser|   OS|age|\n",
      "+-------+-------+-------+-----+---+\n",
      "|   A203|    USA| Chrome|  WIN| 33|\n",
      "|   A201|  China| Safari|MacOS| 35|\n",
      "|   A205|     UK|Mozilla|Linux| 25|\n",
      "+-------+-------+-------+-----+---+\n",
      "\n"
     ]
    }
   ],
   "source": [
    "df_na.fillna( { 'country':'USA', 'browser':'Safari' } ).show()"
   ]
  },
  {
   "cell_type": "markdown",
   "metadata": {},
   "source": [
    "Se descartan los que tengan algun valor null:"
   ]
  },
  {
   "cell_type": "code",
   "execution_count": 13,
   "metadata": {},
   "outputs": [
    {
     "name": "stdout",
     "output_type": "stream",
     "text": [
      "+-------+-------+-------+-----+---+\n",
      "|user_id|country|browser|   OS|age|\n",
      "+-------+-------+-------+-----+---+\n",
      "|   A205|     UK|Mozilla|Linux| 25|\n",
      "+-------+-------+-------+-----+---+\n",
      "\n"
     ]
    }
   ],
   "source": [
    "df_na.na.drop().show()"
   ]
  },
  {
   "cell_type": "markdown",
   "metadata": {},
   "source": [
    "Se descartan los que tengan algun valor null en COUNTRY:"
   ]
  },
  {
   "cell_type": "code",
   "execution_count": 16,
   "metadata": {},
   "outputs": [
    {
     "name": "stdout",
     "output_type": "stream",
     "text": [
      "+-------+-------+-------+-----+---+\n",
      "|user_id|country|browser|   OS|age|\n",
      "+-------+-------+-------+-----+---+\n",
      "|   A201|  China|   null|MacOS| 35|\n",
      "|   A205|     UK|Mozilla|Linux| 25|\n",
      "+-------+-------+-------+-----+---+\n",
      "\n"
     ]
    }
   ],
   "source": [
    "df_na.na.drop(subset='country').show()"
   ]
  },
  {
   "cell_type": "markdown",
   "metadata": {},
   "source": [
    "Se pueden reemplazar valores por otros..."
   ]
  },
  {
   "cell_type": "code",
   "execution_count": 14,
   "metadata": {},
   "outputs": [
    {
     "name": "stdout",
     "output_type": "stream",
     "text": [
      "+-------+-------+-------------+-----+---+\n",
      "|user_id|country|      browser|   OS|age|\n",
      "+-------+-------+-------------+-----+---+\n",
      "|   A203|   null|Google Chrome|  WIN| 33|\n",
      "|   A201|  China|         null|MacOS| 35|\n",
      "|   A205|     UK|      Mozilla|Linux| 25|\n",
      "+-------+-------+-------------+-----+---+\n",
      "\n"
     ]
    }
   ],
   "source": [
    "df_na.replace(\"Chrome\",\"Google Chrome\").show()"
   ]
  },
  {
   "cell_type": "markdown",
   "metadata": {},
   "source": [
    "Se pueden descartar columnas completas:"
   ]
  },
  {
   "cell_type": "code",
   "execution_count": 15,
   "metadata": {},
   "outputs": [
    {
     "name": "stdout",
     "output_type": "stream",
     "text": [
      "+-------+-------+-----+---+\n",
      "|country|browser|   OS|age|\n",
      "+-------+-------+-----+---+\n",
      "|   null| Chrome|  WIN| 33|\n",
      "|  China|   null|MacOS| 35|\n",
      "|     UK|Mozilla|Linux| 25|\n",
      "+-------+-------+-----+---+\n",
      "\n"
     ]
    }
   ],
   "source": [
    "df_na.drop('user_id').show()"
   ]
  },
  {
   "cell_type": "markdown",
   "metadata": {},
   "source": [
    "Podemos invocar a un archivo con datos y generar un DataFrame:"
   ]
  },
  {
   "cell_type": "code",
   "execution_count": 16,
   "metadata": {},
   "outputs": [],
   "source": [
    "df=spark.read.csv(\"customer_data.csv\",header=True, inferSchema=True)"
   ]
  },
  {
   "cell_type": "markdown",
   "metadata": {},
   "source": [
    "Se analizan los datos:"
   ]
  },
  {
   "cell_type": "code",
   "execution_count": 17,
   "metadata": {},
   "outputs": [
    {
     "data": {
      "text/plain": [
       "2000"
      ]
     },
     "execution_count": 17,
     "metadata": {},
     "output_type": "execute_result"
    }
   ],
   "source": [
    "df.count()"
   ]
  },
  {
   "cell_type": "code",
   "execution_count": 18,
   "metadata": {},
   "outputs": [
    {
     "data": {
      "text/plain": [
       "7"
      ]
     },
     "execution_count": 18,
     "metadata": {},
     "output_type": "execute_result"
    }
   ],
   "source": [
    "len(df.columns)"
   ]
  },
  {
   "cell_type": "code",
   "execution_count": 19,
   "metadata": {},
   "outputs": [
    {
     "name": "stdout",
     "output_type": "stream",
     "text": [
      "root\n",
      " |-- Customer_subtype: string (nullable = true)\n",
      " |-- Number_of_houses: integer (nullable = true)\n",
      " |-- Avg_size_household: integer (nullable = true)\n",
      " |-- Avg_age: string (nullable = true)\n",
      " |-- Customer_main_type: string (nullable = true)\n",
      " |-- Avg_Salary: integer (nullable = true)\n",
      " |-- label: integer (nullable = true)\n",
      "\n"
     ]
    }
   ],
   "source": [
    "df.printSchema()"
   ]
  },
  {
   "cell_type": "code",
   "execution_count": 20,
   "metadata": {},
   "outputs": [
    {
     "name": "stdout",
     "output_type": "stream",
     "text": [
      "+--------------------+----------------+------------------+-----------+--------------------+----------+-----+\n",
      "|    Customer_subtype|Number_of_houses|Avg_size_household|    Avg_age|  Customer_main_type|Avg_Salary|label|\n",
      "+--------------------+----------------+------------------+-----------+--------------------+----------+-----+\n",
      "|Lower class large...|               1|                 3|30-40 years|Family with grown...|     44905|    0|\n",
      "|Mixed small town ...|               1|                 2|30-40 years|Family with grown...|     37575|    0|\n",
      "|Mixed small town ...|               1|                 2|30-40 years|Family with grown...|     27915|    0|\n",
      "+--------------------+----------------+------------------+-----------+--------------------+----------+-----+\n",
      "only showing top 3 rows\n",
      "\n"
     ]
    }
   ],
   "source": [
    "df.show(3)"
   ]
  },
  {
   "cell_type": "code",
   "execution_count": 21,
   "metadata": {},
   "outputs": [
    {
     "name": "stdout",
     "output_type": "stream",
     "text": [
      "+-------+--------------------+------------------+------------------+-----------+--------------------+-----------------+------------------+\n",
      "|summary|    Customer_subtype|  Number_of_houses|Avg_size_household|    Avg_age|  Customer_main_type|       Avg_Salary|             label|\n",
      "+-------+--------------------+------------------+------------------+-----------+--------------------+-----------------+------------------+\n",
      "|  count|                2000|              2000|              2000|       2000|                2000|             2000|              2000|\n",
      "|   mean|                null|            1.1075|            2.6895|       null|                null|     1616908.0835|            0.0605|\n",
      "| stddev|                null|0.3873225521186316|0.7914562220841646|       null|                null|6822647.757312146|0.2384705099001677|\n",
      "|    min|Affluent senior a...|                 1|                 1|20-30 years|      Average Family|             1361|                 0|\n",
      "|    25%|                null|                 1|                 2|       null|                null|            20315|                 0|\n",
      "|    50%|                null|                 1|                 3|       null|                null|            31421|                 0|\n",
      "|    75%|                null|                 1|                 3|       null|                null|            42949|                 0|\n",
      "|    max| Young, low educated|                10|                 5|70-80 years|Successful hedonists|         48919896|                 1|\n",
      "+-------+--------------------+------------------+------------------+-----------+--------------------+-----------------+------------------+\n",
      "\n"
     ]
    }
   ],
   "source": [
    "df.summary().show()"
   ]
  },
  {
   "cell_type": "markdown",
   "metadata": {},
   "source": [
    "Mostrar solo unas columnas y filas:"
   ]
  },
  {
   "cell_type": "code",
   "execution_count": 22,
   "metadata": {},
   "outputs": [
    {
     "name": "stdout",
     "output_type": "stream",
     "text": [
      "+--------------------+----------+\n",
      "|    Customer_subtype|Avg_Salary|\n",
      "+--------------------+----------+\n",
      "|Lower class large...|     44905|\n",
      "|Mixed small town ...|     37575|\n",
      "|Mixed small town ...|     27915|\n",
      "|Modern, complete ...|     19504|\n",
      "|  Large family farms|     34943|\n",
      "|    Young and rising|     13064|\n",
      "|Large religious f...|     29090|\n",
      "|Lower class large...|      6895|\n",
      "|Lower class large...|     35497|\n",
      "|     Family starters|     30800|\n",
      "|       Stable family|     39157|\n",
      "|Modern, complete ...|     40839|\n",
      "|Lower class large...|     30008|\n",
      "|        Mixed rurals|     37209|\n",
      "|    Young and rising|     45361|\n",
      "|Lower class large...|     45650|\n",
      "|Traditional families|     18982|\n",
      "|Mixed apartment d...|     30093|\n",
      "|Young all america...|     27097|\n",
      "|Low income catholics|     23511|\n",
      "+--------------------+----------+\n",
      "only showing top 20 rows\n",
      "\n"
     ]
    }
   ],
   "source": [
    "df.select(['Customer_subtype','Avg_Salary']).show()"
   ]
  },
  {
   "cell_type": "markdown",
   "metadata": {},
   "source": [
    "Mostrar solo ciertos datos a partir de un criterio:"
   ]
  },
  {
   "cell_type": "code",
   "execution_count": 23,
   "metadata": {},
   "outputs": [
    {
     "data": {
      "text/plain": [
       "128"
      ]
     },
     "execution_count": 23,
     "metadata": {},
     "output_type": "execute_result"
    }
   ],
   "source": [
    "df.filter(df['Avg_Salary'] > 1000000).count()"
   ]
  },
  {
   "cell_type": "code",
   "execution_count": 24,
   "metadata": {},
   "outputs": [
    {
     "name": "stdout",
     "output_type": "stream",
     "text": [
      "+--------------------+----------------+------------------+-----------+--------------------+----------+-----+\n",
      "|    Customer_subtype|Number_of_houses|Avg_size_household|    Avg_age|  Customer_main_type|Avg_Salary|label|\n",
      "+--------------------+----------------+------------------+-----------+--------------------+----------+-----+\n",
      "| High status seniors|               1|                 3|40-50 years|Successful hedonists|   4670288|    0|\n",
      "| High status seniors|               1|                 3|50-60 years|Successful hedonists|   9561873|    0|\n",
      "| High status seniors|               1|                 2|40-50 years|Successful hedonists|  18687005|    0|\n",
      "| High status seniors|               1|                 2|40-50 years|Successful hedonists|  24139960|    0|\n",
      "| High status seniors|               1|                 2|50-60 years|Successful hedonists|   6718606|    0|\n",
      "|High Income, expe...|               1|                 3|40-50 years|Successful hedonists|  19347139|    0|\n",
      "|High Income, expe...|               1|                 3|40-50 years|Successful hedonists|   5243902|    0|\n",
      "| High status seniors|               2|                 3|40-50 years|Successful hedonists|   6138618|    0|\n",
      "|High Income, expe...|               1|                 3|50-60 years|Successful hedonists|  24930053|    0|\n",
      "| High status seniors|               1|                 2|50-60 years|Successful hedonists|  12545905|    1|\n",
      "|High Income, expe...|               1|                 3|40-50 years|Successful hedonists|  29976435|    0|\n",
      "| High status seniors|               1|                 2|50-60 years|Successful hedonists|  24639614|    0|\n",
      "| High status seniors|               1|                 2|40-50 years|Successful hedonists|  16073966|    0|\n",
      "|High Income, expe...|               1|                 4|40-50 years|Successful hedonists|  35032441|    1|\n",
      "|High Income, expe...|               1|                 2|50-60 years|Successful hedonists|   8354410|    0|\n",
      "| High status seniors|               1|                 1|60-70 years|Successful hedonists|  20241068|    0|\n",
      "| High status seniors|               1|                 1|50-60 years|Successful hedonists|  45592572|    0|\n",
      "| High status seniors|               1|                 2|50-60 years|Successful hedonists|  10289449|    0|\n",
      "|High Income, expe...|               1|                 2|50-60 years|Successful hedonists|   5586401|    0|\n",
      "| High status seniors|               1|                 2|50-60 years|Successful hedonists|  41699271|    0|\n",
      "+--------------------+----------------+------------------+-----------+--------------------+----------+-----+\n",
      "only showing top 20 rows\n",
      "\n"
     ]
    }
   ],
   "source": [
    "df.filter(df['Avg_Salary'] > 1000000).show()"
   ]
  },
  {
   "cell_type": "markdown",
   "metadata": {},
   "source": [
    "Flitrado:"
   ]
  },
  {
   "cell_type": "code",
   "execution_count": 25,
   "metadata": {},
   "outputs": [
    {
     "data": {
      "text/plain": [
       "4"
      ]
     },
     "execution_count": 25,
     "metadata": {},
     "output_type": "execute_result"
    }
   ],
   "source": [
    "df.filter(df['Avg_Salary'] > 500000).filter(df['Number_of_houses'] > 2).count()"
   ]
  },
  {
   "cell_type": "code",
   "execution_count": 26,
   "metadata": {},
   "outputs": [
    {
     "name": "stdout",
     "output_type": "stream",
     "text": [
      "+--------------------+----------------+------------------+-----------+--------------------+----------+-----+\n",
      "|    Customer_subtype|Number_of_houses|Avg_size_household|    Avg_age|  Customer_main_type|Avg_Salary|label|\n",
      "+--------------------+----------------+------------------+-----------+--------------------+----------+-----+\n",
      "|Affluent senior a...|               3|                 2|50-60 years|Successful hedonists|    596723|    0|\n",
      "|Affluent senior a...|               3|                 2|50-60 years|Successful hedonists|    944444|    0|\n",
      "|Affluent senior a...|               3|                 2|50-60 years|Successful hedonists|    788477|    0|\n",
      "|Affluent senior a...|               3|                 2|50-60 years|Successful hedonists|    994077|    0|\n",
      "+--------------------+----------------+------------------+-----------+--------------------+----------+-----+\n",
      "\n"
     ]
    }
   ],
   "source": [
    "df.filter(df['Avg_Salary'] > 500000).filter(df['Number_of_houses'] > 2).show()"
   ]
  },
  {
   "cell_type": "markdown",
   "metadata": {},
   "source": [
    "Otra forma de filtrar es con WHERE y operaciones Booleanas:"
   ]
  },
  {
   "cell_type": "code",
   "execution_count": 27,
   "metadata": {},
   "outputs": [
    {
     "name": "stdout",
     "output_type": "stream",
     "text": [
      "+--------------------+----------------+------------------+-----------+--------------------+----------+-----+\n",
      "|    Customer_subtype|Number_of_houses|Avg_size_household|    Avg_age|  Customer_main_type|Avg_Salary|label|\n",
      "+--------------------+----------------+------------------+-----------+--------------------+----------+-----+\n",
      "|Affluent senior a...|               3|                 2|50-60 years|Successful hedonists|    596723|    0|\n",
      "|Affluent senior a...|               3|                 2|50-60 years|Successful hedonists|    944444|    0|\n",
      "|Affluent senior a...|               3|                 2|50-60 years|Successful hedonists|    788477|    0|\n",
      "|Affluent senior a...|               3|                 2|50-60 years|Successful hedonists|    994077|    0|\n",
      "+--------------------+----------------+------------------+-----------+--------------------+----------+-----+\n",
      "\n"
     ]
    }
   ],
   "source": [
    "df.where((df['Avg_Salary'] > 500000) & (df['Number_of_houses'] > 2)).show()"
   ]
  },
  {
   "cell_type": "markdown",
   "metadata": {},
   "source": [
    "Se puede saber cuantos datos hay de una caterogira especifica:"
   ]
  },
  {
   "cell_type": "code",
   "execution_count": 28,
   "metadata": {},
   "outputs": [
    {
     "name": "stdout",
     "output_type": "stream",
     "text": [
      "+--------------------+-----+\n",
      "|    Customer_subtype|count|\n",
      "+--------------------+-----+\n",
      "|Lower class large...|  288|\n",
      "|Mixed small town ...|   47|\n",
      "|Modern, complete ...|   93|\n",
      "|  Large family farms|   26|\n",
      "|    Young and rising|   78|\n",
      "|Large religious f...|  107|\n",
      "|     Family starters|   55|\n",
      "|       Stable family|   62|\n",
      "|        Mixed rurals|   67|\n",
      "|Traditional families|  129|\n",
      "|Mixed apartment d...|   34|\n",
      "|Young all america...|   62|\n",
      "|Low income catholics|   72|\n",
      "|Large family, emp...|   56|\n",
      "| Young, low educated|   56|\n",
      "|Middle class fami...|  122|\n",
      "|Dinki's (double i...|   17|\n",
      "| High status seniors|   76|\n",
      "|Couples with teen...|   83|\n",
      "|Young seniors in ...|   22|\n",
      "+--------------------+-----+\n",
      "only showing top 20 rows\n",
      "\n"
     ]
    }
   ],
   "source": [
    "df.groupBy('Customer_subtype').count().show()"
   ]
  },
  {
   "cell_type": "code",
   "execution_count": 29,
   "metadata": {
    "scrolled": true
   },
   "outputs": [
    {
     "name": "stdout",
     "output_type": "stream",
     "text": [
      "+----------------+-----+\n",
      "|Number_of_houses|count|\n",
      "+----------------+-----+\n",
      "|               1| 1808|\n",
      "|               2|  178|\n",
      "|               3|   12|\n",
      "|              10|    1|\n",
      "|               5|    1|\n",
      "+----------------+-----+\n",
      "\n"
     ]
    }
   ],
   "source": [
    "df.groupBy('Number_of_houses').count().show()"
   ]
  },
  {
   "cell_type": "markdown",
   "metadata": {},
   "source": [
    "Extrayendo INSIGHTS...Que caracteristica define a los que tienen más de 3 casas????"
   ]
  },
  {
   "cell_type": "code",
   "execution_count": 30,
   "metadata": {},
   "outputs": [
    {
     "name": "stdout",
     "output_type": "stream",
     "text": [
      "+----------------+----------------+------------------+-----------+------------------+----------+-----+\n",
      "|Customer_subtype|Number_of_houses|Avg_size_household|    Avg_age|Customer_main_type|Avg_Salary|label|\n",
      "+----------------+----------------+------------------+-----------+------------------+----------+-----+\n",
      "|    Single youth|              10|                 2|30-40 years|     Career Loners|     13815|    0|\n",
      "|Young and rising|               5|                 1|40-50 years|       Living well|     17123|    0|\n",
      "+----------------+----------------+------------------+-----------+------------------+----------+-----+\n",
      "\n"
     ]
    }
   ],
   "source": [
    "df.filter(df['Number_of_houses'] > 3).show()"
   ]
  },
  {
   "cell_type": "markdown",
   "metadata": {},
   "source": [
    "Para un determinado grupo (columna) puedo analizar valores asociados a ella en forma de estadistica (promedio etc) "
   ]
  },
  {
   "cell_type": "code",
   "execution_count": 31,
   "metadata": {
    "scrolled": true
   },
   "outputs": [
    {
     "name": "stdout",
     "output_type": "stream",
     "text": [
      "+--------------------+--------------------+\n",
      "|  Customer_main_type|     avg(Avg_Salary)|\n",
      "+--------------------+--------------------+\n",
      "|Family with grown...|  28114.191881918818|\n",
      "|      Average Family|  104256.62337662338|\n",
      "|             Farmers|  30209.333333333332|\n",
      "|         Living well|  31194.044943820223|\n",
      "|Conservative fami...|  29504.419491525423|\n",
      "|Retired and Relig...|   27338.80693069307|\n",
      "|      Driven Growers|   30769.04069767442|\n",
      "|Successful hedonists|1.6278923510309279E7|\n",
      "|    Cruising Seniors|  28870.333333333332|\n",
      "|       Career Loners|             32272.6|\n",
      "+--------------------+--------------------+\n",
      "\n"
     ]
    }
   ],
   "source": [
    "df.groupBy('Customer_main_type').agg(F.mean('Avg_Salary')).show()"
   ]
  },
  {
   "cell_type": "code",
   "execution_count": 32,
   "metadata": {},
   "outputs": [
    {
     "name": "stdout",
     "output_type": "stream",
     "text": [
      "+--------------------+---------------+\n",
      "|  Customer_main_type|max(Avg_Salary)|\n",
      "+--------------------+---------------+\n",
      "|Family with grown...|          49901|\n",
      "|      Average Family|         991838|\n",
      "|             Farmers|          49965|\n",
      "|         Living well|          49816|\n",
      "|Conservative fami...|          49965|\n",
      "|Retired and Relig...|          49564|\n",
      "|      Driven Growers|          49932|\n",
      "|Successful hedonists|       48919896|\n",
      "|    Cruising Seniors|          49526|\n",
      "|       Career Loners|          49903|\n",
      "+--------------------+---------------+\n",
      "\n"
     ]
    }
   ],
   "source": [
    "df.groupBy('Customer_main_type').agg(F.max('Avg_Salary')).show()"
   ]
  },
  {
   "cell_type": "markdown",
   "metadata": {},
   "source": [
    "También puedo mostrar los datos un orden ascendente o decendente: "
   ]
  },
  {
   "cell_type": "code",
   "execution_count": 33,
   "metadata": {},
   "outputs": [
    {
     "name": "stdout",
     "output_type": "stream",
     "text": [
      "+--------------------+----------------+------------------+-----------+--------------------+----------+-----+\n",
      "|    Customer_subtype|Number_of_houses|Avg_size_household|    Avg_age|  Customer_main_type|Avg_Salary|label|\n",
      "+--------------------+----------------+------------------+-----------+--------------------+----------+-----+\n",
      "|Low income catholics|               1|                 2|40-50 years|Retired and Relig...|      1361|    0|\n",
      "|Lower class large...|               1|                 2|40-50 years|Family with grown...|      1502|    0|\n",
      "|Lower class large...|               1|                 2|40-50 years|Family with grown...|      1718|    1|\n",
      "|Lower class large...|               1|                 3|40-50 years|Family with grown...|      1750|    0|\n",
      "|Lower class large...|               1|                 3|40-50 years|Family with grown...|      1865|    0|\n",
      "|Lower class large...|               1|                 2|50-60 years|Family with grown...|      2021|    0|\n",
      "|Lower class large...|               1|                 4|40-50 years|Family with grown...|      2208|    0|\n",
      "|Low income catholics|               1|                 3|30-40 years|Retired and Relig...|      2529|    0|\n",
      "|Lower class large...|               2|                 3|40-50 years|Family with grown...|      2614|    0|\n",
      "|Lower class large...|               1|                 2|40-50 years|Family with grown...|      2655|    0|\n",
      "|Low income catholics|               1|                 2|40-50 years|Retired and Relig...|      2985|    0|\n",
      "|Low income catholics|               1|                 2|40-50 years|Retired and Relig...|      3089|    0|\n",
      "|Lower class large...|               1|                 3|30-40 years|Family with grown...|      3107|    0|\n",
      "|Lower class large...|               1|                 3|40-50 years|Family with grown...|      3259|    0|\n",
      "|Low income catholics|               1|                 2|50-60 years|Retired and Relig...|      3710|    0|\n",
      "|Lower class large...|               1|                 3|40-50 years|Family with grown...|      3737|    0|\n",
      "|Lower class large...|               1|                 3|40-50 years|Family with grown...|      4042|    0|\n",
      "|Lower class large...|               2|                 3|40-50 years|Family with grown...|      4046|    0|\n",
      "|Lower class large...|               1|                 2|40-50 years|Family with grown...|      4071|    0|\n",
      "|Low income catholics|               1|                 3|50-60 years|Retired and Relig...|      4173|    0|\n",
      "+--------------------+----------------+------------------+-----------+--------------------+----------+-----+\n",
      "only showing top 20 rows\n",
      "\n"
     ]
    }
   ],
   "source": [
    "df.sort(\"Avg_Salary\").show()"
   ]
  },
  {
   "cell_type": "code",
   "execution_count": 34,
   "metadata": {},
   "outputs": [
    {
     "name": "stdout",
     "output_type": "stream",
     "text": [
      "+--------------------+----------------+------------------+-----------+--------------------+----------+-----+\n",
      "|    Customer_subtype|Number_of_houses|Avg_size_household|    Avg_age|  Customer_main_type|Avg_Salary|label|\n",
      "+--------------------+----------------+------------------+-----------+--------------------+----------+-----+\n",
      "|Low income catholics|               1|                 2|40-50 years|Retired and Relig...|      1361|    0|\n",
      "|Lower class large...|               1|                 2|40-50 years|Family with grown...|      1502|    0|\n",
      "|Lower class large...|               1|                 2|40-50 years|Family with grown...|      1718|    1|\n",
      "|Lower class large...|               1|                 3|40-50 years|Family with grown...|      1750|    0|\n",
      "|Lower class large...|               1|                 3|40-50 years|Family with grown...|      1865|    0|\n",
      "|Lower class large...|               1|                 2|50-60 years|Family with grown...|      2021|    0|\n",
      "|Lower class large...|               1|                 4|40-50 years|Family with grown...|      2208|    0|\n",
      "|Low income catholics|               1|                 3|30-40 years|Retired and Relig...|      2529|    0|\n",
      "|Lower class large...|               2|                 3|40-50 years|Family with grown...|      2614|    0|\n",
      "|Lower class large...|               1|                 2|40-50 years|Family with grown...|      2655|    0|\n",
      "|Low income catholics|               1|                 2|40-50 years|Retired and Relig...|      2985|    0|\n",
      "|Low income catholics|               1|                 2|40-50 years|Retired and Relig...|      3089|    0|\n",
      "|Lower class large...|               1|                 3|30-40 years|Family with grown...|      3107|    0|\n",
      "|Lower class large...|               1|                 3|40-50 years|Family with grown...|      3259|    0|\n",
      "|Low income catholics|               1|                 2|50-60 years|Retired and Relig...|      3710|    0|\n",
      "|Lower class large...|               1|                 3|40-50 years|Family with grown...|      3737|    0|\n",
      "|Lower class large...|               1|                 3|40-50 years|Family with grown...|      4042|    0|\n",
      "|Lower class large...|               2|                 3|40-50 years|Family with grown...|      4046|    0|\n",
      "|Lower class large...|               1|                 2|40-50 years|Family with grown...|      4071|    0|\n",
      "|Low income catholics|               1|                 3|50-60 years|Retired and Relig...|      4173|    0|\n",
      "+--------------------+----------------+------------------+-----------+--------------------+----------+-----+\n",
      "only showing top 20 rows\n",
      "\n"
     ]
    }
   ],
   "source": [
    "df.sort(\"Avg_Salary\", ascending=True).show()"
   ]
  },
  {
   "cell_type": "code",
   "execution_count": 35,
   "metadata": {},
   "outputs": [
    {
     "name": "stdout",
     "output_type": "stream",
     "text": [
      "+--------------------+----------------+------------------+-----------+--------------------+----------+-----+\n",
      "|    Customer_subtype|Number_of_houses|Avg_size_household|    Avg_age|  Customer_main_type|Avg_Salary|label|\n",
      "+--------------------+----------------+------------------+-----------+--------------------+----------+-----+\n",
      "| High status seniors|               1|                 2|60-70 years|Successful hedonists|  48919896|    0|\n",
      "|High Income, expe...|               1|                 2|50-60 years|Successful hedonists|  48177970|    0|\n",
      "|High Income, expe...|               1|                 2|50-60 years|Successful hedonists|  48069548|    1|\n",
      "|High Income, expe...|               1|                 3|40-50 years|Successful hedonists|  46911924|    0|\n",
      "| High status seniors|               1|                 3|40-50 years|Successful hedonists|  46614009|    0|\n",
      "|High Income, expe...|               1|                 3|30-40 years|Successful hedonists|  45952441|    0|\n",
      "|High Income, expe...|               1|                 3|40-50 years|Successful hedonists|  45864609|    1|\n",
      "| High status seniors|               1|                 1|50-60 years|Successful hedonists|  45592572|    0|\n",
      "| High status seniors|               1|                 2|50-60 years|Successful hedonists|  45170899|    0|\n",
      "|High Income, expe...|               1|                 3|50-60 years|Successful hedonists|  44843830|    0|\n",
      "| High status seniors|               1|                 2|50-60 years|Successful hedonists|  43230349|    0|\n",
      "| High status seniors|               1|                 5|40-50 years|Successful hedonists|  43181830|    0|\n",
      "| High status seniors|               1|                 1|30-40 years|Successful hedonists|  42631926|    0|\n",
      "| High status seniors|               1|                 2|50-60 years|Successful hedonists|  41919020|    0|\n",
      "| High status seniors|               1|                 2|50-60 years|Successful hedonists|  41699271|    0|\n",
      "| High status seniors|               1|                 2|40-50 years|Successful hedonists|  41398953|    0|\n",
      "|High Income, expe...|               1|                 3|40-50 years|Successful hedonists|  41269615|    1|\n",
      "| High status seniors|               1|                 2|50-60 years|Successful hedonists|  41192397|    1|\n",
      "| High status seniors|               1|                 2|40-50 years|Successful hedonists|  40564335|    0|\n",
      "| High status seniors|               1|                 2|50-60 years|Successful hedonists|  40453887|    0|\n",
      "+--------------------+----------------+------------------+-----------+--------------------+----------+-----+\n",
      "only showing top 20 rows\n",
      "\n"
     ]
    }
   ],
   "source": [
    "df.sort(\"Avg_Salary\", ascending=False).show()"
   ]
  },
  {
   "cell_type": "markdown",
   "metadata": {},
   "source": [
    "También se pueden mezclar los criterios anteriores:"
   ]
  },
  {
   "cell_type": "code",
   "execution_count": 36,
   "metadata": {
    "scrolled": true
   },
   "outputs": [
    {
     "name": "stdout",
     "output_type": "stream",
     "text": [
      "+--------------------+--------------------+\n",
      "|    Customer_subtype|         mean_salary|\n",
      "+--------------------+--------------------+\n",
      "| High status seniors| 2.507677857894737E7|\n",
      "|High Income, expe...|2.3839817807692308E7|\n",
      "|Affluent young fa...|   662068.7777777778|\n",
      "|Affluent senior a...|   653638.8235294118|\n",
      "|Senior cosmopolitans|             49903.0|\n",
      "|Students in apart...|  35532.142857142855|\n",
      "|  Large family farms|   33135.61538461538|\n",
      "| Young, low educated|   33072.21428571428|\n",
      "|Large family, emp...|  32867.857142857145|\n",
      "|      Suburban youth|             32558.0|\n",
      "|    Village families|  32449.470588235294|\n",
      "|Middle class fami...|  31579.385245901638|\n",
      "|Modern, complete ...|             31576.0|\n",
      "|   Etnically diverse|             31572.0|\n",
      "|    Young and rising|  30795.897435897437|\n",
      "|       Mixed seniors|  30759.267605633802|\n",
      "|Very Important Pr...|         30548.40625|\n",
      "|Religious elderly...|   30540.59574468085|\n",
      "|     Family starters|             30376.2|\n",
      "|Career and childcare|  30110.939393939392|\n",
      "+--------------------+--------------------+\n",
      "only showing top 20 rows\n",
      "\n"
     ]
    }
   ],
   "source": [
    "df.groupBy('Customer_subtype').agg(F.avg('Avg_Salary'). alias('mean_salary')).orderBy('mean_salary',ascending=False). show()"
   ]
  },
  {
   "cell_type": "markdown",
   "metadata": {},
   "source": [
    "Con el uso de un numero y FALSE en el SHOW se pueden ver mas de 20 lineas que es lo que se tiene por defecto:"
   ]
  },
  {
   "cell_type": "code",
   "execution_count": 37,
   "metadata": {},
   "outputs": [
    {
     "name": "stdout",
     "output_type": "stream",
     "text": [
      "+------------------------------------------+--------------------+\n",
      "|Customer_subtype                          |mean_salary         |\n",
      "+------------------------------------------+--------------------+\n",
      "|High status seniors                       |2.507677857894737E7 |\n",
      "|High Income, expensive child              |2.3839817807692308E7|\n",
      "|Affluent young families                   |662068.7777777778   |\n",
      "|Affluent senior apartments                |653638.8235294118   |\n",
      "|Senior cosmopolitans                      |49903.0             |\n",
      "|Students in apartments                    |35532.142857142855  |\n",
      "|Large family farms                        |33135.61538461538   |\n",
      "|Young, low educated                       |33072.21428571428   |\n",
      "|Large family, employed child              |32867.857142857145  |\n",
      "|Suburban youth                            |32558.0             |\n",
      "|Village families                          |32449.470588235294  |\n",
      "|Middle class families                     |31579.385245901638  |\n",
      "|Modern, complete families                 |31576.0             |\n",
      "|Etnically diverse                         |31572.0             |\n",
      "|Young and rising                          |30795.897435897437  |\n",
      "|Mixed seniors                             |30759.267605633802  |\n",
      "|Very Important Provincials                |30548.40625         |\n",
      "|Religious elderly singles                 |30540.59574468085   |\n",
      "|Family starters                           |30376.2             |\n",
      "|Career and childcare                      |30110.939393939392  |\n",
      "|Young seniors in the city                 |30105.136363636364  |\n",
      "|Seniors in apartments                     |30090.882352941175  |\n",
      "|Large religious families                  |29652.196261682242  |\n",
      "|Stable family                             |29619.032258064515  |\n",
      "|Mixed apartment dwellers                  |29587.647058823528  |\n",
      "|Young all american family                 |29563.3064516129    |\n",
      "|Porchless seniors: no front yard          |29509.827586206895  |\n",
      "|Traditional families                      |29381.84496124031   |\n",
      "|Mixed rurals                              |29073.761194029852  |\n",
      "|Mixed small town dwellers                 |28982.106382978724  |\n",
      "|Residential elderly                       |28866.166666666668  |\n",
      "|Couples with teens 'Married with children'|28155.807228915663  |\n",
      "|Fresh masters in the city                 |27645.0             |\n",
      "|Dinki's (double income no kids)           |26231.117647058825  |\n",
      "|Lower class large families                |26012.628472222223  |\n",
      "|Young urban have-nots                     |25751.0             |\n",
      "|Own home elderly                          |25677.666666666668  |\n",
      "|Single youth                              |24403.25            |\n",
      "|Low income catholics                      |21713.777777777777  |\n",
      "+------------------------------------------+--------------------+\n",
      "\n"
     ]
    }
   ],
   "source": [
    "df.groupBy('Customer_subtype').agg(F.avg('Avg_Salary'). alias('mean_salary')).orderBy('mean_salary',ascending=False). show(50,False)"
   ]
  },
  {
   "cell_type": "markdown",
   "metadata": {},
   "source": [
    "Con COLLECT se puede determinar el tipo de datos por cada valor:"
   ]
  },
  {
   "cell_type": "code",
   "execution_count": 38,
   "metadata": {},
   "outputs": [
    {
     "name": "stdout",
     "output_type": "stream",
     "text": [
      "+--------------------+-----------------------------+\n",
      "|    Customer_subtype|collect_set(Number_of_houses)|\n",
      "+--------------------+-----------------------------+\n",
      "|Lower class large...|                       [1, 2]|\n",
      "|Mixed small town ...|                          [1]|\n",
      "|Modern, complete ...|                       [1, 2]|\n",
      "|  Large family farms|                          [1]|\n",
      "|    Young and rising|                    [1, 5, 2]|\n",
      "|Large religious f...|                       [1, 2]|\n",
      "|     Family starters|                       [1, 2]|\n",
      "|       Stable family|                    [1, 2, 3]|\n",
      "|        Mixed rurals|                          [1]|\n",
      "|Traditional families|                       [1, 2]|\n",
      "|Mixed apartment d...|                    [1, 2, 3]|\n",
      "|Young all america...|                       [1, 2]|\n",
      "|Low income catholics|                          [1]|\n",
      "|Large family, emp...|                       [1, 2]|\n",
      "| Young, low educated|                       [1, 2]|\n",
      "|Middle class fami...|                       [1, 2]|\n",
      "|Dinki's (double i...|                       [1, 2]|\n",
      "| High status seniors|                       [1, 2]|\n",
      "|Couples with teen...|                          [1]|\n",
      "|Young seniors in ...|                    [1, 2, 3]|\n",
      "+--------------------+-----------------------------+\n",
      "only showing top 20 rows\n",
      "\n"
     ]
    }
   ],
   "source": [
    "df.groupby(\"Customer_subtype\").agg(F.collect_set(\"Number_of_houses\")).show()"
   ]
  },
  {
   "cell_type": "markdown",
   "metadata": {},
   "source": [
    "Que otras operaciones conoce que sean relavantes en la inspección de datos? "
   ]
  },
  {
   "cell_type": "code",
   "execution_count": null,
   "metadata": {},
   "outputs": [],
   "source": []
  }
 ],
 "metadata": {
  "kernelspec": {
   "display_name": "Python 3",
   "language": "python",
   "name": "python3"
  },
  "language_info": {
   "codemirror_mode": {
    "name": "ipython",
    "version": 3
   },
   "file_extension": ".py",
   "mimetype": "text/x-python",
   "name": "python",
   "nbconvert_exporter": "python",
   "pygments_lexer": "ipython3",
   "version": "3.7.1"
  }
 },
 "nbformat": 4,
 "nbformat_minor": 2
}
