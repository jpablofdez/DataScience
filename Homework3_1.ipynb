{
  "nbformat": 4,
  "nbformat_minor": 0,
  "metadata": {
    "colab": {
      "provenance": [],
      "include_colab_link": true
    },
    "kernelspec": {
      "name": "python3",
      "display_name": "Python 3"
    },
    "language_info": {
      "name": "python"
    },
    "gpuClass": "standard",
    "accelerator": "GPU"
  },
  "cells": [
    {
      "cell_type": "markdown",
      "metadata": {
        "id": "view-in-github",
        "colab_type": "text"
      },
      "source": [
        "<a href=\"https://colab.research.google.com/github/jpablofdez/DataScience/blob/master/Homework3_1.ipynb\" target=\"_parent\"><img src=\"https://colab.research.google.com/assets/colab-badge.svg\" alt=\"Open In Colab\"/></a>"
      ]
    },
    {
      "cell_type": "markdown",
      "source": [
        "Deep Learning\n",
        "\n",
        "MNIST dataset\n",
        "\n",
        "Convolutional Neural Network, version 5\n",
        "\n",
        "By Juan Carlos Rojas\n",
        "\n",
        "Copyright 2023, Texas Tech University - Costa Rica"
      ],
      "metadata": {
        "id": "uxNXA3L-BIWF"
      }
    },
    {
      "cell_type": "code",
      "source": [
        "import math\n",
        "import numpy as np\n",
        "import pandas as pd\n",
        "import tensorflow as tf\n",
        "import time\n",
        "import matplotlib.pyplot as plt\n",
        "import random\n"
      ],
      "metadata": {
        "id": "9HZ5Ic8gHC7w"
      },
      "execution_count": 2,
      "outputs": []
    },
    {
      "cell_type": "markdown",
      "source": [
        "Part 1"
      ],
      "metadata": {
        "id": "Urdz9KlOOUzG"
      }
    },
    {
      "cell_type": "code",
      "source": [
        "#\n",
        "# Load and prepare data\n",
        "#\n",
        "import keras.datasets.fashion_mnist\n",
        "(train_data, train_labels), (test_data, test_labels) = keras.datasets.fashion_mnist.load_data()\n",
        "\n",
        "# Get some lengths\n",
        "n_samples_train = train_data.shape[0]\n",
        "n_samples_test = test_data.shape[0]\n",
        "\n",
        "# Scale pixels to range 0-1.0\n",
        "maxval = train_data.max()\n",
        "train_data = train_data / maxval\n",
        "test_data = test_data / maxval\n",
        "\n",
        "# One-hot encode the labels\n",
        "train_labels_onehot = tf.keras.utils.to_categorical(train_labels)\n",
        "test_labels_onehot = tf.keras.utils.to_categorical(test_labels)\n",
        "num_classes = test_labels_onehot.shape[1]\n"
      ],
      "metadata": {
        "id": "2g-6n5iDFGi9",
        "colab": {
          "base_uri": "https://localhost:8080/"
        },
        "outputId": "73b175c5-c0e9-4e07-9353-ca783b276b37"
      },
      "execution_count": 3,
      "outputs": [
        {
          "output_type": "stream",
          "name": "stdout",
          "text": [
            "Downloading data from https://storage.googleapis.com/tensorflow/tf-keras-datasets/train-labels-idx1-ubyte.gz\n",
            "29515/29515 [==============================] - 0s 0us/step\n",
            "Downloading data from https://storage.googleapis.com/tensorflow/tf-keras-datasets/train-images-idx3-ubyte.gz\n",
            "26421880/26421880 [==============================] - 0s 0us/step\n",
            "Downloading data from https://storage.googleapis.com/tensorflow/tf-keras-datasets/t10k-labels-idx1-ubyte.gz\n",
            "5148/5148 [==============================] - 0s 0us/step\n",
            "Downloading data from https://storage.googleapis.com/tensorflow/tf-keras-datasets/t10k-images-idx3-ubyte.gz\n",
            "4422102/4422102 [==============================] - 0s 0us/step\n"
          ]
        }
      ]
    },
    {
      "cell_type": "code",
      "source": [
        "#\n",
        "# Neural Network definition\n",
        "#\n",
        "\n",
        "# Create a neural network model\n",
        "model = tf.keras.models.Sequential()\n",
        "\n",
        "# Reshape input to 2D images with 1 color component\n",
        "model.add(tf.keras.layers.Reshape( [28, 28, 1], input_shape=[28, 28] ))\n",
        "\n",
        "# First convolutional layer: 14x14x4\n",
        "model.add(tf.keras.layers.Conv2D(4, 3, strides=2, padding='same', activation='elu'))\n",
        "\n",
        "# Second convolutional layer: 7x7x8\n",
        "model.add(tf.keras.layers.Conv2D(8, 3, strides=2, padding='same', activation='elu'))\n",
        "\n",
        "# Third convolutional layer: 3x3x16\n",
        "model.add(tf.keras.layers.Conv2D(16, 3, strides=2, padding='valid', activation='elu'))\n",
        "\n",
        "# Fourth convolutional layer: 1x1x32\n",
        "model.add(tf.keras.layers.Conv2D(32, 3, strides=1, padding='valid', activation='elu'))\n",
        "\n",
        "# Flatten into single dimensional vector\n",
        "model.add(tf.keras.layers.Flatten())\n",
        "\n",
        "# Output layer:\n",
        "model.add(tf.keras.layers.Dense(num_classes, activation='softmax', kernel_initializer='glorot_normal', bias_initializer='zeros'))\n",
        "\n",
        "model.summary()\n",
        "\n",
        "# Training constants\n",
        "batch_size = 64\n",
        "n_epochs = 200\n",
        "eval_step = 10\n",
        "learning_rate = 5e-5\n",
        "\n",
        "# Print configuration summary\n",
        "n_batches = math.ceil(n_samples_train / batch_size)\n",
        "print(\"Batch size: {} Num batches: {} Num epochs: {}\".format(batch_size, n_batches, n_epochs))\n",
        "\n",
        "# Define the optimizer\n",
        "\n",
        "# ADAM optimizer\n",
        "optimizer = tf.keras.optimizers.Adam(learning_rate=learning_rate)\n",
        "print(\"Optimizer: ADAM.  Learning rate = {}\".format(learning_rate))\n",
        "\n",
        "# Define model\n",
        "model.compile(\n",
        "        optimizer=optimizer,\n",
        "        loss='categorical_crossentropy',\n",
        "        metrics=['accuracy']\n",
        "        )\n"
      ],
      "metadata": {
        "colab": {
          "base_uri": "https://localhost:8080/"
        },
        "id": "XRqHic_SQ98l",
        "outputId": "0aba0435-fdfe-48fe-e0b6-76669576aff0"
      },
      "execution_count": 4,
      "outputs": [
        {
          "output_type": "stream",
          "name": "stdout",
          "text": [
            "Model: \"sequential\"\n",
            "_________________________________________________________________\n",
            " Layer (type)                Output Shape              Param #   \n",
            "=================================================================\n",
            " reshape (Reshape)           (None, 28, 28, 1)         0         \n",
            "                                                                 \n",
            " conv2d (Conv2D)             (None, 14, 14, 4)         40        \n",
            "                                                                 \n",
            " conv2d_1 (Conv2D)           (None, 7, 7, 8)           296       \n",
            "                                                                 \n",
            " conv2d_2 (Conv2D)           (None, 3, 3, 16)          1168      \n",
            "                                                                 \n",
            " conv2d_3 (Conv2D)           (None, 1, 1, 32)          4640      \n",
            "                                                                 \n",
            " flatten (Flatten)           (None, 32)                0         \n",
            "                                                                 \n",
            " dense (Dense)               (None, 10)                330       \n",
            "                                                                 \n",
            "=================================================================\n",
            "Total params: 6,474\n",
            "Trainable params: 6,474\n",
            "Non-trainable params: 0\n",
            "_________________________________________________________________\n",
            "Batch size: 64 Num batches: 938 Num epochs: 200\n",
            "Optimizer: ADAM.  Learning rate = 5e-05\n"
          ]
        }
      ]
    },
    {
      "cell_type": "code",
      "source": [
        "# Train the neural network\n",
        "start_time = time.time()\n",
        "history = model.fit(\n",
        "        train_data,\n",
        "        train_labels_onehot,\n",
        "        epochs=n_epochs,\n",
        "        batch_size=batch_size,\n",
        "        validation_data=(test_data, test_labels_onehot),\n",
        "        validation_freq=eval_step,\n",
        "        verbose=2,\n",
        "        )\n",
        "elapsed_time = time.time() - start_time\n",
        "print(\"Execution time: {:.1f}\".format(elapsed_time))\n",
        "\n",
        "# Compute final accuracy\n",
        "cost_test, acc_test = model.evaluate(test_data, test_labels_onehot, batch_size=None, verbose=0)\n",
        "cost_train, acc_train = model.evaluate(train_data, train_labels_onehot, batch_size=None, verbose=0)\n",
        "\n",
        "# Compute the best test result from the history\n",
        "epoch_hist = [i for i in range(0, n_epochs, eval_step)]\n",
        "test_acc_hist = history.history['val_accuracy']\n",
        "test_best_val = max(test_acc_hist)\n",
        "test_best_idx = test_acc_hist.index(test_best_val)"
      ],
      "metadata": {
        "colab": {
          "base_uri": "https://localhost:8080/"
        },
        "id": "MW8O8IhBRCua",
        "outputId": "b746c479-86b2-4ea0-8078-acaacee38622"
      },
      "execution_count": 5,
      "outputs": [
        {
          "output_type": "stream",
          "name": "stdout",
          "text": [
            "Epoch 1/200\n",
            "938/938 - 16s - loss: 1.7699 - accuracy: 0.4577 - 16s/epoch - 17ms/step\n",
            "Epoch 2/200\n",
            "938/938 - 3s - loss: 0.8812 - accuracy: 0.6802 - 3s/epoch - 4ms/step\n",
            "Epoch 3/200\n",
            "938/938 - 4s - loss: 0.7327 - accuracy: 0.7293 - 4s/epoch - 5ms/step\n",
            "Epoch 4/200\n",
            "938/938 - 4s - loss: 0.6630 - accuracy: 0.7526 - 4s/epoch - 4ms/step\n",
            "Epoch 5/200\n",
            "938/938 - 3s - loss: 0.6224 - accuracy: 0.7676 - 3s/epoch - 4ms/step\n",
            "Epoch 6/200\n",
            "938/938 - 3s - loss: 0.5949 - accuracy: 0.7785 - 3s/epoch - 4ms/step\n",
            "Epoch 7/200\n",
            "938/938 - 4s - loss: 0.5737 - accuracy: 0.7869 - 4s/epoch - 4ms/step\n",
            "Epoch 8/200\n",
            "938/938 - 3s - loss: 0.5564 - accuracy: 0.7947 - 3s/epoch - 4ms/step\n",
            "Epoch 9/200\n",
            "938/938 - 3s - loss: 0.5423 - accuracy: 0.7990 - 3s/epoch - 4ms/step\n",
            "Epoch 10/200\n",
            "938/938 - 5s - loss: 0.5303 - accuracy: 0.8039 - val_loss: 0.5461 - val_accuracy: 0.7972 - 5s/epoch - 5ms/step\n",
            "Epoch 11/200\n",
            "938/938 - 4s - loss: 0.5199 - accuracy: 0.8085 - 4s/epoch - 4ms/step\n",
            "Epoch 12/200\n",
            "938/938 - 3s - loss: 0.5104 - accuracy: 0.8125 - 3s/epoch - 4ms/step\n",
            "Epoch 13/200\n",
            "938/938 - 3s - loss: 0.5019 - accuracy: 0.8158 - 3s/epoch - 4ms/step\n",
            "Epoch 14/200\n",
            "938/938 - 4s - loss: 0.4945 - accuracy: 0.8196 - 4s/epoch - 4ms/step\n",
            "Epoch 15/200\n",
            "938/938 - 3s - loss: 0.4871 - accuracy: 0.8227 - 3s/epoch - 4ms/step\n",
            "Epoch 16/200\n",
            "938/938 - 3s - loss: 0.4809 - accuracy: 0.8250 - 3s/epoch - 4ms/step\n",
            "Epoch 17/200\n",
            "938/938 - 4s - loss: 0.4747 - accuracy: 0.8281 - 4s/epoch - 4ms/step\n",
            "Epoch 18/200\n",
            "938/938 - 3s - loss: 0.4693 - accuracy: 0.8298 - 3s/epoch - 4ms/step\n",
            "Epoch 19/200\n",
            "938/938 - 3s - loss: 0.4643 - accuracy: 0.8321 - 3s/epoch - 4ms/step\n",
            "Epoch 20/200\n",
            "938/938 - 4s - loss: 0.4592 - accuracy: 0.8351 - val_loss: 0.4823 - val_accuracy: 0.8246 - 4s/epoch - 5ms/step\n",
            "Epoch 21/200\n",
            "938/938 - 4s - loss: 0.4550 - accuracy: 0.8362 - 4s/epoch - 4ms/step\n",
            "Epoch 22/200\n",
            "938/938 - 4s - loss: 0.4505 - accuracy: 0.8370 - 4s/epoch - 4ms/step\n",
            "Epoch 23/200\n",
            "938/938 - 4s - loss: 0.4465 - accuracy: 0.8392 - 4s/epoch - 4ms/step\n",
            "Epoch 24/200\n",
            "938/938 - 4s - loss: 0.4427 - accuracy: 0.8408 - 4s/epoch - 4ms/step\n",
            "Epoch 25/200\n",
            "938/938 - 3s - loss: 0.4388 - accuracy: 0.8419 - 3s/epoch - 4ms/step\n",
            "Epoch 26/200\n",
            "938/938 - 3s - loss: 0.4357 - accuracy: 0.8430 - 3s/epoch - 4ms/step\n",
            "Epoch 27/200\n",
            "938/938 - 4s - loss: 0.4326 - accuracy: 0.8446 - 4s/epoch - 4ms/step\n",
            "Epoch 28/200\n",
            "938/938 - 4s - loss: 0.4290 - accuracy: 0.8458 - 4s/epoch - 4ms/step\n",
            "Epoch 29/200\n",
            "938/938 - 3s - loss: 0.4261 - accuracy: 0.8468 - 3s/epoch - 4ms/step\n",
            "Epoch 30/200\n",
            "938/938 - 5s - loss: 0.4229 - accuracy: 0.8484 - val_loss: 0.4499 - val_accuracy: 0.8381 - 5s/epoch - 5ms/step\n",
            "Epoch 31/200\n",
            "938/938 - 3s - loss: 0.4203 - accuracy: 0.8493 - 3s/epoch - 4ms/step\n",
            "Epoch 32/200\n",
            "938/938 - 3s - loss: 0.4170 - accuracy: 0.8502 - 3s/epoch - 4ms/step\n",
            "Epoch 33/200\n",
            "938/938 - 4s - loss: 0.4150 - accuracy: 0.8506 - 4s/epoch - 4ms/step\n",
            "Epoch 34/200\n",
            "938/938 - 3s - loss: 0.4125 - accuracy: 0.8517 - 3s/epoch - 4ms/step\n",
            "Epoch 35/200\n",
            "938/938 - 3s - loss: 0.4100 - accuracy: 0.8527 - 3s/epoch - 4ms/step\n",
            "Epoch 36/200\n",
            "938/938 - 4s - loss: 0.4076 - accuracy: 0.8530 - 4s/epoch - 4ms/step\n",
            "Epoch 37/200\n",
            "938/938 - 4s - loss: 0.4051 - accuracy: 0.8544 - 4s/epoch - 4ms/step\n",
            "Epoch 38/200\n",
            "938/938 - 4s - loss: 0.4029 - accuracy: 0.8558 - 4s/epoch - 4ms/step\n",
            "Epoch 39/200\n",
            "938/938 - 4s - loss: 0.4007 - accuracy: 0.8561 - 4s/epoch - 4ms/step\n",
            "Epoch 40/200\n",
            "938/938 - 4s - loss: 0.3989 - accuracy: 0.8567 - val_loss: 0.4284 - val_accuracy: 0.8469 - 4s/epoch - 5ms/step\n",
            "Epoch 41/200\n",
            "938/938 - 4s - loss: 0.3969 - accuracy: 0.8572 - 4s/epoch - 4ms/step\n",
            "Epoch 42/200\n",
            "938/938 - 3s - loss: 0.3950 - accuracy: 0.8579 - 3s/epoch - 4ms/step\n",
            "Epoch 43/200\n",
            "938/938 - 4s - loss: 0.3930 - accuracy: 0.8584 - 4s/epoch - 4ms/step\n",
            "Epoch 44/200\n",
            "938/938 - 3s - loss: 0.3913 - accuracy: 0.8590 - 3s/epoch - 4ms/step\n",
            "Epoch 45/200\n",
            "938/938 - 3s - loss: 0.3894 - accuracy: 0.8598 - 3s/epoch - 4ms/step\n",
            "Epoch 46/200\n",
            "938/938 - 4s - loss: 0.3878 - accuracy: 0.8589 - 4s/epoch - 4ms/step\n",
            "Epoch 47/200\n",
            "938/938 - 4s - loss: 0.3861 - accuracy: 0.8601 - 4s/epoch - 4ms/step\n",
            "Epoch 48/200\n",
            "938/938 - 3s - loss: 0.3843 - accuracy: 0.8609 - 3s/epoch - 4ms/step\n",
            "Epoch 49/200\n",
            "938/938 - 3s - loss: 0.3826 - accuracy: 0.8619 - 3s/epoch - 4ms/step\n",
            "Epoch 50/200\n",
            "938/938 - 5s - loss: 0.3816 - accuracy: 0.8627 - val_loss: 0.4136 - val_accuracy: 0.8523 - 5s/epoch - 5ms/step\n",
            "Epoch 51/200\n",
            "938/938 - 3s - loss: 0.3797 - accuracy: 0.8626 - 3s/epoch - 4ms/step\n",
            "Epoch 52/200\n",
            "938/938 - 3s - loss: 0.3781 - accuracy: 0.8635 - 3s/epoch - 4ms/step\n",
            "Epoch 53/200\n",
            "938/938 - 4s - loss: 0.3772 - accuracy: 0.8633 - 4s/epoch - 4ms/step\n",
            "Epoch 54/200\n",
            "938/938 - 3s - loss: 0.3756 - accuracy: 0.8646 - 3s/epoch - 4ms/step\n",
            "Epoch 55/200\n",
            "938/938 - 3s - loss: 0.3742 - accuracy: 0.8648 - 3s/epoch - 4ms/step\n",
            "Epoch 56/200\n",
            "938/938 - 4s - loss: 0.3729 - accuracy: 0.8649 - 4s/epoch - 4ms/step\n",
            "Epoch 57/200\n",
            "938/938 - 3s - loss: 0.3714 - accuracy: 0.8662 - 3s/epoch - 4ms/step\n",
            "Epoch 58/200\n",
            "938/938 - 3s - loss: 0.3707 - accuracy: 0.8658 - 3s/epoch - 4ms/step\n",
            "Epoch 59/200\n",
            "938/938 - 4s - loss: 0.3692 - accuracy: 0.8674 - 4s/epoch - 4ms/step\n",
            "Epoch 60/200\n",
            "938/938 - 4s - loss: 0.3683 - accuracy: 0.8676 - val_loss: 0.4007 - val_accuracy: 0.8560 - 4s/epoch - 5ms/step\n",
            "Epoch 61/200\n",
            "938/938 - 3s - loss: 0.3670 - accuracy: 0.8675 - 3s/epoch - 4ms/step\n",
            "Epoch 62/200\n",
            "938/938 - 3s - loss: 0.3657 - accuracy: 0.8672 - 3s/epoch - 4ms/step\n",
            "Epoch 63/200\n",
            "938/938 - 4s - loss: 0.3646 - accuracy: 0.8694 - 4s/epoch - 4ms/step\n",
            "Epoch 64/200\n",
            "938/938 - 3s - loss: 0.3632 - accuracy: 0.8684 - 3s/epoch - 4ms/step\n",
            "Epoch 65/200\n",
            "938/938 - 3s - loss: 0.3627 - accuracy: 0.8689 - 3s/epoch - 4ms/step\n",
            "Epoch 66/200\n",
            "938/938 - 4s - loss: 0.3614 - accuracy: 0.8691 - 4s/epoch - 4ms/step\n",
            "Epoch 67/200\n",
            "938/938 - 3s - loss: 0.3602 - accuracy: 0.8699 - 3s/epoch - 4ms/step\n",
            "Epoch 68/200\n",
            "938/938 - 3s - loss: 0.3591 - accuracy: 0.8706 - 3s/epoch - 4ms/step\n",
            "Epoch 69/200\n",
            "938/938 - 4s - loss: 0.3581 - accuracy: 0.8704 - 4s/epoch - 4ms/step\n",
            "Epoch 70/200\n",
            "938/938 - 4s - loss: 0.3573 - accuracy: 0.8708 - val_loss: 0.3932 - val_accuracy: 0.8574 - 4s/epoch - 4ms/step\n",
            "Epoch 71/200\n",
            "938/938 - 3s - loss: 0.3563 - accuracy: 0.8714 - 3s/epoch - 4ms/step\n",
            "Epoch 72/200\n",
            "938/938 - 3s - loss: 0.3555 - accuracy: 0.8722 - 3s/epoch - 4ms/step\n",
            "Epoch 73/200\n",
            "938/938 - 4s - loss: 0.3545 - accuracy: 0.8716 - 4s/epoch - 4ms/step\n",
            "Epoch 74/200\n",
            "938/938 - 4s - loss: 0.3537 - accuracy: 0.8723 - 4s/epoch - 4ms/step\n",
            "Epoch 75/200\n",
            "938/938 - 3s - loss: 0.3528 - accuracy: 0.8724 - 3s/epoch - 4ms/step\n",
            "Epoch 76/200\n",
            "938/938 - 4s - loss: 0.3521 - accuracy: 0.8725 - 4s/epoch - 4ms/step\n",
            "Epoch 77/200\n",
            "938/938 - 3s - loss: 0.3515 - accuracy: 0.8729 - 3s/epoch - 4ms/step\n",
            "Epoch 78/200\n",
            "938/938 - 3s - loss: 0.3501 - accuracy: 0.8738 - 3s/epoch - 4ms/step\n",
            "Epoch 79/200\n",
            "938/938 - 4s - loss: 0.3495 - accuracy: 0.8733 - 4s/epoch - 4ms/step\n",
            "Epoch 80/200\n",
            "938/938 - 4s - loss: 0.3483 - accuracy: 0.8735 - val_loss: 0.3860 - val_accuracy: 0.8614 - 4s/epoch - 4ms/step\n",
            "Epoch 81/200\n",
            "938/938 - 3s - loss: 0.3479 - accuracy: 0.8747 - 3s/epoch - 4ms/step\n",
            "Epoch 82/200\n",
            "938/938 - 4s - loss: 0.3476 - accuracy: 0.8744 - 4s/epoch - 4ms/step\n",
            "Epoch 83/200\n",
            "938/938 - 4s - loss: 0.3464 - accuracy: 0.8752 - 4s/epoch - 4ms/step\n",
            "Epoch 84/200\n",
            "938/938 - 3s - loss: 0.3457 - accuracy: 0.8753 - 3s/epoch - 4ms/step\n",
            "Epoch 85/200\n",
            "938/938 - 3s - loss: 0.3445 - accuracy: 0.8749 - 3s/epoch - 4ms/step\n",
            "Epoch 86/200\n",
            "938/938 - 4s - loss: 0.3438 - accuracy: 0.8755 - 4s/epoch - 4ms/step\n",
            "Epoch 87/200\n",
            "938/938 - 3s - loss: 0.3429 - accuracy: 0.8757 - 3s/epoch - 4ms/step\n",
            "Epoch 88/200\n",
            "938/938 - 3s - loss: 0.3421 - accuracy: 0.8765 - 3s/epoch - 4ms/step\n",
            "Epoch 89/200\n",
            "938/938 - 4s - loss: 0.3419 - accuracy: 0.8766 - 4s/epoch - 4ms/step\n",
            "Epoch 90/200\n",
            "938/938 - 4s - loss: 0.3409 - accuracy: 0.8772 - val_loss: 0.3796 - val_accuracy: 0.8635 - 4s/epoch - 4ms/step\n",
            "Epoch 91/200\n",
            "938/938 - 3s - loss: 0.3404 - accuracy: 0.8771 - 3s/epoch - 4ms/step\n",
            "Epoch 92/200\n",
            "938/938 - 4s - loss: 0.3399 - accuracy: 0.8771 - 4s/epoch - 4ms/step\n",
            "Epoch 93/200\n",
            "938/938 - 4s - loss: 0.3391 - accuracy: 0.8768 - 4s/epoch - 4ms/step\n",
            "Epoch 94/200\n",
            "938/938 - 3s - loss: 0.3383 - accuracy: 0.8780 - 3s/epoch - 4ms/step\n",
            "Epoch 95/200\n",
            "938/938 - 3s - loss: 0.3378 - accuracy: 0.8785 - 3s/epoch - 4ms/step\n",
            "Epoch 96/200\n",
            "938/938 - 4s - loss: 0.3368 - accuracy: 0.8779 - 4s/epoch - 4ms/step\n",
            "Epoch 97/200\n",
            "938/938 - 3s - loss: 0.3364 - accuracy: 0.8789 - 3s/epoch - 4ms/step\n",
            "Epoch 98/200\n",
            "938/938 - 3s - loss: 0.3360 - accuracy: 0.8781 - 3s/epoch - 4ms/step\n",
            "Epoch 99/200\n",
            "938/938 - 4s - loss: 0.3352 - accuracy: 0.8792 - 4s/epoch - 4ms/step\n",
            "Epoch 100/200\n",
            "938/938 - 4s - loss: 0.3347 - accuracy: 0.8787 - val_loss: 0.3747 - val_accuracy: 0.8636 - 4s/epoch - 4ms/step\n",
            "Epoch 101/200\n",
            "938/938 - 3s - loss: 0.3338 - accuracy: 0.8790 - 3s/epoch - 4ms/step\n",
            "Epoch 102/200\n",
            "938/938 - 4s - loss: 0.3333 - accuracy: 0.8795 - 4s/epoch - 4ms/step\n",
            "Epoch 103/200\n",
            "938/938 - 4s - loss: 0.3327 - accuracy: 0.8792 - 4s/epoch - 4ms/step\n",
            "Epoch 104/200\n",
            "938/938 - 3s - loss: 0.3322 - accuracy: 0.8802 - 3s/epoch - 4ms/step\n",
            "Epoch 105/200\n",
            "938/938 - 4s - loss: 0.3316 - accuracy: 0.8792 - 4s/epoch - 4ms/step\n",
            "Epoch 106/200\n",
            "938/938 - 4s - loss: 0.3310 - accuracy: 0.8798 - 4s/epoch - 4ms/step\n",
            "Epoch 107/200\n",
            "938/938 - 3s - loss: 0.3305 - accuracy: 0.8801 - 3s/epoch - 4ms/step\n",
            "Epoch 108/200\n",
            "938/938 - 3s - loss: 0.3303 - accuracy: 0.8803 - 3s/epoch - 4ms/step\n",
            "Epoch 109/200\n",
            "938/938 - 4s - loss: 0.3290 - accuracy: 0.8814 - 4s/epoch - 4ms/step\n",
            "Epoch 110/200\n",
            "938/938 - 4s - loss: 0.3285 - accuracy: 0.8806 - val_loss: 0.3726 - val_accuracy: 0.8650 - 4s/epoch - 4ms/step\n",
            "Epoch 111/200\n",
            "938/938 - 3s - loss: 0.3279 - accuracy: 0.8802 - 3s/epoch - 4ms/step\n",
            "Epoch 112/200\n",
            "938/938 - 4s - loss: 0.3277 - accuracy: 0.8812 - 4s/epoch - 4ms/step\n",
            "Epoch 113/200\n",
            "938/938 - 3s - loss: 0.3274 - accuracy: 0.8804 - 3s/epoch - 4ms/step\n",
            "Epoch 114/200\n",
            "938/938 - 3s - loss: 0.3265 - accuracy: 0.8820 - 3s/epoch - 4ms/step\n",
            "Epoch 115/200\n",
            "938/938 - 4s - loss: 0.3263 - accuracy: 0.8820 - 4s/epoch - 4ms/step\n",
            "Epoch 116/200\n",
            "938/938 - 4s - loss: 0.3259 - accuracy: 0.8818 - 4s/epoch - 4ms/step\n",
            "Epoch 117/200\n",
            "938/938 - 3s - loss: 0.3252 - accuracy: 0.8821 - 3s/epoch - 4ms/step\n",
            "Epoch 118/200\n",
            "938/938 - 3s - loss: 0.3247 - accuracy: 0.8822 - 3s/epoch - 4ms/step\n",
            "Epoch 119/200\n",
            "938/938 - 4s - loss: 0.3243 - accuracy: 0.8828 - 4s/epoch - 4ms/step\n",
            "Epoch 120/200\n",
            "938/938 - 4s - loss: 0.3237 - accuracy: 0.8833 - val_loss: 0.3643 - val_accuracy: 0.8697 - 4s/epoch - 4ms/step\n",
            "Epoch 121/200\n",
            "938/938 - 3s - loss: 0.3231 - accuracy: 0.8826 - 3s/epoch - 4ms/step\n",
            "Epoch 122/200\n",
            "938/938 - 4s - loss: 0.3226 - accuracy: 0.8824 - 4s/epoch - 4ms/step\n",
            "Epoch 123/200\n",
            "938/938 - 4s - loss: 0.3227 - accuracy: 0.8832 - 4s/epoch - 4ms/step\n",
            "Epoch 124/200\n",
            "938/938 - 3s - loss: 0.3214 - accuracy: 0.8835 - 3s/epoch - 4ms/step\n",
            "Epoch 125/200\n",
            "938/938 - 4s - loss: 0.3212 - accuracy: 0.8834 - 4s/epoch - 5ms/step\n",
            "Epoch 126/200\n",
            "938/938 - 4s - loss: 0.3212 - accuracy: 0.8837 - 4s/epoch - 4ms/step\n",
            "Epoch 127/200\n",
            "938/938 - 3s - loss: 0.3203 - accuracy: 0.8834 - 3s/epoch - 4ms/step\n",
            "Epoch 128/200\n",
            "938/938 - 3s - loss: 0.3196 - accuracy: 0.8842 - 3s/epoch - 4ms/step\n",
            "Epoch 129/200\n",
            "938/938 - 4s - loss: 0.3195 - accuracy: 0.8839 - 4s/epoch - 4ms/step\n",
            "Epoch 130/200\n",
            "938/938 - 4s - loss: 0.3191 - accuracy: 0.8847 - val_loss: 0.3610 - val_accuracy: 0.8687 - 4s/epoch - 4ms/step\n",
            "Epoch 131/200\n",
            "938/938 - 4s - loss: 0.3184 - accuracy: 0.8847 - 4s/epoch - 4ms/step\n",
            "Epoch 132/200\n",
            "938/938 - 4s - loss: 0.3185 - accuracy: 0.8847 - 4s/epoch - 4ms/step\n",
            "Epoch 133/200\n",
            "938/938 - 3s - loss: 0.3176 - accuracy: 0.8848 - 3s/epoch - 4ms/step\n",
            "Epoch 134/200\n",
            "938/938 - 3s - loss: 0.3177 - accuracy: 0.8850 - 3s/epoch - 4ms/step\n",
            "Epoch 135/200\n",
            "938/938 - 4s - loss: 0.3172 - accuracy: 0.8849 - 4s/epoch - 4ms/step\n",
            "Epoch 136/200\n",
            "938/938 - 4s - loss: 0.3166 - accuracy: 0.8859 - 4s/epoch - 4ms/step\n",
            "Epoch 137/200\n",
            "938/938 - 3s - loss: 0.3162 - accuracy: 0.8852 - 3s/epoch - 4ms/step\n",
            "Epoch 138/200\n",
            "938/938 - 4s - loss: 0.3159 - accuracy: 0.8853 - 4s/epoch - 4ms/step\n",
            "Epoch 139/200\n",
            "938/938 - 4s - loss: 0.3152 - accuracy: 0.8857 - 4s/epoch - 4ms/step\n",
            "Epoch 140/200\n",
            "938/938 - 4s - loss: 0.3152 - accuracy: 0.8852 - val_loss: 0.3581 - val_accuracy: 0.8684 - 4s/epoch - 4ms/step\n",
            "Epoch 141/200\n",
            "938/938 - 3s - loss: 0.3146 - accuracy: 0.8856 - 3s/epoch - 4ms/step\n",
            "Epoch 142/200\n",
            "938/938 - 4s - loss: 0.3139 - accuracy: 0.8863 - 4s/epoch - 4ms/step\n",
            "Epoch 143/200\n",
            "938/938 - 3s - loss: 0.3137 - accuracy: 0.8862 - 3s/epoch - 4ms/step\n",
            "Epoch 144/200\n",
            "938/938 - 3s - loss: 0.3132 - accuracy: 0.8860 - 3s/epoch - 4ms/step\n",
            "Epoch 145/200\n",
            "938/938 - 4s - loss: 0.3130 - accuracy: 0.8862 - 4s/epoch - 4ms/step\n",
            "Epoch 146/200\n",
            "938/938 - 3s - loss: 0.3125 - accuracy: 0.8863 - 3s/epoch - 4ms/step\n",
            "Epoch 147/200\n",
            "938/938 - 3s - loss: 0.3121 - accuracy: 0.8863 - 3s/epoch - 4ms/step\n",
            "Epoch 148/200\n",
            "938/938 - 4s - loss: 0.3120 - accuracy: 0.8865 - 4s/epoch - 4ms/step\n",
            "Epoch 149/200\n",
            "938/938 - 4s - loss: 0.3114 - accuracy: 0.8868 - 4s/epoch - 4ms/step\n",
            "Epoch 150/200\n",
            "938/938 - 4s - loss: 0.3110 - accuracy: 0.8869 - val_loss: 0.3573 - val_accuracy: 0.8698 - 4s/epoch - 4ms/step\n",
            "Epoch 151/200\n",
            "938/938 - 3s - loss: 0.3110 - accuracy: 0.8871 - 3s/epoch - 4ms/step\n",
            "Epoch 152/200\n",
            "938/938 - 4s - loss: 0.3105 - accuracy: 0.8873 - 4s/epoch - 4ms/step\n",
            "Epoch 153/200\n",
            "938/938 - 3s - loss: 0.3100 - accuracy: 0.8871 - 3s/epoch - 4ms/step\n",
            "Epoch 154/200\n",
            "938/938 - 3s - loss: 0.3100 - accuracy: 0.8875 - 3s/epoch - 4ms/step\n",
            "Epoch 155/200\n",
            "938/938 - 4s - loss: 0.3092 - accuracy: 0.8872 - 4s/epoch - 4ms/step\n",
            "Epoch 156/200\n",
            "938/938 - 3s - loss: 0.3092 - accuracy: 0.8870 - 3s/epoch - 4ms/step\n",
            "Epoch 157/200\n",
            "938/938 - 3s - loss: 0.3085 - accuracy: 0.8882 - 3s/epoch - 4ms/step\n",
            "Epoch 158/200\n",
            "938/938 - 4s - loss: 0.3080 - accuracy: 0.8879 - 4s/epoch - 4ms/step\n",
            "Epoch 159/200\n",
            "938/938 - 4s - loss: 0.3080 - accuracy: 0.8869 - 4s/epoch - 4ms/step\n",
            "Epoch 160/200\n",
            "938/938 - 4s - loss: 0.3077 - accuracy: 0.8873 - val_loss: 0.3578 - val_accuracy: 0.8695 - 4s/epoch - 4ms/step\n",
            "Epoch 161/200\n",
            "938/938 - 4s - loss: 0.3070 - accuracy: 0.8887 - 4s/epoch - 4ms/step\n",
            "Epoch 162/200\n",
            "938/938 - 4s - loss: 0.3073 - accuracy: 0.8880 - 4s/epoch - 4ms/step\n",
            "Epoch 163/200\n",
            "938/938 - 3s - loss: 0.3068 - accuracy: 0.8884 - 3s/epoch - 4ms/step\n",
            "Epoch 164/200\n",
            "938/938 - 3s - loss: 0.3061 - accuracy: 0.8892 - 3s/epoch - 4ms/step\n",
            "Epoch 165/200\n",
            "938/938 - 4s - loss: 0.3061 - accuracy: 0.8888 - 4s/epoch - 4ms/step\n",
            "Epoch 166/200\n",
            "938/938 - 3s - loss: 0.3058 - accuracy: 0.8886 - 3s/epoch - 4ms/step\n",
            "Epoch 167/200\n",
            "938/938 - 3s - loss: 0.3053 - accuracy: 0.8889 - 3s/epoch - 4ms/step\n",
            "Epoch 168/200\n",
            "938/938 - 4s - loss: 0.3051 - accuracy: 0.8893 - 4s/epoch - 4ms/step\n",
            "Epoch 169/200\n",
            "938/938 - 3s - loss: 0.3048 - accuracy: 0.8889 - 3s/epoch - 4ms/step\n",
            "Epoch 170/200\n",
            "938/938 - 4s - loss: 0.3045 - accuracy: 0.8896 - val_loss: 0.3546 - val_accuracy: 0.8716 - 4s/epoch - 4ms/step\n",
            "Epoch 171/200\n",
            "938/938 - 4s - loss: 0.3041 - accuracy: 0.8895 - 4s/epoch - 4ms/step\n",
            "Epoch 172/200\n",
            "938/938 - 4s - loss: 0.3041 - accuracy: 0.8898 - 4s/epoch - 4ms/step\n",
            "Epoch 173/200\n",
            "938/938 - 3s - loss: 0.3034 - accuracy: 0.8899 - 3s/epoch - 4ms/step\n",
            "Epoch 174/200\n",
            "938/938 - 3s - loss: 0.3034 - accuracy: 0.8902 - 3s/epoch - 4ms/step\n",
            "Epoch 175/200\n",
            "938/938 - 4s - loss: 0.3031 - accuracy: 0.8908 - 4s/epoch - 5ms/step\n",
            "Epoch 176/200\n",
            "938/938 - 4s - loss: 0.3023 - accuracy: 0.8897 - 4s/epoch - 4ms/step\n",
            "Epoch 177/200\n",
            "938/938 - 3s - loss: 0.3024 - accuracy: 0.8901 - 3s/epoch - 4ms/step\n",
            "Epoch 178/200\n",
            "938/938 - 4s - loss: 0.3015 - accuracy: 0.8912 - 4s/epoch - 4ms/step\n",
            "Epoch 179/200\n",
            "938/938 - 3s - loss: 0.3021 - accuracy: 0.8902 - 3s/epoch - 4ms/step\n",
            "Epoch 180/200\n",
            "938/938 - 4s - loss: 0.3015 - accuracy: 0.8905 - val_loss: 0.3496 - val_accuracy: 0.8728 - 4s/epoch - 4ms/step\n",
            "Epoch 181/200\n",
            "938/938 - 4s - loss: 0.3011 - accuracy: 0.8908 - 4s/epoch - 4ms/step\n",
            "Epoch 182/200\n",
            "938/938 - 3s - loss: 0.3008 - accuracy: 0.8914 - 3s/epoch - 4ms/step\n",
            "Epoch 183/200\n",
            "938/938 - 3s - loss: 0.3007 - accuracy: 0.8906 - 3s/epoch - 4ms/step\n",
            "Epoch 184/200\n",
            "938/938 - 4s - loss: 0.3008 - accuracy: 0.8907 - 4s/epoch - 4ms/step\n",
            "Epoch 185/200\n",
            "938/938 - 4s - loss: 0.3003 - accuracy: 0.8909 - 4s/epoch - 4ms/step\n",
            "Epoch 186/200\n",
            "938/938 - 3s - loss: 0.3000 - accuracy: 0.8911 - 3s/epoch - 4ms/step\n",
            "Epoch 187/200\n",
            "938/938 - 3s - loss: 0.2994 - accuracy: 0.8911 - 3s/epoch - 4ms/step\n",
            "Epoch 188/200\n",
            "938/938 - 4s - loss: 0.2994 - accuracy: 0.8919 - 4s/epoch - 4ms/step\n",
            "Epoch 189/200\n",
            "938/938 - 3s - loss: 0.2990 - accuracy: 0.8919 - 3s/epoch - 4ms/step\n",
            "Epoch 190/200\n",
            "938/938 - 4s - loss: 0.2987 - accuracy: 0.8916 - val_loss: 0.3469 - val_accuracy: 0.8756 - 4s/epoch - 4ms/step\n",
            "Epoch 191/200\n",
            "938/938 - 4s - loss: 0.2985 - accuracy: 0.8917 - 4s/epoch - 4ms/step\n",
            "Epoch 192/200\n",
            "938/938 - 3s - loss: 0.2981 - accuracy: 0.8914 - 3s/epoch - 4ms/step\n",
            "Epoch 193/200\n",
            "938/938 - 3s - loss: 0.2976 - accuracy: 0.8925 - 3s/epoch - 4ms/step\n",
            "Epoch 194/200\n",
            "938/938 - 4s - loss: 0.2977 - accuracy: 0.8923 - 4s/epoch - 4ms/step\n",
            "Epoch 195/200\n",
            "938/938 - 3s - loss: 0.2972 - accuracy: 0.8922 - 3s/epoch - 4ms/step\n",
            "Epoch 196/200\n",
            "938/938 - 3s - loss: 0.2968 - accuracy: 0.8925 - 3s/epoch - 4ms/step\n",
            "Epoch 197/200\n",
            "938/938 - 4s - loss: 0.2968 - accuracy: 0.8922 - 4s/epoch - 4ms/step\n",
            "Epoch 198/200\n",
            "938/938 - 4s - loss: 0.2961 - accuracy: 0.8923 - 4s/epoch - 4ms/step\n",
            "Epoch 199/200\n",
            "938/938 - 3s - loss: 0.2965 - accuracy: 0.8924 - 3s/epoch - 4ms/step\n",
            "Epoch 200/200\n",
            "938/938 - 4s - loss: 0.2963 - accuracy: 0.8927 - val_loss: 0.3451 - val_accuracy: 0.8758 - 4s/epoch - 4ms/step\n",
            "Execution time: 803.6\n"
          ]
        }
      ]
    },
    {
      "cell_type": "code",
      "source": [
        "# Plot the history of the loss\n",
        "plt.plot(history.history['loss'])\n",
        "plt.title('Training Cost')\n",
        "plt.ylabel('Cost')\n",
        "plt.xlabel('Epoch')\n",
        "\n",
        "# Plot the history of the test accuracy\n",
        "plt.figure()\n",
        "plt.plot(epoch_hist, history.history['val_accuracy'], \"r\")\n",
        "plt.title('Test Accuracy')\n",
        "plt.ylabel('Accuracy')\n",
        "plt.xlabel('Epoch')\n",
        "plt.show()\n",
        "\n",
        "print(\"Execution time: {:.1f}\".format(elapsed_time))\n",
        "print(\"Final Test Accuracy:     {:.4f}\".format(acc_test))\n",
        "print(\"Final Training Cost:     {:.8f}\".format(cost_train))\n",
        "print(\"Best Test Accuracy:      {:.4f} at epoch: {}\".format(test_best_val, epoch_hist[test_best_idx]))\n"
      ],
      "metadata": {
        "id": "oN1vOi_-JFd7",
        "colab": {
          "base_uri": "https://localhost:8080/",
          "height": 642
        },
        "outputId": "134ee81a-ff36-4ff4-c101-5e7b60b2c591"
      },
      "execution_count": 6,
      "outputs": [
        {
          "output_type": "display_data",
          "data": {
            "text/plain": [
              "<Figure size 432x288 with 1 Axes>"
            ],
            "image/png": "[encoded data removed]"
          },
          "metadata": {
            "needs_background": "light"
          }
        },
        {
          "output_type": "display_data",
          "data": {
            "text/plain": [
              "<Figure size 432x288 with 1 Axes>"
            ],
            "image/png": "[encoded data removed]"
          },
          "metadata": {
            "needs_background": "light"
          }
        },
        {
          "output_type": "stream",
          "name": "stdout",
          "text": [
            "Execution time: 803.6\n",
            "Final Test Accuracy:     0.8758\n",
            "Final Training Cost:     0.29394606\n",
            "Best Test Accuracy:      0.8758 at epoch: 190\n"
          ]
        }
      ]
    },
    {
      "cell_type": "code",
      "source": [
        "#model.save(\"/content/drive/MyDrive/ML2022/Deep Image Processing/mnist_classifier\")\n",
        "model.save(\"/content/drive/MyDrive/TexasTech/Deep_Image_Processing/fashion_mnist_classifier\")"
      ],
      "metadata": {
        "id": "iyjfhrhBYgjz",
        "colab": {
          "base_uri": "https://localhost:8080/"
        },
        "outputId": "1222afee-f925-4a37-80f2-8ee629a2ac08"
      },
      "execution_count": 9,
      "outputs": [
        {
          "output_type": "stream",
          "name": "stderr",
          "text": [
            "WARNING:absl:Found untraced functions such as _jit_compiled_convolution_op, _jit_compiled_convolution_op, _jit_compiled_convolution_op, _jit_compiled_convolution_op while saving (showing 4 of 4). These functions will not be directly callable after loading.\n"
          ]
        }
      ]
    },
    {
      "cell_type": "markdown",
      "source": [
        "# Nueva sección"
      ],
      "metadata": {
        "id": "gcLyAFT1PNCs"
      }
    },
    {
      "cell_type": "markdown",
      "source": [
        "\n",
        "Part 2\n",
        "\n"
      ],
      "metadata": {
        "id": "AnvYk2eTQ7Qu"
      }
    },
    {
      "cell_type": "code",
      "source": [
        "\n"
      ],
      "metadata": {
        "id": "45JeRtGcIG9z"
      },
      "execution_count": null,
      "outputs": []
    },
    {
      "cell_type": "code",
      "source": [
        "# An image generator\n",
        "# Image generator model\n",
        "#\n",
        "\n",
        "generator = tf.keras.models.Sequential()\n",
        "generator.add(tf.keras.layers.Dense( 784, input_shape=[1], activation='sigmoid'))\n",
        "generator.add(tf.keras.layers.Reshape( [28, 28] ))\n",
        "\n",
        "generator.summary()"
      ],
      "metadata": {
        "colab": {
          "base_uri": "https://localhost:8080/"
        },
        "id": "KJ-dlU5mIvh9",
        "outputId": "27307ca7-473c-4cbc-e04d-4175b6908a79"
      },
      "execution_count": 12,
      "outputs": [
        {
          "output_type": "stream",
          "name": "stdout",
          "text": [
            "Model: \"sequential_2\"\n",
            "_________________________________________________________________\n",
            " Layer (type)                Output Shape              Param #   \n",
            "=================================================================\n",
            " dense_2 (Dense)             (None, 784)               1568      \n",
            "                                                                 \n",
            " reshape_2 (Reshape)         (None, 28, 28)            0         \n",
            "                                                                 \n",
            "=================================================================\n",
            "Total params: 1,568\n",
            "Trainable params: 1,568\n",
            "Non-trainable params: 0\n",
            "_________________________________________________________________\n"
          ]
        }
      ]
    },
    {
      "cell_type": "code",
      "source": [
        "#\n",
        "# Load pre-trained model\n",
        "#\n",
        "#model = tf.keras.models.load_model(\"/content/drive/MyDrive/ML2022/Deep Image Processing/mnist_classifier\")\n",
        "classifier = tf.keras.models.load_model(\"/content/drive/MyDrive/TexasTech/Deep_Image_Processing/fashion_mnist_classifier\")\n",
        "\n",
        "classifier.summary()\n"
      ],
      "metadata": {
        "colab": {
          "base_uri": "https://localhost:8080/"
        },
        "id": "fc39C2LyNWe-",
        "outputId": "653dec47-0b6c-430c-afb4-b371ce6c6007"
      },
      "execution_count": 8,
      "outputs": [
        {
          "output_type": "stream",
          "name": "stdout",
          "text": [
            "Model: \"sequential\"\n",
            "_________________________________________________________________\n",
            " Layer (type)                Output Shape              Param #   \n",
            "=================================================================\n",
            " reshape (Reshape)           (None, 28, 28, 1)         0         \n",
            "                                                                 \n",
            " conv2d (Conv2D)             (None, 14, 14, 4)         40        \n",
            "                                                                 \n",
            " conv2d_1 (Conv2D)           (None, 7, 7, 8)           296       \n",
            "                                                                 \n",
            " conv2d_2 (Conv2D)           (None, 3, 3, 16)          1168      \n",
            "                                                                 \n",
            " conv2d_3 (Conv2D)           (None, 1, 1, 32)          4640      \n",
            "                                                                 \n",
            " flatten (Flatten)           (None, 32)                0         \n",
            "                                                                 \n",
            " dense (Dense)               (None, 10)                330       \n",
            "                                                                 \n",
            "=================================================================\n",
            "Total params: 6,474\n",
            "Trainable params: 6,474\n",
            "Non-trainable params: 0\n",
            "_________________________________________________________________\n"
          ]
        }
      ]
    },
    {
      "cell_type": "markdown",
      "source": [
        "An image generator\n",
        "Your classifier from part 1), with the feature maps exposed as outputs\n",
        "The first two layers should be reduced to one number per feature map (style layers)\n",
        "The other layers should be exposed complete as outputs (content layers)\n"
      ],
      "metadata": {
        "id": "r0NTIsfTA5N8"
      }
    },
    {
      "cell_type": "code",
      "source": [],
      "metadata": {
        "id": "Jx-3OuEPHPdD"
      },
      "execution_count": null,
      "outputs": []
    },
    {
      "cell_type": "code",
      "source": [
        "# Create a new model using the layers of the pre-trained one\n",
        "\n",
        "# The first two layers will be reduced to one number per feature map\n",
        "layer1_reduced = tf.reduce_sum(classifier.layers[1].output, axis=(1,2))\n",
        "layer2_reduced = tf.reduce_sum(classifier.layers[2].output, axis=(1,2))\n",
        "\n",
        "# The other two layers are exposed in full as outputs\n",
        "\n",
        "tmp_classifier = tf.keras.Model(\n",
        "    classifier.layers[0].input,\n",
        "    [layer1_reduced,\n",
        "     layer2_reduced,\n",
        "     classifier.layers[3].output,\n",
        "     classifier.layers[4].output])\n",
        "\n",
        "tmp_classifier.trainable = False\n",
        "\n",
        "tmp_classifier.summary()"
      ],
      "metadata": {
        "colab": {
          "base_uri": "https://localhost:8080/"
        },
        "id": "Ri7WNm9LAIRz",
        "outputId": "4e2773d8-3706-451f-8ddf-778c8aa734fd"
      },
      "execution_count": 9,
      "outputs": [
        {
          "output_type": "stream",
          "name": "stdout",
          "text": [
            "Model: \"model\"\n",
            "__________________________________________________________________________________________________\n",
            " Layer (type)                   Output Shape         Param #     Connected to                     \n",
            "==================================================================================================\n",
            " reshape_input (InputLayer)     [(None, 28, 28)]     0           []                               \n",
            "                                                                                                  \n",
            " reshape (Reshape)              (None, 28, 28, 1)    0           ['reshape_input[0][0]']          \n",
            "                                                                                                  \n",
            " conv2d (Conv2D)                (None, 14, 14, 4)    40          ['reshape[0][0]']                \n",
            "                                                                                                  \n",
            " conv2d_1 (Conv2D)              (None, 7, 7, 8)      296         ['conv2d[0][0]']                 \n",
            "                                                                                                  \n",
            " conv2d_2 (Conv2D)              (None, 3, 3, 16)     1168        ['conv2d_1[0][0]']               \n",
            "                                                                                                  \n",
            " tf.math.reduce_sum (TFOpLambda  (None, 4)           0           ['conv2d[0][0]']                 \n",
            " )                                                                                                \n",
            "                                                                                                  \n",
            " tf.math.reduce_sum_1 (TFOpLamb  (None, 8)           0           ['conv2d_1[0][0]']               \n",
            " da)                                                                                              \n",
            "                                                                                                  \n",
            " conv2d_3 (Conv2D)              (None, 1, 1, 32)     4640        ['conv2d_2[0][0]']               \n",
            "                                                                                                  \n",
            "==================================================================================================\n",
            "Total params: 6,144\n",
            "Trainable params: 0\n",
            "Non-trainable params: 6,144\n",
            "__________________________________________________________________________________________________\n"
          ]
        }
      ]
    },
    {
      "cell_type": "code",
      "source": [
        "\n"
      ],
      "metadata": {
        "id": "f1g8ilycC6gE"
      },
      "execution_count": null,
      "outputs": []
    },
    {
      "cell_type": "code",
      "source": [
        "#\n",
        "# Stack the generator and classifier\n",
        "# We will need to use the functional API because it has multiple outputs\n",
        "\n",
        "stacked_model_input = generator.layers[0].input\n",
        "stacked_model_out1 = generator(stacked_model_input)\n",
        "stacked_model_out2 = tmp_classifier(stacked_model_out1)\n",
        "stacked_model = tf.keras.Model(stacked_model_input, stacked_model_out2)\n",
        "stacked_model.build(input_shape=[1])\n",
        "\n",
        "stacked_model.summary()"
      ],
      "metadata": {
        "colab": {
          "base_uri": "https://localhost:8080/"
        },
        "id": "9TR7qKMmAeMM",
        "outputId": "2eec9b2f-c326-4eb1-c816-14bff4240f4f"
      },
      "execution_count": 10,
      "outputs": [
        {
          "output_type": "stream",
          "name": "stdout",
          "text": [
            "Model: \"model_1\"\n",
            "_________________________________________________________________\n",
            " Layer (type)                Output Shape              Param #   \n",
            "=================================================================\n",
            " dense_1_input (InputLayer)  [(None, 1)]               0         \n",
            "                                                                 \n",
            " sequential_1 (Sequential)   (None, 28, 28)            1568      \n",
            "                                                                 \n",
            " model (Functional)          [(None, 4),               6144      \n",
            "                              (None, 8),                         \n",
            "                              (None, 3, 3, 16),                  \n",
            "                              (None, 1, 1, 32)]                  \n",
            "                                                                 \n",
            "=================================================================\n",
            "Total params: 7,712\n",
            "Trainable params: 1,568\n",
            "Non-trainable params: 6,144\n",
            "_________________________________________________________________\n"
          ]
        }
      ]
    },
    {
      "cell_type": "markdown",
      "source": [
        "Part 3\n",
        "\n",
        "Pick two images to serve as content and style.  Run them by the classifier to obtain the feature maps.\n",
        "Mix the feature maps of the content and style images by layers.  Lower layers for the style image, upper layers for the content image.\n",
        "\n"
      ],
      "metadata": {
        "id": "7xBqEd86MaKD"
      }
    },
    {
      "cell_type": "code",
      "source": [
        "# Select content and style images\n",
        "#content_img_idx = 2\n",
        "#style_img_idx = 6\n",
        "content_img_idx = random.randint(0, 9999)\n",
        "style_img_idx = random.randint(0, 9999)\n",
        "print(\"Content image index: \", content_img_idx)\n",
        "print(\"Style image index: \", style_img_idx)\n",
        "\n",
        "content_img = test_data[content_img_idx].reshape(28,28)\n",
        "style_img = test_data[style_img_idx].reshape(28,28)\n",
        "content_img = content_img / 255\n",
        "style_img = style_img / 255"
      ],
      "metadata": {
        "colab": {
          "base_uri": "https://localhost:8080/",
          "height": 236
        },
        "id": "4KDJ5KZS4rB7",
        "outputId": "8c6dfb70-4a55-492d-e795-9bcd1d395025"
      },
      "execution_count": 1,
      "outputs": [
        {
          "output_type": "error",
          "ename": "NameError",
          "evalue": "ignored",
          "traceback": [
            "\u001b[0;31m---------------------------------------------------------------------------\u001b[0m",
            "\u001b[0;31mNameError\u001b[0m                                 Traceback (most recent call last)",
            "\u001b[0;32m<ipython-input-1-61c71814d366>\u001b[0m in \u001b[0;36m<module>\u001b[0;34m\u001b[0m\n\u001b[1;32m      2\u001b[0m \u001b[0;31m#content_img_idx = 2\u001b[0m\u001b[0;34m\u001b[0m\u001b[0;34m\u001b[0m\u001b[0m\n\u001b[1;32m      3\u001b[0m \u001b[0;31m#style_img_idx = 6\u001b[0m\u001b[0;34m\u001b[0m\u001b[0;34m\u001b[0m\u001b[0m\n\u001b[0;32m----> 4\u001b[0;31m \u001b[0mcontent_img_idx\u001b[0m \u001b[0;34m=\u001b[0m \u001b[0mrandom\u001b[0m\u001b[0;34m.\u001b[0m\u001b[0mrandint\u001b[0m\u001b[0;34m(\u001b[0m\u001b[0;36m0\u001b[0m\u001b[0;34m,\u001b[0m \u001b[0;36m9999\u001b[0m\u001b[0;34m)\u001b[0m\u001b[0;34m\u001b[0m\u001b[0;34m\u001b[0m\u001b[0m\n\u001b[0m\u001b[1;32m      5\u001b[0m \u001b[0mstyle_img_idx\u001b[0m \u001b[0;34m=\u001b[0m \u001b[0mrandom\u001b[0m\u001b[0;34m.\u001b[0m\u001b[0mrandint\u001b[0m\u001b[0;34m(\u001b[0m\u001b[0;36m0\u001b[0m\u001b[0;34m,\u001b[0m \u001b[0;36m9999\u001b[0m\u001b[0;34m)\u001b[0m\u001b[0;34m\u001b[0m\u001b[0;34m\u001b[0m\u001b[0m\n\u001b[1;32m      6\u001b[0m \u001b[0mprint\u001b[0m\u001b[0;34m(\u001b[0m\u001b[0;34m\"Content image index: \"\u001b[0m\u001b[0;34m,\u001b[0m \u001b[0mcontent_img_idx\u001b[0m\u001b[0;34m)\u001b[0m\u001b[0;34m\u001b[0m\u001b[0;34m\u001b[0m\u001b[0m\n",
            "\u001b[0;31mNameError\u001b[0m: name 'random' is not defined"
          ]
        }
      ]
    },
    {
      "cell_type": "code",
      "source": [
        "\n",
        "# Compute the target feature map vectors\n",
        "content_targets = tmp_classifier.predict(content_img.reshape(1,28,28), verbose=0)\n",
        "#print(\"Content targets\")\n",
        "#print(content_targets)\n",
        "\n",
        "style_targets = tmp_classifier.predict(style_img.reshape(1,28,28), verbose=0)\n",
        "#print(\"Style targets\")\n",
        "#print(style_targets)\n",
        "\n",
        "# Combine the targets\n",
        "combined_targets = content_targets\n",
        "combined_targets[0] = style_targets[0]\n",
        "combined_targets[1] = style_targets[1]\n",
        "#print(\"Combined targets\")\n",
        "#print(combined_targets)"
      ],
      "metadata": {
        "id": "QuGKCpK4DuVZ"
      },
      "execution_count": 16,
      "outputs": []
    },
    {
      "cell_type": "code",
      "source": [
        "\n",
        "# Dummy input\n",
        "dummy_input = np.ones( (1,1) )\n",
        "\n",
        "# Train the image generator\n",
        "learning_rate = 100\n",
        "stacked_model.compile(\n",
        "        optimizer=tf.keras.optimizers.SGD(learning_rate=learning_rate),\n",
        "        loss='cosine_similarity'\n",
        "        )\n",
        "\n",
        "n_iterations = 1500\n",
        "eval_step = 100\n",
        "history = []"
      ],
      "metadata": {
        "id": "651V1shvAd_8"
      },
      "execution_count": 17,
      "outputs": []
    },
    {
      "cell_type": "code",
      "source": [
        "for iteration in range(n_iterations):\n",
        "\n",
        "  # Do one update iteration\n",
        "  losses = stacked_model.train_on_batch(dummy_input, combined_targets)\n",
        "  history.append(losses[0])\n",
        "\n",
        "  if (iteration % eval_step == 0):\n",
        "      print(\"Iteration {:2d}: Losses: {}\".format(iteration, losses[0]))\n",
        "\n",
        "      \"\"\"\n",
        "      # Generate the image\n",
        "      gen_image = generator.predict(dummy_input, verbose=0)\n",
        "      # Compute the classifier output for this image\n",
        "      model_outputs = tmp_classifier.predict(gen_image, verbose=0)[0]\n",
        "      # Plot the generated image\n",
        "      plt.figure()\n",
        "      plt.imshow(gen_image[0], cmap=\"gray_r\")\n",
        "      plt.show()\n",
        "      \"\"\""
      ],
      "metadata": {
        "colab": {
          "base_uri": "https://localhost:8080/"
        },
        "id": "vRC2yXTjNhXj",
        "outputId": "fcdcb5da-8a21-4822-89b8-bc6bcb5718f5"
      },
      "execution_count": 18,
      "outputs": [
        {
          "output_type": "stream",
          "name": "stdout",
          "text": [
            "Iteration  0: Losses: 0.7372506260871887\n",
            "Iteration 100: Losses: -1.1610397100448608\n",
            "Iteration 200: Losses: -1.3196301460266113\n",
            "Iteration 300: Losses: -1.4685760736465454\n",
            "Iteration 400: Losses: -1.5842256546020508\n",
            "Iteration 500: Losses: -1.7730557918548584\n",
            "Iteration 600: Losses: -2.0839686393737793\n",
            "Iteration 700: Losses: -2.6180434226989746\n",
            "Iteration 800: Losses: -3.6339316368103027\n",
            "Iteration 900: Losses: -3.9685959815979004\n",
            "Iteration 1000: Losses: -3.9978952407836914\n",
            "Iteration 1100: Losses: -3.998227119445801\n",
            "Iteration 1200: Losses: -3.9982857704162598\n",
            "Iteration 1300: Losses: -3.998335361480713\n",
            "Iteration 1400: Losses: -3.998386859893799\n"
          ]
        }
      ]
    },
    {
      "cell_type": "code",
      "source": [
        "#Display the generated image, alongside the original content and style images.\n",
        "\n",
        "# Plot the history of the loss\n",
        "plt.plot(history)\n",
        "plt.title('Training Loss')\n",
        "plt.ylabel('Cost')\n",
        "plt.xlabel('Epoch')\n",
        "plt.show()\n",
        "\n",
        "# Generate the final image\n",
        "gen_image = generator.predict(dummy_input, verbose=0)[0]\n",
        "\n",
        "\n",
        "# Plot the original and generated images\n",
        "plt.figure()\n",
        "plt.subplot(1,3,1)\n",
        "plt.imshow(content_img, cmap=\"gray_r\")\n",
        "plt.title(\"Content ({})\".format(content_img_idx))\n",
        "plt.subplot(1,3,2)\n",
        "plt.imshow(style_img, cmap=\"gray_r\")\n",
        "plt.title(\"Style ({})\".format(style_img_idx))\n",
        "plt.subplot(1,3,3)\n",
        "plt.imshow(gen_image, cmap=\"gray_r\")\n",
        "plt.title(\"Generated\")\n",
        "plt.show()\n"
      ],
      "metadata": {
        "colab": {
          "base_uri": "https://localhost:8080/",
          "height": 440
        },
        "id": "wiUzlV--NmrZ",
        "outputId": "0c558eda-9e42-4a3c-8ab9-594194f95769"
      },
      "execution_count": 19,
      "outputs": [
        {
          "output_type": "display_data",
          "data": {
            "text/plain": [
              "<Figure size 432x288 with 1 Axes>"
            ],
            "image/png": "[encoded data removed]"
          },
          "metadata": {
            "needs_background": "light"
          }
        },
        {
          "output_type": "display_data",
          "data": {
            "text/plain": [
              "<Figure size 432x288 with 3 Axes>"
            ],
            "image/png": "[encoded data removed]"
          },
          "metadata": {
            "needs_background": "light"
          }
        }
      ]
    }
  ]
}