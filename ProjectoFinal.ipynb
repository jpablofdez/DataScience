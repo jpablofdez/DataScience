{
  "nbformat": 4,
  "nbformat_minor": 0,
  "metadata": {
    "colab": {
      "name": "Tarea2JuanPabloFernandezD.ipynb",
      "version": "0.3.2",
      "provenance": [],
      "collapsed_sections": [],
      "toc_visible": true
    },
    "kernelspec": {
      "name": "python3",
      "display_name": "Python 3"
    }
  },
  "cells": [
    {
      "cell_type": "markdown",
      "metadata": {
        "id": "bjMFmN74Haf1",
        "colab_type": "text"
      },
      "source": [
        "# **Tarea #1 - Preprocesamiento, Extracción y Regresión**\n",
        "\n",
        "\n",
        "\n",
        "*   *Juan Pablo Fernández Delgado*\n",
        "\n",
        "## Healthcare Dataset Stroke Data \n",
        "\n",
        "\n",
        "---\n",
        "Nota: subir el archivo train_2v.csv\n",
        "\n",
        "\n",
        "**Descripción detallada de los datos e instrucciones**\n",
        "\n",
        "\n",
        "*   Predecir si un paciente tendrá un accidente cerebrovascular o no basado en algunos atributos dados\n",
        "\n",
        "\n",
        "\n",
        "\n",
        "\n",
        "\n",
        "\n",
        "\n",
        "\n",
        "\n",
        "\n",
        "\n",
        "\n",
        "\n",
        "Variable | Definicion | Clasificacion\n",
        "--- | --- | ---\n",
        "Id | Patient ID | Nada\n",
        "Gender | Gender of Patient | One hot encoding\n",
        "Age | Age of Patient | One hot encoding, Categorizacion por rango de edad\n",
        "Hypertension | 0 - no hypertension, 1 - suffering from hypertension | Nada\n",
        "Heart_diseas | 0 - no heart disease, 1 - suffering from heart disease | Nada\n",
        "Ever_married | Yes/No | One hot encoding\n",
        "Work_type | Type of occupation | One hot encoding\n",
        "Residence_type | Area type of residence (Urban/ Rural) | One hot encoding\n",
        "Avg_glucose_level | Average Glucose Level (measured after meal) | One hot encoding, Normalización\n",
        "bmi | Body mass index | One hot encoding, Normalización, N/As\n",
        "Smoking_status | Patient's smoking status | One hot encoding, N/As\n",
        "Stroke | 0 - no stroke, 1 - suffered stroke | Dato a predecir\n"
      ]
    },
    {
      "cell_type": "markdown",
      "metadata": {
        "id": "QjwGhOwsnbqS",
        "colab_type": "text"
      },
      "source": [
        "Nota: Las clasificaciones se detallan en la columna de clasificación de la variable. Nada: es que se dejó el valor igual a como viene, One hot encoding para las características categóricas, el rango de edad se realizó como se pide en el documento de la tarea, N/As Nomenclatura utilizada cuando hay datos faltantes y la Normalización ( x – min(x) ) / ( max(x) – min(x) )."
      ]
    },
    {
      "cell_type": "code",
      "metadata": {
        "id": "kpj3Osw9WCjK",
        "colab_type": "code",
        "colab": {}
      },
      "source": [
        "import pandas as pd\n",
        "import numpy as np\n",
        "from sklearn import linear_model\n",
        "from sklearn import model_selection\n",
        "from sklearn.model_selection import train_test_split\n",
        "from sklearn.metrics import classification_report\n",
        "from sklearn.metrics import confusion_matrix\n",
        "from sklearn.metrics import accuracy_score\n",
        "import matplotlib.pyplot as plt\n",
        "import seaborn as sb\n",
        "from scipy.linalg import solve\n",
        "%matplotlib inline"
      ],
      "execution_count": 0,
      "outputs": []
    },
    {
      "cell_type": "markdown",
      "metadata": {
        "id": "AJzUaSDjjl05",
        "colab_type": "text"
      },
      "source": [
        "**Predicción con regresión logística**\n",
        "\n",
        "Se utiliza solamente 300 registros\n",
        "20% para testing \n",
        "70% para trainig"
      ]
    },
    {
      "cell_type": "code",
      "metadata": {
        "id": "1MVwMOrWIklc",
        "colab_type": "code",
        "outputId": "1fb64cbb-be9a-402b-88b7-b93e767e6b83",
        "colab": {
          "base_uri": "https://localhost:8080/",
          "height": 170
        }
      },
      "source": [
        "# importando el dataset a un Dataframe de Pandas\n",
        "data = pd.read_csv('train_2v.csv',delimiter=\",\",  nrows = 300)\n",
        "\n",
        "#dataTest = pd.read_csv('train_2v.csv',delimiter=\",\", nrows = 50)\n",
        "#print(dataTest)\n",
        "\n",
        "# Preprocesamiento y extraccion de caracteristicas\n",
        "\n",
        "# Descomentar este punto para utilizar datos de training y que sea mas rapida la ejecucion de los puntos.\n",
        "#data = dataTest\n",
        "# Eliminamos el ID del dataset\n",
        "data.drop(data.columns[[0]], axis=1, inplace=True)\n",
        "\n",
        "# Se cambian los valores nulos por N/As\n",
        "data[\"bmi\"].fillna(-999, inplace = True) \n",
        "data[\"smoking_status\"].fillna(\"N/As\", inplace = True)\n",
        "\n",
        "# se elimina la columna de prediccion y se almacena an la variable y\n",
        "y = np.array(data['stroke'])\n",
        "data = data.drop(['stroke'],1)\n",
        "\n",
        "print(y)\n"
      ],
      "execution_count": 17,
      "outputs": [
        {
          "output_type": "stream",
          "text": [
            "[0 0 0 0 0 0 0 0 0 0 0 0 0 0 0 0 0 0 0 0 0 0 0 0 0 0 0 0 0 0 0 0 0 0 0 0 0\n",
            " 0 0 0 0 0 0 0 0 0 0 0 0 0 0 0 0 0 0 0 0 0 0 0 0 0 0 1 0 0 0 0 0 0 0 0 0 0\n",
            " 0 0 0 0 0 0 0 1 0 0 0 0 0 0 0 0 0 0 0 0 0 0 0 0 0 0 0 0 0 0 0 0 0 0 0 0 0\n",
            " 0 0 0 0 0 0 0 0 0 0 0 0 0 0 0 0 0 0 0 0 0 0 0 0 0 0 0 0 0 0 1 0 0 0 0 0 0\n",
            " 0 0 0 0 0 0 0 0 0 0 0 0 0 0 0 0 0 0 0 0 0 0 0 0 0 0 0 0 0 0 0 0 0 0 0 0 0\n",
            " 0 0 0 0 0 0 0 0 0 0 0 0 0 0 0 0 0 0 0 0 0 0 0 0 0 0 0 0 0 0 0 0 0 0 0 0 0\n",
            " 0 0 0 0 0 0 0 0 0 0 0 0 0 0 0 0 0 0 0 0 0 0 0 0 0 0 0 0 0 0 0 0 0 0 0 1 0\n",
            " 0 0 0 0 0 1 0 0 0 0 0 0 0 0 0 0 0 0 0 0 0 0 0 0 0 0 0 0 0 1 0 0 1 0 0 0 0\n",
            " 0 0 0 0]\n"
          ],
          "name": "stdout"
        }
      ]
    },
    {
      "cell_type": "markdown",
      "metadata": {
        "id": "pudtwstYpqm0",
        "colab_type": "text"
      },
      "source": [
        "# Preprocesamiento, extraccion de caracteristicas y Evaluación \n",
        "\n",
        "\n",
        "1.   Controlando valores nulos (N/As)\n",
        "2.   Categorizacion por rango de edad\n",
        "3.   One hot encoding\n",
        "4.   Graficos antes\n",
        "5.   Normalización (MinMaxScaler)\n",
        "6.   Covarianza\n",
        "\n",
        "\n",
        "\n"
      ]
    },
    {
      "cell_type": "code",
      "metadata": {
        "id": "6TlTLbmuud4U",
        "colab_type": "code",
        "outputId": "7668e8f4-59d9-49c4-faa1-ce8f0ef09d33",
        "colab": {
          "base_uri": "https://localhost:8080/",
          "height": 34
        }
      },
      "source": [
        "\n",
        "# Controlando valores nulos\n",
        "data.isnull().any().any()"
      ],
      "execution_count": 18,
      "outputs": [
        {
          "output_type": "execute_result",
          "data": {
            "text/plain": [
              "False"
            ]
          },
          "metadata": {
            "tags": []
          },
          "execution_count": 18
        }
      ]
    },
    {
      "cell_type": "code",
      "metadata": {
        "id": "pkKxoi-6JC6_",
        "colab_type": "code",
        "colab": {}
      },
      "source": [
        "# Se categoriza por rango de edad: niño, adolescente, adulto_mayor\n",
        "bins = [0, 12, 18]\n",
        "names = ['niño', 'adolescente', 'adulto_mayor']\n",
        "\n",
        "d = dict(enumerate(names, 1))\n",
        "\n",
        "data['AgeRange'] = np.vectorize(d.get)(np.digitize(data['age'], bins))\n",
        "data.drop(data.columns[[2]], axis=1, inplace=True)\n",
        "# se muestran los datos por rangos de edad\n",
        "#data\n",
        "\n"
      ],
      "execution_count": 0,
      "outputs": []
    },
    {
      "cell_type": "markdown",
      "metadata": {
        "id": "Kuzugdo2ko8m",
        "colab_type": "text"
      },
      "source": [
        "Visualización de Datos"
      ]
    },
    {
      "cell_type": "code",
      "metadata": {
        "id": "i6PxC77dA-Ta",
        "colab_type": "code",
        "outputId": "76c54482-aa71-4b19-b95e-f130159938be",
        "colab": {
          "base_uri": "https://localhost:8080/",
          "height": 583
        }
      },
      "source": [
        "\n",
        "def draw_histograms(dataframe, features, rows, cols):\n",
        "    fig=plt.figure(figsize=(20,20))\n",
        "    for i, feature in enumerate(features):\n",
        "        ax=fig.add_subplot(rows,cols,i+1)\n",
        "        dataframe[feature].hist(bins=20,ax=ax,facecolor='midnightblue')\n",
        "        ax.set_title(feature+\" Distribution\",color='DarkRed')\n",
        "        \n",
        "    fig.tight_layout()  \n",
        "    plt.show()\n",
        "#draw_histograms(dataTest,dataTest.columns,6,3)\n",
        "draw_histograms(data,data.columns,8,4)"
      ],
      "execution_count": 102,
      "outputs": [
        {
          "output_type": "display_data",
          "data": {
            "image/png": "[encoded data removed]",
            "text/plain": [
              "<Figure size 1440x1440 with 10 Axes>"
            ]
          },
          "metadata": {
            "tags": []
          }
        }
      ]
    },
    {
      "cell_type": "code",
      "metadata": {
        "id": "P4SwpinKmeJf",
        "colab_type": "code",
        "colab": {}
      },
      "source": [
        "# se crea un set de variables par aplicar el one hot encoding de las columnas: 'AgeRange','gender', 'ever_married','work_type','Residence_type','smoking_status'\n",
        "\n",
        "df_oh_data = pd.get_dummies(data, columns=['AgeRange','gender', 'ever_married','work_type','Residence_type','smoking_status'], drop_first=True)\n",
        "#df_oh_data\n"
      ],
      "execution_count": 0,
      "outputs": []
    },
    {
      "cell_type": "code",
      "metadata": {
        "id": "av73A_9Joszu",
        "colab_type": "code",
        "colab": {}
      },
      "source": [
        "# se normalizan las columnas: avg_glucose_level y bmi\n",
        "from sklearn.preprocessing import MinMaxScaler\n",
        "  \n",
        "scaler = MinMaxScaler()\n",
        "df_oh_data[['avg_glucose_level', 'bmi']] = scaler.fit_transform(df_oh_data[['avg_glucose_level', 'bmi']])\n",
        "#df_oh_data"
      ],
      "execution_count": 0,
      "outputs": []
    },
    {
      "cell_type": "code",
      "metadata": {
        "id": "ZfotVmzx7QKV",
        "colab_type": "code",
        "outputId": "66864f18-ffed-478f-83df-bcfc3bf8e965",
        "colab": {
          "base_uri": "https://localhost:8080/",
          "height": 522
        }
      },
      "source": [
        "# Graficando con los datos procesados\n",
        "draw_histograms(df_oh_data,df_oh_data.columns,9,6)"
      ],
      "execution_count": 0,
      "outputs": [
        {
          "output_type": "display_data",
          "data": {
            "image/png": "[encoded data removed]",
            "text/plain": [
              "<Figure size 1440x1440 with 18 Axes>"
            ]
          },
          "metadata": {
            "tags": []
          }
        }
      ]
    },
    {
      "cell_type": "code",
      "metadata": {
        "id": "q4FZyXUe8yxs",
        "colab_type": "code",
        "outputId": "6cbcf0a5-c9d8-4c09-afd9-65b8eb96d5cf",
        "colab": {
          "base_uri": "https://localhost:8080/",
          "height": 51
        }
      },
      "source": [
        "#Covarianza entre avg_glucose_level y bmi\n",
        "np.cov(df_oh_data[\"avg_glucose_level\"], df_oh_data[\"bmi\"])"
      ],
      "execution_count": 22,
      "outputs": [
        {
          "output_type": "execute_result",
          "data": {
            "text/plain": [
              "array([[ 0.05766284, -0.00451147],\n",
              "       [-0.00451147,  0.02145865]])"
            ]
          },
          "metadata": {
            "tags": []
          },
          "execution_count": 22
        }
      ]
    },
    {
      "cell_type": "code",
      "metadata": {
        "id": "KN0gPViYazKG",
        "colab_type": "code",
        "outputId": "acf0f941-8ec9-4afe-8a50-ae096cf37236",
        "colab": {
          "base_uri": "https://localhost:8080/",
          "height": 241
        }
      },
      "source": [
        "df_oh_data.head()"
      ],
      "execution_count": 0,
      "outputs": [
        {
          "output_type": "execute_result",
          "data": {
            "text/html": [
              "<div>\n",
              "<style scoped>\n",
              "    .dataframe tbody tr th:only-of-type {\n",
              "        vertical-align: middle;\n",
              "    }\n",
              "\n",
              "    .dataframe tbody tr th {\n",
              "        vertical-align: top;\n",
              "    }\n",
              "\n",
              "    .dataframe thead th {\n",
              "        text-align: right;\n",
              "    }\n",
              "</style>\n",
              "<table border=\"1\" class=\"dataframe\">\n",
              "  <thead>\n",
              "    <tr style=\"text-align: right;\">\n",
              "      <th></th>\n",
              "      <th>age</th>\n",
              "      <th>heart_disease</th>\n",
              "      <th>avg_glucose_level</th>\n",
              "      <th>bmi</th>\n",
              "      <th>AgeRange_adulto_mayor</th>\n",
              "      <th>AgeRange_niño</th>\n",
              "      <th>gender_Male</th>\n",
              "      <th>ever_married_Yes</th>\n",
              "      <th>work_type_Never_worked</th>\n",
              "      <th>work_type_Private</th>\n",
              "      <th>work_type_Self-employed</th>\n",
              "      <th>work_type_children</th>\n",
              "      <th>Residence_type_Urban</th>\n",
              "      <th>smoking_status_formerly smoked</th>\n",
              "      <th>smoking_status_never smoked</th>\n",
              "      <th>smoking_status_smokes</th>\n",
              "    </tr>\n",
              "  </thead>\n",
              "  <tbody>\n",
              "    <tr>\n",
              "      <th>0</th>\n",
              "      <td>3.0</td>\n",
              "      <td>0</td>\n",
              "      <td>0.202487</td>\n",
              "      <td>0.956007</td>\n",
              "      <td>0</td>\n",
              "      <td>1</td>\n",
              "      <td>1</td>\n",
              "      <td>0</td>\n",
              "      <td>0</td>\n",
              "      <td>0</td>\n",
              "      <td>0</td>\n",
              "      <td>1</td>\n",
              "      <td>0</td>\n",
              "      <td>0</td>\n",
              "      <td>0</td>\n",
              "      <td>0</td>\n",
              "    </tr>\n",
              "    <tr>\n",
              "      <th>1</th>\n",
              "      <td>58.0</td>\n",
              "      <td>0</td>\n",
              "      <td>0.165996</td>\n",
              "      <td>0.975935</td>\n",
              "      <td>1</td>\n",
              "      <td>0</td>\n",
              "      <td>1</td>\n",
              "      <td>1</td>\n",
              "      <td>0</td>\n",
              "      <td>1</td>\n",
              "      <td>0</td>\n",
              "      <td>0</td>\n",
              "      <td>1</td>\n",
              "      <td>0</td>\n",
              "      <td>1</td>\n",
              "      <td>0</td>\n",
              "    </tr>\n",
              "    <tr>\n",
              "      <th>2</th>\n",
              "      <td>8.0</td>\n",
              "      <td>0</td>\n",
              "      <td>0.282860</td>\n",
              "      <td>0.955631</td>\n",
              "      <td>0</td>\n",
              "      <td>1</td>\n",
              "      <td>0</td>\n",
              "      <td>0</td>\n",
              "      <td>0</td>\n",
              "      <td>1</td>\n",
              "      <td>0</td>\n",
              "      <td>0</td>\n",
              "      <td>1</td>\n",
              "      <td>0</td>\n",
              "      <td>0</td>\n",
              "      <td>0</td>\n",
              "    </tr>\n",
              "    <tr>\n",
              "      <th>3</th>\n",
              "      <td>70.0</td>\n",
              "      <td>0</td>\n",
              "      <td>0.069568</td>\n",
              "      <td>0.972833</td>\n",
              "      <td>1</td>\n",
              "      <td>0</td>\n",
              "      <td>0</td>\n",
              "      <td>1</td>\n",
              "      <td>0</td>\n",
              "      <td>1</td>\n",
              "      <td>0</td>\n",
              "      <td>0</td>\n",
              "      <td>0</td>\n",
              "      <td>1</td>\n",
              "      <td>0</td>\n",
              "      <td>0</td>\n",
              "    </tr>\n",
              "    <tr>\n",
              "      <th>4</th>\n",
              "      <td>14.0</td>\n",
              "      <td>0</td>\n",
              "      <td>0.539677</td>\n",
              "      <td>0.957041</td>\n",
              "      <td>0</td>\n",
              "      <td>0</td>\n",
              "      <td>1</td>\n",
              "      <td>0</td>\n",
              "      <td>1</td>\n",
              "      <td>0</td>\n",
              "      <td>0</td>\n",
              "      <td>0</td>\n",
              "      <td>0</td>\n",
              "      <td>0</td>\n",
              "      <td>0</td>\n",
              "      <td>0</td>\n",
              "    </tr>\n",
              "  </tbody>\n",
              "</table>\n",
              "</div>"
            ],
            "text/plain": [
              "    age  heart_disease  ...  smoking_status_never smoked  smoking_status_smokes\n",
              "0   3.0              0  ...                            0                      0\n",
              "1  58.0              0  ...                            1                      0\n",
              "2   8.0              0  ...                            0                      0\n",
              "3  70.0              0  ...                            0                      0\n",
              "4  14.0              0  ...                            0                      0\n",
              "\n",
              "[5 rows x 16 columns]"
            ]
          },
          "metadata": {
            "tags": []
          },
          "execution_count": 159
        }
      ]
    },
    {
      "cell_type": "code",
      "metadata": {
        "id": "7rkD9Oegb9cz",
        "colab_type": "code",
        "colab": {}
      },
      "source": [
        ""
      ],
      "execution_count": 0,
      "outputs": []
    },
    {
      "cell_type": "code",
      "metadata": {
        "id": "aWvAJVP6cYvq",
        "colab_type": "code",
        "outputId": "0f229aa2-2b68-4bc2-9960-309e97e0891c",
        "colab": {
          "base_uri": "https://localhost:8080/",
          "height": 34
        }
      },
      "source": [
        "# Se optiene la cantidad de columnas a procesar\n",
        "total_columnas = df_oh_data.shape[1]\n",
        "total_columnas\n"
      ],
      "execution_count": 23,
      "outputs": [
        {
          "output_type": "execute_result",
          "data": {
            "text/plain": [
              "16"
            ]
          },
          "metadata": {
            "tags": []
          },
          "execution_count": 23
        }
      ]
    },
    {
      "cell_type": "code",
      "metadata": {
        "id": "hqbpgXN5ZFLS",
        "colab_type": "code",
        "outputId": "131e9c6c-e39e-4f54-e0c4-108523b28a93",
        "colab": {
          "base_uri": "https://localhost:8080/",
          "height": 34
        }
      },
      "source": [
        "# Cantidad de columnas por filas\n",
        "X = np.array(df_oh_data)\n",
        "X.shape"
      ],
      "execution_count": 24,
      "outputs": [
        {
          "output_type": "execute_result",
          "data": {
            "text/plain": [
              "(300, 16)"
            ]
          },
          "metadata": {
            "tags": []
          },
          "execution_count": 24
        }
      ]
    },
    {
      "cell_type": "code",
      "metadata": {
        "id": "h5evqVdCEe4G",
        "colab_type": "code",
        "outputId": "434324d5-b4ff-4f0e-eae3-bec08f178847",
        "colab": {
          "base_uri": "https://localhost:8080/",
          "height": 156
        }
      },
      "source": [
        "lRegression = linear_model.LogisticRegression()\n",
        "lRegression.fit(X,y)\n",
        "\n",
        "#X_train, X_test, y_train, y_test = train_test_split(X, y, test_size=0.3, random_state=0)\n",
        "#logreg = LogisticRegression()\n",
        "#model = linear_model.LogisticRegression()\n",
        "#model.fit(X_train, y_train)"
      ],
      "execution_count": 25,
      "outputs": [
        {
          "output_type": "stream",
          "text": [
            "/usr/local/lib/python3.6/dist-packages/sklearn/linear_model/logistic.py:432: FutureWarning: Default solver will be changed to 'lbfgs' in 0.22. Specify a solver to silence this warning.\n",
            "  FutureWarning)\n"
          ],
          "name": "stderr"
        },
        {
          "output_type": "execute_result",
          "data": {
            "text/plain": [
              "LogisticRegression(C=1.0, class_weight=None, dual=False, fit_intercept=True,\n",
              "                   intercept_scaling=1, l1_ratio=None, max_iter=100,\n",
              "                   multi_class='warn', n_jobs=None, penalty='l2',\n",
              "                   random_state=None, solver='warn', tol=0.0001, verbose=0,\n",
              "                   warm_start=False)"
            ]
          },
          "metadata": {
            "tags": []
          },
          "execution_count": 25
        }
      ]
    },
    {
      "cell_type": "code",
      "metadata": {
        "id": "Z9ImXPcPHUbg",
        "colab_type": "code",
        "colab": {}
      },
      "source": [
        ""
      ],
      "execution_count": 0,
      "outputs": []
    },
    {
      "cell_type": "code",
      "metadata": {
        "id": "AzRPRQVZHy1f",
        "colab_type": "code",
        "outputId": "f5db68c7-eadd-496e-f958-48df3097a9fc",
        "colab": {
          "base_uri": "https://localhost:8080/",
          "height": 255
        }
      },
      "source": [
        "# Se crea el modelo y se ajusta el fit a la entrada de datos originales\n",
        "predictions = lRegression.predict(X)\n",
        "predictions[0:300]\n"
      ],
      "execution_count": 0,
      "outputs": [
        {
          "output_type": "execute_result",
          "data": {
            "text/plain": [
              "array([0, 0, 0, 0, 0, 0, 0, 0, 0, 0, 0, 0, 0, 0, 0, 0, 0, 0, 0, 0, 0, 0,\n",
              "       0, 0, 0, 0, 0, 0, 0, 0, 0, 0, 0, 0, 0, 0, 0, 0, 0, 0, 0, 0, 0, 0,\n",
              "       0, 0, 0, 0, 0, 0, 0, 0, 0, 0, 0, 0, 0, 0, 0, 0, 0, 0, 0, 0, 0, 0,\n",
              "       0, 0, 0, 0, 0, 0, 0, 0, 0, 0, 0, 0, 0, 0, 0, 0, 0, 0, 0, 0, 0, 0,\n",
              "       0, 0, 0, 0, 0, 0, 0, 0, 0, 0, 0, 0, 0, 0, 0, 0, 0, 0, 0, 0, 0, 0,\n",
              "       0, 0, 0, 0, 0, 0, 0, 0, 0, 0, 0, 0, 0, 0, 0, 0, 0, 0, 0, 0, 0, 0,\n",
              "       0, 0, 0, 0, 0, 0, 0, 0, 0, 0, 0, 0, 0, 0, 0, 0, 0, 0, 0, 0, 0, 0,\n",
              "       0, 0, 0, 0, 0, 0, 0, 0, 0, 0, 0, 0, 0, 0, 0, 0, 0, 0, 0, 0, 0, 0,\n",
              "       0, 0, 0, 0, 0, 0, 0, 0, 0, 0, 0, 0, 0, 0, 0, 0, 0, 0, 0, 0, 0, 0,\n",
              "       0, 0, 0, 0, 0, 0, 0, 0, 0, 0, 0, 0, 0, 0, 0, 0, 0, 0, 0, 0, 0, 0,\n",
              "       0, 0, 0, 0, 0, 0, 0, 0, 0, 0, 0, 0, 0, 0, 0, 0, 0, 0, 0, 0, 0, 0,\n",
              "       0, 0, 0, 0, 0, 0, 0, 0, 0, 0, 0, 0, 0, 0, 0, 0, 0, 0, 0, 0, 0, 0,\n",
              "       0, 0, 0, 0, 0, 0, 0, 0, 0, 0, 0, 0, 0, 0, 0, 0, 0, 0, 0, 0, 0, 0,\n",
              "       0, 0, 0, 0, 0, 0, 0, 0, 0, 0, 0, 0, 0, 0])"
            ]
          },
          "metadata": {
            "tags": []
          },
          "execution_count": 191
        }
      ]
    },
    {
      "cell_type": "code",
      "metadata": {
        "id": "MFJnX95xH7I6",
        "colab_type": "code",
        "outputId": "35b2f9b8-53ff-4217-ed76-ac3996e77752",
        "colab": {
          "base_uri": "https://localhost:8080/",
          "height": 34
        }
      },
      "source": [
        "# Se confirma la exactitud del modelo\n",
        "lRegression.score(X,y)"
      ],
      "execution_count": 26,
      "outputs": [
        {
          "output_type": "execute_result",
          "data": {
            "text/plain": [
              "0.9766666666666667"
            ]
          },
          "metadata": {
            "tags": []
          },
          "execution_count": 26
        }
      ]
    },
    {
      "cell_type": "code",
      "metadata": {
        "id": "Ruur1moRIEYD",
        "colab_type": "code",
        "colab": {}
      },
      "source": [
        "# Se divide el conjunto de datos en un set de entrenamiento y otro para pruebas\n",
        "\n",
        "validation_size = 0.20\n",
        "seed = 7\n",
        "X_train, X_test, Y_train, Y_test = model_selection.train_test_split(X, y, test_size=validation_size, random_state=seed)"
      ],
      "execution_count": 0,
      "outputs": []
    },
    {
      "cell_type": "code",
      "metadata": {
        "id": "b48tMoQCIaAN",
        "colab_type": "code",
        "outputId": "7b328c8d-54c8-4d2a-b5e2-63eb7ae1dd39",
        "colab": {
          "base_uri": "https://localhost:8080/",
          "height": 394
        }
      },
      "source": [
        "# Se valida el modelo con el 80% aplicando kfolss\n",
        "\n",
        "name='Logistic Regression'\n",
        "kfold = model_selection.KFold(n_splits=10, random_state=seed)\n",
        "cv_results = model_selection.cross_val_score(lRegression, X_train, Y_train, cv=kfold, scoring='accuracy')\n",
        "msg = \"%s: %f (%f)\" % (name, cv_results.mean(), cv_results.std())\n",
        "msg"
      ],
      "execution_count": 29,
      "outputs": [
        {
          "output_type": "stream",
          "text": [
            "/usr/local/lib/python3.6/dist-packages/sklearn/linear_model/logistic.py:432: FutureWarning: Default solver will be changed to 'lbfgs' in 0.22. Specify a solver to silence this warning.\n",
            "  FutureWarning)\n",
            "/usr/local/lib/python3.6/dist-packages/sklearn/linear_model/logistic.py:432: FutureWarning: Default solver will be changed to 'lbfgs' in 0.22. Specify a solver to silence this warning.\n",
            "  FutureWarning)\n",
            "/usr/local/lib/python3.6/dist-packages/sklearn/linear_model/logistic.py:432: FutureWarning: Default solver will be changed to 'lbfgs' in 0.22. Specify a solver to silence this warning.\n",
            "  FutureWarning)\n",
            "/usr/local/lib/python3.6/dist-packages/sklearn/linear_model/logistic.py:432: FutureWarning: Default solver will be changed to 'lbfgs' in 0.22. Specify a solver to silence this warning.\n",
            "  FutureWarning)\n",
            "/usr/local/lib/python3.6/dist-packages/sklearn/linear_model/logistic.py:432: FutureWarning: Default solver will be changed to 'lbfgs' in 0.22. Specify a solver to silence this warning.\n",
            "  FutureWarning)\n",
            "/usr/local/lib/python3.6/dist-packages/sklearn/linear_model/logistic.py:432: FutureWarning: Default solver will be changed to 'lbfgs' in 0.22. Specify a solver to silence this warning.\n",
            "  FutureWarning)\n",
            "/usr/local/lib/python3.6/dist-packages/sklearn/linear_model/logistic.py:432: FutureWarning: Default solver will be changed to 'lbfgs' in 0.22. Specify a solver to silence this warning.\n",
            "  FutureWarning)\n",
            "/usr/local/lib/python3.6/dist-packages/sklearn/linear_model/logistic.py:432: FutureWarning: Default solver will be changed to 'lbfgs' in 0.22. Specify a solver to silence this warning.\n",
            "  FutureWarning)\n",
            "/usr/local/lib/python3.6/dist-packages/sklearn/linear_model/logistic.py:432: FutureWarning: Default solver will be changed to 'lbfgs' in 0.22. Specify a solver to silence this warning.\n",
            "  FutureWarning)\n",
            "/usr/local/lib/python3.6/dist-packages/sklearn/linear_model/logistic.py:432: FutureWarning: Default solver will be changed to 'lbfgs' in 0.22. Specify a solver to silence this warning.\n",
            "  FutureWarning)\n"
          ],
          "name": "stderr"
        },
        {
          "output_type": "execute_result",
          "data": {
            "text/plain": [
              "'Logistic Regression: 0.983333 (0.027639)'"
            ]
          },
          "metadata": {
            "tags": []
          },
          "execution_count": 29
        }
      ]
    },
    {
      "cell_type": "code",
      "metadata": {
        "id": "ziZBRSP2IhN0",
        "colab_type": "code",
        "outputId": "66c777ea-b2af-4d82-9cb4-f661d6a1f3ec",
        "colab": {
          "base_uri": "https://localhost:8080/",
          "height": 34
        }
      },
      "source": [
        "predictions = lRegression.predict(X_test)\n",
        "accuracy_score(Y_test, predictions)"
      ],
      "execution_count": 30,
      "outputs": [
        {
          "output_type": "execute_result",
          "data": {
            "text/plain": [
              "0.95"
            ]
          },
          "metadata": {
            "tags": []
          },
          "execution_count": 30
        }
      ]
    },
    {
      "cell_type": "code",
      "metadata": {
        "id": "gGBuD9hHIndy",
        "colab_type": "code",
        "outputId": "98219d16-58ab-4ebe-97bc-e32d42c6be5f",
        "colab": {
          "base_uri": "https://localhost:8080/",
          "height": 51
        }
      },
      "source": [
        "# Utilizamos la matrix de consufion y validamos la presicion\n",
        "print(confusion_matrix(Y_test, predictions))"
      ],
      "execution_count": 31,
      "outputs": [
        {
          "output_type": "stream",
          "text": [
            "[[57  0]\n",
            " [ 3  0]]\n"
          ],
          "name": "stdout"
        }
      ]
    },
    {
      "cell_type": "code",
      "metadata": {
        "id": "Spd2ghmtIs6_",
        "colab_type": "code",
        "outputId": "2b6b79e2-d60e-4846-8415-ca6aadedfe03",
        "colab": {
          "base_uri": "https://localhost:8080/",
          "height": 292
        }
      },
      "source": [
        "#Reporte de clasificacion.\n",
        "print(classification_report(Y_test, predictions))"
      ],
      "execution_count": 32,
      "outputs": [
        {
          "output_type": "stream",
          "text": [
            "              precision    recall  f1-score   support\n",
            "\n",
            "           0       0.95      1.00      0.97        57\n",
            "           1       0.00      0.00      0.00         3\n",
            "\n",
            "    accuracy                           0.95        60\n",
            "   macro avg       0.47      0.50      0.49        60\n",
            "weighted avg       0.90      0.95      0.93        60\n",
            "\n"
          ],
          "name": "stdout"
        },
        {
          "output_type": "stream",
          "text": [
            "/usr/local/lib/python3.6/dist-packages/sklearn/metrics/classification.py:1437: UndefinedMetricWarning: Precision and F-score are ill-defined and being set to 0.0 in labels with no predicted samples.\n",
            "  'precision', 'predicted', average, warn_for)\n",
            "/usr/local/lib/python3.6/dist-packages/sklearn/metrics/classification.py:1437: UndefinedMetricWarning: Precision and F-score are ill-defined and being set to 0.0 in labels with no predicted samples.\n",
            "  'precision', 'predicted', average, warn_for)\n",
            "/usr/local/lib/python3.6/dist-packages/sklearn/metrics/classification.py:1437: UndefinedMetricWarning: Precision and F-score are ill-defined and being set to 0.0 in labels with no predicted samples.\n",
            "  'precision', 'predicted', average, warn_for)\n"
          ],
          "name": "stderr"
        }
      ]
    },
    {
      "cell_type": "code",
      "metadata": {
        "id": "bDfZMM1MI17h",
        "colab_type": "code",
        "colab": {}
      },
      "source": [
        ""
      ],
      "execution_count": 0,
      "outputs": []
    },
    {
      "cell_type": "markdown",
      "metadata": {
        "id": "cVyAo6zRmyZ2",
        "colab_type": "text"
      },
      "source": [
        "Analisis de curva ROC"
      ]
    },
    {
      "cell_type": "code",
      "metadata": {
        "id": "hoMNe-c_HjAR",
        "colab_type": "code",
        "outputId": "1fe00012-de59-4bee-9ad3-1a5cb315704c",
        "colab": {
          "base_uri": "https://localhost:8080/",
          "height": 295
        }
      },
      "source": [
        "import matplotlib.pyplot as plt\n",
        "from sklearn.metrics import roc_auc_score\n",
        "from sklearn.metrics import roc_curve\n",
        "#model.predict(X_test)\n",
        "#X_test\n",
        "#X_train, X_validation, Y_train, Y_validation\n",
        "#y_train\n",
        "#Y_train\n",
        "\n",
        "logit_roc_auc = roc_auc_score(Y_test, lRegression.predict(X_test))\n",
        "fpr, tpr, thresholds = roc_curve(Y_test, lRegression.predict_proba(X_test)[:,1])\n",
        "\n",
        "#logit_roc_auc = roc_auc_score(Y_train, model.predict(X_train))\n",
        "#fpr, tpr, thresholds = roc_curve(Y_train, model.predict_proba(X_train)[:,1])\n",
        "\n",
        "\n",
        "plt.figure()\n",
        "plt.plot(fpr, tpr, label='Regresión Logística (área = %0.2f)' % logit_roc_auc)\n",
        "plt.plot([0, 1], [0, 1],'r--')\n",
        "plt.xlim([0.0, 1.0])\n",
        "plt.ylim([0.0, 1.05])\n",
        "plt.xlabel('Tasa de Falsos Positivos')\n",
        "plt.ylabel('Tasa de Verdaderos Positivos')\n",
        "plt.title('Característica de funcionamiento del receptor (Curva ROC)')\n",
        "plt.legend(loc=\"lower right\")\n",
        "plt.savefig('Log_ROC')\n",
        "plt.show()"
      ],
      "execution_count": 34,
      "outputs": [
        {
          "output_type": "display_data",
          "data": {
            "image/png": "[encoded data removed]",
            "text/plain": [
              "<Figure size 432x288 with 1 Axes>"
            ]
          },
          "metadata": {
            "tags": []
          }
        }
      ]
    },
    {
      "cell_type": "markdown",
      "metadata": {
        "id": "uNqVaRjkxWUV",
        "colab_type": "text"
      },
      "source": [
        "**Prediccion con perceptron multi capa**\n",
        "\n",
        "1.   Código que itera sobre los K folds.\n",
        "2.   Evaluación con curva ROC y el área bajo la misma\n",
        "3.   Documentación en prosa, grá􀂦cos y, preferiblemente, en código de las mejoras que buscaron los\n",
        "estudiantes para mejorar los resultados con la red neuronal.\n"
      ]
    },
    {
      "cell_type": "code",
      "metadata": {
        "id": "wGmbG-eyB33W",
        "colab_type": "code",
        "colab": {}
      },
      "source": [
        "#Import necessary packages, torch, numpy, pylab\n",
        "import torch\n",
        "from torch.autograd import Variable\n",
        "import numpy as np\n",
        "import matplotlib.pyplot as plt\n",
        "import torch.nn.init as init"
      ],
      "execution_count": 0,
      "outputs": []
    },
    {
      "cell_type": "code",
      "metadata": {
        "id": "AJEoCO6XPuE7",
        "colab_type": "code",
        "colab": {}
      },
      "source": [
        "#type for tensors\n",
        "dtype = torch.FloatTensor\n",
        "#context and input layer concatenated size, hidden layer dimension\n",
        "inputLayerSize, hiddenLayerSize, outputLayerSize = 16, 16, 1\n",
        "#number of epochs for training\n",
        "epochs = 1000\n",
        "#model learning rate\n",
        "learningRate = 1\n",
        "sigmoid = torch.nn.Sigmoid()\n",
        "#sequence of the wave to estimate\n",
        "sequenceLength = 100;"
      ],
      "execution_count": 0,
      "outputs": []
    },
    {
      "cell_type": "code",
      "metadata": {
        "id": "EuaqfYFdCIGe",
        "colab_type": "code",
        "colab": {}
      },
      "source": [
        "\n",
        "\"\"\"\n",
        "Creates the input and ground truth data\n",
        "@param sequenceLength, sequence length to generate\n",
        "@return yInput and yTarget\n",
        "\"\"\"\n",
        "def createInputAndGroundTruthData(sequenceLength):\n",
        "    #create data steps from 2 to 10 with the given sequence length\n",
        "    XInput = np.linspace(0, 1, sequenceLength)\n",
        "    #create numpy array with sin(x) input\n",
        "    yNp = np.sin(XInput) ;\n",
        "    XInput.resize((sequenceLength, 1));\n",
        "    yNp.resize((sequenceLength, 1))\n",
        "    #create the input time series for the model, with one unit of delay, is no model parameter, no grad needed\n",
        "    \n",
        "    XInput = torch.Tensor(XInput).type(dtype)\n",
        "    YInput = torch.sin(XInput)\n",
        "    return (XInput, YInput)\n",
        "  \n",
        "\n",
        "def createXORData():\n",
        "  XInput = torch.Tensor([[1, 0, 0], [1, 0, 1], [1, 1, 0], [1, 1, 1]]);\n",
        "  YInput = torch.Tensor([[0],[1],[1], [0]] );\n",
        "  return (XInput, YInput);\n",
        "  \n",
        "def createXORStroke():\n",
        "  XInput = torch.Tensor(X_test);\n",
        "  YInput = torch.Tensor(Y_test);\n",
        "  return (XInput, YInput);"
      ],
      "execution_count": 0,
      "outputs": []
    },
    {
      "cell_type": "code",
      "metadata": {
        "id": "jDoGlDQOS-2G",
        "colab_type": "code",
        "colab": {
          "base_uri": "https://localhost:8080/",
          "height": 136
        },
        "outputId": "d6f2bbcf-ab43-429d-c6dd-e3531557eef0"
      },
      "source": [
        "createXORData()\n",
        "#createXORStroke()"
      ],
      "execution_count": 82,
      "outputs": [
        {
          "output_type": "execute_result",
          "data": {
            "text/plain": [
              "(tensor([[1., 0., 0.],\n",
              "         [1., 0., 1.],\n",
              "         [1., 1., 0.],\n",
              "         [1., 1., 1.]]), tensor([[0.],\n",
              "         [1.],\n",
              "         [1.],\n",
              "         [0.]]))"
            ]
          },
          "metadata": {
            "tags": []
          },
          "execution_count": 82
        }
      ]
    },
    {
      "cell_type": "code",
      "metadata": {
        "id": "g0RzFhDuCRdm",
        "colab_type": "code",
        "colab": {}
      },
      "source": [
        "\"\"\"\n",
        "Creates the matrices for the Elman model, in this case W1 and V\n",
        "@param contextConcatInputLayerSize\n",
        "@param hiddenLayerSize\n",
        "@param outputLayerSize\n",
        "@return W1 and V parameter matrices\n",
        "\"\"\"\n",
        "def createMultilayerPerceptronParameters(inputLayerSize, hiddenLayerSize, outputLayerSize):\n",
        "    #W1 with contextConcatInputLayerSize x hiddenLayerSize dimensions\n",
        "    Wo = torch.FloatTensor(inputLayerSize, hiddenLayerSize).type(dtype)\n",
        "    #randomly init W1 parameter matrix with mean 0 and std 0.4\n",
        "    init.uniform_(Wo, 0.0, 1.0)\n",
        "    #BIAS CORRECTION\n",
        "    Wo[:, 0] = float('NaN');\n",
        "    #pytorch variable with grad requirement\n",
        "    #Wo = Variable(Wo, requires_grad = False)\n",
        "    # randomly init Ws parameter matrix with mean 0 and std 0.3\n",
        "    #+ 1 for the bias\n",
        "    Ws = torch.FloatTensor(hiddenLayerSize, outputLayerSize).type(dtype)\n",
        "    init.uniform_(Ws, 0.0, 1.0)\n",
        "    \n",
        "    return (Wo, Ws)\n",
        "\n",
        "\n",
        "\n",
        "def createMultilayerPerceptronParametersTest(inputLayerSize, hiddenLayerSize, outputLayerSize):\n",
        "    #W1 with contextConcatInputLayerSize x hiddenLayerSize dimensions\n",
        "    Wo = torch.FloatTensor([[0, -1, 0], [0, 3, -2], [0, 1, 2]]).type(dtype)\n",
        "    #randomly init W1 parameter matrix with mean 0 and std 0.4\n",
        "    \n",
        "    Ws = torch.FloatTensor([[ -1], [-2], [3]]).type(dtype)\n",
        "    \n",
        "    #DeltaO = torch.FloatTensor(hiddenLayerSize, 1).type(dtype)\n",
        "    #DeltaS = torch.FloatTensor(outputLayerSize, 1).type(dtype)\n",
        "    \n",
        "    return (Wo, Ws)"
      ],
      "execution_count": 0,
      "outputs": []
    },
    {
      "cell_type": "code",
      "metadata": {
        "id": "0NaCArjEDPnX",
        "colab_type": "code",
        "colab": {}
      },
      "source": [
        "\"\"\"\n",
        "Evaluates the model\n",
        "@param Wo, Hidden weights, inputLayerSize x hiddenLayerSize\n",
        "@param Ws, OutputNetValues, hiddenLayerSize x outputLayerSize\n",
        "@param X, NumSamples x inputLayerSize\n",
        "@return HiddenOutput: NumSamples x  hiddenLayerSize, OutputNetValues\n",
        "\"\"\"\n",
        "def forwardPass(Wo, Ws, X):\n",
        "  #X dims: NumSamples x inputLayerSize\n",
        "  #Wo dims: inputLayerSize x hiddenLayerSize\n",
        "  #HiddenNetValues: NumSamples x  hiddenLayerSize\n",
        "  HiddenNetValues = X.mm(Wo);   \n",
        "  HiddenOutput = sigmoid(HiddenNetValues);\n",
        "  #forced bias\n",
        "  HiddenOutput[:,0] = 1;\n",
        "  #Ws: hiddenLayerSize x outputLayerSize\n",
        "  OutputNetValues = HiddenOutput.mm(Ws);    \n",
        "  #print(\"Output net values\")\n",
        "  #print(OutputNetValues)      \n",
        "  #OutputNetValues: NumSamples x outputLayerSize\n",
        "  Output = sigmoid(OutputNetValues);      \n",
        "  return (HiddenOutput, OutputNetValues, Output);\n",
        "\n",
        "\"\"\"\n",
        "Evaluates the error for a given set of outputs, and target values\n",
        "@param T, target values: Samples x inputLayerSize\n",
        "@param Yestim, model output: Samples x inputLayerSize\n",
        "@return error, scalar\n",
        "\"\"\"\n",
        "def evaluateError(Yestim, T):\n",
        "  #Element wise power\n",
        "\n",
        "  YdiffSquare = (Yestim - T)**2;  \n",
        "  error = sum(YdiffSquare);\n",
        "  return error;\n",
        "\n",
        "\"\"\"\n",
        "Updates the output layer weights\n",
        "@param Output: NumSamples x outputLayerSize\n",
        "@param T: NumSamples x outputLayerSize\n",
        "@param HiddenOutput: NumSamples x  hiddenLayerSize\n",
        "@param Ws, OutputNetValues, hiddenLayerSize x outputLayerSize\n",
        "\"\"\"\n",
        "def updateOutputWeights(Ws, HiddenOutput, T, Output, alpha):\n",
        "  #element wise multiplication, to keep a delta per samples\n",
        "  #deltaS: NumSamples x outputLayerSize\n",
        "  deltaS = (Output - T).mul(((1 - Output).mul(Output))); \n",
        "  #HiddenOutputTrans: hiddenLayerSize x NumSamples\n",
        "  HiddenOutputTrans = HiddenOutput.transpose(0, 1)\n",
        "  #deltaWs: hiddenLayerSize x outputLayerSize\n",
        "  deltaWs = HiddenOutputTrans.mm(deltaS);   \n",
        "  Wsn = Ws - alpha * deltaWs;  \n",
        "  #print(\"deltaS\")\n",
        "  #print(deltaS)\n",
        " \n",
        "  #print(\"deltaWs\")\n",
        "  #print(deltaWs)\n",
        "    \n",
        "  return (deltaS, Wsn)\n",
        "\n",
        "\n",
        "\"\"\"\n",
        "Updates hidden layer weights\n",
        "@param deltaS: Numsamples x outputLayerSize\n",
        "@param Ws: hiddenLayerSize x outputLayerSize\n",
        "@param HiddenOutput: NumSamples x  hiddenLayerSize\n",
        "@param X: NumSamples x inputLayerSize\n",
        "\"\"\"\n",
        "def updateHiddenWeights(X, Wo, Ws, deltaS, HiddenOutput, alpha):\n",
        "  #Fac1: Numsamples x hiddenLayerSize (mul, element wise multiplication)\n",
        "  Fac1 = (1 - HiddenOutput).mul(HiddenOutput)\n",
        "  Wst = Ws.transpose(0, 1)\n",
        "  #Fac2: Numsamples x hiddenLayerSize\n",
        "  Fac2 = deltaS.mm(Wst)\n",
        "  #DeltaO: Numsamples x hiddenLayerSize\n",
        "  DeltaO = Fac2.mul(Fac1);\n",
        "\n",
        "  #print(\"DeltaO\")\n",
        "  #print(DeltaO);\n",
        "    \n",
        "\n",
        "  #Xtrans: inputLayerSize x NumSamples\n",
        "  Xtrans = X.transpose(0, 1);\n",
        "  #WdeltaO  inputLayerSize x hiddenLayerSize\n",
        "  WdeltaO = Xtrans.mm(DeltaO);\n",
        "    \n",
        "    \n",
        "  #print(\"WdeltaO\")\n",
        "  #print(WdeltaO)\n",
        "    \n",
        "  Won = Wo - alpha * WdeltaO;\n",
        "  #BIAS CORRECTION\n",
        "  Won[:, 0] = float('NaN');\n",
        "  return Won;\n",
        "  "
      ],
      "execution_count": 0,
      "outputs": []
    },
    {
      "cell_type": "code",
      "metadata": {
        "id": "LmB0zvYYx9ty",
        "colab_type": "code",
        "colab": {
          "base_uri": "https://localhost:8080/",
          "height": 510
        },
        "outputId": "56817cb2-cc36-448f-9b9f-3c7bd647bcd6"
      },
      "source": [
        "\n",
        "def pruebaXOR():\n",
        "  \n",
        "    #createXORData()\n",
        "    #createXORStroke()\n",
        "    \n",
        "    #(X, T) = createInputAndGroundTruthData(sequenceLength);\n",
        "    #(X, T) = createXORData()\n",
        "    (X_pm, T_pm) = createXORStroke()\n",
        "    \n",
        "   # print(\"X \", X)\n",
        "   # print(\"T \", T)\n",
        "    \n",
        "    #print(yInput)\n",
        "    #print(yInput.shape)\n",
        "    (Wo, Ws) = createMultilayerPerceptronParameters(inputLayerSize, hiddenLayerSize, outputLayerSize)\n",
        "    \n",
        "    for epoch in range(epochs):\n",
        "    \n",
        "      (HiddenOutput, OutputNetValues, Output) = forwardPass(Wo, Ws, X_pm);\n",
        "      error = evaluateError(Output, T_pm);\n",
        "      if(epoch % 10 == 0):\n",
        "          print(\"Current epoch: \", epoch, \" and error: \", error)          \n",
        "      (deltaS, Wsn) = updateOutputWeights(Ws, HiddenOutput, T_pm, Output, learningRate);\n",
        "\n",
        "      Won = updateHiddenWeights(X_pm, Wo, Ws, deltaS, HiddenOutput, learningRate)\n",
        "      Wo = Won;\n",
        "      #print(\"Won \")\n",
        "      #print(Won)\n",
        "      Ws = Wsn;\n",
        "    \n",
        "    \n",
        "def pruebaPesos():\n",
        "    x = torch.FloatTensor([[1, 0, 1], [1, 0, 1]])\n",
        "    t = torch.FloatTensor([[0],[0]])\n",
        "    alpha = 1\n",
        "    (Wo, Ws) = createMultilayerPerceptronParametersTest(inputLayerSize, hiddenLayerSize, outputLayerSize)\n",
        "    \n",
        "    #test forward pass\n",
        "    (HiddenOutput, OutputNetValues, Output) = forwardPass(Wo, Ws, x)  \n",
        "    #test output weights update\n",
        "    (deltaS, Wsn) = updateOutputWeights(Ws, HiddenOutput, t, Output, alpha)\n",
        "    print(\"Wsn\")\n",
        "    print(Wsn)\n",
        "    #test hidden weights update\n",
        "    Won = updateHiddenWeights(x, Wo, Ws, deltaS, HiddenOutput, alpha)\n",
        "    print(\"Won \")\n",
        "    print(Won)\n",
        "\"\"\"\n",
        "Funcion principal\n",
        "\"\"\"\n",
        "def main():\n",
        "    pruebaXOR()\n",
        "\n",
        "if __name__ == '__main__':\n",
        "    main()"
      ],
      "execution_count": 100,
      "outputs": [
        {
          "output_type": "stream",
          "text": [
            "Current epoch:  0  and error:  tensor([5.9980e+01, 5.9980e+01, 5.9980e+01, 5.9980e+01, 5.9980e+01, 5.9980e+01,\n",
            "        5.9980e+01, 5.9980e+01, 5.9980e+01, 5.9980e+01, 1.7520e-06, 5.9980e+01,\n",
            "        5.9980e+01, 5.9980e+01, 5.9980e+01, 5.9980e+01, 5.9980e+01, 5.9980e+01,\n",
            "        5.9980e+01, 5.9980e+01, 5.9980e+01, 5.9980e+01, 5.9980e+01, 5.9980e+01,\n",
            "        5.9980e+01, 5.9980e+01, 5.9980e+01, 5.9980e+01, 5.9980e+01, 5.9980e+01,\n",
            "        5.9980e+01, 5.9980e+01, 1.7520e-06, 5.9980e+01, 5.9980e+01, 5.9980e+01,\n",
            "        5.9980e+01, 5.9980e+01, 5.9980e+01, 5.9980e+01, 5.9980e+01, 5.9980e+01,\n",
            "        1.7520e-06, 5.9980e+01, 5.9980e+01, 5.9980e+01, 5.9980e+01, 5.9980e+01,\n",
            "        5.9980e+01, 5.9980e+01, 5.9980e+01, 5.9980e+01, 5.9980e+01, 5.9980e+01,\n",
            "        5.9980e+01, 5.9980e+01, 5.9980e+01, 5.9980e+01, 5.9980e+01, 5.9980e+01])\n"
          ],
          "name": "stdout"
        },
        {
          "output_type": "error",
          "ename": "RuntimeError",
          "evalue": "ignored",
          "traceback": [
            "\u001b[0;31m---------------------------------------------------------------------------\u001b[0m",
            "\u001b[0;31mRuntimeError\u001b[0m                              Traceback (most recent call last)",
            "\u001b[0;32m<ipython-input-100-9fe0e9f81585>\u001b[0m in \u001b[0;36m<module>\u001b[0;34m()\u001b[0m\n\u001b[1;32m     52\u001b[0m \u001b[0;34m\u001b[0m\u001b[0m\n\u001b[1;32m     53\u001b[0m \u001b[0;32mif\u001b[0m \u001b[0m__name__\u001b[0m \u001b[0;34m==\u001b[0m \u001b[0;34m'__main__'\u001b[0m\u001b[0;34m:\u001b[0m\u001b[0;34m\u001b[0m\u001b[0;34m\u001b[0m\u001b[0m\n\u001b[0;32m---> 54\u001b[0;31m     \u001b[0mmain\u001b[0m\u001b[0;34m(\u001b[0m\u001b[0;34m)\u001b[0m\u001b[0;34m\u001b[0m\u001b[0;34m\u001b[0m\u001b[0m\n\u001b[0m",
            "\u001b[0;32m<ipython-input-100-9fe0e9f81585>\u001b[0m in \u001b[0;36mmain\u001b[0;34m()\u001b[0m\n\u001b[1;32m     49\u001b[0m \"\"\"\n\u001b[1;32m     50\u001b[0m \u001b[0;32mdef\u001b[0m \u001b[0mmain\u001b[0m\u001b[0;34m(\u001b[0m\u001b[0;34m)\u001b[0m\u001b[0;34m:\u001b[0m\u001b[0;34m\u001b[0m\u001b[0;34m\u001b[0m\u001b[0m\n\u001b[0;32m---> 51\u001b[0;31m     \u001b[0mpruebaXOR\u001b[0m\u001b[0;34m(\u001b[0m\u001b[0;34m)\u001b[0m\u001b[0;34m\u001b[0m\u001b[0;34m\u001b[0m\u001b[0m\n\u001b[0m\u001b[1;32m     52\u001b[0m \u001b[0;34m\u001b[0m\u001b[0m\n\u001b[1;32m     53\u001b[0m \u001b[0;32mif\u001b[0m \u001b[0m__name__\u001b[0m \u001b[0;34m==\u001b[0m \u001b[0;34m'__main__'\u001b[0m\u001b[0;34m:\u001b[0m\u001b[0;34m\u001b[0m\u001b[0;34m\u001b[0m\u001b[0m\n",
            "\u001b[0;32m<ipython-input-100-9fe0e9f81585>\u001b[0m in \u001b[0;36mpruebaXOR\u001b[0;34m()\u001b[0m\n\u001b[1;32m     22\u001b[0m       \u001b[0;34m(\u001b[0m\u001b[0mdeltaS\u001b[0m\u001b[0;34m,\u001b[0m \u001b[0mWsn\u001b[0m\u001b[0;34m)\u001b[0m \u001b[0;34m=\u001b[0m \u001b[0mupdateOutputWeights\u001b[0m\u001b[0;34m(\u001b[0m\u001b[0mWs\u001b[0m\u001b[0;34m,\u001b[0m \u001b[0mHiddenOutput\u001b[0m\u001b[0;34m,\u001b[0m \u001b[0mT_pm\u001b[0m\u001b[0;34m,\u001b[0m \u001b[0mOutput\u001b[0m\u001b[0;34m,\u001b[0m \u001b[0mlearningRate\u001b[0m\u001b[0;34m)\u001b[0m\u001b[0;34m;\u001b[0m\u001b[0;34m\u001b[0m\u001b[0;34m\u001b[0m\u001b[0m\n\u001b[1;32m     23\u001b[0m \u001b[0;34m\u001b[0m\u001b[0m\n\u001b[0;32m---> 24\u001b[0;31m       \u001b[0mWon\u001b[0m \u001b[0;34m=\u001b[0m \u001b[0mupdateHiddenWeights\u001b[0m\u001b[0;34m(\u001b[0m\u001b[0mX_pm\u001b[0m\u001b[0;34m,\u001b[0m \u001b[0mWo\u001b[0m\u001b[0;34m,\u001b[0m \u001b[0mWs\u001b[0m\u001b[0;34m,\u001b[0m \u001b[0mdeltaS\u001b[0m\u001b[0;34m,\u001b[0m \u001b[0mHiddenOutput\u001b[0m\u001b[0;34m,\u001b[0m \u001b[0mlearningRate\u001b[0m\u001b[0;34m)\u001b[0m\u001b[0;34m\u001b[0m\u001b[0;34m\u001b[0m\u001b[0m\n\u001b[0m\u001b[1;32m     25\u001b[0m       \u001b[0mWo\u001b[0m \u001b[0;34m=\u001b[0m \u001b[0mWon\u001b[0m\u001b[0;34m;\u001b[0m\u001b[0;34m\u001b[0m\u001b[0;34m\u001b[0m\u001b[0m\n\u001b[1;32m     26\u001b[0m       \u001b[0;31m#print(\"Won \")\u001b[0m\u001b[0;34m\u001b[0m\u001b[0;34m\u001b[0m\u001b[0;34m\u001b[0m\u001b[0m\n",
            "\u001b[0;32m<ipython-input-86-e4b850cff9bb>\u001b[0m in \u001b[0;36mupdateHiddenWeights\u001b[0;34m(X, Wo, Ws, deltaS, HiddenOutput, alpha)\u001b[0m\n\u001b[1;32m     72\u001b[0m   \u001b[0mWst\u001b[0m \u001b[0;34m=\u001b[0m \u001b[0mWs\u001b[0m\u001b[0;34m.\u001b[0m\u001b[0mtranspose\u001b[0m\u001b[0;34m(\u001b[0m\u001b[0;36m0\u001b[0m\u001b[0;34m,\u001b[0m \u001b[0;36m1\u001b[0m\u001b[0;34m)\u001b[0m\u001b[0;34m\u001b[0m\u001b[0;34m\u001b[0m\u001b[0m\n\u001b[1;32m     73\u001b[0m   \u001b[0;31m#Fac2: Numsamples x hiddenLayerSize\u001b[0m\u001b[0;34m\u001b[0m\u001b[0;34m\u001b[0m\u001b[0;34m\u001b[0m\u001b[0m\n\u001b[0;32m---> 74\u001b[0;31m   \u001b[0mFac2\u001b[0m \u001b[0;34m=\u001b[0m \u001b[0mdeltaS\u001b[0m\u001b[0;34m.\u001b[0m\u001b[0mmm\u001b[0m\u001b[0;34m(\u001b[0m\u001b[0mWst\u001b[0m\u001b[0;34m)\u001b[0m\u001b[0;34m\u001b[0m\u001b[0;34m\u001b[0m\u001b[0m\n\u001b[0m\u001b[1;32m     75\u001b[0m   \u001b[0;31m#DeltaO: Numsamples x hiddenLayerSize\u001b[0m\u001b[0;34m\u001b[0m\u001b[0;34m\u001b[0m\u001b[0;34m\u001b[0m\u001b[0m\n\u001b[1;32m     76\u001b[0m   \u001b[0mDeltaO\u001b[0m \u001b[0;34m=\u001b[0m \u001b[0mFac2\u001b[0m\u001b[0;34m.\u001b[0m\u001b[0mmul\u001b[0m\u001b[0;34m(\u001b[0m\u001b[0mFac1\u001b[0m\u001b[0;34m)\u001b[0m\u001b[0;34m;\u001b[0m\u001b[0;34m\u001b[0m\u001b[0;34m\u001b[0m\u001b[0m\n",
            "\u001b[0;31mRuntimeError\u001b[0m: size mismatch, m1: [60 x 60], m2: [1 x 16] at /pytorch/aten/src/TH/generic/THTensorMath.cpp:961"
          ]
        }
      ]
    },
    {
      "cell_type": "code",
      "metadata": {
        "id": "Lb8whii7yJOQ",
        "colab_type": "code",
        "colab": {
          "base_uri": "https://localhost:8080/",
          "height": 34
        },
        "outputId": "07268b40-c5c2-4b54-a20a-23ffaf2ba199"
      },
      "source": [
        "epochs"
      ],
      "execution_count": 49,
      "outputs": [
        {
          "output_type": "execute_result",
          "data": {
            "text/plain": [
              "1000"
            ]
          },
          "metadata": {
            "tags": []
          },
          "execution_count": 49
        }
      ]
    },
    {
      "cell_type": "code",
      "metadata": {
        "id": "s1ZsFu_TyaqG",
        "colab_type": "code",
        "colab": {
          "base_uri": "https://localhost:8080/",
          "height": 231
        },
        "outputId": "c5be70d0-a226-4831-90e8-2e53c25b88cb"
      },
      "source": [
        "import matplotlib.pyplot as plt\n",
        "from sklearn.metrics import roc_auc_score\n",
        "from sklearn.metrics import roc_curve\n",
        "#model.predict(X_test)\n",
        "#X_test\n",
        "#X_train, X_validation, Y_train, Y_validation\n",
        "#y_train\n",
        "#Y_train\n",
        "\n",
        "logit_roc_auc = roc_auc_score(T_pm, lRegression.predict(X_pm))\n",
        "fpr, tpr, thresholds = roc_curve(T_pm, lRegression.predict_proba(X_pm)[:,1])\n",
        "\n",
        "#logit_roc_auc = roc_auc_score(Y_train, model.predict(X_train))\n",
        "#fpr, tpr, thresholds = roc_curve(Y_train, model.predict_proba(X_train)[:,1])\n",
        "\n",
        "\n",
        "plt.figure()\n",
        "plt.plot(fpr, tpr, label='Regresión Logística (área = %0.2f)' % logit_roc_auc)\n",
        "plt.plot([0, 1], [0, 1],'r--')\n",
        "plt.xlim([0.0, 1.0])\n",
        "plt.ylim([0.0, 1.05])\n",
        "plt.xlabel('Tasa de Falsos Positivos')\n",
        "plt.ylabel('Tasa de Verdaderos Positivos')\n",
        "plt.title('Característica de funcionamiento del receptor (Curva ROC)')\n",
        "plt.legend(loc=\"lower right\")\n",
        "plt.savefig('Log_ROC')\n",
        "plt.show()"
      ],
      "execution_count": 101,
      "outputs": [
        {
          "output_type": "error",
          "ename": "NameError",
          "evalue": "ignored",
          "traceback": [
            "\u001b[0;31m---------------------------------------------------------------------------\u001b[0m",
            "\u001b[0;31mNameError\u001b[0m                                 Traceback (most recent call last)",
            "\u001b[0;32m<ipython-input-101-ea4c4d33b33a>\u001b[0m in \u001b[0;36m<module>\u001b[0;34m()\u001b[0m\n\u001b[1;32m      8\u001b[0m \u001b[0;31m#Y_train\u001b[0m\u001b[0;34m\u001b[0m\u001b[0;34m\u001b[0m\u001b[0;34m\u001b[0m\u001b[0m\n\u001b[1;32m      9\u001b[0m \u001b[0;34m\u001b[0m\u001b[0m\n\u001b[0;32m---> 10\u001b[0;31m \u001b[0mlogit_roc_auc\u001b[0m \u001b[0;34m=\u001b[0m \u001b[0mroc_auc_score\u001b[0m\u001b[0;34m(\u001b[0m\u001b[0mT_pm\u001b[0m\u001b[0;34m,\u001b[0m \u001b[0mlRegression\u001b[0m\u001b[0;34m.\u001b[0m\u001b[0mpredict\u001b[0m\u001b[0;34m(\u001b[0m\u001b[0mX_pm\u001b[0m\u001b[0;34m)\u001b[0m\u001b[0;34m)\u001b[0m\u001b[0;34m\u001b[0m\u001b[0;34m\u001b[0m\u001b[0m\n\u001b[0m\u001b[1;32m     11\u001b[0m \u001b[0mfpr\u001b[0m\u001b[0;34m,\u001b[0m \u001b[0mtpr\u001b[0m\u001b[0;34m,\u001b[0m \u001b[0mthresholds\u001b[0m \u001b[0;34m=\u001b[0m \u001b[0mroc_curve\u001b[0m\u001b[0;34m(\u001b[0m\u001b[0mT_pm\u001b[0m\u001b[0;34m,\u001b[0m \u001b[0mlRegression\u001b[0m\u001b[0;34m.\u001b[0m\u001b[0mpredict_proba\u001b[0m\u001b[0;34m(\u001b[0m\u001b[0mX_pm\u001b[0m\u001b[0;34m)\u001b[0m\u001b[0;34m[\u001b[0m\u001b[0;34m:\u001b[0m\u001b[0;34m,\u001b[0m\u001b[0;36m1\u001b[0m\u001b[0;34m]\u001b[0m\u001b[0;34m)\u001b[0m\u001b[0;34m\u001b[0m\u001b[0;34m\u001b[0m\u001b[0m\n\u001b[1;32m     12\u001b[0m \u001b[0;34m\u001b[0m\u001b[0m\n",
            "\u001b[0;31mNameError\u001b[0m: name 'T_pm' is not defined"
          ]
        }
      ]
    },
    {
      "cell_type": "markdown",
      "metadata": {
        "id": "rA0JGp4snZVL",
        "colab_type": "text"
      },
      "source": [
        "Nota: Para la regresión logística, pude entender más el concepto y fue un poco más fácil aplicarlo eso si después de una larga investigación, para la parte del perceptrón, utilice el código propuesto por el profesor, utilizando los datos de testing, pero aun así no lo pude ejecutar bien."
      ]
    }
  ]
}