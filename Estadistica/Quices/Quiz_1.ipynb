{
  "nbformat": 4,
  "nbformat_minor": 0,
  "metadata": {
    "colab": {
      "name": "Quiz 1.ipynb",
      "provenance": [],
      "collapsed_sections": []
    },
    "kernelspec": {
      "name": "python3",
      "display_name": "Python 3"
    }
  },
  "cells": [
    {
      "cell_type": "markdown",
      "metadata": {
        "id": "5xT4-ktIJB7Q",
        "colab_type": "text"
      },
      "source": [
        "# Estadística para Ciencia de los Datos\n",
        "# Quiz #1 - Semana #5\n"
      ]
    },
    {
      "cell_type": "markdown",
      "metadata": {
        "id": "D2TSRjl1JUXX",
        "colab_type": "text"
      },
      "source": [
        "##Instrucciones\n",
        "\n",
        "Realice los siguientes ejercicios y envíe sus respuestas, en un archivo PDF, a través de TEC Digital a más tardar el **lunes 21 de octubre a las 12 medio día** No se aceptarán entregas tardías.\n",
        "\n",
        "Desarrolle todos los ejercicios con el mayor nivel de detalle posible. Se espera que el desarrollo algebraico sea formal. No será válido únicamente dar respuestas en prosa a las preguntas.\n",
        "\n",
        "\n",
        "1. Una caja contiene 7 bolas blancas y 3 rojas. Otra caja contiene 5 bolas blancas y 5 bolas rojas. Se extrae al azar una bola de la primera caja y se pone con las bolas de la segunda caja. Se extrae luego una bola al azar de la segunda caja. \n",
        "Sea: \n",
        "\n",
        "  $A=$ bola roja en la primera extración\n",
        "  \n",
        "  $B=$ bola roja en la segunda extración\n",
        "\n",
        "- Calcula la probabilidad de obtener bola roja en la primera extración $P(A)$. (5 puntos)\n",
        "- Calcule la probabilidad de obtener bola roja en la segunda extración $P(B/A)$. (5 puntos)\n",
        "- Calcule la probabilidad de obtener bola roja en la primera y en la segunda extración $P(AB)$. (5 puntos)\n",
        "- Explique y demuestre con base en los resultados de los puntos anteriores por A y B no son eventos independientes. (5 puntos)\n",
        "\n",
        "2. Se lanza un dado equilibrado. Sea $A=$ sale número par y $B=$ sale 1,2,3 o 4. ¿Son $A$ y $B$ independientes? (10 puntos)\n",
        "\n",
        "\n",
        "3. El dataset 'SegurosNuevos500V2016VE' contiene información de 500 nuevos clientes de una aseguradora. Trabaje con este dataset y resuleva los siguientes enunaciados: \n",
        "\n",
        "\n",
        "- **a) Estadísticas descriptivas:** Calcule la media, variancia, desviación estándar, mínimo, máximo, mediana, percentiles 25 y 75 de las variables Interes, MontoAsegurado y Edad. (15 puntos)\n",
        "-  b) Interprete el percentil 25 de Interes. La unidad de medición de la variable Interes es porcentaje (%) (5 puntos)\n",
        "- c) Construya histogramas de las variables MontoAsegurado y Edad. (10 puntos)\n",
        "- d) Con base en los histogramas de MontoAsegurado y Edad y los valores sus medias y medianas justifique si se trata de una distribución simétrica o asimétrica. En caso de que alguna de las variables tenga una distribución asimétrica, especifique que tipo de asimetría presenta.  (10 puntos)\n",
        "- **e) Análisis de relación lineal:** Construya un gráfico de dispersión entre las variables Edad $(x)$ y MontoAsegurado $(y)$ y comente si el gráfico evidencia algún tipo de relación lineal entre ellas. (10 puntos)\n",
        "- f) Calcule la covariancia entre Edad $(x)$ y MontoAsegurado $(y)$. (5 puntos)\n",
        "- g) Calcule el coefiente de correlación de Pearson entre Edad $(x)$ y MontoAsegurado $(y)$. Explique, en caso de que exista alguna relación, la magnitud y dirección de está y mencione si se trata de una relación baja, moderada o alta. (5 puntos)\n",
        "- **h) Intervalos de confianza:** Estime e interpreta un intervalo de confianza al 90% para la variable MontoAsegurado. La unidad de medición de esta variable es colones. (10 puntos)\n",
        "- **i) Pruebas de normalidad:** Evalue gráficamente y por medio de la prueba de Kolgomorov Smirnov la normalidad de las siguientes variables: MontoAsegurado y Edad. Explique detallamente que muestran los gráficos de histograma y qqplot sobre la normalidad de cada una. Para la prueba de Kolgomorov use un 5% de significancia y concluye usando el p-value. (25 puntos)\n",
        "\n",
        "\n",
        "4. Suponga que la probabilidad de mal funcionamiento de un motor durante cualquier periodo de una hora es p=0.02. $Y$ es una variable aleotoria definida como la cantidad de horas hasta la primera falla de un motor determinado.\n",
        "\n",
        "- De acuerdo con la descripción del problema que distribución sigue la variable aleatoria $Y$. (1 punto)\n",
        "- Encuentre la probabilidad de que un motor determinado funcione bien dos horas. (3 puntos)\n",
        "- Encuentre la media y la variancia de $Y$. (4 puntos)"
      ]
    },
    {
      "cell_type": "markdown",
      "metadata": {
        "id": "w8yGr-rJVYDh",
        "colab_type": "text"
      },
      "source": [
        "**Punto #1**"
      ]
    },
    {
      "cell_type": "markdown",
      "metadata": {
        "id": "b8uSJ-MzYrMo",
        "colab_type": "text"
      },
      "source": [
        "![texto alternativo](https://lh3.googleusercontent.com/PCByvLV8pkZPyc0blmUQLYlX1ITbjV_doOUXE9dVOqT0nB1y5vctI5p7hg4iGVei24pfClG8onP_6OihdilBjFb5ZcEJnObaiUsdvYBBAlJO3TBju-k4RgKVeFh3CdT-a9mk8A1JN3hFqfWlhackx9eYAgEYRFb-LRC4as1Uexli2Q2bmHo-AKBr17dkbL4bqokle2dbKl3WyS1twl_aLx23mpzR_F_W5T9Sj7SO44FQ_lfvrqzT1bkWqtHVtQG5f10qOSS10rcmSlQ7Vpu7jUOighoa2Ozdrwt4vgAilFJ3fiB4pcb-UEahgfBxefCyUUJJp2Kz08JD1yzxPUTecqnY4bRE5Rmmu_DpWZ9AxzH91BiIsPQnu2cq3bdUPqAwmeMBqqj4vYdcL4JuYlctaIpz-cAWJwyjNAbuH-2LESpcRFgdHeOhy5XyX8d4z-verwP_XcCXffq6SteKyqXUMPhUCz1rUosffq6PYRQWskfcWxhP99i2OFNt7eeZh3I3NIM4Fv8skcROFJv4D46F48lH10lyjpLxeA57YghWX1L-Pj4R1lqdQpt72BJ_r8lZhp2bYfz_AQLCD3iyFcOzyQM5mB4uz3IvyZqDWahs00rmRsuL5-no08Y6UKfF4zAzkoWqYzYkyhf1K1jUmLfrJ-ogZqy8H57HgUAcYTur1lpNqcRNavq-Bw=w799-h939-no)"
      ]
    },
    {
      "cell_type": "markdown",
      "metadata": {
        "id": "H6v5nQhwVbDM",
        "colab_type": "text"
      },
      "source": [
        "**Punto #2**"
      ]
    },
    {
      "cell_type": "markdown",
      "metadata": {
        "id": "SgcLhlUSe_Rv",
        "colab_type": "text"
      },
      "source": [
        "![texto alternativo](https://lh3.googleusercontent.com/1-pBG9zoyz_BU3atpU6RCM9fAhDZYi_HxorTIj3D_sZ8r3JYS6pokpyusuC1Xuc3c5GoakLVyDhEPPG1VXLZufXPpE33oEouMMYBFF-iJwSpChyzmJEBglIkJdyn2xzpHnp73Cu_d3cJp9ZFlkNdME_lN873Lx0KWkUh1X-p2g8JHboPYAAMF4h7AkeyS1MDP3ljjKMYR2pkcNgxNQvuGmlStMHLRJBykrgW7P0JBi0quO4zI0PvRtyncCXfC7ENJMbKCa65ryh1zI98nsdgVkU2Wn7esKc2FLmbdbrqdz_RRzD59smfAJDbzUChnEouAKZPKgtgEdHwaz6pa_ohLqBiABvQbU7fLYhRYsnNF78qaONnzJEfJxWTuF1SiPxhzsyRRKUKL28b6R8wZS-eF4oWFw1ms8PXqgTz2UFZuJl69F6-D9oK8MiPF7wOr0VId-uAKFP4aVXk6sQgDwEUMYKLxbt63xWtwXNqp5CDKADRzhKnjegCak5kFT9xOzxijHanKzl0RaDuinm0eShwPHr0XyjAPC8mf3E-M_Y9mFiaQqEjt-1hT1HlxHi0jYVnIxGmuwYWuJeJgoH0Hb4hGN1SyzIMaLhv8FkJF6cbwDcqP-H1ZT1gJ0z6gBqz4qbf4vQ_j-1JMNq96xjAgujj9JvFet3-Jo9CBBNKmClal0fpNAaQUOwHVg=w1400-h827-no)"
      ]
    },
    {
      "cell_type": "markdown",
      "metadata": {
        "id": "kyXuYgcFAm1-",
        "colab_type": "text"
      },
      "source": [
        "**Punto #3**\n"
      ]
    },
    {
      "cell_type": "code",
      "metadata": {
        "id": "D1TULYV4DGSq",
        "colab_type": "code",
        "colab": {}
      },
      "source": [
        "import numpy as np\n",
        "import math\n",
        "import scipy.stats as stats\n",
        "import pandas as pd\n",
        "import matplotlib.pyplot as plt\n",
        "from math import factorial as fac\n",
        "from scipy.stats import binom\n",
        "import scipy.stats as ss\n",
        "\n",
        "import torch\n",
        "from torch.distributions import Exponential\n",
        "from torch.distributions import Uniform\n",
        "from torch.distributions import Normal\n",
        "from torch.distributions.exp_family import ExponentialFamily\n",
        "from torch.distributions.utils import broadcast_all\n"
      ],
      "execution_count": 0,
      "outputs": []
    },
    {
      "cell_type": "code",
      "metadata": {
        "id": "XP6et9q1Ar1b",
        "colab_type": "code",
        "colab": {}
      },
      "source": [
        "# lectura del dataset\n",
        "data= pd.read_csv(\"https://raw.githubusercontent.com/jpablofdez/DataScience/master/Estadistica/Quices/SegurosNuevos500V2016VE.csv\", sep=';')\n"
      ],
      "execution_count": 0,
      "outputs": []
    },
    {
      "cell_type": "code",
      "metadata": {
        "id": "PAECEINRDw0y",
        "colab_type": "code",
        "outputId": "58c9180d-18c2-4c67-9381-4efcbcb41e80",
        "colab": {
          "base_uri": "https://localhost:8080/",
          "height": 204
        }
      },
      "source": [
        "data.head()"
      ],
      "execution_count": 0,
      "outputs": [
        {
          "output_type": "execute_result",
          "data": {
            "text/html": [
              "<div>\n",
              "<style scoped>\n",
              "    .dataframe tbody tr th:only-of-type {\n",
              "        vertical-align: middle;\n",
              "    }\n",
              "\n",
              "    .dataframe tbody tr th {\n",
              "        vertical-align: top;\n",
              "    }\n",
              "\n",
              "    .dataframe thead th {\n",
              "        text-align: right;\n",
              "    }\n",
              "</style>\n",
              "<table border=\"1\" class=\"dataframe\">\n",
              "  <thead>\n",
              "    <tr style=\"text-align: right;\">\n",
              "      <th></th>\n",
              "      <th>Interes</th>\n",
              "      <th>Tipo</th>\n",
              "      <th>MontoAsegurado</th>\n",
              "      <th>TipoPago</th>\n",
              "      <th>ModoPago</th>\n",
              "      <th>Fiador</th>\n",
              "      <th>Fiador2</th>\n",
              "      <th>OtroSeguro</th>\n",
              "      <th>Record</th>\n",
              "      <th>Edad</th>\n",
              "      <th>EstadoCivil</th>\n",
              "      <th>Fraude</th>\n",
              "    </tr>\n",
              "  </thead>\n",
              "  <tbody>\n",
              "    <tr>\n",
              "      <th>0</th>\n",
              "      <td>12</td>\n",
              "      <td>Nacional</td>\n",
              "      <td>1522673</td>\n",
              "      <td>A</td>\n",
              "      <td>Tarjeta</td>\n",
              "      <td>Si</td>\n",
              "      <td>Si</td>\n",
              "      <td>No</td>\n",
              "      <td>R0</td>\n",
              "      <td>39</td>\n",
              "      <td>Soltero</td>\n",
              "      <td>No</td>\n",
              "    </tr>\n",
              "    <tr>\n",
              "      <th>1</th>\n",
              "      <td>12</td>\n",
              "      <td>Nacional</td>\n",
              "      <td>613582</td>\n",
              "      <td>A</td>\n",
              "      <td>Tarjeta</td>\n",
              "      <td>Si</td>\n",
              "      <td>No</td>\n",
              "      <td>No</td>\n",
              "      <td>R0</td>\n",
              "      <td>32</td>\n",
              "      <td>Soltero</td>\n",
              "      <td>No</td>\n",
              "    </tr>\n",
              "    <tr>\n",
              "      <th>2</th>\n",
              "      <td>13</td>\n",
              "      <td>Nacional</td>\n",
              "      <td>1040854</td>\n",
              "      <td>A</td>\n",
              "      <td>Tarjeta</td>\n",
              "      <td>No</td>\n",
              "      <td>No</td>\n",
              "      <td>No</td>\n",
              "      <td>R0</td>\n",
              "      <td>35</td>\n",
              "      <td>Soltero</td>\n",
              "      <td>No</td>\n",
              "    </tr>\n",
              "    <tr>\n",
              "      <th>3</th>\n",
              "      <td>18</td>\n",
              "      <td>Nacional</td>\n",
              "      <td>620247</td>\n",
              "      <td>A</td>\n",
              "      <td>Tarjeta</td>\n",
              "      <td>Si</td>\n",
              "      <td>No</td>\n",
              "      <td>No</td>\n",
              "      <td>R0</td>\n",
              "      <td>40</td>\n",
              "      <td>Soltero</td>\n",
              "      <td>No</td>\n",
              "    </tr>\n",
              "    <tr>\n",
              "      <th>4</th>\n",
              "      <td>17</td>\n",
              "      <td>Nacional</td>\n",
              "      <td>401461</td>\n",
              "      <td>A</td>\n",
              "      <td>Tarjeta</td>\n",
              "      <td>No</td>\n",
              "      <td>No</td>\n",
              "      <td>No</td>\n",
              "      <td>R0</td>\n",
              "      <td>32</td>\n",
              "      <td>Soltero</td>\n",
              "      <td>No</td>\n",
              "    </tr>\n",
              "  </tbody>\n",
              "</table>\n",
              "</div>"
            ],
            "text/plain": [
              "   Interes      Tipo  MontoAsegurado TipoPago  ... Record Edad EstadoCivil Fraude\n",
              "0       12  Nacional         1522673        A  ...     R0   39     Soltero     No\n",
              "1       12  Nacional          613582        A  ...     R0   32     Soltero     No\n",
              "2       13  Nacional         1040854        A  ...     R0   35     Soltero     No\n",
              "3       18  Nacional          620247        A  ...     R0   40     Soltero     No\n",
              "4       17  Nacional          401461        A  ...     R0   32     Soltero     No\n",
              "\n",
              "[5 rows x 12 columns]"
            ]
          },
          "metadata": {
            "tags": []
          },
          "execution_count": 6
        }
      ]
    },
    {
      "cell_type": "markdown",
      "metadata": {
        "id": "_AsRqqKREEhW",
        "colab_type": "text"
      },
      "source": [
        "a) Estadísticas descriptivas: Calcule la media, variancia, desviación estándar, mínimo, máximo, mediana, percentiles 25 y 75 de las variables Interes, MontoAsegurado y Edad. (15 puntos)"
      ]
    },
    {
      "cell_type": "code",
      "metadata": {
        "id": "GXYf9_7vdO8h",
        "colab_type": "code",
        "colab": {}
      },
      "source": [
        "def MostrarDistribucion(datos,columna,binPlot=10):\n",
        "  plt.figure()\n",
        "  n, bins, patches = plt.hist(datos,density=True,bins=binPlot)\n",
        "  plt.ylabel(\"Probability\")\n",
        "  plt.title(\"Distribución de Columna: \"+columna)\n",
        "  plt.show()\n",
        "\n",
        "def MuestrasColumna(datosColumna,n,totalMuestras,useSeed=False,seedAdd=0):\n",
        "  muestras = []\n",
        "  medias = []\n",
        "  for i in range(totalMuestras):\n",
        "    if(useSeed):\n",
        "      np.random.seed(i+seedAdd)\n",
        "    muestra = np.random.choice(datosColumna, n)\n",
        "    muestras.append(muestra)\n",
        "    media = np.average(muestra)\n",
        "    medias.append(media)\n",
        "  return(muestras,medias)\n",
        "\n",
        "def MostrarColumna(mediasColumna,columna):\n",
        "  media = round(np.average(mediasColumna),3)\n",
        "  print(\"Media Muestral:\",media)\n",
        "  print(\"\\n\")\n",
        "  plt.figure()\n",
        "  plt.hist(mediasColumna)\n",
        "  plt.title(\"Distribución de Muetras de Columna: \"+columna)\n",
        "  plt.axvline(media,linewidth=1, color='r')\n",
        "  plt.show()\n",
        "  \n",
        "def ErrorBarColumna(mediasColumna,muGeneral,error):\n",
        "  plt.figure()\n",
        "  plt.errorbar(np.arange(len(mediasColumna))+1,mediasColumna, yerr=error, ls='',\n",
        "                            elinewidth=1, capsize=5)\n",
        "  plt.scatter(np.arange(len(mediasColumna))+1,mediasColumna,s=8)\n",
        "  plt.axhline(muGeneral, color='r',lw=1,label=\"u\")\n",
        "  plt.show()\n",
        "\n",
        "  \n",
        "def ObtenerMuestra(datos,n,seed=10):\n",
        "  np.random.seed(seed)\n",
        "  muestra = np.random.choice(datos, n)\n",
        "  xbar = np.average(muestra)\n",
        "  print(\"Media de la muestra (x barra):\",round(xbar,3))\n",
        "  return xbar\n",
        "\n",
        "def IntervalosConfianza(mu,sigma,intervalo,n,canPrint=True):\n",
        "  div = sigma / math.sqrt(n)\n",
        "  zAlpha = stats.norm.ppf((1+intervalo)/2)\n",
        "  rango = zAlpha*div\n",
        "  superior = mu + rango\n",
        "  inferior = mu - rango\n",
        "  if(canPrint):\n",
        "    print()\n",
        "    print(\"Confianza:\",intervalo)\n",
        "    print(\"Rango inferior:\",inferior)\n",
        "    print(\"Rango superior:\",superior)\n",
        "    print()\n",
        "    print(\"P(\"+str(round(inferior,2))+\" <= mu <= \"+str(round(superior,2))+\") = \"+str(intervalo))\n",
        "  return(inferior,superior)\n",
        "\n",
        "def TamanoN(sigma,error,intervalo):\n",
        "  zValue = stats.norm.ppf((1+intervalo)/2)\n",
        "  nResultado = ((zValue * sigma)/error) ** 2\n",
        "  return math.ceil(nResultado)\n",
        "\n",
        "def HistogramasResultados(datos,binPlot=10):\n",
        "  histogram, histogramX = np.histogram(datos,bins=binPlot)\n",
        "  \n",
        "  histogram = torch.tensor(histogram,dtype=torch.float64)\n",
        "  histogramX = torch.tensor(np.delete(histogramX,0),dtype=torch.float64)\n",
        "  #number of observations\n",
        "  n = histogram.sum()\n",
        "  histogramNorm = torch.div(histogram, n)\n",
        "  #calculate cumulative sum\n",
        "  cdfEmpirical = torch.cumsum(histogramNorm, dim = 0)\n",
        "  return(histogramX,cdfEmpirical)\n",
        "\n",
        "def PlotKS(histogramX,cdfEmpirical,cdfIdeal):\n",
        "  plt.figure()\n",
        "  plt.plot(histogramX.numpy(),cdfEmpirical.numpy(),label=\"Empirico\")\n",
        "  plt.plot(histogramX.numpy(),cdfIdeal.numpy(),label=\"Ideal\",color=\"red\")\n",
        "  plt.ylabel(\"Probability\")\n",
        "  plt.legend(bbox_to_anchor=(1.05, 1), loc=2, borderaxespad=0.)\n",
        "  plt.show()\n",
        "\n",
        "def ResultadoKS(dn,kolDistValue,n):\n",
        "  print(str(dn)+\" < (\"+str(kolDistValue)+\" / SQRT(\"+str(n)+\") = \"+str(kolDistValue / math.sqrt(n))+\") is \"+str(dn < (kolDistValue/ math.sqrt(n))))\n",
        "  \n",
        "  \n",
        "def CompararDistribuciones(datos,pdfArray,binPlot=10):\n",
        "  plt.figure()\n",
        "  n, bins, patches = plt.hist(datosColumna,density=True,label=\"Distribución Datos\",bins=binPlot)\n",
        "  x,y,titulo,leyenda = pdfArray\n",
        "  plt.plot(x,y,color='red',label=leyenda)\n",
        "  plt.ylabel('Probabilidad')\n",
        "  plt.title(\"Histograma Datos vs \"+titulo)\n",
        "  plt.legend(bbox_to_anchor=(1.05, 1), loc=2, borderaxespad=0.)\n",
        "  plt.show()\n",
        "  \n",
        "def KSNormal(datos, meanHist, stdHist, binPlot=10,kolDistValue=1.3581):\n",
        "  histogramX,cdfEmpirical = HistogramasResultados(datos,binPlot)\n",
        "  #Create ideal CDF\n",
        "  normalDensity = Normal(meanHist, stdHist)\n",
        "  cdfNormalIdeal = normalDensity.cdf(histogramX)\n",
        "  #Compare the empirical and ideal distributions\n",
        "  difference = torch.abs(cdfNormalIdeal - cdfEmpirical)\n",
        "  dn = torch.max(difference)\n",
        "  PlotKS(histogramX,cdfEmpirical,cdfNormalIdeal)\n",
        "  ResultadoKS(dn.item(),kolDistValue,len(datos))"
      ],
      "execution_count": 0,
      "outputs": []
    },
    {
      "cell_type": "code",
      "metadata": {
        "id": "oAHDq5DkEZGE",
        "colab_type": "code",
        "colab": {}
      },
      "source": [
        "# a) Gargamos los datos de la columna Age\n",
        "MonAseg_Age = ['MontoAsegurado','Edad']\n",
        "MontoAsegurado_Age = data[MonAseg_Age]\n"
      ],
      "execution_count": 0,
      "outputs": []
    },
    {
      "cell_type": "code",
      "metadata": {
        "id": "OItzz2lQEIet",
        "colab_type": "code",
        "outputId": "d3b31fe4-2a36-4c72-c632-8de45d72b6d4",
        "colab": {
          "base_uri": "https://localhost:8080/",
          "height": 297
        }
      },
      "source": [
        "MontoAsegurado_Age.describe()"
      ],
      "execution_count": 0,
      "outputs": [
        {
          "output_type": "execute_result",
          "data": {
            "text/html": [
              "<div>\n",
              "<style scoped>\n",
              "    .dataframe tbody tr th:only-of-type {\n",
              "        vertical-align: middle;\n",
              "    }\n",
              "\n",
              "    .dataframe tbody tr th {\n",
              "        vertical-align: top;\n",
              "    }\n",
              "\n",
              "    .dataframe thead th {\n",
              "        text-align: right;\n",
              "    }\n",
              "</style>\n",
              "<table border=\"1\" class=\"dataframe\">\n",
              "  <thead>\n",
              "    <tr style=\"text-align: right;\">\n",
              "      <th></th>\n",
              "      <th>MontoAsegurado</th>\n",
              "      <th>Edad</th>\n",
              "    </tr>\n",
              "  </thead>\n",
              "  <tbody>\n",
              "    <tr>\n",
              "      <th>count</th>\n",
              "      <td>5.000000e+02</td>\n",
              "      <td>500.000000</td>\n",
              "    </tr>\n",
              "    <tr>\n",
              "      <th>mean</th>\n",
              "      <td>7.935396e+05</td>\n",
              "      <td>35.684000</td>\n",
              "    </tr>\n",
              "    <tr>\n",
              "      <th>std</th>\n",
              "      <td>6.064920e+05</td>\n",
              "      <td>4.071523</td>\n",
              "    </tr>\n",
              "    <tr>\n",
              "      <th>min</th>\n",
              "      <td>7.824000e+03</td>\n",
              "      <td>20.000000</td>\n",
              "    </tr>\n",
              "    <tr>\n",
              "      <th>25%</th>\n",
              "      <td>4.620660e+05</td>\n",
              "      <td>33.000000</td>\n",
              "    </tr>\n",
              "    <tr>\n",
              "      <th>50%</th>\n",
              "      <td>6.299450e+05</td>\n",
              "      <td>35.000000</td>\n",
              "    </tr>\n",
              "    <tr>\n",
              "      <th>75%</th>\n",
              "      <td>9.469150e+05</td>\n",
              "      <td>38.000000</td>\n",
              "    </tr>\n",
              "    <tr>\n",
              "      <th>max</th>\n",
              "      <td>5.159036e+06</td>\n",
              "      <td>54.000000</td>\n",
              "    </tr>\n",
              "  </tbody>\n",
              "</table>\n",
              "</div>"
            ],
            "text/plain": [
              "       MontoAsegurado        Edad\n",
              "count    5.000000e+02  500.000000\n",
              "mean     7.935396e+05   35.684000\n",
              "std      6.064920e+05    4.071523\n",
              "min      7.824000e+03   20.000000\n",
              "25%      4.620660e+05   33.000000\n",
              "50%      6.299450e+05   35.000000\n",
              "75%      9.469150e+05   38.000000\n",
              "max      5.159036e+06   54.000000"
            ]
          },
          "metadata": {
            "tags": []
          },
          "execution_count": 19
        }
      ]
    },
    {
      "cell_type": "code",
      "metadata": {
        "id": "SAZHCJ5LIcyJ",
        "colab_type": "code",
        "colab": {}
      },
      "source": [
        "#b) Interprete el percentil 25% del ingreso.\n",
        "p25 = data[\"Interes\"].quantile(0.25)"
      ],
      "execution_count": 0,
      "outputs": []
    },
    {
      "cell_type": "code",
      "metadata": {
        "id": "cm6uJa3OJHPv",
        "colab_type": "code",
        "outputId": "1ed7312c-46ee-4d8c-fc9f-f5162f310088",
        "colab": {
          "base_uri": "https://localhost:8080/",
          "height": 34
        }
      },
      "source": [
        "p25"
      ],
      "execution_count": 0,
      "outputs": [
        {
          "output_type": "execute_result",
          "data": {
            "text/plain": [
              "17.0"
            ]
          },
          "metadata": {
            "tags": []
          },
          "execution_count": 24
        }
      ]
    },
    {
      "cell_type": "code",
      "metadata": {
        "id": "GWeFmeHAXgZz",
        "colab_type": "code",
        "colab": {}
      },
      "source": [
        "X2 = data[MonAseg_Age]"
      ],
      "execution_count": 0,
      "outputs": []
    },
    {
      "cell_type": "code",
      "metadata": {
        "id": "U-uH6na4XUNq",
        "colab_type": "code",
        "outputId": "c05a8ea5-e41b-4710-c5e9-7e2478218f9c",
        "colab": {
          "base_uri": "https://localhost:8080/",
          "height": 260
        }
      },
      "source": [
        "# c)\n",
        "def draw_histograms(dataframe, features, rows, cols):\n",
        "    fig=plt.figure(figsize=(15,25))\n",
        "    for i, feature in enumerate(features):\n",
        "        ax=fig.add_subplot(rows,cols,i+1)\n",
        "        dataframe[feature].hist(bins=20,ax=ax,facecolor='midnightblue')\n",
        "        ax.set_title(feature+\" Distribution\",color='DarkRed')\n",
        "        \n",
        "    fig.tight_layout()  \n",
        "    plt.show()\n",
        "#draw_histograms(dataTest,dataTest.columns,6,3)\n",
        "draw_histograms(X2,X2.columns,8,4)"
      ],
      "execution_count": 0,
      "outputs": [
        {
          "output_type": "display_data",
          "data": {
            "image/png": "[encoded data removed]",
            "text/plain": [
              "<Figure size 1080x1800 with 2 Axes>"
            ]
          },
          "metadata": {
            "tags": []
          }
        }
      ]
    },
    {
      "cell_type": "markdown",
      "metadata": {
        "id": "yECLbjm1ZJ-e",
        "colab_type": "text"
      },
      "source": [
        "Analisis de relacion lineal"
      ]
    },
    {
      "cell_type": "code",
      "metadata": {
        "id": "NtDcM5Q5ZNb8",
        "colab_type": "code",
        "outputId": "dcbdb269-c33f-4500-ba03-656ef192bf3b",
        "colab": {
          "base_uri": "https://localhost:8080/",
          "height": 286
        }
      },
      "source": [
        "\n",
        "import matplotlib.pyplot as plt\n",
        "%matplotlib inline\n",
        "plt.style.use('ggplot')\n",
        "\n",
        "import numpy as np\n",
        "def plot_points(data):\n",
        "    X = np.array(data[\"Edad\"])\n",
        "    y = np.array(data[\"MontoAsegurado\"])\n",
        "    admitted = X[np.argwhere(y==1)]\n",
        "    rejected = X[np.argwhere(y==0)]\n",
        "    #plt.scatter([s[0][0] for s in rejected], [s[0][1] for s in rejected], s = 25, color = 'red', edgecolor = 'k')\n",
        "    #plt.scatter([s[0][0] for s in admitted], [s[0][1] for s in admitted], s = 25, color = 'cyan', edgecolor = 'k')\n",
        "    plt.scatter(X,y,s = 25, color = 'red', edgecolor = 'k')\n",
        "    plt.xlabel('Edad')\n",
        "    plt.ylabel('Monto Asegurado')\n",
        "plot_points(data)\n",
        "plt.show()"
      ],
      "execution_count": 0,
      "outputs": [
        {
          "output_type": "display_data",
          "data": {
            "image/png": "[encoded data removed]",
            "text/plain": [
              "<Figure size 432x288 with 1 Axes>"
            ]
          },
          "metadata": {
            "tags": []
          }
        }
      ]
    },
    {
      "cell_type": "code",
      "metadata": {
        "id": "_WanVv40av2u",
        "colab_type": "code",
        "colab": {}
      },
      "source": [
        "#covarianza\n",
        "covarianza =MontoAsegurado_Age.cov()"
      ],
      "execution_count": 0,
      "outputs": []
    },
    {
      "cell_type": "code",
      "metadata": {
        "id": "3wLL0LyhbcH-",
        "colab_type": "code",
        "outputId": "27f969c4-fe9a-4f08-ef11-1a361e676a7a",
        "colab": {
          "base_uri": "https://localhost:8080/",
          "height": 111
        }
      },
      "source": [
        "covarianza"
      ],
      "execution_count": 0,
      "outputs": [
        {
          "output_type": "execute_result",
          "data": {
            "text/html": [
              "<div>\n",
              "<style scoped>\n",
              "    .dataframe tbody tr th:only-of-type {\n",
              "        vertical-align: middle;\n",
              "    }\n",
              "\n",
              "    .dataframe tbody tr th {\n",
              "        vertical-align: top;\n",
              "    }\n",
              "\n",
              "    .dataframe thead th {\n",
              "        text-align: right;\n",
              "    }\n",
              "</style>\n",
              "<table border=\"1\" class=\"dataframe\">\n",
              "  <thead>\n",
              "    <tr style=\"text-align: right;\">\n",
              "      <th></th>\n",
              "      <th>MontoAsegurado</th>\n",
              "      <th>Edad</th>\n",
              "    </tr>\n",
              "  </thead>\n",
              "  <tbody>\n",
              "    <tr>\n",
              "      <th>MontoAsegurado</th>\n",
              "      <td>3.678326e+11</td>\n",
              "      <td>570979.199575</td>\n",
              "    </tr>\n",
              "    <tr>\n",
              "      <th>Edad</th>\n",
              "      <td>5.709792e+05</td>\n",
              "      <td>16.577299</td>\n",
              "    </tr>\n",
              "  </tbody>\n",
              "</table>\n",
              "</div>"
            ],
            "text/plain": [
              "                MontoAsegurado           Edad\n",
              "MontoAsegurado    3.678326e+11  570979.199575\n",
              "Edad              5.709792e+05      16.577299"
            ]
          },
          "metadata": {
            "tags": []
          },
          "execution_count": 40
        }
      ]
    },
    {
      "cell_type": "code",
      "metadata": {
        "id": "oUp49z0Qbp3F",
        "colab_type": "code",
        "colab": {}
      },
      "source": [
        "#correlacion\n",
        "corr =MontoAsegurado_Age.corr()"
      ],
      "execution_count": 0,
      "outputs": []
    },
    {
      "cell_type": "code",
      "metadata": {
        "id": "IasqKJzobw1k",
        "colab_type": "code",
        "outputId": "92b7bb85-f1bb-44a9-b820-9c05ac64b6b4",
        "colab": {
          "base_uri": "https://localhost:8080/",
          "height": 111
        }
      },
      "source": [
        "corr"
      ],
      "execution_count": 0,
      "outputs": [
        {
          "output_type": "execute_result",
          "data": {
            "text/html": [
              "<div>\n",
              "<style scoped>\n",
              "    .dataframe tbody tr th:only-of-type {\n",
              "        vertical-align: middle;\n",
              "    }\n",
              "\n",
              "    .dataframe tbody tr th {\n",
              "        vertical-align: top;\n",
              "    }\n",
              "\n",
              "    .dataframe thead th {\n",
              "        text-align: right;\n",
              "    }\n",
              "</style>\n",
              "<table border=\"1\" class=\"dataframe\">\n",
              "  <thead>\n",
              "    <tr style=\"text-align: right;\">\n",
              "      <th></th>\n",
              "      <th>MontoAsegurado</th>\n",
              "      <th>Edad</th>\n",
              "    </tr>\n",
              "  </thead>\n",
              "  <tbody>\n",
              "    <tr>\n",
              "      <th>MontoAsegurado</th>\n",
              "      <td>1.000000</td>\n",
              "      <td>0.231227</td>\n",
              "    </tr>\n",
              "    <tr>\n",
              "      <th>Edad</th>\n",
              "      <td>0.231227</td>\n",
              "      <td>1.000000</td>\n",
              "    </tr>\n",
              "  </tbody>\n",
              "</table>\n",
              "</div>"
            ],
            "text/plain": [
              "                MontoAsegurado      Edad\n",
              "MontoAsegurado        1.000000  0.231227\n",
              "Edad                  0.231227  1.000000"
            ]
          },
          "metadata": {
            "tags": []
          },
          "execution_count": 43
        }
      ]
    },
    {
      "cell_type": "markdown",
      "metadata": {
        "id": "c6d49sgLb-3F",
        "colab_type": "text"
      },
      "source": [
        "Intervalo de confianza\n"
      ]
    },
    {
      "cell_type": "code",
      "metadata": {
        "id": "hro8n0qMcaZf",
        "colab_type": "code",
        "colab": {}
      },
      "source": [
        "montoAse = data[\"MontoAsegurado\"]"
      ],
      "execution_count": 0,
      "outputs": []
    },
    {
      "cell_type": "code",
      "metadata": {
        "id": "uHxeTmlAcQzx",
        "colab_type": "code",
        "colab": {}
      },
      "source": [
        "sigma = np.std(montoAse)\n",
        "mu = np.mean(montoAse)"
      ],
      "execution_count": 0,
      "outputs": []
    },
    {
      "cell_type": "code",
      "metadata": {
        "id": "rnjKx0hqc_lC",
        "colab_type": "code",
        "outputId": "e399aa7a-c73d-4821-da12-d90369e7deaf",
        "colab": {
          "base_uri": "https://localhost:8080/",
          "height": 34
        }
      },
      "source": [
        "montoAse.count()"
      ],
      "execution_count": 0,
      "outputs": [
        {
          "output_type": "execute_result",
          "data": {
            "text/plain": [
              "500"
            ]
          },
          "metadata": {
            "tags": []
          },
          "execution_count": 46
        }
      ]
    },
    {
      "cell_type": "code",
      "metadata": {
        "id": "thcAID8GdB_y",
        "colab_type": "code",
        "outputId": "fb7cb945-29cc-4bf1-89d2-61dd779d006c",
        "colab": {
          "base_uri": "https://localhost:8080/",
          "height": 34
        }
      },
      "source": [
        "n = 500\n",
        "xbar = ObtenerMuestra(montoAse,n)"
      ],
      "execution_count": 0,
      "outputs": [
        {
          "output_type": "stream",
          "text": [
            "Media de la muestra (x barra): 772719.532\n"
          ],
          "name": "stdout"
        }
      ]
    },
    {
      "cell_type": "code",
      "metadata": {
        "id": "U29dGcV-dcPs",
        "colab_type": "code",
        "outputId": "c749b830-9656-4dec-972c-4f1f8afac633",
        "colab": {
          "base_uri": "https://localhost:8080/",
          "height": 119
        }
      },
      "source": [
        "intervalo = 0.90\n",
        "\n",
        "IC_Inf,IC_Sup = IntervalosConfianza(mu,sigma,intervalo,n)"
      ],
      "execution_count": 0,
      "outputs": [
        {
          "output_type": "stream",
          "text": [
            "\n",
            "Confianza: 0.9\n",
            "Rango inferior: 748970.6120158244\n",
            "Rango superior: 838108.5599841756\n",
            "\n",
            "P(748970.61 <= mu <= 838108.56) = 0.9\n"
          ],
          "name": "stdout"
        }
      ]
    },
    {
      "cell_type": "markdown",
      "metadata": {
        "id": "rPhZDll8el7Y",
        "colab_type": "text"
      },
      "source": [
        "Pruebas de normalidad"
      ]
    },
    {
      "cell_type": "code",
      "metadata": {
        "id": "4rgnfbg3eLtG",
        "colab_type": "code",
        "outputId": "17f3eed4-b266-4bfa-bce1-229919ed78d7",
        "colab": {
          "base_uri": "https://localhost:8080/",
          "height": 299
        }
      },
      "source": [
        "\n",
        "sigma = np.std(montoAse)\n",
        "mu = np.mean(montoAse)\n",
        "\n",
        "sigma = round(sigma,2)\n",
        "mu = round(mu,2)\n",
        "MostrarDistribucion(montoAse,\"montoAse\",8)\n",
        "print(\"Valores de sigma: {} y mu: {}\".format(sigma,mu))"
      ],
      "execution_count": 0,
      "outputs": [
        {
          "output_type": "display_data",
          "data": {
            "image/png": "[encoded data removed]",
            "text/plain": [
              "<Figure size 432x288 with 1 Axes>"
            ]
          },
          "metadata": {
            "tags": []
          }
        },
        {
          "output_type": "stream",
          "text": [
            "Valores de sigma: 605885.25 y mu: 793539.59\n"
          ],
          "name": "stdout"
        }
      ]
    },
    {
      "cell_type": "code",
      "metadata": {
        "id": "1PWaVnpYezyQ",
        "colab_type": "code",
        "outputId": "c5532687-ff57-4654-bc8c-fcfa86a36b47",
        "colab": {
          "base_uri": "https://localhost:8080/",
          "height": 286
        }
      },
      "source": [
        "KSNormal(montoAse,mu,sigma,15)"
      ],
      "execution_count": 0,
      "outputs": [
        {
          "output_type": "display_data",
          "data": {
            "image/png": "[encoded data removed]",
            "text/plain": [
              "<Figure size 432x288 with 1 Axes>"
            ]
          },
          "metadata": {
            "tags": []
          }
        },
        {
          "output_type": "stream",
          "text": [
            "0.12082394997797008 < (1.3581 / SQRT(500) = 0.06073607840484929) is False\n"
          ],
          "name": "stdout"
        }
      ]
    },
    {
      "cell_type": "markdown",
      "metadata": {
        "id": "g1srOY4GNuw6",
        "colab_type": "text"
      },
      "source": [
        "**Punto #4**"
      ]
    },
    {
      "cell_type": "markdown",
      "metadata": {
        "id": "vbMm01UXA9IT",
        "colab_type": "text"
      },
      "source": [
        "a) La distribucion es geometrica, ya quen lo analizado comprende pruebas idénticas e independientes, con dos posibles resultados: éxito o fracaso y probabilidad de éxito  p  constante de una prueba a otra."
      ]
    },
    {
      "cell_type": "markdown",
      "metadata": {
        "id": "zeklo3MDXMQr",
        "colab_type": "text"
      },
      "source": [
        "Encuentre la media y la variancia de  Y . (4 puntos)!\n"
      ]
    },
    {
      "cell_type": "markdown",
      "metadata": {
        "id": "mCtR85bMJAFI",
        "colab_type": "text"
      },
      "source": [
        "b) Probabilidad de que un motor funcione bien dos horas.\n",
        "\n",
        "\n",
        "\\begin{equation}\n",
        "P(Y)=\\sum_{i=1}^{∞}{P(Y)}=1 \n",
        "\\end{equation}\n",
        "\\begin{equation}\n",
        "P(Y)=\\sum_{i=1}^{2}{P(Y)}=1 \n",
        "\\end{equation}\n",
        "\n",
        "\n",
        "\n",
        "\\begin{equation}\n",
        "P(Y)=1-pq = 1 - 0.02 - (0.98) (0.02) = 0.96\n",
        "\\end{equation}\n",
        "\n",
        "\n",
        "La probabilidad de que un motor funcione bien dos horas es de 0.96 o bien 96%.\n"
      ]
    },
    {
      "cell_type": "markdown",
      "metadata": {
        "id": "t384eBGGA8Lu",
        "colab_type": "text"
      },
      "source": [
        "c)\n",
        "La media es de:\n",
        "\n",
        "\\begin{equation}\n",
        "\\mu=\\mathrm{E}(X)=\\dfrac{1}{p}\n",
        "\\end{equation}\n",
        "\n",
        "\\begin{equation}\n",
        "\\mu=\\mathrm{E}(X)=\\dfrac{1}{p} = \\dfrac{1}{(0.02)} = 50\n",
        "\\end{equation}"
      ]
    },
    {
      "cell_type": "markdown",
      "metadata": {
        "id": "sRLsF2nJU2p8",
        "colab_type": "text"
      },
      "source": [
        "Media:50"
      ]
    },
    {
      "cell_type": "markdown",
      "metadata": {
        "id": "yIcHoRC3TIJ8",
        "colab_type": "text"
      },
      "source": [
        "La varianza es de:\n",
        "\n",
        "\\begin{equation}\n",
        "\\sigma^2=\\mathrm{Var}(X)=\\dfrac{1-p}{p^2}\n",
        "\\end{equation}\n",
        "\n",
        "\n",
        "\\begin{equation}\n",
        "\\sigma^2=\\mathrm{Var}(X)=\\dfrac{1-p}{p^2} = \\dfrac{0.98}{0.0004}  = \\sqrt{2450} = 49.50\n",
        "\\end{equation}"
      ]
    },
    {
      "cell_type": "markdown",
      "metadata": {
        "id": "G9QU6dERU58B",
        "colab_type": "text"
      },
      "source": [
        "Varianza:49.50"
      ]
    }
  ]
}