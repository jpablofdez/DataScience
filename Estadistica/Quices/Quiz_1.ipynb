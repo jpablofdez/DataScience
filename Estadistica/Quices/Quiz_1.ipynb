{
  "nbformat": 4,
  "nbformat_minor": 0,
  "metadata": {
    "colab": {
      "name": "Quiz 1.ipynb",
      "provenance": [],
      "collapsed_sections": []
    },
    "kernelspec": {
      "name": "python3",
      "display_name": "Python 3"
    }
  },
  "cells": [
    {
      "cell_type": "markdown",
      "metadata": {
        "id": "5xT4-ktIJB7Q",
        "colab_type": "text"
      },
      "source": [
        "# Estadística para Ciencia de los Datos\n",
        "# Quiz #1 - Semana #5\n"
      ]
    },
    {
      "cell_type": "markdown",
      "metadata": {
        "id": "D2TSRjl1JUXX",
        "colab_type": "text"
      },
      "source": [
        "##Instrucciones\n",
        "\n",
        "Realice los siguientes ejercicios y envíe sus respuestas, en un archivo PDF, a través de TEC Digital a más tardar el **lunes 21 de octubre a las 12 medio día** No se aceptarán entregas tardías.\n",
        "\n",
        "Desarrolle todos los ejercicios con el mayor nivel de detalle posible. Se espera que el desarrollo algebraico sea formal. No será válido únicamente dar respuestas en prosa a las preguntas.\n",
        "\n",
        "\n",
        "1. Una caja contiene 7 bolas blancas y 3 rojas. Otra caja contiene 5 bolas blancas y 5 bolas rojas. Se extrae al azar una bola de la primera caja y se pone con las bolas de la segunda caja. Se extrae luego una bola al azar de la segunda caja. \n",
        "Sea: \n",
        "\n",
        "  $A=$ bola roja en la primera extración\n",
        "  \n",
        "  $B=$ bola roja en la segunda extración\n",
        "\n",
        "- Calcula la probabilidad de obtener bola roja en la primera extración $P(A)$. (5 puntos)\n",
        "- Calcule la probabilidad de obtener bola roja en la segunda extración $P(B/A)$. (5 puntos)\n",
        "- Calcule la probabilidad de obtener bola roja en la primera y en la segunda extración $P(AB)$. (5 puntos)\n",
        "- Explique y demuestre con base en los resultados de los puntos anteriores por A y B no son eventos independientes. (5 puntos)\n",
        "\n",
        "2. Se lanza un dado equilibrado. Sea $A=$ sale número par y $B=$ sale 1,2,3 o 4. ¿Son $A$ y $B$ independientes? (10 puntos)\n",
        "\n",
        "\n",
        "3. El dataset 'SegurosNuevos500V2016VE' contiene información de 500 nuevos clientes de una aseguradora. Trabaje con este dataset y resuleva los siguientes enunaciados: \n",
        "\n",
        "\n",
        "- **a) Estadísticas descriptivas:** Calcule la media, variancia, desviación estándar, mínimo, máximo, mediana, percentiles 25 y 75 de las variables Interes, MontoAsegurado y Edad. (15 puntos)\n",
        "-  b) Interprete el percentil 25 de Interes. La unidad de medición de la variable Interes es porcentaje (%) (5 puntos)\n",
        "- c) Construya histogramas de las variables MontoAsegurado y Edad. (10 puntos)\n",
        "- d) Con base en los histogramas de MontoAsegurado y Edad y los valores sus medias y medianas justifique si se trata de una distribución simétrica o asimétrica. En caso de que alguna de las variables tenga una distribución asimétrica, especifique que tipo de asimetría presenta.  (10 puntos)\n",
        "- **e) Análisis de relación lineal:** Construya un gráfico de dispersión entre las variables Edad $(x)$ y MontoAsegurado $(y)$ y comente si el gráfico evidencia algún tipo de relación lineal entre ellas. (10 puntos)\n",
        "- f) Calcule la covariancia entre Edad $(x)$ y MontoAsegurado $(y)$. (5 puntos)\n",
        "- g) Calcule el coefiente de correlación de Pearson entre Edad $(x)$ y MontoAsegurado $(y)$. Explique, en caso de que exista alguna relación, la magnitud y dirección de está y mencione si se trata de una relación baja, moderada o alta. (5 puntos)\n",
        "- **h) Intervalos de confianza:** Estime e interpreta un intervalo de confianza al 90% para la variable MontoAsegurado. La unidad de medición de esta variable es colones. (10 puntos)\n",
        "- **i) Pruebas de normalidad:** Evalue gráficamente y por medio de la prueba de Kolgomorov Smirnov la normalidad de las siguientes variables: MontoAsegurado y Edad. Explique detallamente que muestran los gráficos de histograma y qqplot sobre la normalidad de cada una. Para la prueba de Kolgomorov use un 5% de significancia y concluye usando el p-value. (25 puntos)\n",
        "\n",
        "\n",
        "4. Suponga que la probabilidad de mal funcionamiento de un motor durante cualquier periodo de una hora es p=0.02. $Y$ es una variable aleotoria definida como la cantidad de horas hasta la primera falla de un motor determinado.\n",
        "\n",
        "- De acuerdo con la descripción del problema que distribución sigue la variable aleatoria $Y$. (1 punto)\n",
        "- Encuentre la probabilidad de que un motor determinado funcione bien dos horas. (3 puntos)\n",
        "- Encuentre la media y la variancia de $Y$. (4 puntos)"
      ]
    }
  ]
}