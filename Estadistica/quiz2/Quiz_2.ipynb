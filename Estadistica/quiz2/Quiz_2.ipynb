{
  "nbformat": 4,
  "nbformat_minor": 0,
  "metadata": {
    "colab": {
      "name": "Quiz_2.ipynb",
      "provenance": [],
      "collapsed_sections": []
    },
    "kernelspec": {
      "name": "python3",
      "display_name": "Python 3"
    }
  },
  "cells": [
    {
      "cell_type": "markdown",
      "metadata": {
        "id": "6B30Z40jHkyk",
        "colab_type": "text"
      },
      "source": [
        "# Estadística para Ciencia de los Datos\n",
        "# Quiz #2 - Semana #7"
      ]
    },
    {
      "cell_type": "markdown",
      "metadata": {
        "id": "OqnWro1fHtMG",
        "colab_type": "text"
      },
      "source": [
        "##Instrucciones\n",
        "\n",
        "Realice los siguientes ejercicios y envíe sus respuestas, en un archivo PDF, a través de TEC Digital. Cuenta con 3 horas para resolver la prueba.\n",
        "\n",
        "Desarrolle todos los ejercicios con el mayor nivel de detalle posible. Se espera que el desarrollo algebraico sea formal. No será válido únicamente dar respuestas en prosa a las preguntas."
      ]
    },
    {
      "cell_type": "markdown",
      "metadata": {
        "id": "uq_e9ZmWIKpW",
        "colab_type": "text"
      },
      "source": [
        "**Pregunta 1: Prueba de hipótesis**\n",
        "\n",
        "La vicepresidente de ventas de una gran empresa afirma que los vendedores están promediando no más de 15 llamadas de venta por semana. (Le gustaría aumentar esta cantidad.) Como prueba de su afirmación, aleatoriamente se seleccionan n = 36 vendedores y se registra el número de llamadas hechas por cada uno para una sola semana seleccionada al azar. La media y varianza de las 36 mediciones fueron 17 y 9, respectivamente. \n",
        "\n",
        "- a) Plantee la hipótesis nula y alternativa. (2 puntos)\n",
        "- b) Calcule el estadístico de prueba respectivo para comprobar la hipotesis sobre el promedio de llamadas. (4 puntos) \n",
        "- c) Obtenga el valor crítico de la prueba utilizando un 5% de significancia. (1 punto) \n",
        "- d) Concluya en términos del problema.¿La evidencia contradice lo dicho por la vicepresidente? (1 punto)\n",
        "\n",
        "\n",
        "**Pregunta 2: Diseño de experimentos**\n",
        "Un ingeniero industrial está analizando si 3 niveles distintos de iluminación en una fábrica de tarjetas de crédito tienen algún efecto en el tiempo (en minutos) que duran los inspectores de calidad en encontrar defectos específicos en las tarjetas. Para cada nivel de iluminación se tomaron 12 mediciones del tiempo y los datos se encuentran en el dataset \"tarjetas\". El objetivo básico es determinar si, al 5% de significancia, hay diferencias en los tiempos de detección de defectos por nivel de iluminación.  \n",
        "\n",
        "- a) Plantee la hipotesis nula y alternativa en términos de los efectos de tratamiento. (5 puntos)\n",
        "- b) Calcule el estadístico de prueba F y concluya sobre la hipotesis planteada en el punto a). Utilice el valor crítico F para concluir. (10 puntos)\n",
        "- c) Calcule los coeficientes $(\\tau_i)$ del modelo de efectos que describe el experimento y exprese el modelo de la siguiente forma. (15 puntos) \n",
        "\n",
        "\\begin{equation}\n",
        "y_{i,j}=\\mu+\\tau_{i}+\\epsilon_{i,j}\n",
        "\\end{equation}\n",
        "\n",
        "- d) Ejecute el **ANOVA** rescpectivo y complete los valores en la siguiente tabla. (10 puntos) \n",
        "\n",
        "\n",
        "|Fuente de variabilidad | Suma de cuadrados | Gados de libertad | Cuadraro medio | \n",
        "|--- | --- | --- | ---\n",
        "|**Tratamientos**|$SS_{tra}$|$gl_{tra}$|$MS_{tra}$|\n",
        "|**Error**|$SS_e$|$gl_e$|$MS_e$|\n",
        "|**Total**|$SS_{to}$|$gl_{to}$||\n",
        "\n",
        "**Pregunta 3: Bootstrap**\n",
        "Se tiene interés en conocer la distribución muestral de la variancia de la cantidad de horas dedicadas a ver televisión en una muestra de 618 niños tomada para un estudio sobre incidencia de miopia. Los datos se encuentran en el dataset \"MYOPIA\". \n",
        "\n",
        "- a) Genere 3 procedimientos bootstrap con $R=70$, $R=500$ y $R=1000$ de tamaño $n=618$ y calcule la variancia muestral en cada uno de ellos. (15 puntos). \n",
        "- b) En cada procedimiento bootstrap generado calcule la media y la desviación estándar del parámetro de interés (15 puntos). \n",
        "- c) Represente en un histograma la distrbución muestral obtenida de cada procedimiento bootstrap. (15 puntos)\n",
        "- d) Comente las ganancias en términos de la forma de la distribución muestral y la estabilidad de la media y desviación estándar del parámetro, al aumentar la cantindad de réplicas $R$ y concluya en este caso cual es el valor de $R$ recomendado. (10 puntos)\n",
        "\n",
        "\n",
        "**Pregunta 4: Imputación de datos**\n",
        "El dataset \"MYOPIA\" también contiene información sobre el grosor del lente (columna LT) de los niños, medido en mm. Existe un faltante de datos para 130 niños. Estos casos se encuentran identificados con 0.\n",
        "\n",
        "- a) ¿Es una solución recomendable eliminar los casos con datos faltantes? Justifique su respuesta. (5 puntos)\n",
        "- b) Impute los casos faltantes con el promedio del grosor. (10 puntos)\n",
        "- c) Cargue nuevamente el dataset orginal y en lugar de imputar los datos faltantes, asignelos como perdidos y eliminelos del dataset. (10 puntos)\n",
        "- d) Compare las estadísticas descriptivas del grosor del lente (LT) del dataset original, imputando con el promedio y eliminando los casos. Comente la diferencias y recomiende cuál sería la mejor solución al problema de datos faltantes. (20 puntos)\n"
      ]
    },
    {
      "cell_type": "markdown",
      "metadata": {
        "id": "49JQtjpIt0Pf",
        "colab_type": "text"
      },
      "source": [
        "Pregunta 1: Prueba de hipótesis\n",
        "\n",
        "\n",
        "a. Hipotesis nula =$H_0:\\mu=15$ llamadas de ventas por semana,\n",
        "la hipotesis alternativa $H_1: \\mu \\neq 15$ llamadas de ventas por semana\n",
        "\n"
      ]
    },
    {
      "cell_type": "markdown",
      "metadata": {
        "id": "Y-NrhzrjymfQ",
        "colab_type": "text"
      },
      "source": [
        "b. El estadístico de prueba es:\n",
        "\n",
        "$z=\\frac{\\overline{x} - \\mu_0}{\\sigma / \\sqrt{n}}$\n",
        "\n",
        "\n",
        "\n",
        "\n",
        "\n",
        "$z_0=\\frac{23.41 - 50}{9 / \\sqrt{36}}= 0.49$\n"
      ]
    },
    {
      "cell_type": "markdown",
      "metadata": {
        "id": "HPo9A7ec5lOt",
        "colab_type": "text"
      },
      "source": [
        "Conclusión: Dado que $z_0=0.49>1.96$, se concluye que existe suficiente evidencia estadística para aceptar $H_0:\\mu=9$ con un 5% de significancia. "
      ]
    },
    {
      "cell_type": "markdown",
      "metadata": {
        "id": "2HmgCwjY56DB",
        "colab_type": "text"
      },
      "source": [
        "Pregunta 2: Diseño de experimentos"
      ]
    },
    {
      "cell_type": "code",
      "metadata": {
        "id": "V-Wvk5ki6vy7",
        "colab_type": "code",
        "colab": {}
      },
      "source": [
        ""
      ],
      "execution_count": 0,
      "outputs": []
    },
    {
      "cell_type": "markdown",
      "metadata": {
        "id": "5tVg9aAS6wcO",
        "colab_type": "text"
      },
      "source": [
        "Pregunta 3: Bootstrap\n",
        "\n",
        "Pregunta 3: Bootstrap Se tiene interés en conocer la distribución muestral de la variancia de la cantidad de horas dedicadas a ver televisión en una muestra de 618 niños tomada para un estudio sobre incidencia de miopia. Los datos se encuentran en el dataset \"MYOPIA\".\n",
        "\n",
        "a) Genere 3 procedimientos bootstrap con  R=70 ,  R=500  y  R=1000  de tamaño  n=618  y calcule la variancia muestral en cada uno de ellos. (15 puntos).\n",
        "b) En cada procedimiento bootstrap generado calcule la media y la desviación estándar del parámetro de interés (15 puntos).\n",
        "c) Represente en un histograma la distrbución muestral obtenida de cada procedimiento bootstrap. (15 puntos)\n",
        "d) Comente las ganancias en términos de la forma de la distribución muestral y la estabilidad de la media y desviación estándar del parámetro, al aumentar la cantindad de réplicas  R  y concluya en este caso cual es el valor de  R  recomendado. (10 puntos)"
      ]
    },
    {
      "cell_type": "code",
      "metadata": {
        "id": "jkHx9p4q6-Tk",
        "colab_type": "code",
        "colab": {}
      },
      "source": [
        "import pandas as pn\n",
        "import numpy as np\n",
        "import matplotlib.pyplot as plt\n",
        "from pandas import DataFrame\n",
        "import io\n"
      ],
      "execution_count": 0,
      "outputs": []
    },
    {
      "cell_type": "code",
      "metadata": {
        "id": "lPXbIHsL7kqL",
        "colab_type": "code",
        "colab": {}
      },
      "source": [
        "data = pn.read_csv('https://raw.githubusercontent.com/jpablofdez/DataScience/master/Estadistica/quiz2/MYOPIA.csv', sep= ';')"
      ],
      "execution_count": 0,
      "outputs": []
    },
    {
      "cell_type": "code",
      "metadata": {
        "id": "xc4_ZsXj7uyz",
        "colab_type": "code",
        "colab": {
          "base_uri": "https://localhost:8080/",
          "height": 195
        },
        "outputId": "fa25e774-f504-42a1-f068-2f067fa75bfa"
      },
      "source": [
        "data.head()\n"
      ],
      "execution_count": 11,
      "outputs": [
        {
          "output_type": "execute_result",
          "data": {
            "text/html": [
              "<div>\n",
              "<style scoped>\n",
              "    .dataframe tbody tr th:only-of-type {\n",
              "        vertical-align: middle;\n",
              "    }\n",
              "\n",
              "    .dataframe tbody tr th {\n",
              "        vertical-align: top;\n",
              "    }\n",
              "\n",
              "    .dataframe thead th {\n",
              "        text-align: right;\n",
              "    }\n",
              "</style>\n",
              "<table border=\"1\" class=\"dataframe\">\n",
              "  <thead>\n",
              "    <tr style=\"text-align: right;\">\n",
              "      <th></th>\n",
              "      <th>ID</th>\n",
              "      <th>STUDYYEAR</th>\n",
              "      <th>MYOPIC</th>\n",
              "      <th>AGE</th>\n",
              "      <th>GENDER</th>\n",
              "      <th>SPHEQ</th>\n",
              "      <th>AL</th>\n",
              "      <th>ACD</th>\n",
              "      <th>LT</th>\n",
              "      <th>VCD</th>\n",
              "      <th>SPORTHR</th>\n",
              "      <th>READHR</th>\n",
              "      <th>COMPHR</th>\n",
              "      <th>STUDYHR</th>\n",
              "      <th>TVHR</th>\n",
              "      <th>DIOPTERHR</th>\n",
              "      <th>MOMMY</th>\n",
              "      <th>DADMY</th>\n",
              "      <th>Unnamed: 18</th>\n",
              "      <th>Unnamed: 19</th>\n",
              "    </tr>\n",
              "  </thead>\n",
              "  <tbody>\n",
              "    <tr>\n",
              "      <th>0</th>\n",
              "      <td>243</td>\n",
              "      <td>1993</td>\n",
              "      <td>0</td>\n",
              "      <td>6</td>\n",
              "      <td>1</td>\n",
              "      <td>2.565</td>\n",
              "      <td>20.28</td>\n",
              "      <td>2.772</td>\n",
              "      <td>4.098</td>\n",
              "      <td>13.41</td>\n",
              "      <td>10</td>\n",
              "      <td>1</td>\n",
              "      <td>1</td>\n",
              "      <td>1</td>\n",
              "      <td>5</td>\n",
              "      <td>13</td>\n",
              "      <td>0</td>\n",
              "      <td>0</td>\n",
              "      <td>NaN</td>\n",
              "      <td>NaN</td>\n",
              "    </tr>\n",
              "    <tr>\n",
              "      <th>1</th>\n",
              "      <td>120</td>\n",
              "      <td>1993</td>\n",
              "      <td>0</td>\n",
              "      <td>6</td>\n",
              "      <td>1</td>\n",
              "      <td>0.540</td>\n",
              "      <td>21.98</td>\n",
              "      <td>2.904</td>\n",
              "      <td>0.000</td>\n",
              "      <td>15.33</td>\n",
              "      <td>15</td>\n",
              "      <td>5</td>\n",
              "      <td>1</td>\n",
              "      <td>1</td>\n",
              "      <td>10</td>\n",
              "      <td>30</td>\n",
              "      <td>0</td>\n",
              "      <td>1</td>\n",
              "      <td>NaN</td>\n",
              "      <td>NaN</td>\n",
              "    </tr>\n",
              "    <tr>\n",
              "      <th>2</th>\n",
              "      <td>582</td>\n",
              "      <td>1992</td>\n",
              "      <td>0</td>\n",
              "      <td>6</td>\n",
              "      <td>0</td>\n",
              "      <td>1.823</td>\n",
              "      <td>23.62</td>\n",
              "      <td>2.972</td>\n",
              "      <td>3.568</td>\n",
              "      <td>17.08</td>\n",
              "      <td>15</td>\n",
              "      <td>5</td>\n",
              "      <td>2</td>\n",
              "      <td>1</td>\n",
              "      <td>10</td>\n",
              "      <td>32</td>\n",
              "      <td>0</td>\n",
              "      <td>1</td>\n",
              "      <td>NaN</td>\n",
              "      <td>NaN</td>\n",
              "    </tr>\n",
              "    <tr>\n",
              "      <th>3</th>\n",
              "      <td>195</td>\n",
              "      <td>1991</td>\n",
              "      <td>0</td>\n",
              "      <td>6</td>\n",
              "      <td>0</td>\n",
              "      <td>0.933</td>\n",
              "      <td>21.39</td>\n",
              "      <td>2.982</td>\n",
              "      <td>3.626</td>\n",
              "      <td>14.78</td>\n",
              "      <td>5</td>\n",
              "      <td>5</td>\n",
              "      <td>2</td>\n",
              "      <td>0</td>\n",
              "      <td>5</td>\n",
              "      <td>24</td>\n",
              "      <td>1</td>\n",
              "      <td>1</td>\n",
              "      <td>NaN</td>\n",
              "      <td>0.0</td>\n",
              "    </tr>\n",
              "    <tr>\n",
              "      <th>4</th>\n",
              "      <td>378</td>\n",
              "      <td>1991</td>\n",
              "      <td>0</td>\n",
              "      <td>6</td>\n",
              "      <td>1</td>\n",
              "      <td>1.045</td>\n",
              "      <td>21.66</td>\n",
              "      <td>2.984</td>\n",
              "      <td>3.626</td>\n",
              "      <td>15.05</td>\n",
              "      <td>7</td>\n",
              "      <td>8</td>\n",
              "      <td>0</td>\n",
              "      <td>0</td>\n",
              "      <td>14</td>\n",
              "      <td>38</td>\n",
              "      <td>0</td>\n",
              "      <td>0</td>\n",
              "      <td>NaN</td>\n",
              "      <td>NaN</td>\n",
              "    </tr>\n",
              "  </tbody>\n",
              "</table>\n",
              "</div>"
            ],
            "text/plain": [
              "    ID  STUDYYEAR  MYOPIC  AGE  ...  MOMMY  DADMY  Unnamed: 18  Unnamed: 19\n",
              "0  243       1993       0    6  ...      0      0          NaN          NaN\n",
              "1  120       1993       0    6  ...      0      1          NaN          NaN\n",
              "2  582       1992       0    6  ...      0      1          NaN          NaN\n",
              "3  195       1991       0    6  ...      1      1          NaN          0.0\n",
              "4  378       1991       0    6  ...      0      0          NaN          NaN\n",
              "\n",
              "[5 rows x 20 columns]"
            ]
          },
          "metadata": {
            "tags": []
          },
          "execution_count": 11
        }
      ]
    },
    {
      "cell_type": "code",
      "metadata": {
        "id": "d6Yql8Ul8dy5",
        "colab_type": "code",
        "colab": {}
      },
      "source": [
        "#lee el dataset csv\n",
        "dataset = read_csv(diabetes, sep=';')\n",
        "dataset.columns\n",
        "dataset.dtypes\n",
        "print(dataset.head(40))\n",
        "\n",
        "sample_boot = []\n",
        "for _ in range(250):\n",
        "    sample = np.random.choice(dataset['MYOPIC'], size=768, replace=True)\n",
        "    sample_boot.append(sample.std())\n",
        "\n",
        "bootstrap = DataFrame (sample_boot,columns=['sigma'])\n",
        "bootstrap.head(20)\n",
        "bootstrap.describe()\n",
        "\n",
        "p1=plt.hist(sample_boot)\n",
        "plt.show(p1)\n"
      ],
      "execution_count": 0,
      "outputs": []
    },
    {
      "cell_type": "code",
      "metadata": {
        "id": "bzkMLTOx8sMn",
        "colab_type": "code",
        "colab": {}
      },
      "source": [
        "# Metodo \n",
        "def bootstrapMethod(n):\n",
        "  sample_boot = []\n",
        "  for _ in range(n):\n",
        "    sample = np.random.choice(data['MYOPIC'], size=618, replace=True)\n",
        "    sample_boot.append(sample.std())\n",
        "\n",
        "  bootstrap = DataFrame (sample_boot,columns=['MYOPIC'])\n",
        "  bootstrap.head(20)\n",
        "  var = np.median(bootstrap)\n",
        "  std = np.std(bootstrap)\n",
        "  mean = np.mean(bootstrap)\n",
        "  #print (\"Varianza muestral:{}, La media :{} y la desviacion estandar{}\").format(var,sigma, mu)\n",
        "  print (\"La Varianza muestral :{}\".format(var))\n",
        "  print (\"La Media :{}\".format(mean))\n",
        "  print (\"La Desviacion estandar :{}\".format(std))\n",
        "  print(\"############################# \")\n",
        "  print(\"Histograma MYOPIC\")\n",
        "  p1=plt.hist(sample_boot)\n",
        "  plt.show(p1)\n",
        "  #return bootstrap.describe()\n",
        "\n"
      ],
      "execution_count": 0,
      "outputs": []
    },
    {
      "cell_type": "code",
      "metadata": {
        "id": "cck1auspAo7G",
        "colab_type": "code",
        "colab": {
          "base_uri": "https://localhost:8080/",
          "height": 382
        },
        "outputId": "4651c8b7-829a-4bec-fd65-8db2ccf2c0da"
      },
      "source": [
        "#bootstrap con R=70 \n",
        "bootstrapMethod(70)"
      ],
      "execution_count": 71,
      "outputs": [
        {
          "output_type": "stream",
          "text": [
            "La Varianza muestral :0.33658590918354\n",
            "La Media :MYOPIC    0.337488\n",
            "dtype: float64\n",
            "La Desviacion estandar :MYOPIC    0.015111\n",
            "dtype: float64\n",
            "############################# \n",
            "Histograma MYOPIC\n"
          ],
          "name": "stdout"
        },
        {
          "output_type": "display_data",
          "data": {
            "image/png": "[encoded data removed]",
            "text/plain": [
              "<Figure size 432x288 with 1 Axes>"
            ]
          },
          "metadata": {
            "tags": []
          }
        }
      ]
    },
    {
      "cell_type": "code",
      "metadata": {
        "id": "36gFhusqHIGO",
        "colab_type": "code",
        "colab": {
          "base_uri": "https://localhost:8080/",
          "height": 382
        },
        "outputId": "1d989b23-f20d-41eb-f535-1e39907fca9a"
      },
      "source": [
        "#R=500\n",
        "bootstrapMethod(500)"
      ],
      "execution_count": 72,
      "outputs": [
        {
          "output_type": "stream",
          "text": [
            "La Varianza muestral :0.33747466678416893\n",
            "La Media :MYOPIC    0.337747\n",
            "dtype: float64\n",
            "La Desviacion estandar :MYOPIC    0.014146\n",
            "dtype: float64\n",
            "############################# \n",
            "Histograma MYOPIC\n"
          ],
          "name": "stdout"
        },
        {
          "output_type": "display_data",
          "data": {
            "image/png": "[encoded data removed]",
            "text/plain": [
              "<Figure size 432x288 with 1 Axes>"
            ]
          },
          "metadata": {
            "tags": []
          }
        }
      ]
    },
    {
      "cell_type": "code",
      "metadata": {
        "id": "aaLTqdseHRw3",
        "colab_type": "code",
        "colab": {
          "base_uri": "https://localhost:8080/",
          "height": 382
        },
        "outputId": "55b1e394-aad6-427f-cf12-3f697e3c87b0"
      },
      "source": [
        "# R=1000 \n",
        "bootstrapMethod(1000)"
      ],
      "execution_count": 73,
      "outputs": [
        {
          "output_type": "stream",
          "text": [
            "La Varianza muestral :0.33747466678416893\n",
            "La Media :MYOPIC    0.336861\n",
            "dtype: float64\n",
            "La Desviacion estandar :MYOPIC    0.014908\n",
            "dtype: float64\n",
            "############################# \n",
            "Histograma MYOPIC\n"
          ],
          "name": "stdout"
        },
        {
          "output_type": "display_data",
          "data": {
            "image/png": "[encoded data removed]",
            "text/plain": [
              "<Figure size 432x288 with 1 Axes>"
            ]
          },
          "metadata": {
            "tags": []
          }
        }
      ]
    }
  ]
}