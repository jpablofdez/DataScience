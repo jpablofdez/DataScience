{
  "nbformat": 4,
  "nbformat_minor": 0,
  "metadata": {
    "colab": {
      "name": "Quiz_2.ipynb",
      "provenance": [],
      "collapsed_sections": []
    },
    "kernelspec": {
      "name": "python3",
      "display_name": "Python 3"
    }
  },
  "cells": [
    {
      "cell_type": "markdown",
      "metadata": {
        "id": "6B30Z40jHkyk",
        "colab_type": "text"
      },
      "source": [
        "# Estadística para Ciencia de los Datos\n",
        "# Quiz #2 - Semana #7"
      ]
    },
    {
      "cell_type": "markdown",
      "metadata": {
        "id": "OqnWro1fHtMG",
        "colab_type": "text"
      },
      "source": [
        "##Instrucciones\n",
        "\n",
        "Realice los siguientes ejercicios y envíe sus respuestas, en un archivo PDF, a través de TEC Digital. Cuenta con 3 horas para resolver la prueba.\n",
        "\n",
        "Desarrolle todos los ejercicios con el mayor nivel de detalle posible. Se espera que el desarrollo algebraico sea formal. No será válido únicamente dar respuestas en prosa a las preguntas."
      ]
    },
    {
      "cell_type": "markdown",
      "metadata": {
        "id": "uq_e9ZmWIKpW",
        "colab_type": "text"
      },
      "source": [
        "**Pregunta 1: Prueba de hipótesis**\n",
        "\n",
        "La vicepresidente de ventas de una gran empresa afirma que los vendedores están promediando no más de 15 llamadas de venta por semana. (Le gustaría aumentar esta cantidad.) Como prueba de su afirmación, aleatoriamente se seleccionan n = 36 vendedores y se registra el número de llamadas hechas por cada uno para una sola semana seleccionada al azar. La media y varianza de las 36 mediciones fueron 17 y 9, respectivamente. \n",
        "\n",
        "- a) Plantee la hipótesis nula y alternativa. (2 puntos)\n",
        "- b) Calcule el estadístico de prueba respectivo para comprobar la hipotesis sobre el promedio de llamadas. (4 puntos) \n",
        "- c) Obtenga el valor crítico de la prueba utilizando un 5% de significancia. (1 punto) \n",
        "- d) Concluya en términos del problema.¿La evidencia contradice lo dicho por la vicepresidente? (1 punto)\n",
        "\n",
        "\n",
        "**Pregunta 2: Diseño de experimentos**\n",
        "Un ingeniero industrial está analizando si 3 niveles distintos de iluminación en una fábrica de tarjetas de crédito tienen algún efecto en el tiempo (en minutos) que duran los inspectores de calidad en encontrar defectos específicos en las tarjetas. Para cada nivel de iluminación se tomaron 12 mediciones del tiempo y los datos se encuentran en el dataset \"tarjetas\". El objetivo básico es determinar si, al 5% de significancia, hay diferencias en los tiempos de detección de defectos por nivel de iluminación.  \n",
        "\n",
        "- a) Plantee la hipotesis nula y alternativa en términos de los efectos de tratamiento. (5 puntos)\n",
        "- b) Calcule el estadístico de prueba F y concluya sobre la hipotesis planteada en el punto a). Utilice el valor crítico F para concluir. (10 puntos)\n",
        "- c) Calcule los coeficientes $(\\tau_i)$ del modelo de efectos que describe el experimento y exprese el modelo de la siguiente forma. (15 puntos) \n",
        "\n",
        "\\begin{equation}\n",
        "y_{i,j}=\\mu+\\tau_{i}+\\epsilon_{i,j}\n",
        "\\end{equation}\n",
        "\n",
        "- d) Ejecute el **ANOVA** rescpectivo y complete los valores en la siguiente tabla. (10 puntos) \n",
        "\n",
        "\n",
        "|Fuente de variabilidad | Suma de cuadrados | Gados de libertad | Cuadraro medio | \n",
        "|--- | --- | --- | ---\n",
        "|**Tratamientos**|$SS_{tra}$|$gl_{tra}$|$MS_{tra}$|\n",
        "|**Error**|$SS_e$|$gl_e$|$MS_e$|\n",
        "|**Total**|$SS_{to}$|$gl_{to}$||\n",
        "\n",
        "**Pregunta 3: Bootstrap**\n",
        "Se tiene interés en conocer la distribución muestral de la variancia de la cantidad de horas dedicadas a ver televisión en una muestra de 618 niños tomada para un estudio sobre incidencia de miopia. Los datos se encuentran en el dataset \"MYOPIA\". \n",
        "\n",
        "- a) Genere 3 procedimientos bootstrap con $R=70$, $R=500$ y $R=1000$ de tamaño $n=618$ y calcule la variancia muestral en cada uno de ellos. (15 puntos). \n",
        "- b) En cada procedimiento bootstrap generado calcule la media y la desviación estándar del parámetro de interés (15 puntos). \n",
        "- c) Represente en un histograma la distrbución muestral obtenida de cada procedimiento bootstrap. (15 puntos)\n",
        "- d) Comente las ganancias en términos de la forma de la distribución muestral y la estabilidad de la media y desviación estándar del parámetro, al aumentar la cantindad de réplicas $R$ y concluya en este caso cual es el valor de $R$ recomendado. (10 puntos)\n",
        "\n",
        "\n",
        "**Pregunta 4: Imputación de datos**\n",
        "El dataset \"MYOPIA\" también contiene información sobre el grosor del lente (columna LT) de los niños, medido en mm. Existe un faltante de datos para 130 niños. Estos casos se encuentran identificados con 0.\n",
        "\n",
        "- a) ¿Es una solución recomendable eliminar los casos con datos faltantes? Justifique su respuesta. (5 puntos)\n",
        "- b) Impute los casos faltantes con el promedio del grosor. (10 puntos)\n",
        "- c) Cargue nuevamente el dataset orginal y en lugar de imputar los datos faltantes, asignelos como perdidos y eliminelos del dataset. (10 puntos)\n",
        "- d) Compare las estadísticas descriptivas del grosor del lente (LT) del dataset original, imputando con el promedio y eliminando los casos. Comente la diferencias y recomiende cuál sería la mejor solución al problema de datos faltantes. (20 puntos)\n"
      ]
    }
  ]
}