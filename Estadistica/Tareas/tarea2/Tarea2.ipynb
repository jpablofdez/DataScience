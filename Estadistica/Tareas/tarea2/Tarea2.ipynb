{
  "nbformat": 4,
  "nbformat_minor": 0,
  "metadata": {
    "colab": {
      "name": "Tarea2.ipynb",
      "provenance": []
    },
    "kernelspec": {
      "name": "python3",
      "display_name": "Python 3"
    }
  },
  "cells": [
    {
      "cell_type": "markdown",
      "metadata": {
        "id": "erSvVZf4AEnV",
        "colab_type": "text"
      },
      "source": [
        "Tarea #2\n",
        "Juan Pablo Fernandez Delgado\n"
      ]
    },
    {
      "cell_type": "markdown",
      "metadata": {
        "id": "BQzhAqEj7mG_",
        "colab_type": "text"
      },
      "source": [
        "## Instrucciones\n",
        "Realice los siguientes ejercicios y envíe sus respuestas, en un archivo PDF, a través de TEC Digital a más tardar el martes 1° de octubre a las 10 PM. No se aceptarán entregas tardías.\n",
        "\n",
        "Desarrolle todos los ejercicios con el mayor nivel de detalle posible. Se espera que el desarrollo algebraico sea formal. No será válido únicamente dar respuestas en prosa a las preguntas.\n",
        "\n",
        "\n",
        "El archivo \"CompraBicibletas\" contiene información de 1000 clientes potenciales de bicicletas. La empresa frabicante de bicicletas desea conocer las características de estos clientes con el objetivo de lanzar un nuevo modelo que se ajuste a sus necesidades y lograr vender la mayor cantidad de bicicletas posible. Con base en los datos responda los siguientes apartados:\n",
        "\n",
        "1.  Obtenga todas las estadísticas descriptivas de la varibale Income, para analizar como se comporta el ingreso anual (en dólares) de los clientes.\n",
        "2.  Interprete el percentil 25% del ingreso.\n",
        "3.  Solamente comparando la media y la mediana se puede concluir que el ingreso tiene una distribución simétrica? Si su respuesta es negativa, ¿Qué tipo de asimetría presenta la distribución?\n",
        "4.  Obtenga las estadísticas descriptivas de las varibales Children, Cars y Age, referentes a la cantidad de hijos y carros que tiene el cliente y a su edad, respectivamente.\n",
        "5.  Interprete el percentil 75% de la cantidad de hijos de los clientes.\n",
        "6.  Construya histogramas para las cuatro variables: Income, Children, Cars y Age. Elija adecuadamente la cantidad de barras (bins) para una interpretación adecuada de la distribución de los datos. \n",
        "\n",
        "* Considere el siguiente comando para ajustar la dimensiones de los histogramas: \n",
        "\n",
        "`plt.subplots_adjust(top=0.92, bottom=0.08, left=0.10, right=0.95, hspace=0.35,wspace=0.50)`\n",
        "\n",
        "\n",
        "\n",
        "7. Con base en los histogramas del punto anterior, se puede concluir que alguna de las variables sigue una distribución normal? Justifique su respuesta.\n",
        "8. Las variables tienen distribuciones simétricas? Si su respuesta es negativa, ¿Qué tipo de asimetría presenta cada distirbución?\n",
        "9.  Construya gráficos de caja para las cuatro variables: Income, Children, Cars y Age. \n",
        "10. Con base en los gráficos del punto anterior, cuál variable presenta mayor dispersión de los datos?\n",
        "11. Calcule las varianzas y covarianzas de las cuatro variables  y construya la matriz $\\Sigma$\n",
        "\n",
        "\n",
        "\n",
        "\\begin{equation}\n",
        "\\Sigma=\\begin{bmatrix}\\sigma_{Income}^{2}& \n",
        "\\textrm{cov}\\left(X_{Income},X_{Children}\\right)& \\textrm{cov}\\left(X_{Income},X_{Cars}\\right)& \\textrm{cov}\\left(X_{Income},X_{Age}\\right)\\\\\n",
        ".& \n",
        "\\sigma_{Children}^{2}& \\textrm{cov}\\left(X_{Children},X_{Cars}\\right)& \\textrm{cov}\\left(X_{Children},X_{Age}\\right)\\\\\n",
        ". & . & \\sigma_{Cars}^{2}& \\textrm{cov}\\left(X_{Cars},X_{Age}\\right)\\\\\n",
        ". & .& .& \\sigma_{Age}^{2}\n",
        "\\end{bmatrix}\n",
        "\\end{equation}\n",
        "\n",
        "\n",
        "12. Calcule e interprete el coeficiente de correlación de Pearson entre la cantidad de hijos (Children) y la edad (Age)."
      ]
    },
    {
      "cell_type": "code",
      "metadata": {
        "id": "0x70zRPCAA54",
        "colab_type": "code",
        "colab": {}
      },
      "source": [
        "import pandas as pd\n",
        "import numpy as np\n",
        "import matplotlib.pyplot as plt\n",
        "\n",
        "import torch\n",
        "from torch.distributions import Exponential\n",
        "from torch.distributions import Uniform\n",
        "from torch.distributions import Normal\n",
        "import scipy.stats as ss\n"
      ],
      "execution_count": 0,
      "outputs": []
    },
    {
      "cell_type": "code",
      "metadata": {
        "id": "MEpMulNpCfgr",
        "colab_type": "code",
        "colab": {}
      },
      "source": [
        "#datos = pd.read_csv('CompraBicicletas.csv',sep=';')\n",
        "datos = pd.read_csv('https://raw.githubusercontent.com/jpablofdez/DataScience/master/Datos/CompraBicicletas.csv',sep=';')\n",
        "#datos = datos.drop(['RowNumber','CustomerId','Surname'], axis=1)"
      ],
      "execution_count": 0,
      "outputs": []
    },
    {
      "cell_type": "code",
      "metadata": {
        "id": "CTS392ctC1em",
        "colab_type": "code",
        "outputId": "60f1a774-523b-4b9c-d2b6-2c5fd077546f",
        "colab": {
          "base_uri": "https://localhost:8080/",
          "height": 204
        }
      },
      "source": [
        "datos.head()"
      ],
      "execution_count": 3,
      "outputs": [
        {
          "output_type": "execute_result",
          "data": {
            "text/html": [
              "<div>\n",
              "<style scoped>\n",
              "    .dataframe tbody tr th:only-of-type {\n",
              "        vertical-align: middle;\n",
              "    }\n",
              "\n",
              "    .dataframe tbody tr th {\n",
              "        vertical-align: top;\n",
              "    }\n",
              "\n",
              "    .dataframe thead th {\n",
              "        text-align: right;\n",
              "    }\n",
              "</style>\n",
              "<table border=\"1\" class=\"dataframe\">\n",
              "  <thead>\n",
              "    <tr style=\"text-align: right;\">\n",
              "      <th></th>\n",
              "      <th>ID</th>\n",
              "      <th>MaritalStatus</th>\n",
              "      <th>Gender</th>\n",
              "      <th>Income</th>\n",
              "      <th>Children</th>\n",
              "      <th>Education</th>\n",
              "      <th>Occupation</th>\n",
              "      <th>HomeOwner</th>\n",
              "      <th>Cars</th>\n",
              "      <th>CommuteDistance</th>\n",
              "      <th>Region</th>\n",
              "      <th>Age</th>\n",
              "      <th>PurchasedBike</th>\n",
              "    </tr>\n",
              "  </thead>\n",
              "  <tbody>\n",
              "    <tr>\n",
              "      <th>0</th>\n",
              "      <td>12496</td>\n",
              "      <td>Married</td>\n",
              "      <td>Female</td>\n",
              "      <td>40000</td>\n",
              "      <td>1</td>\n",
              "      <td>Bachelors</td>\n",
              "      <td>SkilledManual</td>\n",
              "      <td>Yes</td>\n",
              "      <td>0</td>\n",
              "      <td>0-1Miles</td>\n",
              "      <td>Europe</td>\n",
              "      <td>42</td>\n",
              "      <td>No</td>\n",
              "    </tr>\n",
              "    <tr>\n",
              "      <th>1</th>\n",
              "      <td>24107</td>\n",
              "      <td>Married</td>\n",
              "      <td>Male</td>\n",
              "      <td>30000</td>\n",
              "      <td>3</td>\n",
              "      <td>PartialCollege</td>\n",
              "      <td>Clerical</td>\n",
              "      <td>Yes</td>\n",
              "      <td>1</td>\n",
              "      <td>0-1Miles</td>\n",
              "      <td>Europe</td>\n",
              "      <td>43</td>\n",
              "      <td>No</td>\n",
              "    </tr>\n",
              "    <tr>\n",
              "      <th>2</th>\n",
              "      <td>14177</td>\n",
              "      <td>Married</td>\n",
              "      <td>Male</td>\n",
              "      <td>80000</td>\n",
              "      <td>5</td>\n",
              "      <td>PartialCollege</td>\n",
              "      <td>Professional</td>\n",
              "      <td>No</td>\n",
              "      <td>2</td>\n",
              "      <td>2-5Miles</td>\n",
              "      <td>Europe</td>\n",
              "      <td>60</td>\n",
              "      <td>No</td>\n",
              "    </tr>\n",
              "    <tr>\n",
              "      <th>3</th>\n",
              "      <td>24381</td>\n",
              "      <td>Single</td>\n",
              "      <td>Male</td>\n",
              "      <td>70000</td>\n",
              "      <td>0</td>\n",
              "      <td>Bachelors</td>\n",
              "      <td>Professional</td>\n",
              "      <td>Yes</td>\n",
              "      <td>1</td>\n",
              "      <td>5-10Miles</td>\n",
              "      <td>Pacific</td>\n",
              "      <td>41</td>\n",
              "      <td>Yes</td>\n",
              "    </tr>\n",
              "    <tr>\n",
              "      <th>4</th>\n",
              "      <td>25597</td>\n",
              "      <td>Single</td>\n",
              "      <td>Male</td>\n",
              "      <td>30000</td>\n",
              "      <td>0</td>\n",
              "      <td>Bachelors</td>\n",
              "      <td>Clerical</td>\n",
              "      <td>No</td>\n",
              "      <td>0</td>\n",
              "      <td>0-1Miles</td>\n",
              "      <td>Europe</td>\n",
              "      <td>36</td>\n",
              "      <td>Yes</td>\n",
              "    </tr>\n",
              "  </tbody>\n",
              "</table>\n",
              "</div>"
            ],
            "text/plain": [
              "      ID MaritalStatus  Gender  ...   Region  Age PurchasedBike\n",
              "0  12496       Married  Female  ...   Europe   42            No\n",
              "1  24107       Married    Male  ...   Europe   43            No\n",
              "2  14177       Married    Male  ...   Europe   60            No\n",
              "3  24381        Single    Male  ...  Pacific   41           Yes\n",
              "4  25597        Single    Male  ...   Europe   36           Yes\n",
              "\n",
              "[5 rows x 13 columns]"
            ]
          },
          "metadata": {
            "tags": []
          },
          "execution_count": 3
        }
      ]
    },
    {
      "cell_type": "code",
      "metadata": {
        "id": "_onjOFM8DNjp",
        "colab_type": "code",
        "outputId": "169ebe8d-eed7-4eb8-fcea-38f4a16763c7",
        "colab": {
          "base_uri": "https://localhost:8080/",
          "height": 297
        }
      },
      "source": [
        "datos.describe()\n"
      ],
      "execution_count": 4,
      "outputs": [
        {
          "output_type": "execute_result",
          "data": {
            "text/html": [
              "<div>\n",
              "<style scoped>\n",
              "    .dataframe tbody tr th:only-of-type {\n",
              "        vertical-align: middle;\n",
              "    }\n",
              "\n",
              "    .dataframe tbody tr th {\n",
              "        vertical-align: top;\n",
              "    }\n",
              "\n",
              "    .dataframe thead th {\n",
              "        text-align: right;\n",
              "    }\n",
              "</style>\n",
              "<table border=\"1\" class=\"dataframe\">\n",
              "  <thead>\n",
              "    <tr style=\"text-align: right;\">\n",
              "      <th></th>\n",
              "      <th>ID</th>\n",
              "      <th>Income</th>\n",
              "      <th>Children</th>\n",
              "      <th>Cars</th>\n",
              "      <th>Age</th>\n",
              "    </tr>\n",
              "  </thead>\n",
              "  <tbody>\n",
              "    <tr>\n",
              "      <th>count</th>\n",
              "      <td>1000.000000</td>\n",
              "      <td>1000.000000</td>\n",
              "      <td>1000.000000</td>\n",
              "      <td>1000.000000</td>\n",
              "      <td>1000.000000</td>\n",
              "    </tr>\n",
              "    <tr>\n",
              "      <th>mean</th>\n",
              "      <td>19965.992000</td>\n",
              "      <td>56140.000000</td>\n",
              "      <td>1.908000</td>\n",
              "      <td>1.452000</td>\n",
              "      <td>44.190000</td>\n",
              "    </tr>\n",
              "    <tr>\n",
              "      <th>std</th>\n",
              "      <td>5347.333948</td>\n",
              "      <td>31081.609779</td>\n",
              "      <td>1.626094</td>\n",
              "      <td>1.124705</td>\n",
              "      <td>11.353537</td>\n",
              "    </tr>\n",
              "    <tr>\n",
              "      <th>min</th>\n",
              "      <td>11000.000000</td>\n",
              "      <td>10000.000000</td>\n",
              "      <td>0.000000</td>\n",
              "      <td>0.000000</td>\n",
              "      <td>25.000000</td>\n",
              "    </tr>\n",
              "    <tr>\n",
              "      <th>25%</th>\n",
              "      <td>15290.750000</td>\n",
              "      <td>30000.000000</td>\n",
              "      <td>0.000000</td>\n",
              "      <td>1.000000</td>\n",
              "      <td>35.000000</td>\n",
              "    </tr>\n",
              "    <tr>\n",
              "      <th>50%</th>\n",
              "      <td>19744.000000</td>\n",
              "      <td>60000.000000</td>\n",
              "      <td>2.000000</td>\n",
              "      <td>1.000000</td>\n",
              "      <td>43.000000</td>\n",
              "    </tr>\n",
              "    <tr>\n",
              "      <th>75%</th>\n",
              "      <td>24470.750000</td>\n",
              "      <td>70000.000000</td>\n",
              "      <td>3.000000</td>\n",
              "      <td>2.000000</td>\n",
              "      <td>52.000000</td>\n",
              "    </tr>\n",
              "    <tr>\n",
              "      <th>max</th>\n",
              "      <td>29447.000000</td>\n",
              "      <td>170000.000000</td>\n",
              "      <td>5.000000</td>\n",
              "      <td>4.000000</td>\n",
              "      <td>89.000000</td>\n",
              "    </tr>\n",
              "  </tbody>\n",
              "</table>\n",
              "</div>"
            ],
            "text/plain": [
              "                 ID         Income     Children         Cars          Age\n",
              "count   1000.000000    1000.000000  1000.000000  1000.000000  1000.000000\n",
              "mean   19965.992000   56140.000000     1.908000     1.452000    44.190000\n",
              "std     5347.333948   31081.609779     1.626094     1.124705    11.353537\n",
              "min    11000.000000   10000.000000     0.000000     0.000000    25.000000\n",
              "25%    15290.750000   30000.000000     0.000000     1.000000    35.000000\n",
              "50%    19744.000000   60000.000000     2.000000     1.000000    43.000000\n",
              "75%    24470.750000   70000.000000     3.000000     2.000000    52.000000\n",
              "max    29447.000000  170000.000000     5.000000     4.000000    89.000000"
            ]
          },
          "metadata": {
            "tags": []
          },
          "execution_count": 4
        }
      ]
    },
    {
      "cell_type": "code",
      "metadata": {
        "id": "8E93asRpndK9",
        "colab_type": "code",
        "outputId": "6690e52f-27b5-4809-bcb1-d155a0682a6a",
        "colab": {
          "base_uri": "https://localhost:8080/",
          "height": 170
        }
      },
      "source": [
        " # 1) Se obtienen las estadisticas descriptivas de la columna Income.\n",
        "  datos['Income'].describe()"
      ],
      "execution_count": 5,
      "outputs": [
        {
          "output_type": "execute_result",
          "data": {
            "text/plain": [
              "count      1000.000000\n",
              "mean      56140.000000\n",
              "std       31081.609779\n",
              "min       10000.000000\n",
              "25%       30000.000000\n",
              "50%       60000.000000\n",
              "75%       70000.000000\n",
              "max      170000.000000\n",
              "Name: Income, dtype: float64"
            ]
          },
          "metadata": {
            "tags": []
          },
          "execution_count": 5
        }
      ]
    },
    {
      "cell_type": "code",
      "metadata": {
        "id": "A6ntCc7TEKel",
        "colab_type": "code",
        "colab": {
          "base_uri": "https://localhost:8080/",
          "height": 51
        },
        "outputId": "3ee5535e-bbfe-4302-c94e-dccb0f8fefa4"
      },
      "source": [
        ""
      ],
      "execution_count": 32,
      "outputs": [
        {
          "output_type": "stream",
          "text": [
            "Media: 56140.0, Mediana: 60000.0, Moda: 0    60000\n",
            "dtype: int64 \n"
          ],
          "name": "stdout"
        }
      ]
    },
    {
      "cell_type": "code",
      "metadata": {
        "id": "1psSs_z4EEx8",
        "colab_type": "code",
        "colab": {}
      },
      "source": [
        "#2) Interprete el percentil 25% del ingreso.\n",
        "p25 = datos[\"Income\"].quantile(0.25)\n",
        "  "
      ],
      "execution_count": 0,
      "outputs": []
    },
    {
      "cell_type": "code",
      "metadata": {
        "id": "qK4sF5SZEplX",
        "colab_type": "code",
        "colab": {
          "base_uri": "https://localhost:8080/",
          "height": 34
        },
        "outputId": "85917654-5e48-4c72-a38c-7affebe2ddbc"
      },
      "source": [
        "p25"
      ],
      "execution_count": 44,
      "outputs": [
        {
          "output_type": "execute_result",
          "data": {
            "text/plain": [
              "30000.0"
            ]
          },
          "metadata": {
            "tags": []
          },
          "execution_count": 44
        }
      ]
    },
    {
      "cell_type": "code",
      "metadata": {
        "id": "eeAzmFWwJqsS",
        "colab_type": "code",
        "colab": {}
      },
      "source": [
        "# 3) Solamente comparando la media y la mediana se puede concluir que el ingreso tiene una distribución simétrica? \n",
        "#Si su respuesta es negativa, ¿Qué tipo de asimetría presenta la distribución?\n",
        "media = datos['Income'].mean()\n",
        "mediana = datos['Income'].median()\n",
        "#moda = datos['Income'].mode()"
      ],
      "execution_count": 0,
      "outputs": []
    },
    {
      "cell_type": "code",
      "metadata": {
        "id": "8RyFWYJPJurO",
        "colab_type": "code",
        "colab": {
          "base_uri": "https://localhost:8080/",
          "height": 34
        },
        "outputId": "2c40f5eb-b8e7-45fb-a139-23b4a4798209"
      },
      "source": [
        "print(\"Media: {}, Mediana: {}  \".format(media,mediana))"
      ],
      "execution_count": 46,
      "outputs": [
        {
          "output_type": "stream",
          "text": [
            "Media: 56140.0, Mediana: 60000.0  \n"
          ],
          "name": "stdout"
        }
      ]
    },
    {
      "cell_type": "code",
      "metadata": {
        "id": "z0m8afF-KEau",
        "colab_type": "code",
        "colab": {}
      },
      "source": [
        "def MostrarDistribucion(datos,columna,binPlot):\n",
        "  plt.figure()\n",
        "  n, bins, patches = plt.hist(datos,density=True,bins=binPlot)\n",
        "  plt.ylabel(\"Probability\")\n",
        "  plt.title(\"Distribución de Columna: \"+columna)\n",
        "  plt.show()"
      ],
      "execution_count": 0,
      "outputs": []
    },
    {
      "cell_type": "code",
      "metadata": {
        "id": "oa2uJ3LASZu8",
        "colab_type": "code",
        "colab": {}
      },
      "source": [
        "asimetria = ss.skew(datos[\"Income\"])"
      ],
      "execution_count": 0,
      "outputs": []
    },
    {
      "cell_type": "code",
      "metadata": {
        "id": "6ka1529qSp8D",
        "colab_type": "code",
        "colab": {
          "base_uri": "https://localhost:8080/",
          "height": 34
        },
        "outputId": "26e7b962-2109-43af-a1c8-fa215b45b7df"
      },
      "source": [
        "asimetria"
      ],
      "execution_count": 53,
      "outputs": [
        {
          "output_type": "execute_result",
          "data": {
            "text/plain": [
              "0.7492319094131822"
            ]
          },
          "metadata": {
            "tags": []
          },
          "execution_count": 53
        }
      ]
    },
    {
      "cell_type": "code",
      "metadata": {
        "id": "Lj4xFuD0KEGW",
        "colab_type": "code",
        "colab": {
          "base_uri": "https://localhost:8080/",
          "height": 281
        },
        "outputId": "a7d8d0a9-d5e8-4b58-b92b-c586ddf5af9f"
      },
      "source": [
        "columna=datos['Income']\n",
        "MostrarDistribucion(columna,\"Income\",8)"
      ],
      "execution_count": 48,
      "outputs": [
        {
          "output_type": "display_data",
          "data": {
            "image/png": "[encoded data removed]",
            "text/plain": [
              "<Figure size 432x288 with 1 Axes>"
            ]
          },
          "metadata": {
            "tags": []
          }
        }
      ]
    },
    {
      "cell_type": "markdown",
      "metadata": {
        "id": "pPv0viX_SAU7",
        "colab_type": "text"
      },
      "source": [
        "es positiva por que la cola va hacia la derecha"
      ]
    },
    {
      "cell_type": "code",
      "metadata": {
        "id": "lE5fwJUNTvQw",
        "colab_type": "code",
        "colab": {}
      },
      "source": [
        "columNames = ['Children','Cars','Age']"
      ],
      "execution_count": 0,
      "outputs": []
    },
    {
      "cell_type": "code",
      "metadata": {
        "id": "-pe6PdpWUXv0",
        "colab_type": "code",
        "colab": {}
      },
      "source": [
        "X1 = datos[columNames]"
      ],
      "execution_count": 0,
      "outputs": []
    },
    {
      "cell_type": "code",
      "metadata": {
        "id": "Bxx-XDVzUizS",
        "colab_type": "code",
        "colab": {
          "base_uri": "https://localhost:8080/",
          "height": 297
        },
        "outputId": "2260badc-87f9-4c41-a0b1-aed9203814f1"
      },
      "source": [
        "# Obtenga las estadísticas descriptivas de las varibales Children, Cars y Age, \n",
        "# referentes a la cantidad de hijos y carros que tiene el cliente y a su edad, respectivamente.\n",
        "X1.describe()"
      ],
      "execution_count": 58,
      "outputs": [
        {
          "output_type": "execute_result",
          "data": {
            "text/html": [
              "<div>\n",
              "<style scoped>\n",
              "    .dataframe tbody tr th:only-of-type {\n",
              "        vertical-align: middle;\n",
              "    }\n",
              "\n",
              "    .dataframe tbody tr th {\n",
              "        vertical-align: top;\n",
              "    }\n",
              "\n",
              "    .dataframe thead th {\n",
              "        text-align: right;\n",
              "    }\n",
              "</style>\n",
              "<table border=\"1\" class=\"dataframe\">\n",
              "  <thead>\n",
              "    <tr style=\"text-align: right;\">\n",
              "      <th></th>\n",
              "      <th>Children</th>\n",
              "      <th>Cars</th>\n",
              "      <th>Age</th>\n",
              "    </tr>\n",
              "  </thead>\n",
              "  <tbody>\n",
              "    <tr>\n",
              "      <th>count</th>\n",
              "      <td>1000.000000</td>\n",
              "      <td>1000.000000</td>\n",
              "      <td>1000.000000</td>\n",
              "    </tr>\n",
              "    <tr>\n",
              "      <th>mean</th>\n",
              "      <td>1.908000</td>\n",
              "      <td>1.452000</td>\n",
              "      <td>44.190000</td>\n",
              "    </tr>\n",
              "    <tr>\n",
              "      <th>std</th>\n",
              "      <td>1.626094</td>\n",
              "      <td>1.124705</td>\n",
              "      <td>11.353537</td>\n",
              "    </tr>\n",
              "    <tr>\n",
              "      <th>min</th>\n",
              "      <td>0.000000</td>\n",
              "      <td>0.000000</td>\n",
              "      <td>25.000000</td>\n",
              "    </tr>\n",
              "    <tr>\n",
              "      <th>25%</th>\n",
              "      <td>0.000000</td>\n",
              "      <td>1.000000</td>\n",
              "      <td>35.000000</td>\n",
              "    </tr>\n",
              "    <tr>\n",
              "      <th>50%</th>\n",
              "      <td>2.000000</td>\n",
              "      <td>1.000000</td>\n",
              "      <td>43.000000</td>\n",
              "    </tr>\n",
              "    <tr>\n",
              "      <th>75%</th>\n",
              "      <td>3.000000</td>\n",
              "      <td>2.000000</td>\n",
              "      <td>52.000000</td>\n",
              "    </tr>\n",
              "    <tr>\n",
              "      <th>max</th>\n",
              "      <td>5.000000</td>\n",
              "      <td>4.000000</td>\n",
              "      <td>89.000000</td>\n",
              "    </tr>\n",
              "  </tbody>\n",
              "</table>\n",
              "</div>"
            ],
            "text/plain": [
              "          Children         Cars          Age\n",
              "count  1000.000000  1000.000000  1000.000000\n",
              "mean      1.908000     1.452000    44.190000\n",
              "std       1.626094     1.124705    11.353537\n",
              "min       0.000000     0.000000    25.000000\n",
              "25%       0.000000     1.000000    35.000000\n",
              "50%       2.000000     1.000000    43.000000\n",
              "75%       3.000000     2.000000    52.000000\n",
              "max       5.000000     4.000000    89.000000"
            ]
          },
          "metadata": {
            "tags": []
          },
          "execution_count": 58
        }
      ]
    },
    {
      "cell_type": "code",
      "metadata": {
        "id": "u8rvrwuUU8jT",
        "colab_type": "code",
        "colab": {}
      },
      "source": [
        "# 5) Interprete el percentil 75% de la cantidad de hijos de los clientes.\n",
        "#p75 = X1['Children'].count().percentile(0.75)\n",
        "p75 = X1['Children'].quantile(0.75)"
      ],
      "execution_count": 0,
      "outputs": []
    },
    {
      "cell_type": "code",
      "metadata": {
        "id": "ko7QWkhVWF8C",
        "colab_type": "code",
        "colab": {
          "base_uri": "https://localhost:8080/",
          "height": 34
        },
        "outputId": "fd866299-f9e4-4bc5-b8da-cb3ad5017207"
      },
      "source": [
        "p75"
      ],
      "execution_count": 65,
      "outputs": [
        {
          "output_type": "execute_result",
          "data": {
            "text/plain": [
              "3.0"
            ]
          },
          "metadata": {
            "tags": []
          },
          "execution_count": 65
        }
      ]
    },
    {
      "cell_type": "code",
      "metadata": {
        "id": "9dopd60VYbPP",
        "colab_type": "code",
        "colab": {}
      },
      "source": [
        "#6)\n",
        "columNames1 = ['Income','Children','Cars','Age']"
      ],
      "execution_count": 0,
      "outputs": []
    },
    {
      "cell_type": "code",
      "metadata": {
        "id": "4Z74I-tFb_oJ",
        "colab_type": "code",
        "colab": {}
      },
      "source": [
        "X2 = datos[columNames1]"
      ],
      "execution_count": 0,
      "outputs": []
    },
    {
      "cell_type": "code",
      "metadata": {
        "id": "-j10dAagcihO",
        "colab_type": "code",
        "colab": {
          "base_uri": "https://localhost:8080/",
          "height": 260
        },
        "outputId": "4c29063c-189f-4813-8e6b-378c3d7265ac"
      },
      "source": [
        "def draw_histograms(dataframe, features, rows, cols):\n",
        "    fig=plt.figure(figsize=(15,25))\n",
        "    for i, feature in enumerate(features):\n",
        "        ax=fig.add_subplot(rows,cols,i+1)\n",
        "        dataframe[feature].hist(bins=20,ax=ax,facecolor='midnightblue')\n",
        "        ax.set_title(feature+\" Distribution\",color='DarkRed')\n",
        "        \n",
        "    fig.tight_layout()  \n",
        "    plt.show()\n",
        "#draw_histograms(dataTest,dataTest.columns,6,3)\n",
        "draw_histograms(X2,X2.columns,8,4)"
      ],
      "execution_count": 101,
      "outputs": [
        {
          "output_type": "display_data",
          "data": {
            "image/png": "[encoded data removed]",
            "text/plain": [
              "<Figure size 1080x1800 with 4 Axes>"
            ]
          },
          "metadata": {
            "tags": []
          }
        }
      ]
    },
    {
      "cell_type": "code",
      "metadata": {
        "id": "spVbgwpRiTzQ",
        "colab_type": "code",
        "colab": {
          "base_uri": "https://localhost:8080/",
          "height": 269
        },
        "outputId": "94c20150-8f51-4c3e-bc11-42cb9aa09ac6"
      },
      "source": [
        "\n",
        "# 9) Construya gráficos de caja para las cuatro variables: Income, Children, Cars y Age.\n",
        "box_plot_data=[X2.Income,X2.Children,X2.Cars,X2.Age]\n",
        "plt.boxplot(box_plot_data,patch_artist=True,labels=['Income','Children','Cars','Age'])\n",
        "plt.show()"
      ],
      "execution_count": 108,
      "outputs": [
        {
          "output_type": "display_data",
          "data": {
            "image/png": "[encoded data removed]",
            "text/plain": [
              "<Figure size 432x288 with 1 Axes>"
            ]
          },
          "metadata": {
            "tags": []
          }
        }
      ]
    },
    {
      "cell_type": "code",
      "metadata": {
        "id": "XdCcXDT4ldUI",
        "colab_type": "code",
        "colab": {}
      },
      "source": [
        "#11)\n",
        "covarianza = X2.cov()"
      ],
      "execution_count": 0,
      "outputs": []
    },
    {
      "cell_type": "code",
      "metadata": {
        "id": "teSd3fpulj48",
        "colab_type": "code",
        "colab": {
          "base_uri": "https://localhost:8080/",
          "height": 173
        },
        "outputId": "380ca0b0-d741-466c-d291-73679c3a206c"
      },
      "source": [
        "covarianza"
      ],
      "execution_count": 110,
      "outputs": [
        {
          "output_type": "execute_result",
          "data": {
            "text/html": [
              "<div>\n",
              "<style scoped>\n",
              "    .dataframe tbody tr th:only-of-type {\n",
              "        vertical-align: middle;\n",
              "    }\n",
              "\n",
              "    .dataframe tbody tr th {\n",
              "        vertical-align: top;\n",
              "    }\n",
              "\n",
              "    .dataframe thead th {\n",
              "        text-align: right;\n",
              "    }\n",
              "</style>\n",
              "<table border=\"1\" class=\"dataframe\">\n",
              "  <thead>\n",
              "    <tr style=\"text-align: right;\">\n",
              "      <th></th>\n",
              "      <th>Income</th>\n",
              "      <th>Children</th>\n",
              "      <th>Cars</th>\n",
              "      <th>Age</th>\n",
              "    </tr>\n",
              "  </thead>\n",
              "  <tbody>\n",
              "    <tr>\n",
              "      <th>Income</th>\n",
              "      <td>9.660665e+08</td>\n",
              "      <td>13067.947948</td>\n",
              "      <td>15650.370370</td>\n",
              "      <td>59683.083083</td>\n",
              "    </tr>\n",
              "    <tr>\n",
              "      <th>Children</th>\n",
              "      <td>1.306795e+04</td>\n",
              "      <td>2.644180</td>\n",
              "      <td>0.501085</td>\n",
              "      <td>9.796276</td>\n",
              "    </tr>\n",
              "    <tr>\n",
              "      <th>Cars</th>\n",
              "      <td>1.565037e+04</td>\n",
              "      <td>0.501085</td>\n",
              "      <td>1.264961</td>\n",
              "      <td>2.433554</td>\n",
              "    </tr>\n",
              "    <tr>\n",
              "      <th>Age</th>\n",
              "      <td>5.968308e+04</td>\n",
              "      <td>9.796276</td>\n",
              "      <td>2.433554</td>\n",
              "      <td>128.902803</td>\n",
              "    </tr>\n",
              "  </tbody>\n",
              "</table>\n",
              "</div>"
            ],
            "text/plain": [
              "                Income      Children          Cars           Age\n",
              "Income    9.660665e+08  13067.947948  15650.370370  59683.083083\n",
              "Children  1.306795e+04      2.644180      0.501085      9.796276\n",
              "Cars      1.565037e+04      0.501085      1.264961      2.433554\n",
              "Age       5.968308e+04      9.796276      2.433554    128.902803"
            ]
          },
          "metadata": {
            "tags": []
          },
          "execution_count": 110
        }
      ]
    },
    {
      "cell_type": "code",
      "metadata": {
        "id": "I4VxggBtlijf",
        "colab_type": "code",
        "colab": {}
      },
      "source": [
        "correlacion = X2.corr()"
      ],
      "execution_count": 0,
      "outputs": []
    },
    {
      "cell_type": "code",
      "metadata": {
        "id": "S808EPjmmsBm",
        "colab_type": "code",
        "colab": {
          "base_uri": "https://localhost:8080/",
          "height": 173
        },
        "outputId": "d6ecc15b-11bd-41a4-d89e-df5cfa4a6862"
      },
      "source": [
        "correlacion"
      ],
      "execution_count": 114,
      "outputs": [
        {
          "output_type": "execute_result",
          "data": {
            "text/html": [
              "<div>\n",
              "<style scoped>\n",
              "    .dataframe tbody tr th:only-of-type {\n",
              "        vertical-align: middle;\n",
              "    }\n",
              "\n",
              "    .dataframe tbody tr th {\n",
              "        vertical-align: top;\n",
              "    }\n",
              "\n",
              "    .dataframe thead th {\n",
              "        text-align: right;\n",
              "    }\n",
              "</style>\n",
              "<table border=\"1\" class=\"dataframe\">\n",
              "  <thead>\n",
              "    <tr style=\"text-align: right;\">\n",
              "      <th></th>\n",
              "      <th>Income</th>\n",
              "      <th>Children</th>\n",
              "      <th>Cars</th>\n",
              "      <th>Age</th>\n",
              "    </tr>\n",
              "  </thead>\n",
              "  <tbody>\n",
              "    <tr>\n",
              "      <th>Income</th>\n",
              "      <td>1.000000</td>\n",
              "      <td>0.258558</td>\n",
              "      <td>0.447695</td>\n",
              "      <td>0.169128</td>\n",
              "    </tr>\n",
              "    <tr>\n",
              "      <th>Children</th>\n",
              "      <td>0.258558</td>\n",
              "      <td>1.000000</td>\n",
              "      <td>0.273985</td>\n",
              "      <td>0.530621</td>\n",
              "    </tr>\n",
              "    <tr>\n",
              "      <th>Cars</th>\n",
              "      <td>0.447695</td>\n",
              "      <td>0.273985</td>\n",
              "      <td>1.000000</td>\n",
              "      <td>0.190577</td>\n",
              "    </tr>\n",
              "    <tr>\n",
              "      <th>Age</th>\n",
              "      <td>0.169128</td>\n",
              "      <td>0.530621</td>\n",
              "      <td>0.190577</td>\n",
              "      <td>1.000000</td>\n",
              "    </tr>\n",
              "  </tbody>\n",
              "</table>\n",
              "</div>"
            ],
            "text/plain": [
              "            Income  Children      Cars       Age\n",
              "Income    1.000000  0.258558  0.447695  0.169128\n",
              "Children  0.258558  1.000000  0.273985  0.530621\n",
              "Cars      0.447695  0.273985  1.000000  0.190577\n",
              "Age       0.169128  0.530621  0.190577  1.000000"
            ]
          },
          "metadata": {
            "tags": []
          },
          "execution_count": 114
        }
      ]
    }
  ]
}