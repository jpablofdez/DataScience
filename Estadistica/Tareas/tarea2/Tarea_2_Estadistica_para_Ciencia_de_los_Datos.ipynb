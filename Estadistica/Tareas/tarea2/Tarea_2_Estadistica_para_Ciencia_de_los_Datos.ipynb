{
  "nbformat": 4,
  "nbformat_minor": 0,
  "metadata": {
    "colab": {
      "name": "Tarea 2.ipynb",
      "provenance": [],
      "collapsed_sections": [],
      "toc_visible": true
    },
    "kernelspec": {
      "name": "python3",
      "display_name": "Python 3"
    }
  },
  "cells": [
    {
      "cell_type": "markdown",
      "metadata": {
        "id": "4sEOTqRMkAyP",
        "colab_type": "text"
      },
      "source": [
        "#Estadística para Ciencia de los Datos \n",
        "\n",
        "#Tarea #2 - Semana #2"
      ]
    },
    {
      "cell_type": "markdown",
      "metadata": {
        "id": "W4g31SaSkOAE",
        "colab_type": "text"
      },
      "source": [
        "## Instrucciones\n",
        "Realice los siguientes ejercicios y envíe sus respuestas, en un archivo PDF, a través de TEC Digital a más tardar el martes 1° de octubre a las 10 PM. No se aceptarán entregas tardías.\n",
        "\n",
        "Desarrolle todos los ejercicios con el mayor nivel de detalle posible. Se espera que el desarrollo algebraico sea formal. No será válido únicamente dar respuestas en prosa a las preguntas.\n",
        "\n",
        "\n",
        "El archivo \"CompraBicibletas\" contiene información de 1000 clientes potenciales de bicicletas. La empresa frabicante de bicicletas desea conocer las características de estos clientes con el objetivo de lanzar un nuevo modelo que se ajuste a sus necesidades y lograr vender la mayor cantidad de bicicletas posible. Con base en los datos responda los siguientes apartados:\n",
        "\n",
        "1.  Obtenga todas las estadísticas descriptivas de la varibale Income, para analizar como se comporta el ingreso anual (en dólares) de los clientes.\n",
        "2.  Interprete el percentil 25% del ingreso.\n",
        "3.  Solamente comparando la media y la mediana se puede concluir que el ingreso tiene una distribución simétrica? Si su respuesta es negativa, ¿Qué tipo de asimetría presenta la distribución?\n",
        "4.  Obtenga las estadísticas descriptivas de las varibales Children, Cars y Age, referentes a la cantidad de hijos y carros que tiene el cliente y a su edad, respectivamente.\n",
        "5.  Interprete el percentil 75% de la cantidad de hijos de los clientes.\n",
        "6.  Construya histogramas para las cuatro variables: Income, Children, Cars y Age. Elija adecuadamente la cantidad de barras (bins) para una interpretación adecuada de la distribución de los datos. \n",
        "\n",
        "* Considere el siguiente comando para ajustar la dimensiones de los histogramas: \n",
        "\n",
        "`plt.subplots_adjust(top=0.92, bottom=0.08, left=0.10, right=0.95, hspace=0.35,wspace=0.50)`\n",
        "\n",
        "\n",
        "\n",
        "7. Con base en los histogramas del punto anterior, se puede concluir que alguna de las variables sigue una distribución normal? Justifique su respuesta.\n",
        "8. Las variables tienen distribuciones simétricas? Si su respuesta es negativa, ¿Qué tipo de asimetría presenta cada distirbución?\n",
        "9.  Construya gráficos de caja para las cuatro variables: Income, Children, Cars y Age. \n",
        "10. Con base en los gráficos del punto anterior, cuál variable presenta mayor dispersión de los datos?\n",
        "11. Calcule las varianzas y covarianzas de las cuatro variables  y construya la matriz $\\Sigma$\n",
        "\n",
        "\n",
        "\n",
        "\\begin{equation}\n",
        "\\Sigma=\\begin{bmatrix}\\sigma_{Income}^{2}& \n",
        "\\textrm{cov}\\left(X_{Income},X_{Children}\\right)& \\textrm{cov}\\left(X_{Income},X_{Cars}\\right)& \\textrm{cov}\\left(X_{Income},X_{Age}\\right)\\\\\n",
        ".& \n",
        "\\sigma_{Children}^{2}& \\textrm{cov}\\left(X_{Children},X_{Cars}\\right)& \\textrm{cov}\\left(X_{Children},X_{Age}\\right)\\\\\n",
        ". & . & \\sigma_{Cars}^{2}& \\textrm{cov}\\left(X_{Cars},X_{Age}\\right)\\\\\n",
        ". & .& .& \\sigma_{Age}^{2}\n",
        "\\end{bmatrix}\n",
        "\\end{equation}\n",
        "\n",
        "\n",
        "12. Calcule e interprete el coeficiente de correlación de Pearson entre la cantidad de hijos (Children) y la edad (Age).\n"
      ]
    }
  ]
}