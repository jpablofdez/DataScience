{
  "nbformat": 4,
  "nbformat_minor": 0,
  "metadata": {
    "colab": {
      "name": "Tarea_5.ipynb",
      "provenance": [],
      "collapsed_sections": []
    },
    "kernelspec": {
      "name": "python3",
      "display_name": "Python 3"
    }
  },
  "cells": [
    {
      "cell_type": "markdown",
      "metadata": {
        "id": "mNVj5308LUu0",
        "colab_type": "text"
      },
      "source": [
        "### Estadística para Ciencia de los Datos\n",
        "### Tarea #5 \n",
        "Juan Pablo Fernandez Delgado"
      ]
    },
    {
      "cell_type": "markdown",
      "metadata": {
        "id": "HelLMHILmU-E",
        "colab_type": "text"
      },
      "source": [
        "  "
      ]
    },
    {
      "cell_type": "markdown",
      "metadata": {
        "id": "hyLRe4OT-GwL",
        "colab_type": "text"
      },
      "source": [
        ""
      ]
    },
    {
      "cell_type": "markdown",
      "metadata": {
        "id": "awBTkDUHPo8l",
        "colab_type": "text"
      },
      "source": [
        "###**Punto #1 Tamano de la muestra**\n",
        "\n",
        "La confianza es de = 95% --> Z= 1.96,    P= q =0.5\n",
        "E = 0.02 \n",
        "\n",
        "\\begin{equation}\n",
        "z=\\frac{1.96^{2}-0.5^{2}}{0.02^{2}}\n",
        "\\end{equation}\n",
        "\n",
        "\n",
        "\n",
        "\\begin{equation}\n",
        "z=\\frac{0.9604}{0.0004}=2401\n",
        "\\end{equation}\n",
        "\n",
        "R/ El tamano de la muestra para que compla los requerimientos es de 2401."
      ]
    },
    {
      "cell_type": "markdown",
      "metadata": {
        "id": "tPjHImuETH1S",
        "colab_type": "text"
      },
      "source": [
        "Punto #2"
      ]
    },
    {
      "cell_type": "code",
      "metadata": {
        "id": "6P09_awCsaIr",
        "colab_type": "code",
        "colab": {}
      },
      "source": [
        "import pandas as pn\n",
        "import numpy as np\n",
        "import matplotlib.pyplot as plt\n",
        "from pandas import DataFrame\n",
        "import io"
      ],
      "execution_count": 0,
      "outputs": []
    },
    {
      "cell_type": "code",
      "metadata": {
        "id": "AzQZ0GtmUQUw",
        "colab_type": "code",
        "colab": {}
      },
      "source": [
        "data = pn.read_csv('https://raw.githubusercontent.com/jpablofdez/DataScience/master/Estadistica/Tareas/Tarea5/pima-indians-diabetes.csv',sep=';')"
      ],
      "execution_count": 0,
      "outputs": []
    },
    {
      "cell_type": "code",
      "metadata": {
        "id": "AZf3v2SdVBv2",
        "colab_type": "code",
        "outputId": "8fd2cdd7-e4ae-4d6f-eeaf-462e99e0316f",
        "colab": {
          "base_uri": "https://localhost:8080/",
          "height": 197
        }
      },
      "source": [
        " data.head()"
      ],
      "execution_count": 0,
      "outputs": [
        {
          "output_type": "execute_result",
          "data": {
            "text/html": [
              "<div>\n",
              "<style scoped>\n",
              "    .dataframe tbody tr th:only-of-type {\n",
              "        vertical-align: middle;\n",
              "    }\n",
              "\n",
              "    .dataframe tbody tr th {\n",
              "        vertical-align: top;\n",
              "    }\n",
              "\n",
              "    .dataframe thead th {\n",
              "        text-align: right;\n",
              "    }\n",
              "</style>\n",
              "<table border=\"1\" class=\"dataframe\">\n",
              "  <thead>\n",
              "    <tr style=\"text-align: right;\">\n",
              "      <th></th>\n",
              "      <th>x1</th>\n",
              "      <th>x2</th>\n",
              "      <th>x3</th>\n",
              "      <th>x4</th>\n",
              "      <th>x5</th>\n",
              "      <th>x6</th>\n",
              "      <th>x7</th>\n",
              "      <th>x8</th>\n",
              "      <th>diabetes</th>\n",
              "    </tr>\n",
              "  </thead>\n",
              "  <tbody>\n",
              "    <tr>\n",
              "      <th>0</th>\n",
              "      <td>6</td>\n",
              "      <td>148</td>\n",
              "      <td>72</td>\n",
              "      <td>35</td>\n",
              "      <td>0</td>\n",
              "      <td>33.6</td>\n",
              "      <td>0.627</td>\n",
              "      <td>50</td>\n",
              "      <td>1</td>\n",
              "    </tr>\n",
              "    <tr>\n",
              "      <th>1</th>\n",
              "      <td>1</td>\n",
              "      <td>85</td>\n",
              "      <td>66</td>\n",
              "      <td>29</td>\n",
              "      <td>0</td>\n",
              "      <td>26.6</td>\n",
              "      <td>0.351</td>\n",
              "      <td>31</td>\n",
              "      <td>0</td>\n",
              "    </tr>\n",
              "    <tr>\n",
              "      <th>2</th>\n",
              "      <td>8</td>\n",
              "      <td>183</td>\n",
              "      <td>64</td>\n",
              "      <td>0</td>\n",
              "      <td>0</td>\n",
              "      <td>23.3</td>\n",
              "      <td>0.672</td>\n",
              "      <td>32</td>\n",
              "      <td>1</td>\n",
              "    </tr>\n",
              "    <tr>\n",
              "      <th>3</th>\n",
              "      <td>1</td>\n",
              "      <td>89</td>\n",
              "      <td>66</td>\n",
              "      <td>23</td>\n",
              "      <td>94</td>\n",
              "      <td>28.1</td>\n",
              "      <td>0.167</td>\n",
              "      <td>21</td>\n",
              "      <td>0</td>\n",
              "    </tr>\n",
              "    <tr>\n",
              "      <th>4</th>\n",
              "      <td>0</td>\n",
              "      <td>137</td>\n",
              "      <td>40</td>\n",
              "      <td>35</td>\n",
              "      <td>168</td>\n",
              "      <td>43.1</td>\n",
              "      <td>2.288</td>\n",
              "      <td>33</td>\n",
              "      <td>1</td>\n",
              "    </tr>\n",
              "  </tbody>\n",
              "</table>\n",
              "</div>"
            ],
            "text/plain": [
              "   x1   x2  x3  x4   x5    x6     x7  x8  diabetes\n",
              "0   6  148  72  35    0  33.6  0.627  50         1\n",
              "1   1   85  66  29    0  26.6  0.351  31         0\n",
              "2   8  183  64   0    0  23.3  0.672  32         1\n",
              "3   1   89  66  23   94  28.1  0.167  21         0\n",
              "4   0  137  40  35  168  43.1  2.288  33         1"
            ]
          },
          "metadata": {
            "tags": []
          },
          "execution_count": 33
        }
      ]
    },
    {
      "cell_type": "code",
      "metadata": {
        "id": "L2AP1GS01qJq",
        "colab_type": "code",
        "colab": {}
      },
      "source": [
        "# Metodo que genera los 3 procedimientos bootstrap con R=70 , R=500 y R=1000 de tamaño n=618\n",
        "def bootstrapMethod(n):\n",
        "  sample_boot = []\n",
        "  for _ in range(n):\n",
        "    sample = np.random.choice(data['x4'], size=618, replace=True)\n",
        "    sample_boot.append(sample.std())\n",
        "\n",
        "  bootstrap = DataFrame (sample_boot,columns=['x4'])\n",
        "  bootstrap.head(20)\n",
        "  var = np.median(bootstrap)\n",
        "  std = np.std(bootstrap)\n",
        "  mean = np.mean(bootstrap)\n",
        "  #print (\"Varianza muestral:{}, La media :{} y la desviacion estandar{}\").format(var,sigma, mu)\n",
        "  print (\"La Varianza muestral :{}\".format(var))\n",
        "  print (\"La Media :{}\".format(mean))\n",
        "  print (\"La Desviacion estandar :{}\".format(std))\n",
        "  print(\"############################# \")\n",
        "  print(\"Histograma TVHR\")\n",
        "  plt.figure()\n",
        "  p1=plt.hist(sample_boot)\n",
        "  plt.ylabel(\"Probability\")\n",
        "  plt.title(\"Distribución de Columna: x4 \")\n",
        "  plt.show(p1)\n",
        "  #return bootstrap.describe()"
      ],
      "execution_count": 0,
      "outputs": []
    },
    {
      "cell_type": "code",
      "metadata": {
        "id": "DF6MPSdQXflC",
        "colab_type": "code",
        "colab": {
          "base_uri": "https://localhost:8080/",
          "height": 400
        },
        "outputId": "f7d25c76-61dc-48d9-ecba-1c67875980bb"
      },
      "source": [
        " \n",
        "bootstrapMethod(1000)\n",
        " "
      ],
      "execution_count": 22,
      "outputs": [
        {
          "output_type": "stream",
          "text": [
            "La Varianza muestral :15.8921649721101\n",
            "La Media :x4    15.91037\n",
            "dtype: float64\n",
            "La Desviacion estandar :x4    0.365599\n",
            "dtype: float64\n",
            "############################# \n",
            "Histograma TVHR\n"
          ],
          "name": "stdout"
        },
        {
          "output_type": "display_data",
          "data": {
            "image/png": "[encoded data removed]",
            "text/plain": [
              "<Figure size 432x288 with 1 Axes>"
            ]
          },
          "metadata": {
            "tags": []
          }
        }
      ]
    },
    {
      "cell_type": "code",
      "metadata": {
        "id": "oWj7BTAI24O6",
        "colab_type": "code",
        "colab": {
          "base_uri": "https://localhost:8080/",
          "height": 204
        },
        "outputId": "6e9ec789-79ce-4545-ea7a-51fec4dd2c44"
      },
      "source": [
        "data.head()"
      ],
      "execution_count": 13,
      "outputs": [
        {
          "output_type": "execute_result",
          "data": {
            "text/html": [
              "<div>\n",
              "<style scoped>\n",
              "    .dataframe tbody tr th:only-of-type {\n",
              "        vertical-align: middle;\n",
              "    }\n",
              "\n",
              "    .dataframe tbody tr th {\n",
              "        vertical-align: top;\n",
              "    }\n",
              "\n",
              "    .dataframe thead th {\n",
              "        text-align: right;\n",
              "    }\n",
              "</style>\n",
              "<table border=\"1\" class=\"dataframe\">\n",
              "  <thead>\n",
              "    <tr style=\"text-align: right;\">\n",
              "      <th></th>\n",
              "      <th>x1</th>\n",
              "      <th>x2</th>\n",
              "      <th>x3</th>\n",
              "      <th>x4</th>\n",
              "      <th>x5</th>\n",
              "      <th>x6</th>\n",
              "      <th>x7</th>\n",
              "      <th>x8</th>\n",
              "      <th>diabetes</th>\n",
              "    </tr>\n",
              "  </thead>\n",
              "  <tbody>\n",
              "    <tr>\n",
              "      <th>0</th>\n",
              "      <td>6</td>\n",
              "      <td>148</td>\n",
              "      <td>72</td>\n",
              "      <td>35</td>\n",
              "      <td>0</td>\n",
              "      <td>33.6</td>\n",
              "      <td>0.627</td>\n",
              "      <td>50</td>\n",
              "      <td>1</td>\n",
              "    </tr>\n",
              "    <tr>\n",
              "      <th>1</th>\n",
              "      <td>1</td>\n",
              "      <td>85</td>\n",
              "      <td>66</td>\n",
              "      <td>29</td>\n",
              "      <td>0</td>\n",
              "      <td>26.6</td>\n",
              "      <td>0.351</td>\n",
              "      <td>31</td>\n",
              "      <td>0</td>\n",
              "    </tr>\n",
              "    <tr>\n",
              "      <th>2</th>\n",
              "      <td>8</td>\n",
              "      <td>183</td>\n",
              "      <td>64</td>\n",
              "      <td>0</td>\n",
              "      <td>0</td>\n",
              "      <td>23.3</td>\n",
              "      <td>0.672</td>\n",
              "      <td>32</td>\n",
              "      <td>1</td>\n",
              "    </tr>\n",
              "    <tr>\n",
              "      <th>3</th>\n",
              "      <td>1</td>\n",
              "      <td>89</td>\n",
              "      <td>66</td>\n",
              "      <td>23</td>\n",
              "      <td>94</td>\n",
              "      <td>28.1</td>\n",
              "      <td>0.167</td>\n",
              "      <td>21</td>\n",
              "      <td>0</td>\n",
              "    </tr>\n",
              "    <tr>\n",
              "      <th>4</th>\n",
              "      <td>0</td>\n",
              "      <td>137</td>\n",
              "      <td>40</td>\n",
              "      <td>35</td>\n",
              "      <td>168</td>\n",
              "      <td>43.1</td>\n",
              "      <td>2.288</td>\n",
              "      <td>33</td>\n",
              "      <td>1</td>\n",
              "    </tr>\n",
              "  </tbody>\n",
              "</table>\n",
              "</div>"
            ],
            "text/plain": [
              "   x1   x2  x3  x4   x5    x6     x7  x8  diabetes\n",
              "0   6  148  72  35    0  33.6  0.627  50         1\n",
              "1   1   85  66  29    0  26.6  0.351  31         0\n",
              "2   8  183  64   0    0  23.3  0.672  32         1\n",
              "3   1   89  66  23   94  28.1  0.167  21         0\n",
              "4   0  137  40  35  168  43.1  2.288  33         1"
            ]
          },
          "metadata": {
            "tags": []
          },
          "execution_count": 13
        }
      ]
    },
    {
      "cell_type": "code",
      "metadata": {
        "id": "MTOAWTR0YoyL",
        "colab_type": "code",
        "outputId": "c4594e01-5610-4a09-b37d-ded2dbc14ee2",
        "colab": {
          "base_uri": "https://localhost:8080/",
          "height": 170
        }
      },
      "source": [
        "data['x4'].describe() "
      ],
      "execution_count": 14,
      "outputs": [
        {
          "output_type": "execute_result",
          "data": {
            "text/plain": [
              "count    768.000000\n",
              "mean      20.536458\n",
              "std       15.952218\n",
              "min        0.000000\n",
              "25%        0.000000\n",
              "50%       23.000000\n",
              "75%       32.000000\n",
              "max       99.000000\n",
              "Name: x4, dtype: float64"
            ]
          },
          "metadata": {
            "tags": []
          },
          "execution_count": 14
        }
      ]
    },
    {
      "cell_type": "code",
      "metadata": {
        "id": "aJMVp7nlblly",
        "colab_type": "code",
        "colab": {}
      },
      "source": [
        "def MostrarDistribucion(datos,columna,binPlot):\n",
        "  plt.figure()\n",
        "  n, bins, patches = plt.hist(datos,density=True,bins=binPlot)\n",
        "  plt.ylabel(\"Probability\")\n",
        "  plt.title(\"Distribución de Columna: \"+columna)\n",
        "  plt.show()"
      ],
      "execution_count": 0,
      "outputs": []
    },
    {
      "cell_type": "code",
      "metadata": {
        "id": "cGF05l-wbvLT",
        "colab_type": "code",
        "outputId": "b3e7dc70-20a2-4484-94cb-b8e4e6091633",
        "colab": {
          "base_uri": "https://localhost:8080/",
          "height": 281
        }
      },
      "source": [
        "columna=data['x4'].mean()\n",
        "MostrarDistribucion(columna,\"Grosor\",8)"
      ],
      "execution_count": 0,
      "outputs": [
        {
          "output_type": "display_data",
          "data": {
            "image/png": "[encoded data removed]",
            "text/plain": [
              "<Figure size 432x288 with 1 Axes>"
            ]
          },
          "metadata": {
            "tags": []
          }
        }
      ]
    },
    {
      "cell_type": "markdown",
      "metadata": {
        "id": "3F4O55gRb5g1",
        "colab_type": "text"
      },
      "source": [
        "**Diseño de experimentos**"
      ]
    },
    {
      "cell_type": "code",
      "metadata": {
        "id": "il4TS0EVcH_t",
        "colab_type": "code",
        "colab": {}
      },
      "source": [
        ""
      ],
      "execution_count": 0,
      "outputs": []
    }
  ]
}