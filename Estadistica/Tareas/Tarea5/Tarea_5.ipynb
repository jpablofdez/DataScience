{
  "nbformat": 4,
  "nbformat_minor": 0,
  "metadata": {
    "colab": {
      "name": "Tarea_5.ipynb",
      "provenance": [],
      "collapsed_sections": []
    },
    "kernelspec": {
      "name": "python3",
      "display_name": "Python 3"
    }
  },
  "cells": [
    {
      "cell_type": "markdown",
      "metadata": {
        "id": "mNVj5308LUu0",
        "colab_type": "text"
      },
      "source": [
        "### Estadística para Ciencia de los Datos\n",
        "### Tarea #5 \n",
        "Juan Pablo Fernandez Delgado"
      ]
    },
    {
      "cell_type": "markdown",
      "metadata": {
        "id": "hyLRe4OT-GwL",
        "colab_type": "text"
      },
      "source": [
        ""
      ]
    },
    {
      "cell_type": "markdown",
      "metadata": {
        "id": "awBTkDUHPo8l",
        "colab_type": "text"
      },
      "source": [
        "###**Punto #1 Tamano de la muestra**\n",
        "\n",
        "La confianza es de = 95% --> Z= 1.96,    P= q =0.5\n",
        "E = 0.02 \n",
        "\n",
        "\\begin{equation}\n",
        "z=\\frac{1.96^{2}-0.5^{2}}{0.02^{2}}\n",
        "\\end{equation}\n",
        "\n",
        "\n",
        "\n",
        "\\begin{equation}\n",
        "z=\\frac{0.9604}{0.0004}=2401\n",
        "\\end{equation}\n",
        "\n",
        "R/ El tamano de la muestra para que compla los requerimientos es de 2401."
      ]
    },
    {
      "cell_type": "markdown",
      "metadata": {
        "id": "tPjHImuETH1S",
        "colab_type": "text"
      },
      "source": [
        "###**Punto #2 Remuestreo**"
      ]
    },
    {
      "cell_type": "code",
      "metadata": {
        "id": "6P09_awCsaIr",
        "colab_type": "code",
        "colab": {}
      },
      "source": [
        "import pandas as pn\n",
        "import numpy as np\n",
        "import matplotlib.pyplot as plt\n",
        "from pandas import DataFrame\n",
        "import io"
      ],
      "execution_count": 0,
      "outputs": []
    },
    {
      "cell_type": "code",
      "metadata": {
        "id": "AzQZ0GtmUQUw",
        "colab_type": "code",
        "colab": {}
      },
      "source": [
        "data = pn.read_csv('https://raw.githubusercontent.com/jpablofdez/DataScience/master/Estadistica/Tareas/Tarea5/pima-indians-diabetes.csv',sep=';')"
      ],
      "execution_count": 0,
      "outputs": []
    },
    {
      "cell_type": "code",
      "metadata": {
        "id": "AZf3v2SdVBv2",
        "colab_type": "code",
        "outputId": "fec9a7cd-128d-4a3a-cbe3-cbfcc21c1214",
        "colab": {
          "base_uri": "https://localhost:8080/",
          "height": 204
        }
      },
      "source": [
        " data.head()"
      ],
      "execution_count": 0,
      "outputs": [
        {
          "output_type": "execute_result",
          "data": {
            "text/html": [
              "<div>\n",
              "<style scoped>\n",
              "    .dataframe tbody tr th:only-of-type {\n",
              "        vertical-align: middle;\n",
              "    }\n",
              "\n",
              "    .dataframe tbody tr th {\n",
              "        vertical-align: top;\n",
              "    }\n",
              "\n",
              "    .dataframe thead th {\n",
              "        text-align: right;\n",
              "    }\n",
              "</style>\n",
              "<table border=\"1\" class=\"dataframe\">\n",
              "  <thead>\n",
              "    <tr style=\"text-align: right;\">\n",
              "      <th></th>\n",
              "      <th>x1</th>\n",
              "      <th>x2</th>\n",
              "      <th>x3</th>\n",
              "      <th>x4</th>\n",
              "      <th>x5</th>\n",
              "      <th>x6</th>\n",
              "      <th>x7</th>\n",
              "      <th>x8</th>\n",
              "      <th>diabetes</th>\n",
              "    </tr>\n",
              "  </thead>\n",
              "  <tbody>\n",
              "    <tr>\n",
              "      <th>0</th>\n",
              "      <td>6</td>\n",
              "      <td>148</td>\n",
              "      <td>72</td>\n",
              "      <td>35</td>\n",
              "      <td>0</td>\n",
              "      <td>33.6</td>\n",
              "      <td>0.627</td>\n",
              "      <td>50</td>\n",
              "      <td>1</td>\n",
              "    </tr>\n",
              "    <tr>\n",
              "      <th>1</th>\n",
              "      <td>1</td>\n",
              "      <td>85</td>\n",
              "      <td>66</td>\n",
              "      <td>29</td>\n",
              "      <td>0</td>\n",
              "      <td>26.6</td>\n",
              "      <td>0.351</td>\n",
              "      <td>31</td>\n",
              "      <td>0</td>\n",
              "    </tr>\n",
              "    <tr>\n",
              "      <th>2</th>\n",
              "      <td>8</td>\n",
              "      <td>183</td>\n",
              "      <td>64</td>\n",
              "      <td>0</td>\n",
              "      <td>0</td>\n",
              "      <td>23.3</td>\n",
              "      <td>0.672</td>\n",
              "      <td>32</td>\n",
              "      <td>1</td>\n",
              "    </tr>\n",
              "    <tr>\n",
              "      <th>3</th>\n",
              "      <td>1</td>\n",
              "      <td>89</td>\n",
              "      <td>66</td>\n",
              "      <td>23</td>\n",
              "      <td>94</td>\n",
              "      <td>28.1</td>\n",
              "      <td>0.167</td>\n",
              "      <td>21</td>\n",
              "      <td>0</td>\n",
              "    </tr>\n",
              "    <tr>\n",
              "      <th>4</th>\n",
              "      <td>0</td>\n",
              "      <td>137</td>\n",
              "      <td>40</td>\n",
              "      <td>35</td>\n",
              "      <td>168</td>\n",
              "      <td>43.1</td>\n",
              "      <td>2.288</td>\n",
              "      <td>33</td>\n",
              "      <td>1</td>\n",
              "    </tr>\n",
              "  </tbody>\n",
              "</table>\n",
              "</div>"
            ],
            "text/plain": [
              "   x1   x2  x3  x4   x5    x6     x7  x8  diabetes\n",
              "0   6  148  72  35    0  33.6  0.627  50         1\n",
              "1   1   85  66  29    0  26.6  0.351  31         0\n",
              "2   8  183  64   0    0  23.3  0.672  32         1\n",
              "3   1   89  66  23   94  28.1  0.167  21         0\n",
              "4   0  137  40  35  168  43.1  2.288  33         1"
            ]
          },
          "metadata": {
            "tags": []
          },
          "execution_count": 26
        }
      ]
    },
    {
      "cell_type": "code",
      "metadata": {
        "id": "L2AP1GS01qJq",
        "colab_type": "code",
        "colab": {}
      },
      "source": [
        "# Metodo que genera los 3 procedimientos bootstrap con R=70 , R=500 y R=1000 de tamaño n=618\n",
        "def bootstrapMethod(n):\n",
        "  sample_boot = []\n",
        "  for _ in range(n):\n",
        "    sample = np.random.choice(data['x4'], size=618, replace=True)\n",
        "    sample_boot.append(sample.std())\n",
        "\n",
        "  bootstrap = DataFrame (sample_boot,columns=['x4'])\n",
        "  bootstrap.head(20)\n",
        "  var = np.median(bootstrap)\n",
        "  std = np.std(bootstrap)\n",
        "  mean = np.mean(bootstrap)\n",
        "  #print (\"Varianza muestral:{}, La media :{} y la desviacion estandar{}\").format(var,sigma, mu)\n",
        "  print (\"La Varianza muestral :{}\".format(var))\n",
        "  print (\"La Media :{}\".format(mean))\n",
        "  print (\"La Desviacion estandar :{}\".format(std))\n",
        "  print(\"############################# \")\n",
        "  print(\"Histograma TVHR\")\n",
        "  plt.figure()\n",
        "  p1=plt.hist(sample_boot)\n",
        "  plt.ylabel(\"Probability\")\n",
        "  plt.title(\"Distribución de Columna: Grosor \")\n",
        "  plt.show(p1)\n",
        "  #return bootstrap.describe()"
      ],
      "execution_count": 0,
      "outputs": []
    },
    {
      "cell_type": "code",
      "metadata": {
        "id": "DF6MPSdQXflC",
        "colab_type": "code",
        "outputId": "376242e4-7259-450f-d655-e887cd7d3877",
        "colab": {
          "base_uri": "https://localhost:8080/",
          "height": 400
        }
      },
      "source": [
        " # Aplicamos un bootstrap con  R=1000  \n",
        "bootstrapMethod(1000)\n",
        " "
      ],
      "execution_count": 0,
      "outputs": [
        {
          "output_type": "stream",
          "text": [
            "La Varianza muestral :15.901779329949683\n",
            "La Media :x4    15.91867\n",
            "dtype: float64\n",
            "La Desviacion estandar :x4    0.388553\n",
            "dtype: float64\n",
            "############################# \n",
            "Histograma TVHR\n"
          ],
          "name": "stdout"
        },
        {
          "output_type": "display_data",
          "data": {
            "image/png": "[encoded data removed]",
            "text/plain": [
              "<Figure size 432x288 with 1 Axes>"
            ]
          },
          "metadata": {
            "tags": []
          }
        }
      ]
    },
    {
      "cell_type": "code",
      "metadata": {
        "id": "oWj7BTAI24O6",
        "colab_type": "code",
        "outputId": "8e3f5964-f212-4648-d34d-a581cdf2392d",
        "colab": {
          "base_uri": "https://localhost:8080/",
          "height": 204
        }
      },
      "source": [
        "data.head()"
      ],
      "execution_count": 0,
      "outputs": [
        {
          "output_type": "execute_result",
          "data": {
            "text/html": [
              "<div>\n",
              "<style scoped>\n",
              "    .dataframe tbody tr th:only-of-type {\n",
              "        vertical-align: middle;\n",
              "    }\n",
              "\n",
              "    .dataframe tbody tr th {\n",
              "        vertical-align: top;\n",
              "    }\n",
              "\n",
              "    .dataframe thead th {\n",
              "        text-align: right;\n",
              "    }\n",
              "</style>\n",
              "<table border=\"1\" class=\"dataframe\">\n",
              "  <thead>\n",
              "    <tr style=\"text-align: right;\">\n",
              "      <th></th>\n",
              "      <th>x1</th>\n",
              "      <th>x2</th>\n",
              "      <th>x3</th>\n",
              "      <th>x4</th>\n",
              "      <th>x5</th>\n",
              "      <th>x6</th>\n",
              "      <th>x7</th>\n",
              "      <th>x8</th>\n",
              "      <th>diabetes</th>\n",
              "    </tr>\n",
              "  </thead>\n",
              "  <tbody>\n",
              "    <tr>\n",
              "      <th>0</th>\n",
              "      <td>6</td>\n",
              "      <td>148</td>\n",
              "      <td>72</td>\n",
              "      <td>35</td>\n",
              "      <td>0</td>\n",
              "      <td>33.6</td>\n",
              "      <td>0.627</td>\n",
              "      <td>50</td>\n",
              "      <td>1</td>\n",
              "    </tr>\n",
              "    <tr>\n",
              "      <th>1</th>\n",
              "      <td>1</td>\n",
              "      <td>85</td>\n",
              "      <td>66</td>\n",
              "      <td>29</td>\n",
              "      <td>0</td>\n",
              "      <td>26.6</td>\n",
              "      <td>0.351</td>\n",
              "      <td>31</td>\n",
              "      <td>0</td>\n",
              "    </tr>\n",
              "    <tr>\n",
              "      <th>2</th>\n",
              "      <td>8</td>\n",
              "      <td>183</td>\n",
              "      <td>64</td>\n",
              "      <td>0</td>\n",
              "      <td>0</td>\n",
              "      <td>23.3</td>\n",
              "      <td>0.672</td>\n",
              "      <td>32</td>\n",
              "      <td>1</td>\n",
              "    </tr>\n",
              "    <tr>\n",
              "      <th>3</th>\n",
              "      <td>1</td>\n",
              "      <td>89</td>\n",
              "      <td>66</td>\n",
              "      <td>23</td>\n",
              "      <td>94</td>\n",
              "      <td>28.1</td>\n",
              "      <td>0.167</td>\n",
              "      <td>21</td>\n",
              "      <td>0</td>\n",
              "    </tr>\n",
              "    <tr>\n",
              "      <th>4</th>\n",
              "      <td>0</td>\n",
              "      <td>137</td>\n",
              "      <td>40</td>\n",
              "      <td>35</td>\n",
              "      <td>168</td>\n",
              "      <td>43.1</td>\n",
              "      <td>2.288</td>\n",
              "      <td>33</td>\n",
              "      <td>1</td>\n",
              "    </tr>\n",
              "  </tbody>\n",
              "</table>\n",
              "</div>"
            ],
            "text/plain": [
              "   x1   x2  x3  x4   x5    x6     x7  x8  diabetes\n",
              "0   6  148  72  35    0  33.6  0.627  50         1\n",
              "1   1   85  66  29    0  26.6  0.351  31         0\n",
              "2   8  183  64   0    0  23.3  0.672  32         1\n",
              "3   1   89  66  23   94  28.1  0.167  21         0\n",
              "4   0  137  40  35  168  43.1  2.288  33         1"
            ]
          },
          "metadata": {
            "tags": []
          },
          "execution_count": 29
        }
      ]
    },
    {
      "cell_type": "code",
      "metadata": {
        "id": "MTOAWTR0YoyL",
        "colab_type": "code",
        "outputId": "1baf8bb1-d698-4fd8-e984-e33e9db84433",
        "colab": {
          "base_uri": "https://localhost:8080/",
          "height": 170
        }
      },
      "source": [
        "data['x4'].describe() "
      ],
      "execution_count": 0,
      "outputs": [
        {
          "output_type": "execute_result",
          "data": {
            "text/plain": [
              "count    768.000000\n",
              "mean      20.536458\n",
              "std       15.952218\n",
              "min        0.000000\n",
              "25%        0.000000\n",
              "50%       23.000000\n",
              "75%       32.000000\n",
              "max       99.000000\n",
              "Name: x4, dtype: float64"
            ]
          },
          "metadata": {
            "tags": []
          },
          "execution_count": 30
        }
      ]
    },
    {
      "cell_type": "markdown",
      "metadata": {
        "id": "hIDNZmP9b9om",
        "colab_type": "text"
      },
      "source": [
        "**Punto 3. Tratamiento de valores perdidos:**\n"
      ]
    },
    {
      "cell_type": "code",
      "metadata": {
        "id": "USiTl4difrx_",
        "colab_type": "code",
        "colab": {}
      },
      "source": [
        "dataInput = data"
      ],
      "execution_count": 0,
      "outputs": []
    },
    {
      "cell_type": "code",
      "metadata": {
        "id": "Vv3W3DANcUnS",
        "colab_type": "code",
        "outputId": "84811d70-6e0d-4464-92ae-7ee22f9395f0",
        "colab": {
          "base_uri": "https://localhost:8080/",
          "height": 170
        }
      },
      "source": [
        "#Tratamiento de valores nulos\n",
        "print(dataInput.iloc[:,4:6].describe())"
      ],
      "execution_count": 0,
      "outputs": [
        {
          "output_type": "stream",
          "text": [
            "               x5          x6\n",
            "count  394.000000  768.000000\n",
            "mean   155.548223   31.992578\n",
            "std    118.775855    7.884160\n",
            "min     14.000000    0.000000\n",
            "25%     76.250000   27.300000\n",
            "50%    125.000000   32.000000\n",
            "75%    190.000000   36.600000\n",
            "max    846.000000   67.100000\n"
          ],
          "name": "stdout"
        }
      ]
    },
    {
      "cell_type": "code",
      "metadata": {
        "id": "iOCqo8zBe1NW",
        "colab_type": "code",
        "outputId": "89c83eda-1a91-4b9d-94f6-d3443be0e26e",
        "colab": {
          "base_uri": "https://localhost:8080/",
          "height": 204
        }
      },
      "source": [
        "#Asignar como NaN y eliminar las observaciones\n",
        "dataInput.iloc[:,3:5]=dataInput.iloc[:,3:5].replace(0,np.NaN)\n",
        "print(\"Número de observaciones NaN por columna: \")\n",
        "print(dataInput.isnull().sum())"
      ],
      "execution_count": 0,
      "outputs": [
        {
          "output_type": "stream",
          "text": [
            "Número de observaciones NaN por columna: \n",
            "x1            0\n",
            "x2            0\n",
            "x3            0\n",
            "x4          227\n",
            "x5          374\n",
            "x6            0\n",
            "x7            0\n",
            "x8            0\n",
            "diabetes      0\n",
            "dtype: int64\n"
          ],
          "name": "stdout"
        }
      ]
    },
    {
      "cell_type": "code",
      "metadata": {
        "id": "YpXN5rzEgQQN",
        "colab_type": "code",
        "colab": {}
      },
      "source": [
        "# Cargar de nuevo el dataset\n",
        "dataNuevo = pn.read_csv('https://raw.githubusercontent.com/jpablofdez/DataScience/master/Estadistica/Tareas/Tarea5/pima-indians-diabetes.csv',sep=';')"
      ],
      "execution_count": 0,
      "outputs": []
    },
    {
      "cell_type": "code",
      "metadata": {
        "id": "8uCbollDgubE",
        "colab_type": "code",
        "outputId": "3d60deb7-e890-488d-f789-e410eaa96e71",
        "colab": {
          "base_uri": "https://localhost:8080/",
          "height": 170
        }
      },
      "source": [
        "print(dataNuevo.iloc[:,3:5].describe())"
      ],
      "execution_count": 0,
      "outputs": [
        {
          "output_type": "stream",
          "text": [
            "               x4          x5\n",
            "count  768.000000  768.000000\n",
            "mean    20.536458   79.799479\n",
            "std     15.952218  115.244002\n",
            "min      0.000000    0.000000\n",
            "25%      0.000000    0.000000\n",
            "50%     23.000000   30.500000\n",
            "75%     32.000000  127.250000\n",
            "max     99.000000  846.000000\n"
          ],
          "name": "stdout"
        }
      ]
    },
    {
      "cell_type": "code",
      "metadata": {
        "id": "YYPCpuMZhI9W",
        "colab_type": "code",
        "outputId": "031850bc-0172-4496-856e-b4f6e91453fe",
        "colab": {
          "base_uri": "https://localhost:8080/",
          "height": 170
        }
      },
      "source": [
        "# sustituimos valores, por la media\n",
        "dataNuevo.iloc[:,3:5]=dataNuevo.iloc[:,3:5].replace(0,dataNuevo.iloc[:,3:5].mean())\n",
        "\n",
        "print(dataNuevo.iloc[:,3:5].describe())"
      ],
      "execution_count": 0,
      "outputs": [
        {
          "output_type": "stream",
          "text": [
            "               x4          x5\n",
            "count  768.000000  768.000000\n",
            "mean    26.606479  118.660163\n",
            "std      9.631241   93.080358\n",
            "min      7.000000   14.000000\n",
            "25%     20.536458   79.799479\n",
            "50%     23.000000   79.799479\n",
            "75%     32.000000  127.250000\n",
            "max     99.000000  846.000000\n"
          ],
          "name": "stdout"
        }
      ]
    },
    {
      "cell_type": "markdown",
      "metadata": {
        "id": "LE2o9MuGa7F6",
        "colab_type": "text"
      },
      "source": [
        "Una de las mejores tecticas de sustitucion de datos es sustituir los valores por la media, ya que seria un promedio más cercano para hacer predicciones, que con cualquier otro valor al azar."
      ]
    },
    {
      "cell_type": "markdown",
      "metadata": {
        "id": "3F4O55gRb5g1",
        "colab_type": "text"
      },
      "source": [
        "**Punto 4 Diseño de experimentos**"
      ]
    },
    {
      "cell_type": "code",
      "metadata": {
        "id": "epVuEcaoxwvd",
        "colab_type": "code",
        "outputId": "a32d4384-7d1b-4c11-c026-e8154339b9c9",
        "colab": {
          "base_uri": "https://localhost:8080/",
          "height": 221
        }
      },
      "source": [
        "pip install researchpy"
      ],
      "execution_count": 0,
      "outputs": [
        {
          "output_type": "stream",
          "text": [
            "Collecting researchpy\n",
            "  Downloading https://files.pythonhosted.org/packages/9c/4f/9401306cc653c9a516efbdb6d63960803b3a246c81f68c3baf1d2d5ed0c1/researchpy-0.1.7-py3-none-any.whl\n",
            "Requirement already satisfied: numpy in /usr/local/lib/python3.6/dist-packages (from researchpy) (1.17.3)\n",
            "Requirement already satisfied: statsmodels in /usr/local/lib/python3.6/dist-packages (from researchpy) (0.10.1)\n",
            "Requirement already satisfied: scipy in /usr/local/lib/python3.6/dist-packages (from researchpy) (1.3.1)\n",
            "Requirement already satisfied: pandas in /usr/local/lib/python3.6/dist-packages (from researchpy) (0.25.3)\n",
            "Requirement already satisfied: patsy>=0.4.0 in /usr/local/lib/python3.6/dist-packages (from statsmodels->researchpy) (0.5.1)\n",
            "Requirement already satisfied: python-dateutil>=2.6.1 in /usr/local/lib/python3.6/dist-packages (from pandas->researchpy) (2.6.1)\n",
            "Requirement already satisfied: pytz>=2017.2 in /usr/local/lib/python3.6/dist-packages (from pandas->researchpy) (2018.9)\n",
            "Requirement already satisfied: six in /usr/local/lib/python3.6/dist-packages (from patsy>=0.4.0->statsmodels->researchpy) (1.12.0)\n",
            "Installing collected packages: researchpy\n",
            "Successfully installed researchpy-0.1.7\n"
          ],
          "name": "stdout"
        }
      ]
    },
    {
      "cell_type": "code",
      "metadata": {
        "id": "P6G-jrI7xgVJ",
        "colab_type": "code",
        "colab": {}
      },
      "source": [
        "import pandas as pn\n",
        "import researchpy as rp\n",
        "import statsmodels.api as sm\n",
        "from statsmodels.formula.api import ols\n",
        "from scipy.stats import f\n"
      ],
      "execution_count": 0,
      "outputs": []
    },
    {
      "cell_type": "code",
      "metadata": {
        "id": "Q7NLB9tFxsad",
        "colab_type": "code",
        "colab": {}
      },
      "source": [
        "anova = pn.read_csv('https://raw.githubusercontent.com/jpablofdez/DataScience/master/Estadistica/Tareas/Tarea5/ventanilla.csv',sep=';')"
      ],
      "execution_count": 0,
      "outputs": []
    },
    {
      "cell_type": "code",
      "metadata": {
        "id": "hM7zPWe3x9VW",
        "colab_type": "code",
        "outputId": "c7a42c68-a156-412b-8c9b-87d035aea4dc",
        "colab": {
          "base_uri": "https://localhost:8080/",
          "height": 204
        }
      },
      "source": [
        "anova.head()"
      ],
      "execution_count": 0,
      "outputs": [
        {
          "output_type": "execute_result",
          "data": {
            "text/html": [
              "<div>\n",
              "<style scoped>\n",
              "    .dataframe tbody tr th:only-of-type {\n",
              "        vertical-align: middle;\n",
              "    }\n",
              "\n",
              "    .dataframe tbody tr th {\n",
              "        vertical-align: top;\n",
              "    }\n",
              "\n",
              "    .dataframe thead th {\n",
              "        text-align: right;\n",
              "    }\n",
              "</style>\n",
              "<table border=\"1\" class=\"dataframe\">\n",
              "  <thead>\n",
              "    <tr style=\"text-align: right;\">\n",
              "      <th></th>\n",
              "      <th>y</th>\n",
              "      <th>tiempo</th>\n",
              "    </tr>\n",
              "  </thead>\n",
              "  <tbody>\n",
              "    <tr>\n",
              "      <th>0</th>\n",
              "      <td>9</td>\n",
              "      <td>10</td>\n",
              "    </tr>\n",
              "    <tr>\n",
              "      <th>1</th>\n",
              "      <td>12</td>\n",
              "      <td>10</td>\n",
              "    </tr>\n",
              "    <tr>\n",
              "      <th>2</th>\n",
              "      <td>10</td>\n",
              "      <td>10</td>\n",
              "    </tr>\n",
              "    <tr>\n",
              "      <th>3</th>\n",
              "      <td>8</td>\n",
              "      <td>10</td>\n",
              "    </tr>\n",
              "    <tr>\n",
              "      <th>4</th>\n",
              "      <td>15</td>\n",
              "      <td>10</td>\n",
              "    </tr>\n",
              "  </tbody>\n",
              "</table>\n",
              "</div>"
            ],
            "text/plain": [
              "    y  tiempo\n",
              "0   9      10\n",
              "1  12      10\n",
              "2  10      10\n",
              "3   8      10\n",
              "4  15      10"
            ]
          },
          "metadata": {
            "tags": []
          },
          "execution_count": 49
        }
      ]
    },
    {
      "cell_type": "code",
      "metadata": {
        "id": "6_Nj179bx_LO",
        "colab_type": "code",
        "outputId": "3c336f0e-aeaf-43f7-8bfb-6edf1fcdcb50",
        "colab": {
          "base_uri": "https://localhost:8080/",
          "height": 204
        }
      },
      "source": [
        "\n",
        "#descriptivas\n",
        "print(rp.summary_cont(anova['y']))\n",
        "print(rp.summary_cont(anova['y'].groupby(anova['tiempo'])))"
      ],
      "execution_count": 0,
      "outputs": [
        {
          "output_type": "stream",
          "text": [
            "\n",
            "\n",
            "  Variable     N  Mean        SD        SE  95% Conf.   Interval\n",
            "0        y  15.0  13.8  7.301663  1.885281   9.756474  17.843526\n",
            "\n",
            "\n",
            "        N  Mean        SD        SE  95% Conf.   Interval\n",
            "tiempo                                                   \n",
            "10      5  10.8  2.774887  1.240967   8.080610  13.519390\n",
            "20      5  22.2  4.868265  2.177154  17.429101  26.970899\n",
            "30      5   8.4  4.393177  1.964688   4.094687  12.705313\n"
          ],
          "name": "stdout"
        }
      ]
    },
    {
      "cell_type": "code",
      "metadata": {
        "id": "EVq8d31tyEne",
        "colab_type": "code",
        "outputId": "f849d04d-1d8a-4f47-c2e4-a1f1c1f1e0a5",
        "colab": {
          "base_uri": "https://localhost:8080/",
          "height": 493
        }
      },
      "source": [
        "##modelo lineal\n",
        "results = ols('y ~ C(tiempo)', data=anova).fit()\n",
        "print(results.summary())"
      ],
      "execution_count": 0,
      "outputs": [
        {
          "output_type": "stream",
          "text": [
            "                            OLS Regression Results                            \n",
            "==============================================================================\n",
            "Dep. Variable:                      y   R-squared:                       0.728\n",
            "Model:                            OLS   Adj. R-squared:                  0.683\n",
            "Method:                 Least Squares   F-statistic:                     16.08\n",
            "Date:                Tue, 05 Nov 2019   Prob (F-statistic):           0.000402\n",
            "Time:                        22:56:17   Log-Likelihood:                -40.815\n",
            "No. Observations:                  15   AIC:                             87.63\n",
            "Df Residuals:                      12   BIC:                             89.75\n",
            "Df Model:                           2                                         \n",
            "Covariance Type:            nonrobust                                         \n",
            "===================================================================================\n",
            "                      coef    std err          t      P>|t|      [0.025      0.975]\n",
            "-----------------------------------------------------------------------------------\n",
            "Intercept          10.8000      1.838      5.874      0.000       6.794      14.806\n",
            "C(tiempo)[T.20]    11.4000      2.600      4.385      0.001       5.735      17.065\n",
            "C(tiempo)[T.30]    -2.4000      2.600     -0.923      0.374      -8.065       3.265\n",
            "==============================================================================\n",
            "Omnibus:                        4.235   Durbin-Watson:                   2.840\n",
            "Prob(Omnibus):                  0.120   Jarque-Bera (JB):                2.548\n",
            "Skew:                           1.009   Prob(JB):                        0.280\n",
            "Kurtosis:                       3.046   Cond. No.                         3.73\n",
            "==============================================================================\n",
            "\n",
            "Warnings:\n",
            "[1] Standard Errors assume that the covariance matrix of the errors is correctly specified.\n"
          ],
          "name": "stdout"
        },
        {
          "output_type": "stream",
          "text": [
            "/usr/local/lib/python3.6/dist-packages/scipy/stats/stats.py:1450: UserWarning: kurtosistest only valid for n>=20 ... continuing anyway, n=15\n",
            "  \"anyway, n=%i\" % int(n))\n"
          ],
          "name": "stderr"
        }
      ]
    },
    {
      "cell_type": "code",
      "metadata": {
        "id": "ejxI3yhoyI0e",
        "colab_type": "code",
        "outputId": "98b70817-4c49-4d3f-dac2-49f353e7e06f",
        "colab": {
          "base_uri": "https://localhost:8080/",
          "height": 68
        }
      },
      "source": [
        "##ANOVA\n",
        "aov_table = sm.stats.anova_lm(results, typ=2)\n",
        "print(aov_table)"
      ],
      "execution_count": 0,
      "outputs": [
        {
          "output_type": "stream",
          "text": [
            "           sum_sq    df         F    PR(>F)\n",
            "C(tiempo)   543.6   2.0  16.08284  0.000402\n",
            "Residual    202.8  12.0       NaN       NaN\n"
          ],
          "name": "stdout"
        }
      ]
    },
    {
      "cell_type": "markdown",
      "metadata": {
        "id": "lYknW7UA19w3",
        "colab_type": "text"
      },
      "source": [
        "###Evaluación de la prueba de hipótesis\n",
        "\n",
        "Tomando como base las dos proporciones anteriores, definimos una estadística que nos permitirá aceptar o rechazar la hipótesis:\n",
        "\n",
        "\\begin{equation}\n",
        "F_0=\\dfrac{\\textrm{MS}_\\textrm{tratamiento}}{\\textrm{MS}_\\textrm{error}}\n",
        "\\end{equation}\n"
      ]
    },
    {
      "cell_type": "markdown",
      "metadata": {
        "id": "B1Rz_Ef13ovq",
        "colab_type": "text"
      },
      "source": [
        "\n",
        "\\begin{equation}\n",
        "F_0=\\dfrac{\\dfrac{543.6}{2}}{\\dfrac{202.8}{12}}\n",
        "\\end{equation}"
      ]
    },
    {
      "cell_type": "markdown",
      "metadata": {
        "id": "FG06rcBT38TY",
        "colab_type": "text"
      },
      "source": [
        "\\begin{equation}\n",
        "F_0=16.0828\n",
        "\\end{equation}"
      ]
    },
    {
      "cell_type": "code",
      "metadata": {
        "id": "hq_-opL8yOrI",
        "colab_type": "code",
        "outputId": "f0b0eb4e-8fb7-4a71-ba75-a50151c14842",
        "colab": {
          "base_uri": "https://localhost:8080/",
          "height": 34
        }
      },
      "source": [
        "#Valor crítico\n",
        "#gl numerador=a-1=2\n",
        "#gl denominador=N-a=12\n",
        "print(f.ppf(0.95, 2, 12))"
      ],
      "execution_count": 0,
      "outputs": [
        {
          "output_type": "stream",
          "text": [
            "3.8852938346523933\n"
          ],
          "name": "stdout"
        }
      ]
    }
  ]
}