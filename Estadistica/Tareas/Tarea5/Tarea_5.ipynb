{
  "nbformat": 4,
  "nbformat_minor": 0,
  "metadata": {
    "colab": {
      "name": "Tarea_5.ipynb",
      "provenance": [],
      "collapsed_sections": []
    },
    "kernelspec": {
      "name": "python3",
      "display_name": "Python 3"
    }
  },
  "cells": [
    {
      "cell_type": "markdown",
      "metadata": {
        "id": "mNVj5308LUu0",
        "colab_type": "text"
      },
      "source": [
        "# Estadística para Ciencia de los Datos\n",
        "# Tarea #5 - Semana #7\n"
      ]
    },
    {
      "cell_type": "markdown",
      "metadata": {
        "id": "HelLMHILmU-E",
        "colab_type": "text"
      },
      "source": [
        "##Instrucciones\n",
        "Realice los siguientes ejercicios y envíe sus respuestas, en un archivo PDF, a través de TEC Digital a más tardar el domingo 3 de noviembre a las 10 PM. No se aceptarán entregas tardías.\n",
        "\n",
        "Desarrolle todos los ejercicios con el mayor nivel de detalle posible. Se espera que el desarrollo algebraico sea formal. No será válido únicamente dar respuestas en prosa a las preguntas."
      ]
    },
    {
      "cell_type": "markdown",
      "metadata": {
        "id": "hyLRe4OT-GwL",
        "colab_type": "text"
      },
      "source": [
        "1. **Tamaño de muestra:** Suponga que una entidad bancaria contrata sus servicios para desarrollar un modelo de regresión logística que predice la probabilidad de que un cliente cometa fraude. La entidad bancaria requiere que sus estimaciones cuenten con un 95% de confianza y no están dispuestos a aceptar predicciones con más de un 2% de error. ¿Cuál sería, como mínimo, el tamaño de muestra necesario para desarrollar un modelo que cumpla con los requerimientos establecidos? \n",
        "\n",
        "\n",
        "2. **Remuestreo:** Utilice el dataset \"diabetes\" y aplique un bootstrap con $R=1000$ para encontrar una aproximación de la distribución muestral del promedio (parámetro) de $ x_4: $ Grosor del pliegue de tríceps (mm) (10 pts). \n",
        "- Calcule la media y el error estándar de la distribución muestral (5 pts). \n",
        "- Represente la distribución en un histograma. (5 pts)\n",
        "\n",
        "3. **Tratamiento de valores perdidos:** \n",
        "\n",
        "- Defina como perdidos los valores cero de las siguientes columnas y elimine  estas observaciones.\n",
        "$x_5:$ 2 horas de insulina en suero (mu U / ml).\n",
        "$x_6:$ Índice de masa corporal (peso en kg / (altura en m) ^ 2).\n",
        "- Ahora, cargue nuevamente el archivo y aplique la técnica de imputación de datos con el promedio de las columnas respectivas.\n",
        "- Comente las diferencias en el tamaño de muestra y el promedio de las columnas, al aplicar uno u otra técnica de tratamiento de valores perdidos.\n",
        "\n",
        "\n",
        "4. **Diseño de experimentos:** Se determinó el tiempo de atención en ventanilla para un mismo trámite en una sucursal bancaria, para tres operarios diferentes. Con el fin de estandarizar los tiempos de atención y determinar si los operadores requieren capacitación específica para mejorar los tiempos. Los resultados se muestran en la siguiente tabla:\n",
        "\n",
        "\n",
        "|Operario| Tiempo | de | atención | en|ventanilla\n",
        "|--- | --- | --- | --- |---| ---\n",
        "|**1**|9|12|10|8|15\n",
        "|**2**|20|21|23|17|30\n",
        "|**3**|6|5|8|16|7\n",
        "\n",
        "- A partir de la tabla construya el dataset necesario para el análisis de variancia **(ANOVA)**.\n",
        "- Pruebe la hipótesis de que los tres operarios tardan el mismo tiempo en atender el trámite. Plantee la hipotesis en términos del modelo de efectos. Utilice un 5% de signifcancia, indique el valor del estadístico de prueba $F$ y concluya a partir de él.  \n",
        "- Ejecute el **ANOVA** rescpectivo e indique el valor de los componentes de variancia: $SS_{tratamiento}$ y $SS_{error}$\n",
        "- Calcule los coeficientes $(\\tau_i)$ del modelo de efectos que describe el experimento. y exprese el modelo de la siguiente forma. \n",
        "\n",
        "\\begin{equation}\n",
        "y_{i,j}=\\mu+\\tau_{i}+\\epsilon_{i,j}\n",
        "\\end{equation}"
      ]
    }
  ]
}