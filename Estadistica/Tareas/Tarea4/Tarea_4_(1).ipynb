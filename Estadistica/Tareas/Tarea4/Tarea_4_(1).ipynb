{
  "nbformat": 4,
  "nbformat_minor": 0,
  "metadata": {
    "colab": {
      "name": "Tarea_4 (1).ipynb",
      "provenance": [],
      "collapsed_sections": []
    },
    "kernelspec": {
      "name": "python3",
      "display_name": "Python 3"
    }
  },
  "cells": [
    {
      "cell_type": "markdown",
      "metadata": {
        "id": "mNVj5308LUu0",
        "colab_type": "text"
      },
      "source": [
        "\n",
        "**Estadística para Ciencia de los Datos**\n",
        "###Tarea #4 \n",
        "\n",
        "\n",
        "Juan Pablo Fernandez Delgado"
      ]
    },
    {
      "cell_type": "markdown",
      "metadata": {
        "id": "z3fpVIgVWE3n",
        "colab_type": "text"
      },
      "source": [
        "**Punto #1**"
      ]
    },
    {
      "cell_type": "code",
      "metadata": {
        "id": "SURywtFYUYdU",
        "colab_type": "code",
        "colab": {}
      },
      "source": [
        "#1)\n",
        "# media mu = 1\n",
        "# varianza sigma = 1.0\n",
        "#n = 100\n",
        "\n"
      ],
      "execution_count": 0,
      "outputs": []
    },
    {
      "cell_type": "markdown",
      "metadata": {
        "id": "HJp3hGiLt_fK",
        "colab_type": "text"
      },
      "source": [
        "\n",
        "\n",
        "\n",
        "1) Se denota que $X_i$ el tiempo de servicio de un cliente $i$, entonces se quiere calcular:\n",
        "\n",
        "\n",
        "\\begin{equation}\n",
        "P\\left(\\overline{x}≤\\dfrac{120}{100}\\right)=P\\left(\\overline{x}≤1.20\\right)\n",
        "\\end{equation}\n",
        "\n",
        "\n",
        "\n",
        "---\n",
        "\n",
        "\n",
        "\n",
        "Como el tamano de la muestra es grande, el teorema del limite central dice que  $\\overline{X}$ Y esta distribuido normalmente en forma aproximada con  $\\mu=1.5$ y $\\sigma_{\\overline{x}}^2 = \\sigma^2/n=1.0/100$\n",
        "\n",
        "\n",
        "Podemos entonces, calcular el valor $Z$ para nuestro punto de interés en la distribución:\n",
        "\n",
        "$Z=\\frac{1.20-1.50}{\\sqrt{1/100}}=3$\n",
        "\n",
        "y obtener la probabilidad $p(Z≤3)$\n",
        "\n",
        "\n"
      ]
    },
    {
      "cell_type": "code",
      "metadata": {
        "id": "kCpSNBKoZPqX",
        "colab_type": "code",
        "outputId": "d1e29852-b5b3-4e74-b73d-72a307b983be",
        "colab": {
          "base_uri": "https://localhost:8080/",
          "height": 34
        }
      },
      "source": [
        "# Se calcula en scipy\n",
        "import scipy.stats as st\n",
        "1-st.norm.cdf(3)"
      ],
      "execution_count": 3,
      "outputs": [
        {
          "output_type": "execute_result",
          "data": {
            "text/plain": [
              "0.0013498980316301035"
            ]
          },
          "metadata": {
            "tags": []
          },
          "execution_count": 3
        }
      ]
    },
    {
      "cell_type": "markdown",
      "metadata": {
        "id": "AqSojksv4717",
        "colab_type": "text"
      },
      "source": [
        "$p(Z≤3)=0.0013$ tan solo hay un $0.013$% de probabilidad.\n",
        "\n",
        "\n",
        "La probabilidad de que 100 clientes puedan ser atendidos en menos de 2 horas es aproximadamente 0.0013. Entoces se dice que atender a 100 clientes en menos de 2 horas es practicamente imposible."
      ]
    },
    {
      "cell_type": "markdown",
      "metadata": {
        "id": "DsCa-IZDpdO2",
        "colab_type": "text"
      },
      "source": [
        "**Punto #2**"
      ]
    },
    {
      "cell_type": "code",
      "metadata": {
        "id": "m1DWQrWQVHgS",
        "colab_type": "code",
        "colab": {}
      },
      "source": [
        "# lectura de librerias\n",
        "import pandas as pd\n",
        "import numpy as np\n",
        "import matplotlib.pyplot as plt\n",
        "import scipy.stats as stats\n",
        "from numbers import Number\n",
        "import math\n",
        "import torch\n",
        "from torch.distributions import Exponential\n",
        "from torch.distributions import Uniform\n",
        "from torch.distributions import Normal\n",
        "from torch.distributions.exp_family import ExponentialFamily\n",
        "from torch.distributions.utils import broadcast_all"
      ],
      "execution_count": 0,
      "outputs": []
    },
    {
      "cell_type": "code",
      "metadata": {
        "id": "VG5H-QtbUb9i",
        "colab_type": "code",
        "colab": {}
      },
      "source": [
        "# lectura del dataset\n",
        "data= pd.read_csv(\"https://raw.githubusercontent.com/jpablofdez/DataScience/master/Estadistica/Tareas/Tarea4/MYOPIA.csv\", sep=';')"
      ],
      "execution_count": 0,
      "outputs": []
    },
    {
      "cell_type": "code",
      "metadata": {
        "id": "qlJGRk1DVQU8",
        "colab_type": "code",
        "outputId": "d02b5f17-9fee-4c54-a3df-1cf5697e4f66",
        "colab": {
          "base_uri": "https://localhost:8080/",
          "height": 204
        }
      },
      "source": [
        "data.head()"
      ],
      "execution_count": 6,
      "outputs": [
        {
          "output_type": "execute_result",
          "data": {
            "text/html": [
              "<div>\n",
              "<style scoped>\n",
              "    .dataframe tbody tr th:only-of-type {\n",
              "        vertical-align: middle;\n",
              "    }\n",
              "\n",
              "    .dataframe tbody tr th {\n",
              "        vertical-align: top;\n",
              "    }\n",
              "\n",
              "    .dataframe thead th {\n",
              "        text-align: right;\n",
              "    }\n",
              "</style>\n",
              "<table border=\"1\" class=\"dataframe\">\n",
              "  <thead>\n",
              "    <tr style=\"text-align: right;\">\n",
              "      <th></th>\n",
              "      <th>ID</th>\n",
              "      <th>STUDYYEAR</th>\n",
              "      <th>MYOPIC</th>\n",
              "      <th>AGE</th>\n",
              "      <th>GENDER</th>\n",
              "      <th>SPHEQ</th>\n",
              "      <th>AL</th>\n",
              "      <th>ACD</th>\n",
              "      <th>LT</th>\n",
              "      <th>VCD</th>\n",
              "      <th>SPORTHR</th>\n",
              "      <th>READHR</th>\n",
              "      <th>COMPHR</th>\n",
              "      <th>STUDYHR</th>\n",
              "      <th>TVHR</th>\n",
              "      <th>DIOPTERHR</th>\n",
              "      <th>MOMMY</th>\n",
              "      <th>DADMY</th>\n",
              "    </tr>\n",
              "  </thead>\n",
              "  <tbody>\n",
              "    <tr>\n",
              "      <th>0</th>\n",
              "      <td>1</td>\n",
              "      <td>1992</td>\n",
              "      <td>1</td>\n",
              "      <td>6</td>\n",
              "      <td>1</td>\n",
              "      <td>-0.052</td>\n",
              "      <td>21.89</td>\n",
              "      <td>3.690</td>\n",
              "      <td>3.498</td>\n",
              "      <td>14.70</td>\n",
              "      <td>45</td>\n",
              "      <td>8</td>\n",
              "      <td>0</td>\n",
              "      <td>0</td>\n",
              "      <td>10</td>\n",
              "      <td>34</td>\n",
              "      <td>1</td>\n",
              "      <td>1</td>\n",
              "    </tr>\n",
              "    <tr>\n",
              "      <th>1</th>\n",
              "      <td>2</td>\n",
              "      <td>1995</td>\n",
              "      <td>0</td>\n",
              "      <td>6</td>\n",
              "      <td>1</td>\n",
              "      <td>0.608</td>\n",
              "      <td>22.38</td>\n",
              "      <td>3.702</td>\n",
              "      <td>3.392</td>\n",
              "      <td>15.29</td>\n",
              "      <td>4</td>\n",
              "      <td>0</td>\n",
              "      <td>1</td>\n",
              "      <td>1</td>\n",
              "      <td>7</td>\n",
              "      <td>12</td>\n",
              "      <td>1</td>\n",
              "      <td>1</td>\n",
              "    </tr>\n",
              "    <tr>\n",
              "      <th>2</th>\n",
              "      <td>3</td>\n",
              "      <td>1991</td>\n",
              "      <td>0</td>\n",
              "      <td>6</td>\n",
              "      <td>1</td>\n",
              "      <td>1.179</td>\n",
              "      <td>22.49</td>\n",
              "      <td>3.462</td>\n",
              "      <td>3.514</td>\n",
              "      <td>15.52</td>\n",
              "      <td>14</td>\n",
              "      <td>0</td>\n",
              "      <td>2</td>\n",
              "      <td>0</td>\n",
              "      <td>10</td>\n",
              "      <td>14</td>\n",
              "      <td>0</td>\n",
              "      <td>0</td>\n",
              "    </tr>\n",
              "    <tr>\n",
              "      <th>3</th>\n",
              "      <td>4</td>\n",
              "      <td>1990</td>\n",
              "      <td>1</td>\n",
              "      <td>6</td>\n",
              "      <td>1</td>\n",
              "      <td>0.525</td>\n",
              "      <td>22.20</td>\n",
              "      <td>3.862</td>\n",
              "      <td>3.612</td>\n",
              "      <td>14.73</td>\n",
              "      <td>18</td>\n",
              "      <td>11</td>\n",
              "      <td>0</td>\n",
              "      <td>0</td>\n",
              "      <td>4</td>\n",
              "      <td>37</td>\n",
              "      <td>0</td>\n",
              "      <td>1</td>\n",
              "    </tr>\n",
              "    <tr>\n",
              "      <th>4</th>\n",
              "      <td>5</td>\n",
              "      <td>1995</td>\n",
              "      <td>0</td>\n",
              "      <td>5</td>\n",
              "      <td>0</td>\n",
              "      <td>0.697</td>\n",
              "      <td>23.29</td>\n",
              "      <td>3.676</td>\n",
              "      <td>3.454</td>\n",
              "      <td>16.16</td>\n",
              "      <td>14</td>\n",
              "      <td>0</td>\n",
              "      <td>0</td>\n",
              "      <td>0</td>\n",
              "      <td>4</td>\n",
              "      <td>4</td>\n",
              "      <td>1</td>\n",
              "      <td>0</td>\n",
              "    </tr>\n",
              "  </tbody>\n",
              "</table>\n",
              "</div>"
            ],
            "text/plain": [
              "   ID  STUDYYEAR  MYOPIC  AGE  GENDER  ...  STUDYHR  TVHR  DIOPTERHR  MOMMY  DADMY\n",
              "0   1       1992       1    6       1  ...        0    10         34      1      1\n",
              "1   2       1995       0    6       1  ...        1     7         12      1      1\n",
              "2   3       1991       0    6       1  ...        0    10         14      0      0\n",
              "3   4       1990       1    6       1  ...        0     4         37      0      1\n",
              "4   5       1995       0    5       0  ...        0     4          4      1      0\n",
              "\n",
              "[5 rows x 18 columns]"
            ]
          },
          "metadata": {
            "tags": []
          },
          "execution_count": 6
        }
      ]
    },
    {
      "cell_type": "code",
      "metadata": {
        "id": "38c08x-DeT8y",
        "colab_type": "code",
        "colab": {}
      },
      "source": [
        "def MostrarDistribucion(datos,columna,binPlot=10):\n",
        "  plt.figure()\n",
        "  n, bins, patches = plt.hist(datos,density=True,bins=binPlot)\n",
        "  plt.ylabel(\"Probability\")\n",
        "  plt.title(\"Distribución de Columna: \"+columna)\n",
        "  plt.show()\n",
        "\n",
        "def MuestrasColumna(datosColumna,n,totalMuestras,useSeed=False,seedAdd=0):\n",
        "  muestras = []\n",
        "  medias = []\n",
        "  for i in range(totalMuestras):\n",
        "    if(useSeed):\n",
        "      np.random.seed(i+seedAdd)\n",
        "    muestra = np.random.choice(datosColumna, n)\n",
        "    muestras.append(muestra)\n",
        "    media = np.average(muestra)\n",
        "    medias.append(media)\n",
        "  return(muestras,medias)\n",
        "\n",
        "def MostrarColumna(mediasColumna,columna):\n",
        "  media = round(np.average(mediasColumna),3)\n",
        "  print(\"Media Muestral:\",media)\n",
        "  print(\"\\n\")\n",
        "  plt.figure()\n",
        "  plt.hist(mediasColumna)\n",
        "  plt.title(\"Distribución de Muetras de Columna: \"+columna)\n",
        "  plt.axvline(media,linewidth=1, color='r')\n",
        "  plt.show()\n",
        "  \n",
        "def ErrorBarColumna(mediasColumna,muGeneral,error):\n",
        "  plt.figure()\n",
        "  plt.errorbar(np.arange(len(mediasColumna))+1,mediasColumna, yerr=error, ls='',\n",
        "                            elinewidth=1, capsize=5)\n",
        "  plt.scatter(np.arange(len(mediasColumna))+1,mediasColumna,s=8)\n",
        "  plt.axhline(muGeneral, color='r',lw=1,label=\"u\")\n",
        "  plt.show()\n",
        "\n",
        "  \n",
        "def ObtenerMuestra(datos,n,seed=10):\n",
        "  np.random.seed(seed)\n",
        "  muestra = np.random.choice(datos, n)\n",
        "  xbar = np.average(muestra)\n",
        "  print(\"Media de la muestra (x barra):\",round(xbar,3))\n",
        "  return xbar\n",
        "\n",
        "def IntervalosConfianza(mu,sigma,intervalo,n,canPrint=True):\n",
        "  div = sigma / math.sqrt(n)\n",
        "  zAlpha = stats.norm.ppf((1+intervalo)/2)\n",
        "  rango = zAlpha*div\n",
        "  superior = mu + rango\n",
        "  inferior = mu - rango\n",
        "  if(canPrint):\n",
        "    print()\n",
        "    print(\"Confianza:\",intervalo)\n",
        "    print(\"Rango inferior:\",inferior)\n",
        "    print(\"Rango superior:\",superior)\n",
        "    print()\n",
        "    print(\"P(\"+str(round(inferior,2))+\" <= mu <= \"+str(round(superior,2))+\") = \"+str(intervalo))\n",
        "  return(inferior,superior)\n",
        "\n",
        "def TamanoN(sigma,error,intervalo):\n",
        "  zValue = stats.norm.ppf((1+intervalo)/2)\n",
        "  nResultado = ((zValue * sigma)/error) ** 2\n",
        "  return math.ceil(nResultado)\n",
        "\n",
        "def HistogramasResultados(datos,binPlot=10):\n",
        "  histogram, histogramX = np.histogram(datos,bins=binPlot)\n",
        "  \n",
        "  histogram = torch.tensor(histogram,dtype=torch.float64)\n",
        "  histogramX = torch.tensor(np.delete(histogramX,0),dtype=torch.float64)\n",
        "  #number of observations\n",
        "  n = histogram.sum()\n",
        "  histogramNorm = torch.div(histogram, n)\n",
        "  #calculate cumulative sum\n",
        "  cdfEmpirical = torch.cumsum(histogramNorm, dim = 0)\n",
        "  return(histogramX,cdfEmpirical)\n",
        "\n",
        "def PlotKS(histogramX,cdfEmpirical,cdfIdeal):\n",
        "  plt.figure()\n",
        "  plt.plot(histogramX.numpy(),cdfEmpirical.numpy(),label=\"Empirico\")\n",
        "  plt.plot(histogramX.numpy(),cdfIdeal.numpy(),label=\"Ideal\",color=\"red\")\n",
        "  plt.ylabel(\"Probability\")\n",
        "  plt.legend(bbox_to_anchor=(1.05, 1), loc=2, borderaxespad=0.)\n",
        "  plt.show()\n",
        "\n",
        "def ResultadoKS(dn,kolDistValue,n):\n",
        "  print(str(dn)+\" < (\"+str(kolDistValue)+\" / SQRT(\"+str(n)+\") = \"+str(kolDistValue / math.sqrt(n))+\") is \"+str(dn < (kolDistValue/ math.sqrt(n))))\n",
        "  \n",
        "  \n",
        "def CompararDistribuciones(datos,pdfArray,binPlot=10):\n",
        "  plt.figure()\n",
        "  n, bins, patches = plt.hist(datosColumna,density=True,label=\"Distribución Datos\",bins=binPlot)\n",
        "  x,y,titulo,leyenda = pdfArray\n",
        "  plt.plot(x,y,color='red',label=leyenda)\n",
        "  plt.ylabel('Probabilidad')\n",
        "  plt.title(\"Histograma Datos vs \"+titulo)\n",
        "  plt.legend(bbox_to_anchor=(1.05, 1), loc=2, borderaxespad=0.)\n",
        "  plt.show()\n",
        "  \n",
        "def KSNormal(datos, meanHist, stdHist, binPlot=10,kolDistValue=1.3581):\n",
        "  histogramX,cdfEmpirical = HistogramasResultados(datos,binPlot)\n",
        "  #Create ideal CDF\n",
        "  normalDensity = Normal(meanHist, stdHist)\n",
        "  cdfNormalIdeal = normalDensity.cdf(histogramX)\n",
        "  #Compare the empirical and ideal distributions\n",
        "  difference = torch.abs(cdfNormalIdeal - cdfEmpirical)\n",
        "  dn = torch.max(difference)\n",
        "  PlotKS(histogramX,cdfEmpirical,cdfNormalIdeal)\n",
        "  ResultadoKS(dn.item(),kolDistValue,len(datos))"
      ],
      "execution_count": 0,
      "outputs": []
    },
    {
      "cell_type": "markdown",
      "metadata": {
        "id": "hz2qOj3hraEI",
        "colab_type": "text"
      },
      "source": [
        "###Pruebas para la columna **Age**\n"
      ]
    },
    {
      "cell_type": "code",
      "metadata": {
        "id": "BGO-VeLtXAHW",
        "colab_type": "code",
        "colab": {}
      },
      "source": [
        "# Gargamos los datos de la columna Age\n",
        "age = data['AGE']\n"
      ],
      "execution_count": 0,
      "outputs": []
    },
    {
      "cell_type": "code",
      "metadata": {
        "id": "Kvxjlcz8XQsQ",
        "colab_type": "code",
        "outputId": "94d180f8-bab2-484e-8f04-28cac9bac540",
        "colab": {
          "base_uri": "https://localhost:8080/",
          "height": 170
        }
      },
      "source": [
        "age.describe()"
      ],
      "execution_count": 9,
      "outputs": [
        {
          "output_type": "execute_result",
          "data": {
            "text/plain": [
              "count    618.000000\n",
              "mean       6.299353\n",
              "std        0.712950\n",
              "min        5.000000\n",
              "25%        6.000000\n",
              "50%        6.000000\n",
              "75%        6.000000\n",
              "max        9.000000\n",
              "Name: AGE, dtype: float64"
            ]
          },
          "metadata": {
            "tags": []
          },
          "execution_count": 9
        }
      ]
    },
    {
      "cell_type": "markdown",
      "metadata": {
        "id": "jou_3vmYSZJ-",
        "colab_type": "text"
      },
      "source": [
        ""
      ]
    },
    {
      "cell_type": "code",
      "metadata": {
        "id": "5Ohuw1kLqeeM",
        "colab_type": "code",
        "colab": {}
      },
      "source": [
        "sigma = np.std(age)\n",
        "mu = np.mean(age)"
      ],
      "execution_count": 0,
      "outputs": []
    },
    {
      "cell_type": "code",
      "metadata": {
        "id": "t_5N_UqVq6c7",
        "colab_type": "code",
        "outputId": "ee1e5766-e282-4f3f-87bb-939bea066801",
        "colab": {
          "base_uri": "https://localhost:8080/",
          "height": 34
        }
      },
      "source": [
        "sigma = round(sigma,2)\n",
        "mu = round(mu,2)\n",
        "print(\"Valores de sigma: {} y mu: {}\".format(sigma,mu))"
      ],
      "execution_count": 12,
      "outputs": [
        {
          "output_type": "stream",
          "text": [
            "Valores de sigma: 0.71 y mu: 6.3\n"
          ],
          "name": "stdout"
        }
      ]
    },
    {
      "cell_type": "markdown",
      "metadata": {
        "id": "1VkAbmr8sQBY",
        "colab_type": "text"
      },
      "source": [
        "**a)**  Con la totalidad de los datos, calculamos un intervalo de confianza al 95% para la columna AGE."
      ]
    },
    {
      "cell_type": "code",
      "metadata": {
        "id": "woMEFenmU7ro",
        "colab_type": "code",
        "colab": {
          "base_uri": "https://localhost:8080/",
          "height": 34
        },
        "outputId": "0afa1c72-54b5-428f-82bf-04a95a9f068f"
      },
      "source": [
        "age.count()"
      ],
      "execution_count": 25,
      "outputs": [
        {
          "output_type": "execute_result",
          "data": {
            "text/plain": [
              "618"
            ]
          },
          "metadata": {
            "tags": []
          },
          "execution_count": 25
        }
      ]
    },
    {
      "cell_type": "code",
      "metadata": {
        "id": "JHpw4-Aurn0Q",
        "colab_type": "code",
        "colab": {
          "base_uri": "https://localhost:8080/",
          "height": 34
        },
        "outputId": "27ced0a2-084b-4ecc-dc29-51dcdc47ef30"
      },
      "source": [
        "n = 618\n",
        "xbar = ObtenerMuestra(age,n)"
      ],
      "execution_count": 26,
      "outputs": [
        {
          "output_type": "stream",
          "text": [
            "Media de la muestra (x barra): 6.303\n"
          ],
          "name": "stdout"
        }
      ]
    },
    {
      "cell_type": "code",
      "metadata": {
        "id": "WcAorgoArswy",
        "colab_type": "code",
        "colab": {
          "base_uri": "https://localhost:8080/",
          "height": 119
        },
        "outputId": "808d7ccf-c41a-4a47-c4c0-45a24f18dd57"
      },
      "source": [
        "intervalo = 0.95\n",
        "\n",
        "IC_Inf,IC_Sup = IntervalosConfianza(mu,sigma,intervalo,n)"
      ],
      "execution_count": 27,
      "outputs": [
        {
          "output_type": "stream",
          "text": [
            "\n",
            "Confianza: 0.95\n",
            "Rango inferior: 6.244022667100308\n",
            "Rango superior: 6.355977332899692\n",
            "\n",
            "P(6.24 <= mu <= 6.36) = 0.95\n"
          ],
          "name": "stdout"
        }
      ]
    },
    {
      "cell_type": "markdown",
      "metadata": {
        "id": "dgVFGXvSVwjm",
        "colab_type": "text"
      },
      "source": [
        "Con intervalo de confianza $$P(6.24\\leq\\mu\\leq6.36) = 0.95$$ se **acepta** la hipótesis ya que la media de la muestra ($\\bar{x}=6.30$) se encuentra entre el intervalo"
      ]
    },
    {
      "cell_type": "markdown",
      "metadata": {
        "id": "TJnqNJBKsZNZ",
        "colab_type": "text"
      },
      "source": [
        "**b)**  Se calcula el mismo intervalo al 95% de confianza solamente con los primeros 25 casos del archivo de datos."
      ]
    },
    {
      "cell_type": "code",
      "metadata": {
        "id": "6056FSQled3k",
        "colab_type": "code",
        "outputId": "17611c2e-879b-46a4-f16f-aeb5e52d3d57",
        "colab": {
          "base_uri": "https://localhost:8080/",
          "height": 34
        }
      },
      "source": [
        "n = 25\n",
        "xbar = ObtenerMuestra(age,n)"
      ],
      "execution_count": 28,
      "outputs": [
        {
          "output_type": "stream",
          "text": [
            "Media de la muestra (x barra): 6.2\n"
          ],
          "name": "stdout"
        }
      ]
    },
    {
      "cell_type": "code",
      "metadata": {
        "id": "w5rYjuMvexVn",
        "colab_type": "code",
        "outputId": "9e6cd6db-d707-4d09-8c89-366bdc6c1dc6",
        "colab": {
          "base_uri": "https://localhost:8080/",
          "height": 119
        }
      },
      "source": [
        "intervalo = 0.95\n",
        "\n",
        "IC_Inf,IC_Sup = IntervalosConfianza(mu,sigma,intervalo,n)"
      ],
      "execution_count": 29,
      "outputs": [
        {
          "output_type": "stream",
          "text": [
            "\n",
            "Confianza: 0.95\n",
            "Rango inferior: 6.0216851141953125\n",
            "Rango superior: 6.578314885804687\n",
            "\n",
            "P(6.02 <= mu <= 6.58) = 0.95\n"
          ],
          "name": "stdout"
        }
      ]
    },
    {
      "cell_type": "markdown",
      "metadata": {
        "id": "CXqtYykCXjni",
        "colab_type": "text"
      },
      "source": [
        "Con intervalo de confianza $$P(6.02\\leq\\mu\\leq6.58) = 0.95$$ se **acepta** la hipótesis ya que la media de la muestra ($\\bar{x}=6.2$) se encuentra entre el intervalo"
      ]
    },
    {
      "cell_type": "markdown",
      "metadata": {
        "id": "9kQfru8QYS5t",
        "colab_type": "text"
      },
      "source": [
        "###Pruebas para la columna COMPHR"
      ]
    },
    {
      "cell_type": "markdown",
      "metadata": {
        "id": "J06HUIi6s565",
        "colab_type": "text"
      },
      "source": [
        "\n",
        "**c)**  Con la totalidad de los datos, calcule un intervalo de confianza al 95% para la columna COMPHR."
      ]
    },
    {
      "cell_type": "code",
      "metadata": {
        "id": "wJE9pK3Zs7QH",
        "colab_type": "code",
        "colab": {}
      },
      "source": [
        "comphr = data['COMPHR']"
      ],
      "execution_count": 0,
      "outputs": []
    },
    {
      "cell_type": "code",
      "metadata": {
        "id": "zv-H31tftAMU",
        "colab_type": "code",
        "colab": {}
      },
      "source": [
        "sigma = np.std(comphr)\n",
        "mu = np.mean(comphr)"
      ],
      "execution_count": 0,
      "outputs": []
    },
    {
      "cell_type": "code",
      "metadata": {
        "id": "nSPJmsJXtEGc",
        "colab_type": "code",
        "colab": {
          "base_uri": "https://localhost:8080/",
          "height": 34
        },
        "outputId": "7d35d250-d9b7-4f9f-9e08-230a21d9bd94"
      },
      "source": [
        "round(sigma,2)\n",
        "round(mu,2)\n",
        "print(\"Valores de sigma: {} y mu: {}\".format(sigma,mu))"
      ],
      "execution_count": 34,
      "outputs": [
        {
          "output_type": "stream",
          "text": [
            "Valores de sigma: 3.054034265024359 y mu: 2.105177993527508\n"
          ],
          "name": "stdout"
        }
      ]
    },
    {
      "cell_type": "code",
      "metadata": {
        "id": "KBvVnyC5ZPCc",
        "colab_type": "code",
        "colab": {
          "base_uri": "https://localhost:8080/",
          "height": 34
        },
        "outputId": "ea5bfbea-8afd-4259-b8a6-82775947d38a"
      },
      "source": [
        "comphr.count()"
      ],
      "execution_count": 39,
      "outputs": [
        {
          "output_type": "execute_result",
          "data": {
            "text/plain": [
              "618"
            ]
          },
          "metadata": {
            "tags": []
          },
          "execution_count": 39
        }
      ]
    },
    {
      "cell_type": "code",
      "metadata": {
        "id": "mzh26nxvtOHi",
        "colab_type": "code",
        "colab": {
          "base_uri": "https://localhost:8080/",
          "height": 34
        },
        "outputId": "a50ee944-cafb-4f52-9f03-5f1898f5776f"
      },
      "source": [
        "n = 618\n",
        "xbar = ObtenerMuestra(comphr,n)"
      ],
      "execution_count": 40,
      "outputs": [
        {
          "output_type": "stream",
          "text": [
            "Media de la muestra (x barra): 2.129\n"
          ],
          "name": "stdout"
        }
      ]
    },
    {
      "cell_type": "code",
      "metadata": {
        "id": "e1RJmzxBtN7h",
        "colab_type": "code",
        "colab": {
          "base_uri": "https://localhost:8080/",
          "height": 119
        },
        "outputId": "4e5d47c0-da45-4337-9999-4bec16990158"
      },
      "source": [
        "intervalo = 0.95\n",
        "\n",
        "IC_Inf,IC_Sup = IntervalosConfianza(mu,sigma,intervalo,n)"
      ],
      "execution_count": 41,
      "outputs": [
        {
          "output_type": "stream",
          "text": [
            "\n",
            "Confianza: 0.95\n",
            "Rango inferior: 1.8643939192453458\n",
            "Rango superior: 2.3459620678096704\n",
            "\n",
            "P(1.86 <= mu <= 2.35) = 0.95\n"
          ],
          "name": "stdout"
        }
      ]
    },
    {
      "cell_type": "markdown",
      "metadata": {
        "id": "5stbz7c0YdUY",
        "colab_type": "text"
      },
      "source": [
        "Con intervalo de confianza $$P(1.86\\leq\\mu\\leq2.35) = 0.95$$ se **acepta** la hipótesis ya que la media de la muestra ($\\bar{x}=2.13$) se encuentra entre el intervalo"
      ]
    },
    {
      "cell_type": "markdown",
      "metadata": {
        "id": "mQUmgZrgtiwf",
        "colab_type": "text"
      },
      "source": [
        "**d)**  Calculamos el mismo intervalo al 95% de confianza solamente con los primeros 100 casos del archivo de datos."
      ]
    },
    {
      "cell_type": "code",
      "metadata": {
        "id": "j-gTPYlgtl2w",
        "colab_type": "code",
        "colab": {
          "base_uri": "https://localhost:8080/",
          "height": 34
        },
        "outputId": "c29a6824-54f2-4c4e-c75a-cf2d9373eab9"
      },
      "source": [
        "n = 100\n",
        "xbar = ObtenerMuestra(comphr,n)"
      ],
      "execution_count": 44,
      "outputs": [
        {
          "output_type": "stream",
          "text": [
            "Media de la muestra (x barra): 2.14\n"
          ],
          "name": "stdout"
        }
      ]
    },
    {
      "cell_type": "code",
      "metadata": {
        "id": "iJRq85BwtmvA",
        "colab_type": "code",
        "colab": {
          "base_uri": "https://localhost:8080/",
          "height": 119
        },
        "outputId": "f34eb278-21d5-4ac2-d818-99f9602678ad"
      },
      "source": [
        "intervalo = 0.95\n",
        "\n",
        "IC_Inf,IC_Sup = IntervalosConfianza(mu,sigma,intervalo,n)"
      ],
      "execution_count": 45,
      "outputs": [
        {
          "output_type": "stream",
          "text": [
            "\n",
            "Confianza: 0.95\n",
            "Rango inferior: 1.5065982768276083\n",
            "Rango superior: 2.703757710227408\n",
            "\n",
            "P(1.51 <= mu <= 2.7) = 0.95\n"
          ],
          "name": "stdout"
        }
      ]
    },
    {
      "cell_type": "markdown",
      "metadata": {
        "id": "S02f8NTKY7Qw",
        "colab_type": "text"
      },
      "source": [
        "Con intervalo de confianza $$P(1.51\\leq\\mu\\leq2.70) = 0.95$$ se **acepta** la hipótesis ya que la media de la muestra ($\\bar{x}=2.14$) se encuentra entre el intervalo"
      ]
    },
    {
      "cell_type": "markdown",
      "metadata": {
        "id": "opHkqt5Ot7pu",
        "colab_type": "text"
      },
      "source": [
        "**Punto #3**"
      ]
    },
    {
      "cell_type": "markdown",
      "metadata": {
        "id": "Ai8kRdgufWYB",
        "colab_type": "text"
      },
      "source": [
        "Prueba de normalidad de Kolmogorov-Smirnov\n",
        "Se van a realizar el test de KS con una confianza de  1−α=0.95"
      ]
    },
    {
      "cell_type": "markdown",
      "metadata": {
        "id": "7ebzaIYpcDNQ",
        "colab_type": "text"
      },
      "source": [
        "Evaluacion grafico COMPHR"
      ]
    },
    {
      "cell_type": "code",
      "metadata": {
        "id": "KM_9-wezfV_g",
        "colab_type": "code",
        "colab": {
          "base_uri": "https://localhost:8080/",
          "height": 298
        },
        "outputId": "e240b7a9-f4d9-4576-e245-c9547d48ace2"
      },
      "source": [
        "comphr = data[\"COMPHR\"]\n",
        "\n",
        "\n",
        "sigma = np.std(comphr)\n",
        "mu = np.mean(comphr)\n",
        "\n",
        "sigma = round(sigma,2)\n",
        "mu = round(mu,2)\n",
        "MostrarDistribucion(comphr,\"COMPHR\",8)\n",
        "print(\"Valores de sigma: {} y mu: {}\".format(sigma,mu))"
      ],
      "execution_count": 59,
      "outputs": [
        {
          "output_type": "display_data",
          "data": {
            "image/png": "[encoded data removed]",
            "text/plain": [
              "<Figure size 432x288 with 1 Axes>"
            ]
          },
          "metadata": {
            "tags": []
          }
        },
        {
          "output_type": "stream",
          "text": [
            "Valores de sigma: 3.05 y mu: 2.11\n"
          ],
          "name": "stdout"
        }
      ]
    },
    {
      "cell_type": "code",
      "metadata": {
        "id": "-DyHn12NgHDo",
        "colab_type": "code",
        "colab": {
          "base_uri": "https://localhost:8080/",
          "height": 286
        },
        "outputId": "28b89b41-87f3-483b-ddae-cd7c432a652c"
      },
      "source": [
        "KSNormal(comphr,mu,sigma,15)"
      ],
      "execution_count": 69,
      "outputs": [
        {
          "output_type": "display_data",
          "data": {
            "image/png": "[encoded data removed]",
            "text/plain": [
              "<Figure size 432x288 with 1 Axes>"
            ]
          },
          "metadata": {
            "tags": []
          }
        },
        {
          "output_type": "stream",
          "text": [
            "0.16266477911775684 < (1.3581 / SQRT(618) = 0.05463079388748345) is False\n"
          ],
          "name": "stdout"
        }
      ]
    },
    {
      "cell_type": "markdown",
      "metadata": {
        "id": "Rb5fxebkk17V",
        "colab_type": "text"
      },
      "source": [
        "\n",
        "\n",
        "Al ser falsa la compración podemos decir que se **rechaza** la hipótesis, por lo que los datos no pudieron haber sido generados de una distribución normal con $\\mu=2.11$ y $\\sigma=3.05$."
      ]
    },
    {
      "cell_type": "markdown",
      "metadata": {
        "id": "HnOdi3CVjkO_",
        "colab_type": "text"
      },
      "source": [
        "Evaluacion grafico SPORTHR"
      ]
    },
    {
      "cell_type": "code",
      "metadata": {
        "id": "PGZ26RAfjoyG",
        "colab_type": "code",
        "colab": {
          "base_uri": "https://localhost:8080/",
          "height": 298
        },
        "outputId": "b7d1f959-c44c-432f-a859-07cadf506afe"
      },
      "source": [
        "sporthr = data[\"SPORTHR\"]\n",
        "\n",
        "\n",
        "sigma = np.std(sporthr)\n",
        "mu = np.mean(sporthr)\n",
        "\n",
        "sigma = round(sigma,2)\n",
        "mu = round(mu,2)\n",
        "MostrarDistribucion(sporthr,\"SPORTHR\",8)\n",
        "print(\"Valores de sigma: {} y mu: {}\".format(sigma,mu))"
      ],
      "execution_count": 63,
      "outputs": [
        {
          "output_type": "display_data",
          "data": {
            "image/png": "[encoded data removed]",
            "text/plain": [
              "<Figure size 432x288 with 1 Axes>"
            ]
          },
          "metadata": {
            "tags": []
          }
        },
        {
          "output_type": "stream",
          "text": [
            "Valores de sigma: 7.96 y mu: 11.95\n"
          ],
          "name": "stdout"
        }
      ]
    },
    {
      "cell_type": "code",
      "metadata": {
        "id": "eZ9kyvTNj8uE",
        "colab_type": "code",
        "colab": {
          "base_uri": "https://localhost:8080/",
          "height": 286
        },
        "outputId": "9dec7b88-ec81-4d5d-d3ca-0a8cccffd9a6"
      },
      "source": [
        "KSNormal(sporthr,mu,sigma, 15)"
      ],
      "execution_count": 70,
      "outputs": [
        {
          "output_type": "display_data",
          "data": {
            "image/png": "[encoded data removed]",
            "text/plain": [
              "<Figure size 432x288 with 1 Axes>"
            ]
          },
          "metadata": {
            "tags": []
          }
        },
        {
          "output_type": "stream",
          "text": [
            "0.6199826169628408 < (1.3581 / SQRT(618) = 0.05463079388748345) is False\n"
          ],
          "name": "stdout"
        }
      ]
    },
    {
      "cell_type": "markdown",
      "metadata": {
        "id": "odhqpCCXnock",
        "colab_type": "text"
      },
      "source": [
        "Al ser falsa la compración podemos decir que se **rechaza** la hipótesis, por lo que los datos no pudieron haber sido generados de una distribución normal con $\\mu=11.95$ y $\\sigma=7.96$."
      ]
    },
    {
      "cell_type": "markdown",
      "metadata": {
        "id": "_OThFxyKkI1T",
        "colab_type": "text"
      },
      "source": [
        "Evaluacion grafico READHR"
      ]
    },
    {
      "cell_type": "code",
      "metadata": {
        "id": "v6qztGcwkRTr",
        "colab_type": "code",
        "colab": {
          "base_uri": "https://localhost:8080/",
          "height": 298
        },
        "outputId": "d97bcf14-a379-4bb7-a164-5484a112ac87"
      },
      "source": [
        "readhr = data[\"READHR\"]\n",
        "\n",
        "\n",
        "sigma = np.std(readhr)\n",
        "mu = np.mean(readhr)\n",
        "\n",
        "sigma = round(sigma,2)\n",
        "mu = round(mu,2)\n",
        "MostrarDistribucion(readhr,\"READHR\",8)\n",
        "print(\"Valores de sigma: {} y mu: {}\".format(sigma,mu))"
      ],
      "execution_count": 65,
      "outputs": [
        {
          "output_type": "display_data",
          "data": {
            "image/png": "[encoded data removed]",
            "text/plain": [
              "<Figure size 432x288 with 1 Axes>"
            ]
          },
          "metadata": {
            "tags": []
          }
        },
        {
          "output_type": "stream",
          "text": [
            "Valores de sigma: 3.07 y mu: 2.8\n"
          ],
          "name": "stdout"
        }
      ]
    },
    {
      "cell_type": "code",
      "metadata": {
        "id": "JqnkjpGokeIQ",
        "colab_type": "code",
        "colab": {
          "base_uri": "https://localhost:8080/",
          "height": 286
        },
        "outputId": "ec81c014-e7d4-4f96-cbf5-8fb7e968397f"
      },
      "source": [
        "KSNormal(readhr,mu,sigma,15)"
      ],
      "execution_count": 71,
      "outputs": [
        {
          "output_type": "display_data",
          "data": {
            "image/png": "[encoded data removed]",
            "text/plain": [
              "<Figure size 432x288 with 1 Axes>"
            ]
          },
          "metadata": {
            "tags": []
          }
        },
        {
          "output_type": "stream",
          "text": [
            "0.11238552152883424 < (1.3581 / SQRT(618) = 0.05463079388748345) is False\n"
          ],
          "name": "stdout"
        }
      ]
    },
    {
      "cell_type": "markdown",
      "metadata": {
        "id": "vBi3dgX7kcDz",
        "colab_type": "text"
      },
      "source": [
        "Al ser falsa la compración podemos decir que se **rechaza** la hipótesis, por lo que los datos no pudieron haber sido generados de una distribución normal con $\\mu=2.8$ y $\\sigma=3.07$."
      ]
    }
  ]
}