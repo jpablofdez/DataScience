{
  "nbformat": 4,
  "nbformat_minor": 0,
  "metadata": {
    "colab": {
      "name": "Tarea_4 (1).ipynb",
      "provenance": [],
      "collapsed_sections": []
    },
    "kernelspec": {
      "name": "python3",
      "display_name": "Python 3"
    }
  },
  "cells": [
    {
      "cell_type": "markdown",
      "metadata": {
        "id": "mNVj5308LUu0",
        "colab_type": "text"
      },
      "source": [
        "# Estadística para Ciencia de los Datos\n",
        "# Tarea #4 - Semana #4\n"
      ]
    },
    {
      "cell_type": "markdown",
      "metadata": {
        "id": "HelLMHILmU-E",
        "colab_type": "text"
      },
      "source": [
        "##Instrucciones\n",
        "Realice los siguientes ejercicios y envíe sus respuestas, en un archivo PDF, a través de TEC Digital a más tardar el domingo 13 de octubre a las 10 PM. No se aceptarán entregas tardías.\n",
        "\n",
        "Desarrolle todos los ejercicios con el mayor nivel de detalle posible. Se espera que el desarrollo algebraico sea formal. No será válido únicamente dar respuestas en prosa a las preguntas."
      ]
    },
    {
      "cell_type": "markdown",
      "metadata": {
        "id": "hyLRe4OT-GwL",
        "colab_type": "text"
      },
      "source": [
        "1. Los tiempos de servicio para los clientes que pasan por la caja en una tienda de venta al menudeo son variables aleatorias independientes con media de 1.5 minutos y varianza de 1.0 minutos por cliente. \n",
        "\n",
        "  Calcule la probabilidad de que 100 clientes puedan ser atendidos 2 horas o menos de tiempo total de servicio.\n",
        "\n",
        "\n",
        "\n",
        "2. A partir del archivo 'MYOPIA', trabaje con las columnas AGE y COMPHR  y resuelva los siguientes enunciados. En el archivo 'MYOPIA_Code_Sheet' encontrará unas descripción de los datos contenidos en el dataset, considere esta descripción para la interpretación de sus resultados.\n",
        "\n",
        "- Con la totalidad de los datos, calcule un intervalo de confianza al 95% para la columna AGE.\n",
        "- Interprete los resultados del punto anterior.\n",
        "- Ahora calcule el mismo intervalo al 95% de confianza solamente con los primeros **25 casos** del archivo de datos. \n",
        "- Explique que impacto tiene la disminución de la muestra sobre el intervalo de confianza.\n",
        "- Con la totalidad de los datos, calcule un intervalo de confianza al 95% para la columna COMPHR.\n",
        "- Interprete los resultados del punto anterior.\n",
        "- Ahora calcule el mismo intervalo al 95% de confianza solamente con los primeros **100 casos** del archivo de datos. \n",
        "- Explique que impacto tiene la disminución de la muestra sobre el intervalo de confianza.\n",
        "\n",
        "\n",
        "3. Evalue gráficamente y por medio de la prueba de Kolgomorov Smirnov la normalidad de las siguientes variables: COMPHR, SPORTHR y READHR. Explique detallamente que muestran los gráficos de histograma y qqplot sobre la normalidad de cada una de las variables.\n",
        "\n"
      ]
    },
    {
      "cell_type": "markdown",
      "metadata": {
        "id": "z3fpVIgVWE3n",
        "colab_type": "text"
      },
      "source": [
        "**Punto #1**"
      ]
    },
    {
      "cell_type": "code",
      "metadata": {
        "id": "SURywtFYUYdU",
        "colab_type": "code",
        "colab": {}
      },
      "source": [
        "#1)\n",
        "# media mu = 1\n",
        "# varianza sigma = 1.0\n",
        "#n = 100\n",
        "\n"
      ],
      "execution_count": 0,
      "outputs": []
    },
    {
      "cell_type": "markdown",
      "metadata": {
        "id": "HJp3hGiLt_fK",
        "colab_type": "text"
      },
      "source": [
        "\n",
        "\n",
        "\n",
        "1) Se denota que $X_i$ el tiempo de servicio de un cliente $i$, entonces se quiere calcular:\n",
        "\n",
        "\n",
        "\\begin{equation}\n",
        "P\\left(\\overline{x}≤\\dfrac{120}{100}\\right)=P\\left(\\overline{x}≤1.20\\right)\n",
        "\\end{equation}\n",
        "\n",
        "\n",
        "\n",
        "---\n",
        "\n",
        "\n",
        "\n",
        "Como el tamano de la muestra es grande, el teorema del limite central dice que  $\\overline{X}$ Y esta distribuido normalmente en forma aproximada con  $\\mu=1.5$ y $\\sigma_{\\overline{x}}^2 = \\sigma^2/n=1.0/100$\n",
        "\n",
        "\n",
        "Podemos entonces, calcular el valor $Z$ para nuestro punto de interés en la distribución:\n",
        "\n",
        "$Z=\\frac{1.20-1.50}{\\sqrt{1/100}}=3$\n",
        "\n",
        "y obtener la probabilidad $p(Z≤3)$\n",
        "\n",
        "\n"
      ]
    },
    {
      "cell_type": "markdown",
      "metadata": {
        "id": "iPmBLBFVt_cR",
        "colab_type": "text"
      },
      "source": [
        ""
      ]
    },
    {
      "cell_type": "code",
      "metadata": {
        "id": "kCpSNBKoZPqX",
        "colab_type": "code",
        "outputId": "22f4f645-ce60-475f-a811-390b0033e5ef",
        "colab": {
          "base_uri": "https://localhost:8080/",
          "height": 34
        }
      },
      "source": [
        "# Se calcula en scipy\n",
        "import scipy.stats as st\n",
        "1-st.norm.cdf(3)"
      ],
      "execution_count": 0,
      "outputs": [
        {
          "output_type": "execute_result",
          "data": {
            "text/plain": [
              "0.0013498980316301035"
            ]
          },
          "metadata": {
            "tags": []
          },
          "execution_count": 3
        }
      ]
    },
    {
      "cell_type": "markdown",
      "metadata": {
        "id": "AqSojksv4717",
        "colab_type": "text"
      },
      "source": [
        "$p(Z>3)=0.0013$ tan solo hay un $0.013$% de probabilidad.\n",
        "\n",
        "\n",
        "La probabilidad de que 100 clientes puedan ser atendidos en menos de 2 horas es aproximadamente 0.0013. Entoces se dice que atender a 100 clientes en menos de 2 horas es practicamente imposible."
      ]
    },
    {
      "cell_type": "markdown",
      "metadata": {
        "id": "DsCa-IZDpdO2",
        "colab_type": "text"
      },
      "source": [
        "**Punto #2**"
      ]
    },
    {
      "cell_type": "code",
      "metadata": {
        "id": "m1DWQrWQVHgS",
        "colab_type": "code",
        "colab": {}
      },
      "source": [
        "# lectura de librerias\n",
        "import pandas as pd\n",
        "import numpy as np\n",
        "import matplotlib.pyplot as plt\n",
        "import scipy.stats as stats\n",
        "from numbers import Number\n",
        "import math\n",
        "import torch\n",
        "from torch.distributions import Exponential\n",
        "from torch.distributions import Uniform\n",
        "from torch.distributions import Normal\n",
        "from torch.distributions.exp_family import ExponentialFamily\n",
        "from torch.distributions.utils import broadcast_all"
      ],
      "execution_count": 0,
      "outputs": []
    },
    {
      "cell_type": "code",
      "metadata": {
        "id": "VG5H-QtbUb9i",
        "colab_type": "code",
        "colab": {}
      },
      "source": [
        "# lectura del dataset\n",
        "data= pd.read_csv(\"https://raw.githubusercontent.com/jpablofdez/DataScience/master/Estadistica/Tareas/Tarea4/MYOPIA.csv\", sep=';')"
      ],
      "execution_count": 0,
      "outputs": []
    },
    {
      "cell_type": "code",
      "metadata": {
        "id": "qlJGRk1DVQU8",
        "colab_type": "code",
        "outputId": "92a85d5d-7769-4025-81ff-b414bf48338e",
        "colab": {
          "base_uri": "https://localhost:8080/",
          "height": 204
        }
      },
      "source": [
        "data.head()"
      ],
      "execution_count": 3,
      "outputs": [
        {
          "output_type": "execute_result",
          "data": {
            "text/html": [
              "<div>\n",
              "<style scoped>\n",
              "    .dataframe tbody tr th:only-of-type {\n",
              "        vertical-align: middle;\n",
              "    }\n",
              "\n",
              "    .dataframe tbody tr th {\n",
              "        vertical-align: top;\n",
              "    }\n",
              "\n",
              "    .dataframe thead th {\n",
              "        text-align: right;\n",
              "    }\n",
              "</style>\n",
              "<table border=\"1\" class=\"dataframe\">\n",
              "  <thead>\n",
              "    <tr style=\"text-align: right;\">\n",
              "      <th></th>\n",
              "      <th>ID</th>\n",
              "      <th>STUDYYEAR</th>\n",
              "      <th>MYOPIC</th>\n",
              "      <th>AGE</th>\n",
              "      <th>GENDER</th>\n",
              "      <th>SPHEQ</th>\n",
              "      <th>AL</th>\n",
              "      <th>ACD</th>\n",
              "      <th>LT</th>\n",
              "      <th>VCD</th>\n",
              "      <th>SPORTHR</th>\n",
              "      <th>READHR</th>\n",
              "      <th>COMPHR</th>\n",
              "      <th>STUDYHR</th>\n",
              "      <th>TVHR</th>\n",
              "      <th>DIOPTERHR</th>\n",
              "      <th>MOMMY</th>\n",
              "      <th>DADMY</th>\n",
              "    </tr>\n",
              "  </thead>\n",
              "  <tbody>\n",
              "    <tr>\n",
              "      <th>0</th>\n",
              "      <td>1</td>\n",
              "      <td>1992</td>\n",
              "      <td>1</td>\n",
              "      <td>6</td>\n",
              "      <td>1</td>\n",
              "      <td>-0.052</td>\n",
              "      <td>21.89</td>\n",
              "      <td>3.690</td>\n",
              "      <td>3.498</td>\n",
              "      <td>14.70</td>\n",
              "      <td>45</td>\n",
              "      <td>8</td>\n",
              "      <td>0</td>\n",
              "      <td>0</td>\n",
              "      <td>10</td>\n",
              "      <td>34</td>\n",
              "      <td>1</td>\n",
              "      <td>1</td>\n",
              "    </tr>\n",
              "    <tr>\n",
              "      <th>1</th>\n",
              "      <td>2</td>\n",
              "      <td>1995</td>\n",
              "      <td>0</td>\n",
              "      <td>6</td>\n",
              "      <td>1</td>\n",
              "      <td>0.608</td>\n",
              "      <td>22.38</td>\n",
              "      <td>3.702</td>\n",
              "      <td>3.392</td>\n",
              "      <td>15.29</td>\n",
              "      <td>4</td>\n",
              "      <td>0</td>\n",
              "      <td>1</td>\n",
              "      <td>1</td>\n",
              "      <td>7</td>\n",
              "      <td>12</td>\n",
              "      <td>1</td>\n",
              "      <td>1</td>\n",
              "    </tr>\n",
              "    <tr>\n",
              "      <th>2</th>\n",
              "      <td>3</td>\n",
              "      <td>1991</td>\n",
              "      <td>0</td>\n",
              "      <td>6</td>\n",
              "      <td>1</td>\n",
              "      <td>1.179</td>\n",
              "      <td>22.49</td>\n",
              "      <td>3.462</td>\n",
              "      <td>3.514</td>\n",
              "      <td>15.52</td>\n",
              "      <td>14</td>\n",
              "      <td>0</td>\n",
              "      <td>2</td>\n",
              "      <td>0</td>\n",
              "      <td>10</td>\n",
              "      <td>14</td>\n",
              "      <td>0</td>\n",
              "      <td>0</td>\n",
              "    </tr>\n",
              "    <tr>\n",
              "      <th>3</th>\n",
              "      <td>4</td>\n",
              "      <td>1990</td>\n",
              "      <td>1</td>\n",
              "      <td>6</td>\n",
              "      <td>1</td>\n",
              "      <td>0.525</td>\n",
              "      <td>22.20</td>\n",
              "      <td>3.862</td>\n",
              "      <td>3.612</td>\n",
              "      <td>14.73</td>\n",
              "      <td>18</td>\n",
              "      <td>11</td>\n",
              "      <td>0</td>\n",
              "      <td>0</td>\n",
              "      <td>4</td>\n",
              "      <td>37</td>\n",
              "      <td>0</td>\n",
              "      <td>1</td>\n",
              "    </tr>\n",
              "    <tr>\n",
              "      <th>4</th>\n",
              "      <td>5</td>\n",
              "      <td>1995</td>\n",
              "      <td>0</td>\n",
              "      <td>5</td>\n",
              "      <td>0</td>\n",
              "      <td>0.697</td>\n",
              "      <td>23.29</td>\n",
              "      <td>3.676</td>\n",
              "      <td>3.454</td>\n",
              "      <td>16.16</td>\n",
              "      <td>14</td>\n",
              "      <td>0</td>\n",
              "      <td>0</td>\n",
              "      <td>0</td>\n",
              "      <td>4</td>\n",
              "      <td>4</td>\n",
              "      <td>1</td>\n",
              "      <td>0</td>\n",
              "    </tr>\n",
              "  </tbody>\n",
              "</table>\n",
              "</div>"
            ],
            "text/plain": [
              "   ID  STUDYYEAR  MYOPIC  AGE  GENDER  ...  STUDYHR  TVHR  DIOPTERHR  MOMMY  DADMY\n",
              "0   1       1992       1    6       1  ...        0    10         34      1      1\n",
              "1   2       1995       0    6       1  ...        1     7         12      1      1\n",
              "2   3       1991       0    6       1  ...        0    10         14      0      0\n",
              "3   4       1990       1    6       1  ...        0     4         37      0      1\n",
              "4   5       1995       0    5       0  ...        0     4          4      1      0\n",
              "\n",
              "[5 rows x 18 columns]"
            ]
          },
          "metadata": {
            "tags": []
          },
          "execution_count": 3
        }
      ]
    },
    {
      "cell_type": "code",
      "metadata": {
        "id": "38c08x-DeT8y",
        "colab_type": "code",
        "colab": {}
      },
      "source": [
        "def MostrarDistribucion(datos,columna,binPlot=10):\n",
        "  plt.figure()\n",
        "  n, bins, patches = plt.hist(datos,density=True,bins=binPlot)\n",
        "  plt.ylabel(\"Probability\")\n",
        "  plt.title(\"Distribución de Columna: \"+columna)\n",
        "  plt.show()\n",
        "\n",
        "def MuestrasColumna(datosColumna,n,totalMuestras,useSeed=False,seedAdd=0):\n",
        "  muestras = []\n",
        "  medias = []\n",
        "  for i in range(totalMuestras):\n",
        "    if(useSeed):\n",
        "      np.random.seed(i+seedAdd)\n",
        "    muestra = np.random.choice(datosColumna, n)\n",
        "    muestras.append(muestra)\n",
        "    media = np.average(muestra)\n",
        "    medias.append(media)\n",
        "  return(muestras,medias)\n",
        "\n",
        "def MostrarColumna(mediasColumna,columna):\n",
        "  media = round(np.average(mediasColumna),3)\n",
        "  print(\"Media Muestral:\",media)\n",
        "  print(\"\\n\")\n",
        "  plt.figure()\n",
        "  plt.hist(mediasColumna)\n",
        "  plt.title(\"Distribución de Muetras de Columna: \"+columna)\n",
        "  plt.axvline(media,linewidth=1, color='r')\n",
        "  plt.show()\n",
        "  \n",
        "def ErrorBarColumna(mediasColumna,muGeneral,error):\n",
        "  plt.figure()\n",
        "  plt.errorbar(np.arange(len(mediasColumna))+1,mediasColumna, yerr=error, ls='',\n",
        "                            elinewidth=1, capsize=5)\n",
        "  plt.scatter(np.arange(len(mediasColumna))+1,mediasColumna,s=8)\n",
        "  plt.axhline(muGeneral, color='r',lw=1,label=\"u\")\n",
        "  plt.show()\n",
        "\n",
        "  \n",
        "def ObtenerMuestra(datos,n,seed=10):\n",
        "  np.random.seed(seed)\n",
        "  muestra = np.random.choice(datos, n)\n",
        "  xbar = np.average(muestra)\n",
        "  print(\"Media de la muestra (x barra):\",round(xbar,3))\n",
        "  return xbar\n",
        "\n",
        "def IntervalosConfianza(mu,sigma,intervalo,n,canPrint=True):\n",
        "  div = sigma / math.sqrt(n)\n",
        "  zAlpha = stats.norm.ppf((1+intervalo)/2)\n",
        "  rango = zAlpha*div\n",
        "  superior = mu + rango\n",
        "  inferior = mu - rango\n",
        "  if(canPrint):\n",
        "    print()\n",
        "    print(\"Confianza:\",intervalo)\n",
        "    print(\"Rango inferior:\",inferior)\n",
        "    print(\"Rango superior:\",superior)\n",
        "    print()\n",
        "    print(\"P(\"+str(round(inferior,2))+\" <= mu <= \"+str(round(superior,2))+\") = \"+str(intervalo))\n",
        "  return(inferior,superior)\n",
        "\n",
        "def TamanoN(sigma,error,intervalo):\n",
        "  zValue = stats.norm.ppf((1+intervalo)/2)\n",
        "  nResultado = ((zValue * sigma)/error) ** 2\n",
        "  return math.ceil(nResultado)\n",
        "\n",
        "def HistogramasResultados(datos,binPlot=10):\n",
        "  histogram, histogramX = np.histogram(datos,bins=binPlot)\n",
        "  \n",
        "  histogram = torch.tensor(histogram,dtype=torch.float64)\n",
        "  histogramX = torch.tensor(np.delete(histogramX,0),dtype=torch.float64)\n",
        "  #number of observations\n",
        "  n = histogram.sum()\n",
        "  histogramNorm = torch.div(histogram, n)\n",
        "  #calculate cumulative sum\n",
        "  cdfEmpirical = torch.cumsum(histogramNorm, dim = 0)\n",
        "  return(histogramX,cdfEmpirical)\n",
        "\n",
        "def PlotKS(histogramX,cdfEmpirical,cdfIdeal):\n",
        "  plt.figure()\n",
        "  plt.plot(histogramX.numpy(),cdfEmpirical.numpy(),label=\"Empirico\")\n",
        "  plt.plot(histogramX.numpy(),cdfIdeal.numpy(),label=\"Ideal\",color=\"red\")\n",
        "  plt.ylabel(\"Probability\")\n",
        "  plt.legend(bbox_to_anchor=(1.05, 1), loc=2, borderaxespad=0.)\n",
        "  plt.show()\n",
        "\n",
        "def ResultadoKS(dn,kolDistValue,n):\n",
        "  print(str(dn)+\" < (\"+str(kolDistValue)+\" / SQRT(\"+str(n)+\") = \"+str(kolDistValue / math.sqrt(n))+\") is \"+str(dn < (kolDistValue/ math.sqrt(n))))\n",
        "  \n",
        "  \n",
        "def CompararDistribuciones(datos,pdfArray,binPlot=10):\n",
        "  plt.figure()\n",
        "  n, bins, patches = plt.hist(datosColumna,density=True,label=\"Distribución Datos\",bins=binPlot)\n",
        "  x,y,titulo,leyenda = pdfArray\n",
        "  plt.plot(x,y,color='red',label=leyenda)\n",
        "  plt.ylabel('Probabilidad')\n",
        "  plt.title(\"Histograma Datos vs \"+titulo)\n",
        "  plt.legend(bbox_to_anchor=(1.05, 1), loc=2, borderaxespad=0.)\n",
        "  plt.show()\n",
        "  \n",
        "def KSNormal(datos, meanHist, stdHist, binPlot=10,kolDistValue=1.3581):\n",
        "  histogramX,cdfEmpirical = HistogramasResultados(datos,binPlot)\n",
        "  #Create ideal CDF\n",
        "  normalDensity = Normal(meanHist, stdHist)\n",
        "  cdfNormalIdeal = normalDensity.cdf(histogramX)\n",
        "  #Compare the empirical and ideal distributions\n",
        "  difference = torch.abs(cdfNormalIdeal - cdfEmpirical)\n",
        "  dn = torch.max(difference)\n",
        "  PlotKS(histogramX,cdfEmpirical,cdfNormalIdeal)\n",
        "  ResultadoKS(dn.item(),kolDistValue,len(datos))"
      ],
      "execution_count": 0,
      "outputs": []
    },
    {
      "cell_type": "markdown",
      "metadata": {
        "id": "hz2qOj3hraEI",
        "colab_type": "text"
      },
      "source": [
        "Pruebas para la columna Age\n"
      ]
    },
    {
      "cell_type": "code",
      "metadata": {
        "id": "BGO-VeLtXAHW",
        "colab_type": "code",
        "colab": {}
      },
      "source": [
        "age = data['AGE']\n",
        "comphr = data['COMPHR']"
      ],
      "execution_count": 0,
      "outputs": []
    },
    {
      "cell_type": "code",
      "metadata": {
        "id": "Kvxjlcz8XQsQ",
        "colab_type": "code",
        "outputId": "f5886f55-7083-495d-8ea4-7d14a3a66fa4",
        "colab": {
          "base_uri": "https://localhost:8080/",
          "height": 170
        }
      },
      "source": [
        "age.describe()"
      ],
      "execution_count": 6,
      "outputs": [
        {
          "output_type": "execute_result",
          "data": {
            "text/plain": [
              "count    618.000000\n",
              "mean       6.299353\n",
              "std        0.712950\n",
              "min        5.000000\n",
              "25%        6.000000\n",
              "50%        6.000000\n",
              "75%        6.000000\n",
              "max        9.000000\n",
              "Name: AGE, dtype: float64"
            ]
          },
          "metadata": {
            "tags": []
          },
          "execution_count": 6
        }
      ]
    },
    {
      "cell_type": "code",
      "metadata": {
        "id": "5Ohuw1kLqeeM",
        "colab_type": "code",
        "colab": {}
      },
      "source": [
        "sigma = np.std(age)\n",
        "mu = np.mean(age)"
      ],
      "execution_count": 0,
      "outputs": []
    },
    {
      "cell_type": "code",
      "metadata": {
        "id": "j3ocwpDuq4Mt",
        "colab_type": "code",
        "outputId": "de75f0c7-806a-44a2-c7c3-69e7b346d32b",
        "colab": {
          "base_uri": "https://localhost:8080/",
          "height": 34
        }
      },
      "source": [
        "sigma"
      ],
      "execution_count": 8,
      "outputs": [
        {
          "output_type": "execute_result",
          "data": {
            "text/plain": [
              "0.7123730127003843"
            ]
          },
          "metadata": {
            "tags": []
          },
          "execution_count": 8
        }
      ]
    },
    {
      "cell_type": "code",
      "metadata": {
        "id": "t_5N_UqVq6c7",
        "colab_type": "code",
        "outputId": "49646a8e-6c42-4b3a-9609-b61b91fc6d90",
        "colab": {
          "base_uri": "https://localhost:8080/",
          "height": 34
        }
      },
      "source": [
        "round(sigma,2)"
      ],
      "execution_count": 9,
      "outputs": [
        {
          "output_type": "execute_result",
          "data": {
            "text/plain": [
              "0.71"
            ]
          },
          "metadata": {
            "tags": []
          },
          "execution_count": 9
        }
      ]
    },
    {
      "cell_type": "code",
      "metadata": {
        "id": "0pWWEBNfU_HY",
        "colab_type": "code",
        "outputId": "3a5cb6fd-debc-445c-b0d5-a382df567a7a",
        "colab": {
          "base_uri": "https://localhost:8080/",
          "height": 34
        }
      },
      "source": [
        "round(mu,2)"
      ],
      "execution_count": 10,
      "outputs": [
        {
          "output_type": "execute_result",
          "data": {
            "text/plain": [
              "6.3"
            ]
          },
          "metadata": {
            "tags": []
          },
          "execution_count": 10
        }
      ]
    },
    {
      "cell_type": "code",
      "metadata": {
        "id": "e766ErFuVNJF",
        "colab_type": "code",
        "colab": {}
      },
      "source": [
        "# Con la totalidad de los datos, calcule un intervalo de confianza al 95% para la columna AGE.\n",
        "conf_int = stats.norm.interval(0.95, loc=mu, scale=sigma)\n"
      ],
      "execution_count": 0,
      "outputs": []
    },
    {
      "cell_type": "code",
      "metadata": {
        "id": "3u9UhDVuV9Gm",
        "colab_type": "code",
        "outputId": "550ed392-4a89-45b0-bbb2-4d2b1a84bfa3",
        "colab": {
          "base_uri": "https://localhost:8080/",
          "height": 34
        }
      },
      "source": [
        "conf_int"
      ],
      "execution_count": 12,
      "outputs": [
        {
          "output_type": "execute_result",
          "data": {
            "text/plain": [
              "(4.903127302358014, 7.69557819926011)"
            ]
          },
          "metadata": {
            "tags": []
          },
          "execution_count": 12
        }
      ]
    },
    {
      "cell_type": "markdown",
      "metadata": {
        "id": "1VkAbmr8sQBY",
        "colab_type": "text"
      },
      "source": [
        "Con la totalidad de los datos, calcule un intervalo de confianza al 95% para la columna AGE."
      ]
    },
    {
      "cell_type": "code",
      "metadata": {
        "id": "JHpw4-Aurn0Q",
        "colab_type": "code",
        "colab": {
          "base_uri": "https://localhost:8080/",
          "height": 34
        },
        "outputId": "962b60aa-283a-429a-f64f-1de5f5fb569c"
      },
      "source": [
        "n = 100\n",
        "xbar = ObtenerMuestra(age,n)"
      ],
      "execution_count": 18,
      "outputs": [
        {
          "output_type": "stream",
          "text": [
            "Media de la muestra (x barra): 6.3\n"
          ],
          "name": "stdout"
        }
      ]
    },
    {
      "cell_type": "code",
      "metadata": {
        "id": "WcAorgoArswy",
        "colab_type": "code",
        "colab": {
          "base_uri": "https://localhost:8080/",
          "height": 119
        },
        "outputId": "96fc50b6-f301-4aa5-b0e9-bf1c7cf6c6c2"
      },
      "source": [
        "intervalo = 0.95\n",
        "\n",
        "IC_Inf,IC_Sup = IntervalosConfianza(mu,sigma,intervalo,n)"
      ],
      "execution_count": 14,
      "outputs": [
        {
          "output_type": "stream",
          "text": [
            "\n",
            "Confianza: 0.95\n",
            "Rango inferior: 6.159730205963957\n",
            "Rango superior: 6.438975295654167\n",
            "\n",
            "P(6.16 <= mu <= 6.44) = 0.95\n"
          ],
          "name": "stdout"
        }
      ]
    },
    {
      "cell_type": "markdown",
      "metadata": {
        "id": "TJnqNJBKsZNZ",
        "colab_type": "text"
      },
      "source": [
        "Ahora calcule el mismo intervalo al 95% de confianza solamente con los primeros 25 casos del archivo de datos."
      ]
    },
    {
      "cell_type": "code",
      "metadata": {
        "id": "6056FSQled3k",
        "colab_type": "code",
        "outputId": "b6ff9264-9beb-46af-a8d1-654276088e07",
        "colab": {
          "base_uri": "https://localhost:8080/",
          "height": 34
        }
      },
      "source": [
        "n = 25\n",
        "xbar = ObtenerMuestra(age,n)"
      ],
      "execution_count": 19,
      "outputs": [
        {
          "output_type": "stream",
          "text": [
            "Media de la muestra (x barra): 6.2\n"
          ],
          "name": "stdout"
        }
      ]
    },
    {
      "cell_type": "code",
      "metadata": {
        "id": "w5rYjuMvexVn",
        "colab_type": "code",
        "outputId": "824ede28-6620-4f50-eac8-15aa197a73f7",
        "colab": {
          "base_uri": "https://localhost:8080/",
          "height": 119
        }
      },
      "source": [
        "intervalo = 0.95\n",
        "\n",
        "IC_Inf,IC_Sup = IntervalosConfianza(mu,sigma,intervalo,n)"
      ],
      "execution_count": 20,
      "outputs": [
        {
          "output_type": "stream",
          "text": [
            "\n",
            "Confianza: 0.95\n",
            "Rango inferior: 6.020107661118852\n",
            "Rango superior: 6.578597840499271\n",
            "\n",
            "P(6.02 <= mu <= 6.58) = 0.95\n"
          ],
          "name": "stdout"
        }
      ]
    },
    {
      "cell_type": "code",
      "metadata": {
        "id": "e3xZ3H90s5aG",
        "colab_type": "code",
        "colab": {}
      },
      "source": [
        ""
      ],
      "execution_count": 0,
      "outputs": []
    },
    {
      "cell_type": "markdown",
      "metadata": {
        "id": "J06HUIi6s565",
        "colab_type": "text"
      },
      "source": [
        "Con la totalidad de los datos, calcule un intervalo de confianza al 95% para la columna COMPHR."
      ]
    },
    {
      "cell_type": "code",
      "metadata": {
        "id": "wJE9pK3Zs7QH",
        "colab_type": "code",
        "colab": {}
      },
      "source": [
        "comphr = data['COMPHR']"
      ],
      "execution_count": 0,
      "outputs": []
    },
    {
      "cell_type": "code",
      "metadata": {
        "id": "zv-H31tftAMU",
        "colab_type": "code",
        "colab": {}
      },
      "source": [
        "sigma = np.std(comphr)\n",
        "mu = np.mean(comphr)"
      ],
      "execution_count": 0,
      "outputs": []
    },
    {
      "cell_type": "code",
      "metadata": {
        "id": "nSPJmsJXtEGc",
        "colab_type": "code",
        "colab": {
          "base_uri": "https://localhost:8080/",
          "height": 34
        },
        "outputId": "1f1defd4-a806-41bb-9030-c18a97d13c95"
      },
      "source": [
        "round(sigma,2)\n",
        "round(mu,2)"
      ],
      "execution_count": 23,
      "outputs": [
        {
          "output_type": "execute_result",
          "data": {
            "text/plain": [
              "2.11"
            ]
          },
          "metadata": {
            "tags": []
          },
          "execution_count": 23
        }
      ]
    },
    {
      "cell_type": "code",
      "metadata": {
        "id": "mzh26nxvtOHi",
        "colab_type": "code",
        "colab": {
          "base_uri": "https://localhost:8080/",
          "height": 34
        },
        "outputId": "e0a16067-e733-43ca-e721-6d55a50d7d59"
      },
      "source": [
        "n = 100\n",
        "xbar = ObtenerMuestra(comphr,n)"
      ],
      "execution_count": 24,
      "outputs": [
        {
          "output_type": "stream",
          "text": [
            "Media de la muestra (x barra): 2.14\n"
          ],
          "name": "stdout"
        }
      ]
    },
    {
      "cell_type": "code",
      "metadata": {
        "id": "e1RJmzxBtN7h",
        "colab_type": "code",
        "colab": {
          "base_uri": "https://localhost:8080/",
          "height": 119
        },
        "outputId": "f5f64e22-b359-442a-b8c7-d5250d6e005e"
      },
      "source": [
        "intervalo = 0.95\n",
        "\n",
        "IC_Inf,IC_Sup = IntervalosConfianza(mu,sigma,intervalo,n)"
      ],
      "execution_count": 25,
      "outputs": [
        {
          "output_type": "stream",
          "text": [
            "\n",
            "Confianza: 0.95\n",
            "Rango inferior: 1.5065982768276083\n",
            "Rango superior: 2.703757710227408\n",
            "\n",
            "P(1.51 <= mu <= 2.7) = 0.95\n"
          ],
          "name": "stdout"
        }
      ]
    },
    {
      "cell_type": "markdown",
      "metadata": {
        "id": "mQUmgZrgtiwf",
        "colab_type": "text"
      },
      "source": [
        "Ahora calcule el mismo intervalo al 95% de confianza solamente con los primeros 100 casos del archivo de datos."
      ]
    },
    {
      "cell_type": "code",
      "metadata": {
        "id": "j-gTPYlgtl2w",
        "colab_type": "code",
        "colab": {
          "base_uri": "https://localhost:8080/",
          "height": 34
        },
        "outputId": "b9c0d86f-5fa0-4621-84d7-58bbe1ee6800"
      },
      "source": [
        "n = 100\n",
        "xbar = ObtenerMuestra(age,n)"
      ],
      "execution_count": 26,
      "outputs": [
        {
          "output_type": "stream",
          "text": [
            "Media de la muestra (x barra): 6.3\n"
          ],
          "name": "stdout"
        }
      ]
    },
    {
      "cell_type": "code",
      "metadata": {
        "id": "iJRq85BwtmvA",
        "colab_type": "code",
        "colab": {
          "base_uri": "https://localhost:8080/",
          "height": 119
        },
        "outputId": "e7334e25-d80f-40b4-d8f8-bc5d7f6109a5"
      },
      "source": [
        "intervalo = 0.95\n",
        "\n",
        "IC_Inf,IC_Sup = IntervalosConfianza(mu,sigma,intervalo,n)"
      ],
      "execution_count": 27,
      "outputs": [
        {
          "output_type": "stream",
          "text": [
            "\n",
            "Confianza: 0.95\n",
            "Rango inferior: 1.5065982768276083\n",
            "Rango superior: 2.703757710227408\n",
            "\n",
            "P(1.51 <= mu <= 2.7) = 0.95\n"
          ],
          "name": "stdout"
        }
      ]
    },
    {
      "cell_type": "code",
      "metadata": {
        "id": "-AOM9M9KtmhB",
        "colab_type": "code",
        "colab": {}
      },
      "source": [
        ""
      ],
      "execution_count": 0,
      "outputs": []
    },
    {
      "cell_type": "code",
      "metadata": {
        "id": "xG_cfI0Bs_3h",
        "colab_type": "code",
        "colab": {}
      },
      "source": [
        ""
      ],
      "execution_count": 0,
      "outputs": []
    },
    {
      "cell_type": "markdown",
      "metadata": {
        "id": "opHkqt5Ot7pu",
        "colab_type": "text"
      },
      "source": [
        "**Punto #3**"
      ]
    },
    {
      "cell_type": "markdown",
      "metadata": {
        "id": "Ai8kRdgufWYB",
        "colab_type": "text"
      },
      "source": [
        "Prueba de normalidad de Kolmogorov-Smirnov\n",
        "Se van a realizar el test de KS con una confianza de  1−α=0.95"
      ]
    },
    {
      "cell_type": "code",
      "metadata": {
        "id": "KM_9-wezfV_g",
        "colab_type": "code",
        "colab": {}
      },
      "source": [
        ""
      ],
      "execution_count": 0,
      "outputs": []
    },
    {
      "cell_type": "code",
      "metadata": {
        "id": "-DyHn12NgHDo",
        "colab_type": "code",
        "colab": {}
      },
      "source": [
        "CompararDistribuciones(datosColumna,NormalPDF(age,100,sigma,10),15)"
      ],
      "execution_count": 0,
      "outputs": []
    },
    {
      "cell_type": "code",
      "metadata": {
        "id": "LakB4UscgIAl",
        "colab_type": "code",
        "outputId": "de3f47ba-92ba-4a35-ebf5-d0240b799958",
        "colab": {
          "base_uri": "https://localhost:8080/",
          "height": 286
        }
      },
      "source": [
        "KSNormal(age,6,0.71,15)"
      ],
      "execution_count": 0,
      "outputs": [
        {
          "output_type": "display_data",
          "data": {
            "image/png": "[encoded data removed]",
            "text/plain": [
              "<Figure size 432x288 with 1 Axes>"
            ]
          },
          "metadata": {
            "tags": []
          }
        },
        {
          "output_type": "stream",
          "text": [
            "0.35510997353728746 < (1.3581 / SQRT(618) = 0.05463079388748345) is False\n"
          ],
          "name": "stdout"
        }
      ]
    }
  ]
}