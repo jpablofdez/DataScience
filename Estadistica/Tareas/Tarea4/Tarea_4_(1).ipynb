{
  "nbformat": 4,
  "nbformat_minor": 0,
  "metadata": {
    "colab": {
      "name": "Tarea_4 (1).ipynb",
      "provenance": [],
      "collapsed_sections": []
    },
    "kernelspec": {
      "name": "python3",
      "display_name": "Python 3"
    }
  },
  "cells": [
    {
      "cell_type": "markdown",
      "metadata": {
        "id": "mNVj5308LUu0",
        "colab_type": "text"
      },
      "source": [
        "# Estadística para Ciencia de los Datos\n",
        "# Tarea #4 - Semana #4\n"
      ]
    },
    {
      "cell_type": "markdown",
      "metadata": {
        "id": "HelLMHILmU-E",
        "colab_type": "text"
      },
      "source": [
        "##Instrucciones\n",
        "Realice los siguientes ejercicios y envíe sus respuestas, en un archivo PDF, a través de TEC Digital a más tardar el domingo 13 de octubre a las 10 PM. No se aceptarán entregas tardías.\n",
        "\n",
        "Desarrolle todos los ejercicios con el mayor nivel de detalle posible. Se espera que el desarrollo algebraico sea formal. No será válido únicamente dar respuestas en prosa a las preguntas."
      ]
    },
    {
      "cell_type": "markdown",
      "metadata": {
        "id": "hyLRe4OT-GwL",
        "colab_type": "text"
      },
      "source": [
        "1. Los tiempos de servicio para los clientes que pasan por la caja en una tienda de venta al menudeo son variables aleatorias independientes con media de 1.5 minutos y varianza de 1.0 minutos por cliente. \n",
        "\n",
        "  Calcule la probabilidad de que 100 clientes puedan ser atendidos 2 horas o menos de tiempo total de servicio.\n",
        "\n",
        "\n",
        "\n",
        "2. A partir del archivo 'MYOPIA', trabaje con las columnas AGE y COMPHR  y resuelva los siguientes enunciados. En el archivo 'MYOPIA_Code_Sheet' encontrará unas descripción de los datos contenidos en el dataset, considere esta descripción para la interpretación de sus resultados.\n",
        "\n",
        "- Con la totalidad de los datos, calcule un intervalo de confianza al 95% para la columna AGE.\n",
        "- Interprete los resultados del punto anterior.\n",
        "- Ahora calcule el mismo intervalo al 95% de confianza solamente con los primeros **25 casos** del archivo de datos. \n",
        "- Explique que impacto tiene la disminución de la muestra sobre el intervalo de confianza.\n",
        "- Con la totalidad de los datos, calcule un intervalo de confianza al 95% para la columna COMPHR.\n",
        "- Interprete los resultados del punto anterior.\n",
        "- Ahora calcule el mismo intervalo al 95% de confianza solamente con los primeros **100 casos** del archivo de datos. \n",
        "- Explique que impacto tiene la disminución de la muestra sobre el intervalo de confianza.\n",
        "\n",
        "\n",
        "3. Evalue gráficamente y por medio de la prueba de Kolgomorov Smirnov la normalidad de las siguientes variables: COMPHR, SPORTHR y READHR. Explique detallamente que muestran los gráficos de histograma y qqplot sobre la normalidad de cada una de las variables.\n",
        "\n"
      ]
    }
  ]
}