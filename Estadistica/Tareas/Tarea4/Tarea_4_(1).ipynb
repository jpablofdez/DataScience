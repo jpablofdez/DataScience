{
  "nbformat": 4,
  "nbformat_minor": 0,
  "metadata": {
    "colab": {
      "name": "Tarea_4 (1).ipynb",
      "provenance": [],
      "collapsed_sections": []
    },
    "kernelspec": {
      "name": "python3",
      "display_name": "Python 3"
    }
  },
  "cells": [
    {
      "cell_type": "markdown",
      "metadata": {
        "id": "mNVj5308LUu0",
        "colab_type": "text"
      },
      "source": [
        "# Estadística para Ciencia de los Datos\n",
        "# Tarea #4 - Semana #4\n"
      ]
    },
    {
      "cell_type": "markdown",
      "metadata": {
        "id": "HelLMHILmU-E",
        "colab_type": "text"
      },
      "source": [
        "##Instrucciones\n",
        "Realice los siguientes ejercicios y envíe sus respuestas, en un archivo PDF, a través de TEC Digital a más tardar el domingo 13 de octubre a las 10 PM. No se aceptarán entregas tardías.\n",
        "\n",
        "Desarrolle todos los ejercicios con el mayor nivel de detalle posible. Se espera que el desarrollo algebraico sea formal. No será válido únicamente dar respuestas en prosa a las preguntas."
      ]
    },
    {
      "cell_type": "markdown",
      "metadata": {
        "id": "hyLRe4OT-GwL",
        "colab_type": "text"
      },
      "source": [
        "1. Los tiempos de servicio para los clientes que pasan por la caja en una tienda de venta al menudeo son variables aleatorias independientes con media de 1.5 minutos y varianza de 1.0 minutos por cliente. \n",
        "\n",
        "  Calcule la probabilidad de que 100 clientes puedan ser atendidos 2 horas o menos de tiempo total de servicio.\n",
        "\n",
        "\n",
        "\n",
        "2. A partir del archivo 'MYOPIA', trabaje con las columnas AGE y COMPHR  y resuelva los siguientes enunciados. En el archivo 'MYOPIA_Code_Sheet' encontrará unas descripción de los datos contenidos en el dataset, considere esta descripción para la interpretación de sus resultados.\n",
        "\n",
        "- Con la totalidad de los datos, calcule un intervalo de confianza al 95% para la columna AGE.\n",
        "- Interprete los resultados del punto anterior.\n",
        "- Ahora calcule el mismo intervalo al 95% de confianza solamente con los primeros **25 casos** del archivo de datos. \n",
        "- Explique que impacto tiene la disminución de la muestra sobre el intervalo de confianza.\n",
        "- Con la totalidad de los datos, calcule un intervalo de confianza al 95% para la columna COMPHR.\n",
        "- Interprete los resultados del punto anterior.\n",
        "- Ahora calcule el mismo intervalo al 95% de confianza solamente con los primeros **100 casos** del archivo de datos. \n",
        "- Explique que impacto tiene la disminución de la muestra sobre el intervalo de confianza.\n",
        "\n",
        "\n",
        "3. Evalue gráficamente y por medio de la prueba de Kolgomorov Smirnov la normalidad de las siguientes variables: COMPHR, SPORTHR y READHR. Explique detallamente que muestran los gráficos de histograma y qqplot sobre la normalidad de cada una de las variables.\n",
        "\n"
      ]
    },
    {
      "cell_type": "code",
      "metadata": {
        "id": "SURywtFYUYdU",
        "colab_type": "code",
        "colab": {}
      },
      "source": [
        "#1)\n"
      ],
      "execution_count": 0,
      "outputs": []
    },
    {
      "cell_type": "code",
      "metadata": {
        "id": "m1DWQrWQVHgS",
        "colab_type": "code",
        "colab": {}
      },
      "source": [
        "import pandas as pd\n",
        "import numpy as np"
      ],
      "execution_count": 0,
      "outputs": []
    },
    {
      "cell_type": "code",
      "metadata": {
        "id": "VG5H-QtbUb9i",
        "colab_type": "code",
        "colab": {}
      },
      "source": [
        "#2)\n",
        "data= pd.read_csv(\"https://raw.githubusercontent.com/jpablofdez/DataScience/master/Estadistica/Tareas/Tarea4/MYOPIA.csv\", sep=';')"
      ],
      "execution_count": 0,
      "outputs": []
    },
    {
      "cell_type": "code",
      "metadata": {
        "id": "qlJGRk1DVQU8",
        "colab_type": "code",
        "colab": {
          "base_uri": "https://localhost:8080/",
          "height": 204
        },
        "outputId": "e9aafcbc-ce34-4804-96d8-cf2d31460ef3"
      },
      "source": [
        "data.head()"
      ],
      "execution_count": 6,
      "outputs": [
        {
          "output_type": "execute_result",
          "data": {
            "text/html": [
              "<div>\n",
              "<style scoped>\n",
              "    .dataframe tbody tr th:only-of-type {\n",
              "        vertical-align: middle;\n",
              "    }\n",
              "\n",
              "    .dataframe tbody tr th {\n",
              "        vertical-align: top;\n",
              "    }\n",
              "\n",
              "    .dataframe thead th {\n",
              "        text-align: right;\n",
              "    }\n",
              "</style>\n",
              "<table border=\"1\" class=\"dataframe\">\n",
              "  <thead>\n",
              "    <tr style=\"text-align: right;\">\n",
              "      <th></th>\n",
              "      <th>ID</th>\n",
              "      <th>STUDYYEAR</th>\n",
              "      <th>MYOPIC</th>\n",
              "      <th>AGE</th>\n",
              "      <th>GENDER</th>\n",
              "      <th>SPHEQ</th>\n",
              "      <th>AL</th>\n",
              "      <th>ACD</th>\n",
              "      <th>LT</th>\n",
              "      <th>VCD</th>\n",
              "      <th>SPORTHR</th>\n",
              "      <th>READHR</th>\n",
              "      <th>COMPHR</th>\n",
              "      <th>STUDYHR</th>\n",
              "      <th>TVHR</th>\n",
              "      <th>DIOPTERHR</th>\n",
              "      <th>MOMMY</th>\n",
              "      <th>DADMY</th>\n",
              "    </tr>\n",
              "  </thead>\n",
              "  <tbody>\n",
              "    <tr>\n",
              "      <th>0</th>\n",
              "      <td>1</td>\n",
              "      <td>1992</td>\n",
              "      <td>1</td>\n",
              "      <td>6</td>\n",
              "      <td>1</td>\n",
              "      <td>-0.052</td>\n",
              "      <td>21.89</td>\n",
              "      <td>3.690</td>\n",
              "      <td>3.498</td>\n",
              "      <td>14.70</td>\n",
              "      <td>45</td>\n",
              "      <td>8</td>\n",
              "      <td>0</td>\n",
              "      <td>0</td>\n",
              "      <td>10</td>\n",
              "      <td>34</td>\n",
              "      <td>1</td>\n",
              "      <td>1</td>\n",
              "    </tr>\n",
              "    <tr>\n",
              "      <th>1</th>\n",
              "      <td>2</td>\n",
              "      <td>1995</td>\n",
              "      <td>0</td>\n",
              "      <td>6</td>\n",
              "      <td>1</td>\n",
              "      <td>0.608</td>\n",
              "      <td>22.38</td>\n",
              "      <td>3.702</td>\n",
              "      <td>3.392</td>\n",
              "      <td>15.29</td>\n",
              "      <td>4</td>\n",
              "      <td>0</td>\n",
              "      <td>1</td>\n",
              "      <td>1</td>\n",
              "      <td>7</td>\n",
              "      <td>12</td>\n",
              "      <td>1</td>\n",
              "      <td>1</td>\n",
              "    </tr>\n",
              "    <tr>\n",
              "      <th>2</th>\n",
              "      <td>3</td>\n",
              "      <td>1991</td>\n",
              "      <td>0</td>\n",
              "      <td>6</td>\n",
              "      <td>1</td>\n",
              "      <td>1.179</td>\n",
              "      <td>22.49</td>\n",
              "      <td>3.462</td>\n",
              "      <td>3.514</td>\n",
              "      <td>15.52</td>\n",
              "      <td>14</td>\n",
              "      <td>0</td>\n",
              "      <td>2</td>\n",
              "      <td>0</td>\n",
              "      <td>10</td>\n",
              "      <td>14</td>\n",
              "      <td>0</td>\n",
              "      <td>0</td>\n",
              "    </tr>\n",
              "    <tr>\n",
              "      <th>3</th>\n",
              "      <td>4</td>\n",
              "      <td>1990</td>\n",
              "      <td>1</td>\n",
              "      <td>6</td>\n",
              "      <td>1</td>\n",
              "      <td>0.525</td>\n",
              "      <td>22.20</td>\n",
              "      <td>3.862</td>\n",
              "      <td>3.612</td>\n",
              "      <td>14.73</td>\n",
              "      <td>18</td>\n",
              "      <td>11</td>\n",
              "      <td>0</td>\n",
              "      <td>0</td>\n",
              "      <td>4</td>\n",
              "      <td>37</td>\n",
              "      <td>0</td>\n",
              "      <td>1</td>\n",
              "    </tr>\n",
              "    <tr>\n",
              "      <th>4</th>\n",
              "      <td>5</td>\n",
              "      <td>1995</td>\n",
              "      <td>0</td>\n",
              "      <td>5</td>\n",
              "      <td>0</td>\n",
              "      <td>0.697</td>\n",
              "      <td>23.29</td>\n",
              "      <td>3.676</td>\n",
              "      <td>3.454</td>\n",
              "      <td>16.16</td>\n",
              "      <td>14</td>\n",
              "      <td>0</td>\n",
              "      <td>0</td>\n",
              "      <td>0</td>\n",
              "      <td>4</td>\n",
              "      <td>4</td>\n",
              "      <td>1</td>\n",
              "      <td>0</td>\n",
              "    </tr>\n",
              "  </tbody>\n",
              "</table>\n",
              "</div>"
            ],
            "text/plain": [
              "   ID  STUDYYEAR  MYOPIC  AGE  GENDER  ...  STUDYHR  TVHR  DIOPTERHR  MOMMY  DADMY\n",
              "0   1       1992       1    6       1  ...        0    10         34      1      1\n",
              "1   2       1995       0    6       1  ...        1     7         12      1      1\n",
              "2   3       1991       0    6       1  ...        0    10         14      0      0\n",
              "3   4       1990       1    6       1  ...        0     4         37      0      1\n",
              "4   5       1995       0    5       0  ...        0     4          4      1      0\n",
              "\n",
              "[5 rows x 18 columns]"
            ]
          },
          "metadata": {
            "tags": []
          },
          "execution_count": 6
        }
      ]
    },
    {
      "cell_type": "code",
      "metadata": {
        "id": "BGO-VeLtXAHW",
        "colab_type": "code",
        "colab": {}
      },
      "source": [
        "age = data['AGE']\n",
        "comphr = data['COMPHR']"
      ],
      "execution_count": 0,
      "outputs": []
    },
    {
      "cell_type": "code",
      "metadata": {
        "id": "Kvxjlcz8XQsQ",
        "colab_type": "code",
        "colab": {
          "base_uri": "https://localhost:8080/",
          "height": 170
        },
        "outputId": "74e92109-f8d8-4f5e-cef3-8e705079edb0"
      },
      "source": [
        "age.describe()"
      ],
      "execution_count": 9,
      "outputs": [
        {
          "output_type": "execute_result",
          "data": {
            "text/plain": [
              "count    618.000000\n",
              "mean       6.299353\n",
              "std        0.712950\n",
              "min        5.000000\n",
              "25%        6.000000\n",
              "50%        6.000000\n",
              "75%        6.000000\n",
              "max        9.000000\n",
              "Name: AGE, dtype: float64"
            ]
          },
          "metadata": {
            "tags": []
          },
          "execution_count": 9
        }
      ]
    }
  ]
}