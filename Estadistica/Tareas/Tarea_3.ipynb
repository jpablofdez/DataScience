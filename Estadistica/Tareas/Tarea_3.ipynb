{
  "nbformat": 4,
  "nbformat_minor": 0,
  "metadata": {
    "colab": {
      "name": "Tarea # 3.ipynb",
      "provenance": [],
      "collapsed_sections": []
    },
    "kernelspec": {
      "name": "python3",
      "display_name": "Python 3"
    }
  },
  "cells": [
    {
      "cell_type": "markdown",
      "metadata": {
        "id": "0-YPdoh8CPlk",
        "colab_type": "text"
      },
      "source": [
        "\n",
        "**Tarea # 3**\n",
        "\n",
        "Juan Pablo Fernandez Delgado\n",
        "\n",
        "---\n",
        "\n"
      ]
    },
    {
      "cell_type": "code",
      "metadata": {
        "id": "t4y9MMmLXDvj",
        "colab_type": "code",
        "colab": {}
      },
      "source": [
        "import numpy as np\n",
        "import matplotlib.pyplot as plt\n",
        "from math import factorial as fac\n",
        "from scipy.stats import binom\n",
        "import scipy.stats as ss\n"
      ],
      "execution_count": 0,
      "outputs": []
    },
    {
      "cell_type": "markdown",
      "metadata": {
        "id": "1A7tGqNiT_zM",
        "colab_type": "text"
      },
      "source": [
        "**Parte # 1**\n",
        "\n",
        "**Distribución Uniforme**\n",
        "\n",
        "Se crean las funciones para generar los datos aleatorios y el grafico para la distribución uniforme."
      ]
    },
    {
      "cell_type": "code",
      "metadata": {
        "id": "AcJLkjK3CwoB",
        "colab_type": "code",
        "colab": {}
      },
      "source": [
        "# Funciones Uniformes \n",
        "def funcionUniforme(n,min,max): \n",
        "  s = np.random.uniform(min,max,n)\n",
        "  return s\n",
        "\n",
        "def graficoUniforme(datos,nbins):\n",
        "  pl = plt.hist(datos, bins= nbins)\n",
        "  plt.ylabel(\"Probabilidad\")\n",
        "  plt.title(\"Distribución Uniforme\")\n",
        "  plt.show(pl)\n"
      ],
      "execution_count": 0,
      "outputs": []
    },
    {
      "cell_type": "code",
      "metadata": {
        "id": "nMlupfoHGK3r",
        "colab_type": "code",
        "colab": {}
      },
      "source": [
        "#a) Variables p representan las personas\n",
        "p = 100\n",
        "min, max = 150,183"
      ],
      "execution_count": 0,
      "outputs": []
    },
    {
      "cell_type": "code",
      "metadata": {
        "id": "JcYr5iWaG--L",
        "colab_type": "code",
        "colab": {}
      },
      "source": [
        "datos = funcionUniforme(p,min,max)"
      ],
      "execution_count": 0,
      "outputs": []
    },
    {
      "cell_type": "code",
      "metadata": {
        "id": "uDFXJECGs8mL",
        "colab_type": "code",
        "outputId": "a56f4a84-1a3e-48eb-a4be-c75bbde2b71c",
        "colab": {
          "base_uri": "https://localhost:8080/",
          "height": 281
        }
      },
      "source": [
        "# b) Se construye el histograma con 9 barras\n",
        "nbins = 9\n",
        "graficoUniforme(datos,nbins)"
      ],
      "execution_count": 101,
      "outputs": [
        {
          "output_type": "display_data",
          "data": {
            "image/png": "[encoded data removed]",
            "text/plain": [
              "<Figure size 432x288 with 1 Axes>"
            ]
          },
          "metadata": {
            "tags": []
          }
        }
      ]
    },
    {
      "cell_type": "code",
      "metadata": {
        "id": "a1Oa6QkTtF18",
        "colab_type": "code",
        "outputId": "299ab876-216a-42a8-85fe-377bdfb4e2e6",
        "colab": {
          "base_uri": "https://localhost:8080/",
          "height": 34
        }
      },
      "source": [
        "# Se obtienen el valor esperado\n",
        "datos.mean()"
      ],
      "execution_count": 102,
      "outputs": [
        {
          "output_type": "execute_result",
          "data": {
            "text/plain": [
              "166.45954459434898"
            ]
          },
          "metadata": {
            "tags": []
          },
          "execution_count": 102
        }
      ]
    },
    {
      "cell_type": "code",
      "metadata": {
        "id": "NGjMAFaCPkSD",
        "colab_type": "code",
        "outputId": "0d6ac6df-86b5-4eaa-b664-1464778134e2",
        "colab": {
          "base_uri": "https://localhost:8080/",
          "height": 34
        }
      },
      "source": [
        "# Se obtienen la varianza\n",
        "datos.var()"
      ],
      "execution_count": 103,
      "outputs": [
        {
          "output_type": "execute_result",
          "data": {
            "text/plain": [
              "99.96578550570415"
            ]
          },
          "metadata": {
            "tags": []
          },
          "execution_count": 103
        }
      ]
    },
    {
      "cell_type": "markdown",
      "metadata": {
        "id": "NAPfqzHkHuyu",
        "colab_type": "text"
      },
      "source": [
        "**Distribución Normal**\n",
        "\n",
        "Se crean las funciones para generar los datos aleatorios y el grafico para la distribución normal."
      ]
    },
    {
      "cell_type": "code",
      "metadata": {
        "id": "uVIdf_gntY8W",
        "colab_type": "code",
        "colab": {}
      },
      "source": [
        "# Funciones para la distribucion normal\n",
        "def funcionNormal(mu, sigma, n):\n",
        "  normal = np.random.normal(mu, sigma, n) #creando muestra de datos\n",
        "  return normal\n",
        "\n",
        "\n",
        "def graficaNormal(datos):\n",
        "  pl = plt.hist(datos, bins=9)\n",
        "  plt.ylabel(\"Probabilidad\")\n",
        "  plt.xlabel('valores')\n",
        "  plt.title(\"Distribución Normal\")\n",
        "  plt.show(pl)\n",
        "  "
      ],
      "execution_count": 0,
      "outputs": []
    },
    {
      "cell_type": "code",
      "metadata": {
        "id": "JWZk_JQ2uTb4",
        "colab_type": "code",
        "colab": {}
      },
      "source": [
        "# Variables establecidas\n",
        "mu, sigma, n = 160, 9, 100 # media y desvio estandar\n",
        "normal = funcionNormal(mu, sigma,n)"
      ],
      "execution_count": 0,
      "outputs": []
    },
    {
      "cell_type": "code",
      "metadata": {
        "id": "LNoaTNAqTr6b",
        "colab_type": "code",
        "outputId": "c151b93f-8367-4114-b410-4565d6d7b0f3",
        "colab": {
          "base_uri": "https://localhost:8080/",
          "height": 442
        }
      },
      "source": [
        "normal"
      ],
      "execution_count": 106,
      "outputs": [
        {
          "output_type": "execute_result",
          "data": {
            "text/plain": [
              "array([163.96336193, 153.17631613, 155.45632961, 155.44542038,\n",
              "       142.60639689, 162.99317625, 160.37761394, 142.01938394,\n",
              "       155.68501432, 145.64703388, 156.15514126, 154.22665104,\n",
              "       174.29203553, 162.97866967, 159.41720694, 182.85597348,\n",
              "       143.37721165, 168.34546731, 155.24625045, 166.9044279 ,\n",
              "       152.05440824, 159.54360706, 157.21475288, 153.74377876,\n",
              "       152.91562027, 168.98117313, 155.22494146, 141.70105839,\n",
              "       174.76500359, 170.5768729 , 146.32683099, 166.49374964,\n",
              "       159.55254801, 160.72230091, 161.84615906, 156.40664046,\n",
              "       169.48838944, 152.8314112 , 163.75096053, 159.00830527,\n",
              "       170.72831521, 153.46697057, 157.66899446, 163.53517132,\n",
              "       166.08648367, 159.8749381 , 160.80016278, 161.0541367 ,\n",
              "       147.26441641, 140.8836029 , 147.54367279, 160.26881779,\n",
              "       137.10381983, 146.61775459, 157.38420922, 155.83248087,\n",
              "       145.78560968, 160.29882617, 154.20578735, 153.53299347,\n",
              "       150.23618668, 172.31288016, 157.98247946, 162.94461597,\n",
              "       163.30383858, 158.96982845, 166.52745922, 163.00575164,\n",
              "       139.24399282, 166.49290879, 165.54670822, 167.78018835,\n",
              "       163.21007691, 169.19139331, 159.34345964, 161.61066543,\n",
              "       174.61027255, 168.89240726, 154.1136693 , 158.63140254,\n",
              "       176.70862684, 158.31623411, 162.3758212 , 157.34266634,\n",
              "       155.74686723, 159.0894151 , 157.33392536, 181.78305515,\n",
              "       157.62866142, 163.06100664, 165.05147689, 166.78783935,\n",
              "       158.94922657, 165.73328777, 142.2289629 , 154.58539934,\n",
              "       171.36546666, 157.58143244, 165.26306085, 155.82773647])"
            ]
          },
          "metadata": {
            "tags": []
          },
          "execution_count": 106
        }
      ]
    },
    {
      "cell_type": "code",
      "metadata": {
        "id": "3JfTvX4zwZS_",
        "colab_type": "code",
        "outputId": "68540f82-c95c-4ab0-815a-b7f5771ce3ec",
        "colab": {
          "base_uri": "https://localhost:8080/",
          "height": 295
        }
      },
      "source": [
        "# Se obtiene el gragico de la distribucion normal\n",
        "graficaNormal(normal)"
      ],
      "execution_count": 108,
      "outputs": [
        {
          "output_type": "display_data",
          "data": {
            "image/png": "[encoded data removed]",
            "text/plain": [
              "<Figure size 432x288 with 1 Axes>"
            ]
          },
          "metadata": {
            "tags": []
          }
        }
      ]
    },
    {
      "cell_type": "markdown",
      "metadata": {
        "id": "a_gfjZt9T62P",
        "colab_type": "text"
      },
      "source": [
        "**Punto #2**"
      ]
    },
    {
      "cell_type": "markdown",
      "metadata": {
        "id": "9KeHRu9YR1Vn",
        "colab_type": "text"
      },
      "source": [
        "La expriencia ha demostrado que 30% de todas las personas afectadas por cierta enfermedad se recuperan. Una empresa fabricante de medicamentos ha inventado una nueva medicina. Se seleccionaron al azar 100 personas con la enfermedad y recibieron el medicamento.\n",
        "\n",
        "\n",
        "Para este punto tome en considere el siguiente comando :\n",
        "\n",
        "from math import factorial\n",
        "\n",
        "factorial(5)"
      ]
    },
    {
      "cell_type": "markdown",
      "metadata": {
        "id": "TZIWP9nkJndi",
        "colab_type": "text"
      },
      "source": [
        "\n",
        "1.   La distribución es binomial ya que se basa en eventos que solo tienen dos posibles resultados: éxito o fracaso.\n",
        "\n",
        "Se busca la variable ***X***"
      ]
    },
    {
      "cell_type": "code",
      "metadata": {
        "id": "lLxe-qPXHRiU",
        "colab_type": "code",
        "colab": {}
      },
      "source": [
        "# Se crean las funciones combinatoria usando el factorial y binominal\n",
        "# Funcion combinatoria \n",
        "\n",
        "def binominalComb(n,k):\n",
        "\t#divide el factorial de n por el factorial de k multiplicaco por el factorial de n subtraido por k\n",
        "\tbinocomb = fac(n)/(fac(k)*fac(n-k))\n",
        " \n",
        "\treturn(binocomb)\n",
        "\n",
        "def binominal(n,k,p):\n",
        "\tbino = binominalComb(n,k)*(p**k)*((1-p)**(n-k))\n",
        "\treturn(bino)"
      ],
      "execution_count": 0,
      "outputs": []
    },
    {
      "cell_type": "code",
      "metadata": {
        "id": "Lv7SSzAAT6YJ",
        "colab_type": "code",
        "colab": {}
      },
      "source": [
        "# Creamos las variables de la distribucion binomial\n",
        "n, x, p = 100, 70, 0.3\n"
      ],
      "execution_count": 0,
      "outputs": []
    },
    {
      "cell_type": "code",
      "metadata": {
        "id": "LqSmb1-gYkva",
        "colab_type": "code",
        "colab": {}
      },
      "source": [
        "# 1. Distribucion binomial, obtenemos la variable de X\n",
        "X = ss.binom(n,p)\n"
      ],
      "execution_count": 0,
      "outputs": []
    },
    {
      "cell_type": "markdown",
      "metadata": {
        "id": "qa_wOkV8N2YZ",
        "colab_type": "text"
      },
      "source": [
        "La esperanza y varianza están dadas únicamente por los dos parámetros $n$ y $p$\n",
        "\n",
        "\\begin{equation}\n",
        "\\mu=\\mathrm{E}(X)=np\n",
        "\\end{equation}\n",
        "\n",
        "\\begin{equation}\n",
        "\\sigma^2=\\mathrm{Var}(X)=np(1-p)\n",
        "\\end{equation}\n",
        "\n"
      ]
    },
    {
      "cell_type": "code",
      "metadata": {
        "id": "m0porGoygIp0",
        "colab_type": "code",
        "colab": {}
      },
      "source": [
        "# 2. Calculamo el valor esperado y la varianza\n",
        "mu = X.mean()\n",
        "sigma = X.var()"
      ],
      "execution_count": 0,
      "outputs": []
    },
    {
      "cell_type": "code",
      "metadata": {
        "id": "sqmBIa9IgO-q",
        "colab_type": "code",
        "colab": {
          "base_uri": "https://localhost:8080/",
          "height": 34
        },
        "outputId": "c3d0e0c1-4400-4136-9f57-6ebb4330eb97"
      },
      "source": [
        "mu\n"
      ],
      "execution_count": 126,
      "outputs": [
        {
          "output_type": "execute_result",
          "data": {
            "text/plain": [
              "30.0"
            ]
          },
          "metadata": {
            "tags": []
          },
          "execution_count": 126
        }
      ]
    },
    {
      "cell_type": "code",
      "metadata": {
        "id": "POu5ddGt1dHP",
        "colab_type": "code",
        "colab": {
          "base_uri": "https://localhost:8080/",
          "height": 34
        },
        "outputId": "0ac912ec-7c14-473f-80d7-1289126b6807"
      },
      "source": [
        "sigma"
      ],
      "execution_count": 127,
      "outputs": [
        {
          "output_type": "execute_result",
          "data": {
            "text/plain": [
              "21.0"
            ]
          },
          "metadata": {
            "tags": []
          },
          "execution_count": 127
        }
      ]
    },
    {
      "cell_type": "markdown",
      "metadata": {
        "id": "QS4R0o12MEVq",
        "colab_type": "text"
      },
      "source": [
        "### Función de probabilidad\n",
        "La variable aleatoria $X$ equivale al número de pruebas exitosas que ocurrieron dados dos parámetros:\n",
        "\n",
        "- La probabilidad $p$ de éxito\n",
        "- La cantidad $n$ de pruebas que se permiten\n",
        "\n",
        "Intuitivamente, estamos tratando de modelar de cuántas diferentes maneras se podrían dar las pruebas de forma que tengamos $x$ existos, de un total de $n$.\n",
        "\n",
        "\\begin{equation}\n",
        "p(x) = {n \\choose x} p^x(1-p)^{n-x},\\quad x=0,1,\\ldots,n,\\quad 0\\leq p \\leq 1\n",
        "\\end{equation}\n",
        "\n",
        "\n"
      ]
    },
    {
      "cell_type": "code",
      "metadata": {
        "id": "hTaPlJ4OHZSe",
        "colab_type": "code",
        "colab": {
          "base_uri": "https://localhost:8080/",
          "height": 34
        },
        "outputId": "5eacabc7-dcf5-4b33-b37c-589fe5d13617"
      },
      "source": [
        "# C  la probabilidad de que se recuperen al menos 70 personas entre 100\n",
        "binominal(n,x,p)"
      ],
      "execution_count": 129,
      "outputs": [
        {
          "output_type": "execute_result",
          "data": {
            "text/plain": [
              "1.6571719548824033e-16"
            ]
          },
          "metadata": {
            "tags": []
          },
          "execution_count": 129
        }
      ]
    },
    {
      "cell_type": "markdown",
      "metadata": {
        "id": "tmTg1n5JOM3G",
        "colab_type": "text"
      },
      "source": [
        "Para concluir se muestra la utilidad de uso de las funciones de distribución, de acuerdo al problema que se quiera resolver, para el caso de una probabilidad de personas enfermas se utilizó la binomial, ya que su resultado es exitoso o fallido.\n",
        "Se hizo uso las ecuaciones establecidas con respecto a las distribuciones, en el caso de la binomial se utilizó la factorial como parte para resolver la ecuación.\n"
      ]
    },
    {
      "cell_type": "code",
      "metadata": {
        "id": "sHq7GcgNP1gA",
        "colab_type": "code",
        "colab": {}
      },
      "source": [
        ""
      ],
      "execution_count": 0,
      "outputs": []
    },
    {
      "cell_type": "markdown",
      "metadata": {
        "id": "dnJ9-9-JOM02",
        "colab_type": "text"
      },
      "source": [
        ""
      ]
    }
  ]
}